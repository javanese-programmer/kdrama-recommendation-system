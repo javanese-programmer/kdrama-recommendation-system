{
  "nbformat": 4,
  "nbformat_minor": 0,
  "metadata": {
    "colab": {
      "provenance": [],
      "collapsed_sections": [],
      "toc_visible": true
    },
    "kernelspec": {
      "name": "python3",
      "display_name": "Python 3"
    },
    "language_info": {
      "name": "python"
    }
  },
  "cells": [
    {
      "cell_type": "markdown",
      "source": [
        "# K-Drama Recommendation System"
      ],
      "metadata": {
        "id": "ZAuQMgp67Xns"
      }
    },
    {
      "cell_type": "markdown",
      "source": [
        "## Project Overview"
      ],
      "metadata": {
        "id": "Fqyfcd2m7enP"
      }
    },
    {
      "cell_type": "markdown",
      "source": [
        "*Korean Drama* (K-Drama) adalah salah satu komoditas ekspor Korea Selatan dalam bidang seni dan hiburan. K-Drama juga merupakan salah satu penyebab terjadinya *Korean Wave* (*Hallyu*) Jilid I pada tahun 2000-an [1]. Hallyu Jilid I ditandai oleh menyebarnya popularitas K-Drama ke luar negara Korea Selatan, yaitu ke negara Asia lainnya [2]. Pada tahun 2005, misalnya, K-Drama mengisi sebesar 96,2 persen dari keseluruhan ekspor program televisi Korea Selatan dalam bidang hiburan [3]. Hal ini menunjukkan bahwa K-Drama merupakan jenis hiburan yang disenangi pada masa itu.<br>\n",
        "\n",
        "Meskipun demikian, memasuki tahun 2010-an terjadi penurunan popularitas dari K-Drama. Pada 2012, porsi K-Drama dalam ekspor program televisi Korea Selatan menurun menjadi sekitar 85 persen [3]. Meskipun mengalami penurunan, K-Drama tetap menjadi konten hiburan yang menarik konsumen di pasar internasional. Dalam *White Paper of the Korean Broadcast Industry*, pada 2015, lisensi K-Drama behasil dijual ke negara non-Asia seperti Amerika Serikat (4.291 judul), Romania (299 judul), dan Belgium (261 judul) [4]. \n",
        "\n",
        "Saat ini, dengan munculnya layanan *streaming* seperti Netflix, HBO Max, dan Disney Plus, K-Drama tetap menjadi konten hiburan populer dan menguntungkan. Satu contoh kasus adalah bagaimana K-Drama berjudul *Squid Game* dari Netflix berhasil menjadi salah satu konten paling ditonton di layanan tersebut pada 2021 [5]. K-Drama ini bahkan meninggalkan jejak kultural setelah penayangannya [6].\n",
        "\n",
        "Berdasarkan latar belakang tersebut, dalam proyek ini akan dibuat sebuah sistem untuk merekomendasikan tayangan K-Drama. Rekomendasi akan membantu konsumen yang baru mencoba menonton K-Drama agar tidak kebingungan dalam memilih. Dengan begitu, hal ini akan membantu penyedia konten dalam memamerkan katalog K-Drama yang dimilikinya. \n",
        "\n",
        "**Referensi** <br>\n",
        "[1] Jeong, J. (2012). Ethnoscapes, mediascapes, and ideoscapes: Socio-cultural relations between South Korea and China.\n",
        "Journal of International and Area Studies, 19(2), 77–95. <br>\n",
        "[2] Madrid-Morales, D., & Lovric, B. (2015). Transatlantic connection: K-pop and K-drama fandom in Spain and\n",
        "Latin America. Journal of Fandom Studies, 3(1), 23–41. <br>\n",
        "[3] Ju, H. (2017). National television moves to the region and beyond: South Korean TV drama production with a\n",
        "new cultural act. Journal of International Communication, 23(1), 94–114. <br>\n",
        "[4] Ministry of Science, ICT, and Future Planning & Korean Communication Commission. (2016). White paper of\n",
        "Korean broadcast industry. Seoul, Korea: MSIF. <br>\n",
        "[5] Solsman, J.E. (2021) Netflix's squid game was even bigger than you thought -- 2.1B hours big, CNET. CNET. Available at: https://www.cnet.com/culture/entertainment/netflix-squid-game-is-even-bigger-than-you-thought-2-billion-hours-big/#:~:text=Squid%20Game%2C%20at%201.65%20billion,anything%20else%20Netflix%20has%20released. (Accessed: October 24, 2022). <br>\n",
        "[6] Siregar, N., Angin, A. B. P., & Mono, U. (2021). The Cultural Effect of Popular Korean Drama: Squid Game. IDEAS: Journal on English Language Teaching and Learning, Linguistics and Literature, 9(2), 445-451. <br>"
      ],
      "metadata": {
        "id": "0HGvbXgoouF7"
      }
    },
    {
      "cell_type": "markdown",
      "source": [
        "## Business Understanding"
      ],
      "metadata": {
        "id": "ZKO8Yq583-mQ"
      }
    },
    {
      "cell_type": "markdown",
      "source": [
        "### Problem Statements"
      ],
      "metadata": {
        "id": "gvxo3fJZ5_op"
      }
    },
    {
      "cell_type": "markdown",
      "source": [
        "K-Drama merupakan komoditas hiburan yang populer dan disukai oleh konsumen konten hiburan. Jumlah judul K-Drama, sejak awal penyebarannya di awal  2000-an, bisa mencapai ribuan. Hal ini tentu dapat membingungkan konsumen dalam memilih judul K-Drama. Oleh karena itu, diperlukan sebuah sistem untuk merekomendasikan judul K-Drama agar memudahkan konsumen dalam mengakses konten-konten tersebut."
      ],
      "metadata": {
        "id": "qm0QuDI852N4"
      }
    },
    {
      "cell_type": "markdown",
      "source": [
        "### Goals"
      ],
      "metadata": {
        "id": "S80HMGoc65KC"
      }
    },
    {
      "cell_type": "markdown",
      "source": [
        "Pada proyek ini akan dibuat sebuah sistem rekomendasi yang akan merekomendasikan K-Drama berdasarkan *genre dan rating-nya* sehingga dapat membantu konsumen dalam memilih judul K-Drama yang akan ditonton."
      ],
      "metadata": {
        "id": "QDH1z8lZ7xl4"
      }
    },
    {
      "cell_type": "markdown",
      "source": [
        "### Solution Approach"
      ],
      "metadata": {
        "id": "eC0uyxWqAtf9"
      }
    },
    {
      "cell_type": "markdown",
      "source": [
        "Ada dua solusi yang diusulkan untuk menyelesaikan proyek ini:\n",
        "1. Content Based Filtering\n",
        "2. Collaborative Filtering\n",
        "\n",
        "Pada solusi pertama, sistem rekomendasi akan dibangun berdasarkan karakteristik K-Drama yang telah dinilai atau diminati oleh konsumen. Sementara itu, pada solusi kedua, rekomendasi akan diberikan berdasarkan penilian dari seluruh konsumen yang pernah melihat dan menilai K-Drama."
      ],
      "metadata": {
        "id": "4IEbl9wwA1rK"
      }
    },
    {
      "cell_type": "markdown",
      "source": [
        "## Data Understanding"
      ],
      "metadata": {
        "id": "qOrzgsCsBm_g"
      }
    },
    {
      "cell_type": "markdown",
      "source": [
        "Data yang digunakan adalah *IMDb Korean TV Series* yang dapat diunduh dari [Kaggle](https://www.kaggle.com/datasets/chanoncharuchinda/imdb-korean-tv-series?select=koreanTV.csv). Data ini berisi daftar seri televisi Korea yang diperoleh melalui proses *web scraping* dari situs IMDb. Situs ini memuat informasi dan rating dari film dan juga seri televisi.\n",
        "\n",
        "Pada *dataset* tersebut, terdapat dua berkas *comma-separated value* (CSV). Berkas pertama bernama *koreanTV.csv* yang berisi informasi terkait seri televisi Korea di IMDB. Berkas ini berisi 1.989 data. Sementara itu, berkas kedua bernama *koreanTV_comment.csv* yang berisi komentar dan *rating* dari pengguna situs IMDb. Berkas ini berisi 8.275 data.\n",
        "\n",
        "Pada berkas pertama, informasi dari masing-masing kolom adalah sebagai berikut:\n",
        "* Title : judul seri televisi;\n",
        "* Year : tahun rilis seri;\n",
        "* Rating : rating yang diberikan pengguna;\n",
        "* Votes : berapa banyak pengguna yang memberikan rating;\n",
        "* Time : lama satu episode;\n",
        "* Genre : daftar genre dari seri;\n",
        "* Stars : daftar pemain dalam seri;\n",
        "* Short Story : sinopsis dari seri.\n",
        "\n",
        "Sementara itu, dalam berkas kedua, informasi dari masing-masing kolom adalah sebagai berikut:\n",
        "* Title : judul seri televisi;\n",
        "* Review Title : judul dari reviu pengguna;\n",
        "* User Rating : rating yang diberikan pemberi reviu;\n",
        "* Content: isi dari reviu pengguna\n",
        "* Helpfullness Vote: berapa pengguna yang menganggap reviu tersebut membantu.\n"
      ],
      "metadata": {
        "id": "eSoFsFKgCjaY"
      }
    },
    {
      "cell_type": "code",
      "execution_count": null,
      "metadata": {
        "id": "izXLNosU2dVw"
      },
      "outputs": [],
      "source": [
        "# Import Required Library\n",
        "import pandas as pd\n",
        "import numpy as np\n",
        "import seaborn as sns\n",
        "import matplotlib.pyplot as plt\n",
        "%matplotlib inline\n",
        "\n",
        "from zipfile import ZipFile\n",
        "import tensorflow as tf\n",
        "from tensorflow import keras\n",
        "from tensorflow.keras import layers\n",
        "from pathlib import Path\n",
        "\n",
        "from sklearn.feature_extraction.text import TfidfVectorizer\n",
        "from sklearn.metrics.pairwise import cosine_similarity\n",
        "\n",
        "\n",
        "import os\n",
        "from google.colab import drive\n",
        "import warnings\n",
        "warnings.filterwarnings(\"ignore\")"
      ]
    },
    {
      "cell_type": "code",
      "source": [
        "# Mount Gdrive\n",
        "drive.mount('/content/gdrive/', force_remount=True)"
      ],
      "metadata": {
        "colab": {
          "base_uri": "https://localhost:8080/"
        },
        "id": "deptVlDQL2ST",
        "outputId": "6786d2be-d2b9-437c-bc94-9361ec08ac90"
      },
      "execution_count": null,
      "outputs": [
        {
          "output_type": "stream",
          "name": "stdout",
          "text": [
            "Mounted at /content/gdrive/\n"
          ]
        }
      ]
    },
    {
      "cell_type": "code",
      "source": [
        "# Unzip dataset\n",
        "!unzip /content/gdrive/MyDrive/Training/Dicoding/Dataset/Korean_Drama/archive.zip "
      ],
      "metadata": {
        "colab": {
          "base_uri": "https://localhost:8080/"
        },
        "id": "3_-Pb8fFM0rR",
        "outputId": "610f1dc3-c0e2-42e8-dbda-90dca6794dc5"
      },
      "execution_count": null,
      "outputs": [
        {
          "output_type": "stream",
          "name": "stdout",
          "text": [
            "Archive:  /content/gdrive/MyDrive/Training/Dicoding/Dataset/Korean_Drama/archive.zip\n",
            "replace koreanTV.csv? [y]es, [n]o, [A]ll, [N]one, [r]ename: y\n",
            "  inflating: koreanTV.csv            \n",
            "replace koreanTV_comment.csv? [y]es, [n]o, [A]ll, [N]one, [r]ename: y\n",
            "  inflating: koreanTV_comment.csv    \n"
          ]
        }
      ]
    },
    {
      "cell_type": "code",
      "source": [
        "%pwd"
      ],
      "metadata": {
        "colab": {
          "base_uri": "https://localhost:8080/",
          "height": 35
        },
        "id": "VczrtQYpNFlr",
        "outputId": "ee4df049-eaab-4c11-d843-8fa37c18eb17"
      },
      "execution_count": null,
      "outputs": [
        {
          "output_type": "execute_result",
          "data": {
            "text/plain": [
              "'/content'"
            ],
            "application/vnd.google.colaboratory.intrinsic+json": {
              "type": "string"
            }
          },
          "metadata": {},
          "execution_count": 68
        }
      ]
    },
    {
      "cell_type": "markdown",
      "source": [
        "### Berkas Pertama"
      ],
      "metadata": {
        "id": "2yrhh0JcMPmZ"
      }
    },
    {
      "cell_type": "markdown",
      "source": [
        "**Exploratory Data Analysis (EDA)**\n",
        "\n",
        "Di sini, berkas pertama memiliki beberapa nilai yang tidak terdefinisi seperti \"-\". Oleh karena itu, hal pertama yang dilakukan adalah mendefinisikan nilai tersebut sebagai nilai hilang (*missing values*) saat melakukan *loading* data. \n",
        "\n",
        "Selain itu, nama dari beberapa kolom terlalu panjang dan kurang rapi. Oleh karena itu, dilakukan perubahan nama kolom menjadi 'Title', 'Year', 'Final Rating', 'Total Votes', 'Duration', 'Genre', 'Stars', dan 'Synopsis'."
      ],
      "metadata": {
        "id": "UafhSFOnTqVx"
      }
    },
    {
      "cell_type": "code",
      "source": [
        "# Define Missing Values\n",
        "missing_values = [\"?\", \"--\", '!', '^', '-', '_', ' ']\n",
        "\n",
        "# Load data\n",
        "data1 = pd.read_csv(\"koreanTV.csv\", na_values = missing_values)\n",
        "data1.head()"
      ],
      "metadata": {
        "colab": {
          "base_uri": "https://localhost:8080/",
          "height": 354
        },
        "id": "d8bD8RryQYsy",
        "outputId": "34e11647-1b09-43b0-c813-d74b9690c1b2"
      },
      "execution_count": null,
      "outputs": [
        {
          "output_type": "execute_result",
          "data": {
            "text/plain": [
              "                                     Title      Year  Rating   Votes:  \\\n",
              "0                                Hellbound  (2021– )     6.7   14,032   \n",
              "1                               Squid Game  (2021– )     8.1  339,931   \n",
              "2                                  My Name  (2021– )     7.9   12,877   \n",
              "3  Miraculous: Tales of Ladybug & Cat Noir  (2015– )     7.7    9,439   \n",
              "4                                Happiness  (2021– )     8.6      921   \n",
              "\n",
              "      Time                         Genre  \\\n",
              "0  150 min         Crime, Drama, Fantasy   \n",
              "1   55 min        Action, Drama, Mystery   \n",
              "2   50 min          Action, Crime, Drama   \n",
              "3   20 min  Animation, Action, Adventure   \n",
              "4      NaN     Action, Fantasy, Thriller   \n",
              "\n",
              "                                               Stars  \\\n",
              "0  Yoo Ah-in, Kim Hyun-joo, Jeong Min Park, Jin-a...   \n",
              "1  Lee Jung-jae, Park Hae-soo, Wi Ha-Joon, Jung H...   \n",
              "2  Hee-soon Park, Ahn Bo-Hyun, Han So-hee, Kim Sa...   \n",
              "3  Cristina Valenzuela, Bryce Papenbrook, Keith S...   \n",
              "4  Han Hyo-joo, Park Hyung-Sik, Woo-jin Jo, Lee J...   \n",
              "\n",
              "                                         Short Story  \n",
              "0  \\nPeople hear predictions on when they will di...  \n",
              "1  \\nHundreds of cash-strapped players accept a s...  \n",
              "2  \\nThe story about a woman who joins an organiz...  \n",
              "3  \\nMarinette and Adrien, two normal teens, tran...  \n",
              "4  \\nAn apocalyptic thriller that takes place in ...  "
            ],
            "text/html": [
              "\n",
              "  <div id=\"df-2e51615e-2705-4ace-bbd5-0761a1abb0cf\">\n",
              "    <div class=\"colab-df-container\">\n",
              "      <div>\n",
              "<style scoped>\n",
              "    .dataframe tbody tr th:only-of-type {\n",
              "        vertical-align: middle;\n",
              "    }\n",
              "\n",
              "    .dataframe tbody tr th {\n",
              "        vertical-align: top;\n",
              "    }\n",
              "\n",
              "    .dataframe thead th {\n",
              "        text-align: right;\n",
              "    }\n",
              "</style>\n",
              "<table border=\"1\" class=\"dataframe\">\n",
              "  <thead>\n",
              "    <tr style=\"text-align: right;\">\n",
              "      <th></th>\n",
              "      <th>Title</th>\n",
              "      <th>Year</th>\n",
              "      <th>Rating</th>\n",
              "      <th>Votes:</th>\n",
              "      <th>Time</th>\n",
              "      <th>Genre</th>\n",
              "      <th>Stars</th>\n",
              "      <th>Short Story</th>\n",
              "    </tr>\n",
              "  </thead>\n",
              "  <tbody>\n",
              "    <tr>\n",
              "      <th>0</th>\n",
              "      <td>Hellbound</td>\n",
              "      <td>(2021– )</td>\n",
              "      <td>6.7</td>\n",
              "      <td>14,032</td>\n",
              "      <td>150 min</td>\n",
              "      <td>Crime, Drama, Fantasy</td>\n",
              "      <td>Yoo Ah-in, Kim Hyun-joo, Jeong Min Park, Jin-a...</td>\n",
              "      <td>\\nPeople hear predictions on when they will di...</td>\n",
              "    </tr>\n",
              "    <tr>\n",
              "      <th>1</th>\n",
              "      <td>Squid Game</td>\n",
              "      <td>(2021– )</td>\n",
              "      <td>8.1</td>\n",
              "      <td>339,931</td>\n",
              "      <td>55 min</td>\n",
              "      <td>Action, Drama, Mystery</td>\n",
              "      <td>Lee Jung-jae, Park Hae-soo, Wi Ha-Joon, Jung H...</td>\n",
              "      <td>\\nHundreds of cash-strapped players accept a s...</td>\n",
              "    </tr>\n",
              "    <tr>\n",
              "      <th>2</th>\n",
              "      <td>My Name</td>\n",
              "      <td>(2021– )</td>\n",
              "      <td>7.9</td>\n",
              "      <td>12,877</td>\n",
              "      <td>50 min</td>\n",
              "      <td>Action, Crime, Drama</td>\n",
              "      <td>Hee-soon Park, Ahn Bo-Hyun, Han So-hee, Kim Sa...</td>\n",
              "      <td>\\nThe story about a woman who joins an organiz...</td>\n",
              "    </tr>\n",
              "    <tr>\n",
              "      <th>3</th>\n",
              "      <td>Miraculous: Tales of Ladybug &amp; Cat Noir</td>\n",
              "      <td>(2015– )</td>\n",
              "      <td>7.7</td>\n",
              "      <td>9,439</td>\n",
              "      <td>20 min</td>\n",
              "      <td>Animation, Action, Adventure</td>\n",
              "      <td>Cristina Valenzuela, Bryce Papenbrook, Keith S...</td>\n",
              "      <td>\\nMarinette and Adrien, two normal teens, tran...</td>\n",
              "    </tr>\n",
              "    <tr>\n",
              "      <th>4</th>\n",
              "      <td>Happiness</td>\n",
              "      <td>(2021– )</td>\n",
              "      <td>8.6</td>\n",
              "      <td>921</td>\n",
              "      <td>NaN</td>\n",
              "      <td>Action, Fantasy, Thriller</td>\n",
              "      <td>Han Hyo-joo, Park Hyung-Sik, Woo-jin Jo, Lee J...</td>\n",
              "      <td>\\nAn apocalyptic thriller that takes place in ...</td>\n",
              "    </tr>\n",
              "  </tbody>\n",
              "</table>\n",
              "</div>\n",
              "      <button class=\"colab-df-convert\" onclick=\"convertToInteractive('df-2e51615e-2705-4ace-bbd5-0761a1abb0cf')\"\n",
              "              title=\"Convert this dataframe to an interactive table.\"\n",
              "              style=\"display:none;\">\n",
              "        \n",
              "  <svg xmlns=\"http://www.w3.org/2000/svg\" height=\"24px\"viewBox=\"0 0 24 24\"\n",
              "       width=\"24px\">\n",
              "    <path d=\"M0 0h24v24H0V0z\" fill=\"none\"/>\n",
              "    <path d=\"M18.56 5.44l.94 2.06.94-2.06 2.06-.94-2.06-.94-.94-2.06-.94 2.06-2.06.94zm-11 1L8.5 8.5l.94-2.06 2.06-.94-2.06-.94L8.5 2.5l-.94 2.06-2.06.94zm10 10l.94 2.06.94-2.06 2.06-.94-2.06-.94-.94-2.06-.94 2.06-2.06.94z\"/><path d=\"M17.41 7.96l-1.37-1.37c-.4-.4-.92-.59-1.43-.59-.52 0-1.04.2-1.43.59L10.3 9.45l-7.72 7.72c-.78.78-.78 2.05 0 2.83L4 21.41c.39.39.9.59 1.41.59.51 0 1.02-.2 1.41-.59l7.78-7.78 2.81-2.81c.8-.78.8-2.07 0-2.86zM5.41 20L4 18.59l7.72-7.72 1.47 1.35L5.41 20z\"/>\n",
              "  </svg>\n",
              "      </button>\n",
              "      \n",
              "  <style>\n",
              "    .colab-df-container {\n",
              "      display:flex;\n",
              "      flex-wrap:wrap;\n",
              "      gap: 12px;\n",
              "    }\n",
              "\n",
              "    .colab-df-convert {\n",
              "      background-color: #E8F0FE;\n",
              "      border: none;\n",
              "      border-radius: 50%;\n",
              "      cursor: pointer;\n",
              "      display: none;\n",
              "      fill: #1967D2;\n",
              "      height: 32px;\n",
              "      padding: 0 0 0 0;\n",
              "      width: 32px;\n",
              "    }\n",
              "\n",
              "    .colab-df-convert:hover {\n",
              "      background-color: #E2EBFA;\n",
              "      box-shadow: 0px 1px 2px rgba(60, 64, 67, 0.3), 0px 1px 3px 1px rgba(60, 64, 67, 0.15);\n",
              "      fill: #174EA6;\n",
              "    }\n",
              "\n",
              "    [theme=dark] .colab-df-convert {\n",
              "      background-color: #3B4455;\n",
              "      fill: #D2E3FC;\n",
              "    }\n",
              "\n",
              "    [theme=dark] .colab-df-convert:hover {\n",
              "      background-color: #434B5C;\n",
              "      box-shadow: 0px 1px 3px 1px rgba(0, 0, 0, 0.15);\n",
              "      filter: drop-shadow(0px 1px 2px rgba(0, 0, 0, 0.3));\n",
              "      fill: #FFFFFF;\n",
              "    }\n",
              "  </style>\n",
              "\n",
              "      <script>\n",
              "        const buttonEl =\n",
              "          document.querySelector('#df-2e51615e-2705-4ace-bbd5-0761a1abb0cf button.colab-df-convert');\n",
              "        buttonEl.style.display =\n",
              "          google.colab.kernel.accessAllowed ? 'block' : 'none';\n",
              "\n",
              "        async function convertToInteractive(key) {\n",
              "          const element = document.querySelector('#df-2e51615e-2705-4ace-bbd5-0761a1abb0cf');\n",
              "          const dataTable =\n",
              "            await google.colab.kernel.invokeFunction('convertToInteractive',\n",
              "                                                     [key], {});\n",
              "          if (!dataTable) return;\n",
              "\n",
              "          const docLinkHtml = 'Like what you see? Visit the ' +\n",
              "            '<a target=\"_blank\" href=https://colab.research.google.com/notebooks/data_table.ipynb>data table notebook</a>'\n",
              "            + ' to learn more about interactive tables.';\n",
              "          element.innerHTML = '';\n",
              "          dataTable['output_type'] = 'display_data';\n",
              "          await google.colab.output.renderOutput(dataTable, element);\n",
              "          const docLink = document.createElement('div');\n",
              "          docLink.innerHTML = docLinkHtml;\n",
              "          element.appendChild(docLink);\n",
              "        }\n",
              "      </script>\n",
              "    </div>\n",
              "  </div>\n",
              "  "
            ]
          },
          "metadata": {},
          "execution_count": 69
        }
      ]
    },
    {
      "cell_type": "code",
      "source": [
        "# Rename columns\n",
        "data1.columns = ['Title', 'Year', 'Final Rating', 'Total Votes', 'Duration', 'Genre', 'Stars', 'Synopsis']\n",
        "data1.head()"
      ],
      "metadata": {
        "colab": {
          "base_uri": "https://localhost:8080/",
          "height": 406
        },
        "id": "A2SoZH1VNQAO",
        "outputId": "b526034d-b8a7-4e15-b09a-308e652969e7"
      },
      "execution_count": null,
      "outputs": [
        {
          "output_type": "execute_result",
          "data": {
            "text/plain": [
              "                                     Title      Year  Final Rating  \\\n",
              "0                                Hellbound  (2021– )           6.7   \n",
              "1                               Squid Game  (2021– )           8.1   \n",
              "2                                  My Name  (2021– )           7.9   \n",
              "3  Miraculous: Tales of Ladybug & Cat Noir  (2015– )           7.7   \n",
              "4                                Happiness  (2021– )           8.6   \n",
              "\n",
              "  Total Votes Duration                         Genre  \\\n",
              "0      14,032  150 min         Crime, Drama, Fantasy   \n",
              "1     339,931   55 min        Action, Drama, Mystery   \n",
              "2      12,877   50 min          Action, Crime, Drama   \n",
              "3       9,439   20 min  Animation, Action, Adventure   \n",
              "4         921      NaN     Action, Fantasy, Thriller   \n",
              "\n",
              "                                               Stars  \\\n",
              "0  Yoo Ah-in, Kim Hyun-joo, Jeong Min Park, Jin-a...   \n",
              "1  Lee Jung-jae, Park Hae-soo, Wi Ha-Joon, Jung H...   \n",
              "2  Hee-soon Park, Ahn Bo-Hyun, Han So-hee, Kim Sa...   \n",
              "3  Cristina Valenzuela, Bryce Papenbrook, Keith S...   \n",
              "4  Han Hyo-joo, Park Hyung-Sik, Woo-jin Jo, Lee J...   \n",
              "\n",
              "                                            Synopsis  \n",
              "0  \\nPeople hear predictions on when they will di...  \n",
              "1  \\nHundreds of cash-strapped players accept a s...  \n",
              "2  \\nThe story about a woman who joins an organiz...  \n",
              "3  \\nMarinette and Adrien, two normal teens, tran...  \n",
              "4  \\nAn apocalyptic thriller that takes place in ...  "
            ],
            "text/html": [
              "\n",
              "  <div id=\"df-55c3a129-2e7c-49f2-b34e-6838abe64e94\">\n",
              "    <div class=\"colab-df-container\">\n",
              "      <div>\n",
              "<style scoped>\n",
              "    .dataframe tbody tr th:only-of-type {\n",
              "        vertical-align: middle;\n",
              "    }\n",
              "\n",
              "    .dataframe tbody tr th {\n",
              "        vertical-align: top;\n",
              "    }\n",
              "\n",
              "    .dataframe thead th {\n",
              "        text-align: right;\n",
              "    }\n",
              "</style>\n",
              "<table border=\"1\" class=\"dataframe\">\n",
              "  <thead>\n",
              "    <tr style=\"text-align: right;\">\n",
              "      <th></th>\n",
              "      <th>Title</th>\n",
              "      <th>Year</th>\n",
              "      <th>Final Rating</th>\n",
              "      <th>Total Votes</th>\n",
              "      <th>Duration</th>\n",
              "      <th>Genre</th>\n",
              "      <th>Stars</th>\n",
              "      <th>Synopsis</th>\n",
              "    </tr>\n",
              "  </thead>\n",
              "  <tbody>\n",
              "    <tr>\n",
              "      <th>0</th>\n",
              "      <td>Hellbound</td>\n",
              "      <td>(2021– )</td>\n",
              "      <td>6.7</td>\n",
              "      <td>14,032</td>\n",
              "      <td>150 min</td>\n",
              "      <td>Crime, Drama, Fantasy</td>\n",
              "      <td>Yoo Ah-in, Kim Hyun-joo, Jeong Min Park, Jin-a...</td>\n",
              "      <td>\\nPeople hear predictions on when they will di...</td>\n",
              "    </tr>\n",
              "    <tr>\n",
              "      <th>1</th>\n",
              "      <td>Squid Game</td>\n",
              "      <td>(2021– )</td>\n",
              "      <td>8.1</td>\n",
              "      <td>339,931</td>\n",
              "      <td>55 min</td>\n",
              "      <td>Action, Drama, Mystery</td>\n",
              "      <td>Lee Jung-jae, Park Hae-soo, Wi Ha-Joon, Jung H...</td>\n",
              "      <td>\\nHundreds of cash-strapped players accept a s...</td>\n",
              "    </tr>\n",
              "    <tr>\n",
              "      <th>2</th>\n",
              "      <td>My Name</td>\n",
              "      <td>(2021– )</td>\n",
              "      <td>7.9</td>\n",
              "      <td>12,877</td>\n",
              "      <td>50 min</td>\n",
              "      <td>Action, Crime, Drama</td>\n",
              "      <td>Hee-soon Park, Ahn Bo-Hyun, Han So-hee, Kim Sa...</td>\n",
              "      <td>\\nThe story about a woman who joins an organiz...</td>\n",
              "    </tr>\n",
              "    <tr>\n",
              "      <th>3</th>\n",
              "      <td>Miraculous: Tales of Ladybug &amp; Cat Noir</td>\n",
              "      <td>(2015– )</td>\n",
              "      <td>7.7</td>\n",
              "      <td>9,439</td>\n",
              "      <td>20 min</td>\n",
              "      <td>Animation, Action, Adventure</td>\n",
              "      <td>Cristina Valenzuela, Bryce Papenbrook, Keith S...</td>\n",
              "      <td>\\nMarinette and Adrien, two normal teens, tran...</td>\n",
              "    </tr>\n",
              "    <tr>\n",
              "      <th>4</th>\n",
              "      <td>Happiness</td>\n",
              "      <td>(2021– )</td>\n",
              "      <td>8.6</td>\n",
              "      <td>921</td>\n",
              "      <td>NaN</td>\n",
              "      <td>Action, Fantasy, Thriller</td>\n",
              "      <td>Han Hyo-joo, Park Hyung-Sik, Woo-jin Jo, Lee J...</td>\n",
              "      <td>\\nAn apocalyptic thriller that takes place in ...</td>\n",
              "    </tr>\n",
              "  </tbody>\n",
              "</table>\n",
              "</div>\n",
              "      <button class=\"colab-df-convert\" onclick=\"convertToInteractive('df-55c3a129-2e7c-49f2-b34e-6838abe64e94')\"\n",
              "              title=\"Convert this dataframe to an interactive table.\"\n",
              "              style=\"display:none;\">\n",
              "        \n",
              "  <svg xmlns=\"http://www.w3.org/2000/svg\" height=\"24px\"viewBox=\"0 0 24 24\"\n",
              "       width=\"24px\">\n",
              "    <path d=\"M0 0h24v24H0V0z\" fill=\"none\"/>\n",
              "    <path d=\"M18.56 5.44l.94 2.06.94-2.06 2.06-.94-2.06-.94-.94-2.06-.94 2.06-2.06.94zm-11 1L8.5 8.5l.94-2.06 2.06-.94-2.06-.94L8.5 2.5l-.94 2.06-2.06.94zm10 10l.94 2.06.94-2.06 2.06-.94-2.06-.94-.94-2.06-.94 2.06-2.06.94z\"/><path d=\"M17.41 7.96l-1.37-1.37c-.4-.4-.92-.59-1.43-.59-.52 0-1.04.2-1.43.59L10.3 9.45l-7.72 7.72c-.78.78-.78 2.05 0 2.83L4 21.41c.39.39.9.59 1.41.59.51 0 1.02-.2 1.41-.59l7.78-7.78 2.81-2.81c.8-.78.8-2.07 0-2.86zM5.41 20L4 18.59l7.72-7.72 1.47 1.35L5.41 20z\"/>\n",
              "  </svg>\n",
              "      </button>\n",
              "      \n",
              "  <style>\n",
              "    .colab-df-container {\n",
              "      display:flex;\n",
              "      flex-wrap:wrap;\n",
              "      gap: 12px;\n",
              "    }\n",
              "\n",
              "    .colab-df-convert {\n",
              "      background-color: #E8F0FE;\n",
              "      border: none;\n",
              "      border-radius: 50%;\n",
              "      cursor: pointer;\n",
              "      display: none;\n",
              "      fill: #1967D2;\n",
              "      height: 32px;\n",
              "      padding: 0 0 0 0;\n",
              "      width: 32px;\n",
              "    }\n",
              "\n",
              "    .colab-df-convert:hover {\n",
              "      background-color: #E2EBFA;\n",
              "      box-shadow: 0px 1px 2px rgba(60, 64, 67, 0.3), 0px 1px 3px 1px rgba(60, 64, 67, 0.15);\n",
              "      fill: #174EA6;\n",
              "    }\n",
              "\n",
              "    [theme=dark] .colab-df-convert {\n",
              "      background-color: #3B4455;\n",
              "      fill: #D2E3FC;\n",
              "    }\n",
              "\n",
              "    [theme=dark] .colab-df-convert:hover {\n",
              "      background-color: #434B5C;\n",
              "      box-shadow: 0px 1px 3px 1px rgba(0, 0, 0, 0.15);\n",
              "      filter: drop-shadow(0px 1px 2px rgba(0, 0, 0, 0.3));\n",
              "      fill: #FFFFFF;\n",
              "    }\n",
              "  </style>\n",
              "\n",
              "      <script>\n",
              "        const buttonEl =\n",
              "          document.querySelector('#df-55c3a129-2e7c-49f2-b34e-6838abe64e94 button.colab-df-convert');\n",
              "        buttonEl.style.display =\n",
              "          google.colab.kernel.accessAllowed ? 'block' : 'none';\n",
              "\n",
              "        async function convertToInteractive(key) {\n",
              "          const element = document.querySelector('#df-55c3a129-2e7c-49f2-b34e-6838abe64e94');\n",
              "          const dataTable =\n",
              "            await google.colab.kernel.invokeFunction('convertToInteractive',\n",
              "                                                     [key], {});\n",
              "          if (!dataTable) return;\n",
              "\n",
              "          const docLinkHtml = 'Like what you see? Visit the ' +\n",
              "            '<a target=\"_blank\" href=https://colab.research.google.com/notebooks/data_table.ipynb>data table notebook</a>'\n",
              "            + ' to learn more about interactive tables.';\n",
              "          element.innerHTML = '';\n",
              "          dataTable['output_type'] = 'display_data';\n",
              "          await google.colab.output.renderOutput(dataTable, element);\n",
              "          const docLink = document.createElement('div');\n",
              "          docLink.innerHTML = docLinkHtml;\n",
              "          element.appendChild(docLink);\n",
              "        }\n",
              "      </script>\n",
              "    </div>\n",
              "  </div>\n",
              "  "
            ]
          },
          "metadata": {},
          "execution_count": 70
        }
      ]
    },
    {
      "cell_type": "code",
      "source": [
        "data1.info()"
      ],
      "metadata": {
        "colab": {
          "base_uri": "https://localhost:8080/"
        },
        "id": "mkl7EiEWNiGw",
        "outputId": "bdfa965b-d69f-40e1-ce25-a34caa17954a"
      },
      "execution_count": null,
      "outputs": [
        {
          "output_type": "stream",
          "name": "stdout",
          "text": [
            "<class 'pandas.core.frame.DataFrame'>\n",
            "RangeIndex: 1989 entries, 0 to 1988\n",
            "Data columns (total 8 columns):\n",
            " #   Column        Non-Null Count  Dtype  \n",
            "---  ------        --------------  -----  \n",
            " 0   Title         1989 non-null   object \n",
            " 1   Year          1978 non-null   object \n",
            " 2   Final Rating  1485 non-null   float64\n",
            " 3   Total Votes   1485 non-null   object \n",
            " 4   Duration      1068 non-null   object \n",
            " 5   Genre         1903 non-null   object \n",
            " 6   Stars         1447 non-null   object \n",
            " 7   Synopsis      1989 non-null   object \n",
            "dtypes: float64(1), object(7)\n",
            "memory usage: 124.4+ KB\n"
          ]
        }
      ]
    },
    {
      "cell_type": "code",
      "source": [
        "data1.isna().sum()"
      ],
      "metadata": {
        "colab": {
          "base_uri": "https://localhost:8080/"
        },
        "id": "6BQO9ZuEP7CB",
        "outputId": "6d8632f3-6f44-4c5f-fd53-a139f2500dad"
      },
      "execution_count": null,
      "outputs": [
        {
          "output_type": "execute_result",
          "data": {
            "text/plain": [
              "Title             0\n",
              "Year             11\n",
              "Final Rating    504\n",
              "Total Votes     504\n",
              "Duration        921\n",
              "Genre            86\n",
              "Stars           542\n",
              "Synopsis          0\n",
              "dtype: int64"
            ]
          },
          "metadata": {},
          "execution_count": 72
        }
      ]
    },
    {
      "cell_type": "markdown",
      "source": [
        "Pada data di atas, diketahui bahwa beberapa kolom memiliki sejumlah nilai yang hilang. Meskipun demikian, karena sistem rekomendasi akan dibangun dengan mempertimbangkan *rating dan genre*, kolom dengan banyak nilai hilang akan dibuang terlebih dahulu. Setelah itu, baru dilakukan pembuangan data menurut baris dengan data yang hilang."
      ],
      "metadata": {
        "id": "cHDxxaTLObmn"
      }
    },
    {
      "cell_type": "code",
      "source": [
        "# Drop columns with large missing values\n",
        "data1.drop(['Duration', 'Stars'], axis = 1, inplace=True)\n",
        "\n",
        "data1.isna().sum()"
      ],
      "metadata": {
        "colab": {
          "base_uri": "https://localhost:8080/"
        },
        "id": "aMJkgoISRZmr",
        "outputId": "5b257309-f7a7-4ee0-c10a-9565e719934d"
      },
      "execution_count": null,
      "outputs": [
        {
          "output_type": "execute_result",
          "data": {
            "text/plain": [
              "Title             0\n",
              "Year             11\n",
              "Final Rating    504\n",
              "Total Votes     504\n",
              "Genre            86\n",
              "Synopsis          0\n",
              "dtype: int64"
            ]
          },
          "metadata": {},
          "execution_count": 73
        }
      ]
    },
    {
      "cell_type": "code",
      "source": [
        "# Drop the remaining rows with missing values\n",
        "data1.dropna(axis=0, how='any', inplace=True)\n",
        "\n",
        "data1.isna().sum()"
      ],
      "metadata": {
        "colab": {
          "base_uri": "https://localhost:8080/"
        },
        "id": "zQ75rAecSvNg",
        "outputId": "414e7bfd-4415-4c1d-e299-ac222a0bbca0"
      },
      "execution_count": null,
      "outputs": [
        {
          "output_type": "execute_result",
          "data": {
            "text/plain": [
              "Title           0\n",
              "Year            0\n",
              "Final Rating    0\n",
              "Total Votes     0\n",
              "Genre           0\n",
              "Synopsis        0\n",
              "dtype: int64"
            ]
          },
          "metadata": {},
          "execution_count": 74
        }
      ]
    },
    {
      "cell_type": "code",
      "source": [
        "# Check the data\n",
        "data1.info()"
      ],
      "metadata": {
        "colab": {
          "base_uri": "https://localhost:8080/"
        },
        "id": "tHTVFnyFTD2B",
        "outputId": "7657a39c-e859-472a-bda8-012522af07b0"
      },
      "execution_count": null,
      "outputs": [
        {
          "output_type": "stream",
          "name": "stdout",
          "text": [
            "<class 'pandas.core.frame.DataFrame'>\n",
            "Int64Index: 1472 entries, 0 to 1986\n",
            "Data columns (total 6 columns):\n",
            " #   Column        Non-Null Count  Dtype  \n",
            "---  ------        --------------  -----  \n",
            " 0   Title         1472 non-null   object \n",
            " 1   Year          1472 non-null   object \n",
            " 2   Final Rating  1472 non-null   float64\n",
            " 3   Total Votes   1472 non-null   object \n",
            " 4   Genre         1472 non-null   object \n",
            " 5   Synopsis      1472 non-null   object \n",
            "dtypes: float64(1), object(5)\n",
            "memory usage: 80.5+ KB\n"
          ]
        }
      ]
    },
    {
      "cell_type": "code",
      "source": [
        "# Check the final rating distribution\n",
        "data1.describe()"
      ],
      "metadata": {
        "colab": {
          "base_uri": "https://localhost:8080/",
          "height": 300
        },
        "id": "Llx8hx63TT6v",
        "outputId": "437f8824-2443-41d1-e840-198ba5f598df"
      },
      "execution_count": null,
      "outputs": [
        {
          "output_type": "execute_result",
          "data": {
            "text/plain": [
              "       Final Rating\n",
              "count   1472.000000\n",
              "mean       7.374185\n",
              "std        0.870078\n",
              "min        1.800000\n",
              "25%        7.000000\n",
              "50%        7.500000\n",
              "75%        7.900000\n",
              "max       10.000000"
            ],
            "text/html": [
              "\n",
              "  <div id=\"df-6257d45e-0a2a-4992-9901-f40c08761404\">\n",
              "    <div class=\"colab-df-container\">\n",
              "      <div>\n",
              "<style scoped>\n",
              "    .dataframe tbody tr th:only-of-type {\n",
              "        vertical-align: middle;\n",
              "    }\n",
              "\n",
              "    .dataframe tbody tr th {\n",
              "        vertical-align: top;\n",
              "    }\n",
              "\n",
              "    .dataframe thead th {\n",
              "        text-align: right;\n",
              "    }\n",
              "</style>\n",
              "<table border=\"1\" class=\"dataframe\">\n",
              "  <thead>\n",
              "    <tr style=\"text-align: right;\">\n",
              "      <th></th>\n",
              "      <th>Final Rating</th>\n",
              "    </tr>\n",
              "  </thead>\n",
              "  <tbody>\n",
              "    <tr>\n",
              "      <th>count</th>\n",
              "      <td>1472.000000</td>\n",
              "    </tr>\n",
              "    <tr>\n",
              "      <th>mean</th>\n",
              "      <td>7.374185</td>\n",
              "    </tr>\n",
              "    <tr>\n",
              "      <th>std</th>\n",
              "      <td>0.870078</td>\n",
              "    </tr>\n",
              "    <tr>\n",
              "      <th>min</th>\n",
              "      <td>1.800000</td>\n",
              "    </tr>\n",
              "    <tr>\n",
              "      <th>25%</th>\n",
              "      <td>7.000000</td>\n",
              "    </tr>\n",
              "    <tr>\n",
              "      <th>50%</th>\n",
              "      <td>7.500000</td>\n",
              "    </tr>\n",
              "    <tr>\n",
              "      <th>75%</th>\n",
              "      <td>7.900000</td>\n",
              "    </tr>\n",
              "    <tr>\n",
              "      <th>max</th>\n",
              "      <td>10.000000</td>\n",
              "    </tr>\n",
              "  </tbody>\n",
              "</table>\n",
              "</div>\n",
              "      <button class=\"colab-df-convert\" onclick=\"convertToInteractive('df-6257d45e-0a2a-4992-9901-f40c08761404')\"\n",
              "              title=\"Convert this dataframe to an interactive table.\"\n",
              "              style=\"display:none;\">\n",
              "        \n",
              "  <svg xmlns=\"http://www.w3.org/2000/svg\" height=\"24px\"viewBox=\"0 0 24 24\"\n",
              "       width=\"24px\">\n",
              "    <path d=\"M0 0h24v24H0V0z\" fill=\"none\"/>\n",
              "    <path d=\"M18.56 5.44l.94 2.06.94-2.06 2.06-.94-2.06-.94-.94-2.06-.94 2.06-2.06.94zm-11 1L8.5 8.5l.94-2.06 2.06-.94-2.06-.94L8.5 2.5l-.94 2.06-2.06.94zm10 10l.94 2.06.94-2.06 2.06-.94-2.06-.94-.94-2.06-.94 2.06-2.06.94z\"/><path d=\"M17.41 7.96l-1.37-1.37c-.4-.4-.92-.59-1.43-.59-.52 0-1.04.2-1.43.59L10.3 9.45l-7.72 7.72c-.78.78-.78 2.05 0 2.83L4 21.41c.39.39.9.59 1.41.59.51 0 1.02-.2 1.41-.59l7.78-7.78 2.81-2.81c.8-.78.8-2.07 0-2.86zM5.41 20L4 18.59l7.72-7.72 1.47 1.35L5.41 20z\"/>\n",
              "  </svg>\n",
              "      </button>\n",
              "      \n",
              "  <style>\n",
              "    .colab-df-container {\n",
              "      display:flex;\n",
              "      flex-wrap:wrap;\n",
              "      gap: 12px;\n",
              "    }\n",
              "\n",
              "    .colab-df-convert {\n",
              "      background-color: #E8F0FE;\n",
              "      border: none;\n",
              "      border-radius: 50%;\n",
              "      cursor: pointer;\n",
              "      display: none;\n",
              "      fill: #1967D2;\n",
              "      height: 32px;\n",
              "      padding: 0 0 0 0;\n",
              "      width: 32px;\n",
              "    }\n",
              "\n",
              "    .colab-df-convert:hover {\n",
              "      background-color: #E2EBFA;\n",
              "      box-shadow: 0px 1px 2px rgba(60, 64, 67, 0.3), 0px 1px 3px 1px rgba(60, 64, 67, 0.15);\n",
              "      fill: #174EA6;\n",
              "    }\n",
              "\n",
              "    [theme=dark] .colab-df-convert {\n",
              "      background-color: #3B4455;\n",
              "      fill: #D2E3FC;\n",
              "    }\n",
              "\n",
              "    [theme=dark] .colab-df-convert:hover {\n",
              "      background-color: #434B5C;\n",
              "      box-shadow: 0px 1px 3px 1px rgba(0, 0, 0, 0.15);\n",
              "      filter: drop-shadow(0px 1px 2px rgba(0, 0, 0, 0.3));\n",
              "      fill: #FFFFFF;\n",
              "    }\n",
              "  </style>\n",
              "\n",
              "      <script>\n",
              "        const buttonEl =\n",
              "          document.querySelector('#df-6257d45e-0a2a-4992-9901-f40c08761404 button.colab-df-convert');\n",
              "        buttonEl.style.display =\n",
              "          google.colab.kernel.accessAllowed ? 'block' : 'none';\n",
              "\n",
              "        async function convertToInteractive(key) {\n",
              "          const element = document.querySelector('#df-6257d45e-0a2a-4992-9901-f40c08761404');\n",
              "          const dataTable =\n",
              "            await google.colab.kernel.invokeFunction('convertToInteractive',\n",
              "                                                     [key], {});\n",
              "          if (!dataTable) return;\n",
              "\n",
              "          const docLinkHtml = 'Like what you see? Visit the ' +\n",
              "            '<a target=\"_blank\" href=https://colab.research.google.com/notebooks/data_table.ipynb>data table notebook</a>'\n",
              "            + ' to learn more about interactive tables.';\n",
              "          element.innerHTML = '';\n",
              "          dataTable['output_type'] = 'display_data';\n",
              "          await google.colab.output.renderOutput(dataTable, element);\n",
              "          const docLink = document.createElement('div');\n",
              "          docLink.innerHTML = docLinkHtml;\n",
              "          element.appendChild(docLink);\n",
              "        }\n",
              "      </script>\n",
              "    </div>\n",
              "  </div>\n",
              "  "
            ]
          },
          "metadata": {},
          "execution_count": 76
        }
      ]
    },
    {
      "cell_type": "markdown",
      "source": [
        "**Visualization**"
      ],
      "metadata": {
        "id": "uwwceiaMTvdd"
      }
    },
    {
      "cell_type": "code",
      "source": [
        "plt.figure(figsize=(10,10))\n",
        "sns.distplot(data1[\"Final Rating\"])\n",
        "plt.xlabel(\"Final Rating\")\n",
        "plt.legend()\n",
        "\n",
        "plt.tight_layout()\n",
        "plt.savefig('finalrating_distribution.png')\n",
        "plt.plot()"
      ],
      "metadata": {
        "colab": {
          "base_uri": "https://localhost:8080/",
          "height": 764
        },
        "id": "_Jx9Mf17TxMM",
        "outputId": "3c8e3f66-9364-44d8-c429-d228750483f9"
      },
      "execution_count": null,
      "outputs": [
        {
          "output_type": "stream",
          "name": "stderr",
          "text": [
            "WARNING:matplotlib.legend:No handles with labels found to put in legend.\n"
          ]
        },
        {
          "output_type": "execute_result",
          "data": {
            "text/plain": [
              "[]"
            ]
          },
          "metadata": {},
          "execution_count": 77
        },
        {
          "output_type": "display_data",
          "data": {
            "text/plain": [
              "<Figure size 720x720 with 1 Axes>"
            ],
            "image/png": "[encoded data removed]"
          },
          "metadata": {
            "needs_background": "light"
          }
        }
      ]
    },
    {
      "cell_type": "code",
      "source": [
        "plt.figure(figsize=(10,10))\n",
        "sns.boxplot(data1[\"Final Rating\"])\n",
        "plt.xlabel(\"Final Rating\")\n",
        "plt.legend()\n",
        "\n",
        "plt.tight_layout()\n",
        "plt.savefig('finalrating_box.png')\n",
        "plt.plot()"
      ],
      "metadata": {
        "colab": {
          "base_uri": "https://localhost:8080/",
          "height": 764
        },
        "id": "KXls2aIkVHAu",
        "outputId": "79c5eb5d-07ba-4eb1-e7fe-e6e766fd4551"
      },
      "execution_count": null,
      "outputs": [
        {
          "output_type": "stream",
          "name": "stderr",
          "text": [
            "WARNING:matplotlib.legend:No handles with labels found to put in legend.\n"
          ]
        },
        {
          "output_type": "execute_result",
          "data": {
            "text/plain": [
              "[]"
            ]
          },
          "metadata": {},
          "execution_count": 78
        },
        {
          "output_type": "display_data",
          "data": {
            "text/plain": [
              "<Figure size 720x720 with 1 Axes>"
            ],
            "image/png": "[encoded data removed]"
          },
          "metadata": {
            "needs_background": "light"
          }
        }
      ]
    },
    {
      "cell_type": "markdown",
      "source": [
        "Dari visualisasi yang telah dilakukan, diketahui bahwa untuk berkas pertama, distribusi nilai *Final Rating* terpusat di sekitar angka 8. Hal ini dapat dilihat dari *distribution plot*. Selain itu, dari *boxplot*, diketahui bahwa data *Final Rating* juga memuat beberapa nilai *outliers*."
      ],
      "metadata": {
        "id": "wM1gz7_PszYd"
      }
    },
    {
      "cell_type": "markdown",
      "source": [
        "### Berkas Kedua"
      ],
      "metadata": {
        "id": "NdjlPcz8Va8F"
      }
    },
    {
      "cell_type": "markdown",
      "source": [
        "**Exploratory Data Analysis (EDA)**"
      ],
      "metadata": {
        "id": "_ND2wPszgxUH"
      }
    },
    {
      "cell_type": "code",
      "source": [
        "# Define Missing Values\n",
        "missing_values = [\"?\", \"--\", '!', '^', '-', '_', ' ']\n",
        "\n",
        "# Load data\n",
        "data2 = pd.read_csv(\"koreanTV_comment.csv\", na_values = missing_values)\n",
        "data2.head()"
      ],
      "metadata": {
        "colab": {
          "base_uri": "https://localhost:8080/",
          "height": 354
        },
        "id": "HDCjt4aEU-Mz",
        "outputId": "f4690ace-14bc-4e22-f6d4-cdd090c1ae87"
      },
      "execution_count": null,
      "outputs": [
        {
          "output_type": "execute_result",
          "data": {
            "text/plain": [
              "       Title                                       Review Title User Rating  \\\n",
              "0  Hellbound                         Did I watch the same show?        8/10   \n",
              "1  Hellbound                                    what i think...        8/10   \n",
              "2  Hellbound  Overwhelming technical shortcomings with ingen...        9/10   \n",
              "3  Hellbound                          Slow start but oh my god!        8/10   \n",
              "4  Hellbound                                  A gripping series        9/10   \n",
              "\n",
              "                                             Content Helpfulness Vote  \n",
              "0  I felt compelled to write a review based on th...     37 out of 41  \n",
              "1  This show is amazing, I think people are hell-...     19 out of 20  \n",
              "2  When I saw the CG monsters in the trailer, I t...     39 out of 44  \n",
              "3  Firstly, people who have posted there reviews ...     58 out of 72  \n",
              "4  I started just thinking of watching one episod...   105 out of 138  "
            ],
            "text/html": [
              "\n",
              "  <div id=\"df-e4c36e72-c76c-4900-b56a-4519ed4da8d7\">\n",
              "    <div class=\"colab-df-container\">\n",
              "      <div>\n",
              "<style scoped>\n",
              "    .dataframe tbody tr th:only-of-type {\n",
              "        vertical-align: middle;\n",
              "    }\n",
              "\n",
              "    .dataframe tbody tr th {\n",
              "        vertical-align: top;\n",
              "    }\n",
              "\n",
              "    .dataframe thead th {\n",
              "        text-align: right;\n",
              "    }\n",
              "</style>\n",
              "<table border=\"1\" class=\"dataframe\">\n",
              "  <thead>\n",
              "    <tr style=\"text-align: right;\">\n",
              "      <th></th>\n",
              "      <th>Title</th>\n",
              "      <th>Review Title</th>\n",
              "      <th>User Rating</th>\n",
              "      <th>Content</th>\n",
              "      <th>Helpfulness Vote</th>\n",
              "    </tr>\n",
              "  </thead>\n",
              "  <tbody>\n",
              "    <tr>\n",
              "      <th>0</th>\n",
              "      <td>Hellbound</td>\n",
              "      <td>Did I watch the same show?</td>\n",
              "      <td>8/10</td>\n",
              "      <td>I felt compelled to write a review based on th...</td>\n",
              "      <td>37 out of 41</td>\n",
              "    </tr>\n",
              "    <tr>\n",
              "      <th>1</th>\n",
              "      <td>Hellbound</td>\n",
              "      <td>what i think...</td>\n",
              "      <td>8/10</td>\n",
              "      <td>This show is amazing, I think people are hell-...</td>\n",
              "      <td>19 out of 20</td>\n",
              "    </tr>\n",
              "    <tr>\n",
              "      <th>2</th>\n",
              "      <td>Hellbound</td>\n",
              "      <td>Overwhelming technical shortcomings with ingen...</td>\n",
              "      <td>9/10</td>\n",
              "      <td>When I saw the CG monsters in the trailer, I t...</td>\n",
              "      <td>39 out of 44</td>\n",
              "    </tr>\n",
              "    <tr>\n",
              "      <th>3</th>\n",
              "      <td>Hellbound</td>\n",
              "      <td>Slow start but oh my god!</td>\n",
              "      <td>8/10</td>\n",
              "      <td>Firstly, people who have posted there reviews ...</td>\n",
              "      <td>58 out of 72</td>\n",
              "    </tr>\n",
              "    <tr>\n",
              "      <th>4</th>\n",
              "      <td>Hellbound</td>\n",
              "      <td>A gripping series</td>\n",
              "      <td>9/10</td>\n",
              "      <td>I started just thinking of watching one episod...</td>\n",
              "      <td>105 out of 138</td>\n",
              "    </tr>\n",
              "  </tbody>\n",
              "</table>\n",
              "</div>\n",
              "      <button class=\"colab-df-convert\" onclick=\"convertToInteractive('df-e4c36e72-c76c-4900-b56a-4519ed4da8d7')\"\n",
              "              title=\"Convert this dataframe to an interactive table.\"\n",
              "              style=\"display:none;\">\n",
              "        \n",
              "  <svg xmlns=\"http://www.w3.org/2000/svg\" height=\"24px\"viewBox=\"0 0 24 24\"\n",
              "       width=\"24px\">\n",
              "    <path d=\"M0 0h24v24H0V0z\" fill=\"none\"/>\n",
              "    <path d=\"M18.56 5.44l.94 2.06.94-2.06 2.06-.94-2.06-.94-.94-2.06-.94 2.06-2.06.94zm-11 1L8.5 8.5l.94-2.06 2.06-.94-2.06-.94L8.5 2.5l-.94 2.06-2.06.94zm10 10l.94 2.06.94-2.06 2.06-.94-2.06-.94-.94-2.06-.94 2.06-2.06.94z\"/><path d=\"M17.41 7.96l-1.37-1.37c-.4-.4-.92-.59-1.43-.59-.52 0-1.04.2-1.43.59L10.3 9.45l-7.72 7.72c-.78.78-.78 2.05 0 2.83L4 21.41c.39.39.9.59 1.41.59.51 0 1.02-.2 1.41-.59l7.78-7.78 2.81-2.81c.8-.78.8-2.07 0-2.86zM5.41 20L4 18.59l7.72-7.72 1.47 1.35L5.41 20z\"/>\n",
              "  </svg>\n",
              "      </button>\n",
              "      \n",
              "  <style>\n",
              "    .colab-df-container {\n",
              "      display:flex;\n",
              "      flex-wrap:wrap;\n",
              "      gap: 12px;\n",
              "    }\n",
              "\n",
              "    .colab-df-convert {\n",
              "      background-color: #E8F0FE;\n",
              "      border: none;\n",
              "      border-radius: 50%;\n",
              "      cursor: pointer;\n",
              "      display: none;\n",
              "      fill: #1967D2;\n",
              "      height: 32px;\n",
              "      padding: 0 0 0 0;\n",
              "      width: 32px;\n",
              "    }\n",
              "\n",
              "    .colab-df-convert:hover {\n",
              "      background-color: #E2EBFA;\n",
              "      box-shadow: 0px 1px 2px rgba(60, 64, 67, 0.3), 0px 1px 3px 1px rgba(60, 64, 67, 0.15);\n",
              "      fill: #174EA6;\n",
              "    }\n",
              "\n",
              "    [theme=dark] .colab-df-convert {\n",
              "      background-color: #3B4455;\n",
              "      fill: #D2E3FC;\n",
              "    }\n",
              "\n",
              "    [theme=dark] .colab-df-convert:hover {\n",
              "      background-color: #434B5C;\n",
              "      box-shadow: 0px 1px 3px 1px rgba(0, 0, 0, 0.15);\n",
              "      filter: drop-shadow(0px 1px 2px rgba(0, 0, 0, 0.3));\n",
              "      fill: #FFFFFF;\n",
              "    }\n",
              "  </style>\n",
              "\n",
              "      <script>\n",
              "        const buttonEl =\n",
              "          document.querySelector('#df-e4c36e72-c76c-4900-b56a-4519ed4da8d7 button.colab-df-convert');\n",
              "        buttonEl.style.display =\n",
              "          google.colab.kernel.accessAllowed ? 'block' : 'none';\n",
              "\n",
              "        async function convertToInteractive(key) {\n",
              "          const element = document.querySelector('#df-e4c36e72-c76c-4900-b56a-4519ed4da8d7');\n",
              "          const dataTable =\n",
              "            await google.colab.kernel.invokeFunction('convertToInteractive',\n",
              "                                                     [key], {});\n",
              "          if (!dataTable) return;\n",
              "\n",
              "          const docLinkHtml = 'Like what you see? Visit the ' +\n",
              "            '<a target=\"_blank\" href=https://colab.research.google.com/notebooks/data_table.ipynb>data table notebook</a>'\n",
              "            + ' to learn more about interactive tables.';\n",
              "          element.innerHTML = '';\n",
              "          dataTable['output_type'] = 'display_data';\n",
              "          await google.colab.output.renderOutput(dataTable, element);\n",
              "          const docLink = document.createElement('div');\n",
              "          docLink.innerHTML = docLinkHtml;\n",
              "          element.appendChild(docLink);\n",
              "        }\n",
              "      </script>\n",
              "    </div>\n",
              "  </div>\n",
              "  "
            ]
          },
          "metadata": {},
          "execution_count": 79
        }
      ]
    },
    {
      "cell_type": "code",
      "source": [
        "# Rename columns\n",
        "data2.columns = ['Title', 'Review Title', 'Rating', 'Review', 'Helpfulness']\n",
        "data2.head()"
      ],
      "metadata": {
        "colab": {
          "base_uri": "https://localhost:8080/",
          "height": 250
        },
        "id": "olTfzcsaVwZe",
        "outputId": "9522272d-0043-48d2-8ae1-31f7a8fe47f5"
      },
      "execution_count": null,
      "outputs": [
        {
          "output_type": "execute_result",
          "data": {
            "text/plain": [
              "       Title                                       Review Title Rating  \\\n",
              "0  Hellbound                         Did I watch the same show?   8/10   \n",
              "1  Hellbound                                    what i think...   8/10   \n",
              "2  Hellbound  Overwhelming technical shortcomings with ingen...   9/10   \n",
              "3  Hellbound                          Slow start but oh my god!   8/10   \n",
              "4  Hellbound                                  A gripping series   9/10   \n",
              "\n",
              "                                              Review     Helpfulness  \n",
              "0  I felt compelled to write a review based on th...    37 out of 41  \n",
              "1  This show is amazing, I think people are hell-...    19 out of 20  \n",
              "2  When I saw the CG monsters in the trailer, I t...    39 out of 44  \n",
              "3  Firstly, people who have posted there reviews ...    58 out of 72  \n",
              "4  I started just thinking of watching one episod...  105 out of 138  "
            ],
            "text/html": [
              "\n",
              "  <div id=\"df-7bfe07bf-9bf5-489d-bb28-a868ff1e1859\">\n",
              "    <div class=\"colab-df-container\">\n",
              "      <div>\n",
              "<style scoped>\n",
              "    .dataframe tbody tr th:only-of-type {\n",
              "        vertical-align: middle;\n",
              "    }\n",
              "\n",
              "    .dataframe tbody tr th {\n",
              "        vertical-align: top;\n",
              "    }\n",
              "\n",
              "    .dataframe thead th {\n",
              "        text-align: right;\n",
              "    }\n",
              "</style>\n",
              "<table border=\"1\" class=\"dataframe\">\n",
              "  <thead>\n",
              "    <tr style=\"text-align: right;\">\n",
              "      <th></th>\n",
              "      <th>Title</th>\n",
              "      <th>Review Title</th>\n",
              "      <th>Rating</th>\n",
              "      <th>Review</th>\n",
              "      <th>Helpfulness</th>\n",
              "    </tr>\n",
              "  </thead>\n",
              "  <tbody>\n",
              "    <tr>\n",
              "      <th>0</th>\n",
              "      <td>Hellbound</td>\n",
              "      <td>Did I watch the same show?</td>\n",
              "      <td>8/10</td>\n",
              "      <td>I felt compelled to write a review based on th...</td>\n",
              "      <td>37 out of 41</td>\n",
              "    </tr>\n",
              "    <tr>\n",
              "      <th>1</th>\n",
              "      <td>Hellbound</td>\n",
              "      <td>what i think...</td>\n",
              "      <td>8/10</td>\n",
              "      <td>This show is amazing, I think people are hell-...</td>\n",
              "      <td>19 out of 20</td>\n",
              "    </tr>\n",
              "    <tr>\n",
              "      <th>2</th>\n",
              "      <td>Hellbound</td>\n",
              "      <td>Overwhelming technical shortcomings with ingen...</td>\n",
              "      <td>9/10</td>\n",
              "      <td>When I saw the CG monsters in the trailer, I t...</td>\n",
              "      <td>39 out of 44</td>\n",
              "    </tr>\n",
              "    <tr>\n",
              "      <th>3</th>\n",
              "      <td>Hellbound</td>\n",
              "      <td>Slow start but oh my god!</td>\n",
              "      <td>8/10</td>\n",
              "      <td>Firstly, people who have posted there reviews ...</td>\n",
              "      <td>58 out of 72</td>\n",
              "    </tr>\n",
              "    <tr>\n",
              "      <th>4</th>\n",
              "      <td>Hellbound</td>\n",
              "      <td>A gripping series</td>\n",
              "      <td>9/10</td>\n",
              "      <td>I started just thinking of watching one episod...</td>\n",
              "      <td>105 out of 138</td>\n",
              "    </tr>\n",
              "  </tbody>\n",
              "</table>\n",
              "</div>\n",
              "      <button class=\"colab-df-convert\" onclick=\"convertToInteractive('df-7bfe07bf-9bf5-489d-bb28-a868ff1e1859')\"\n",
              "              title=\"Convert this dataframe to an interactive table.\"\n",
              "              style=\"display:none;\">\n",
              "        \n",
              "  <svg xmlns=\"http://www.w3.org/2000/svg\" height=\"24px\"viewBox=\"0 0 24 24\"\n",
              "       width=\"24px\">\n",
              "    <path d=\"M0 0h24v24H0V0z\" fill=\"none\"/>\n",
              "    <path d=\"M18.56 5.44l.94 2.06.94-2.06 2.06-.94-2.06-.94-.94-2.06-.94 2.06-2.06.94zm-11 1L8.5 8.5l.94-2.06 2.06-.94-2.06-.94L8.5 2.5l-.94 2.06-2.06.94zm10 10l.94 2.06.94-2.06 2.06-.94-2.06-.94-.94-2.06-.94 2.06-2.06.94z\"/><path d=\"M17.41 7.96l-1.37-1.37c-.4-.4-.92-.59-1.43-.59-.52 0-1.04.2-1.43.59L10.3 9.45l-7.72 7.72c-.78.78-.78 2.05 0 2.83L4 21.41c.39.39.9.59 1.41.59.51 0 1.02-.2 1.41-.59l7.78-7.78 2.81-2.81c.8-.78.8-2.07 0-2.86zM5.41 20L4 18.59l7.72-7.72 1.47 1.35L5.41 20z\"/>\n",
              "  </svg>\n",
              "      </button>\n",
              "      \n",
              "  <style>\n",
              "    .colab-df-container {\n",
              "      display:flex;\n",
              "      flex-wrap:wrap;\n",
              "      gap: 12px;\n",
              "    }\n",
              "\n",
              "    .colab-df-convert {\n",
              "      background-color: #E8F0FE;\n",
              "      border: none;\n",
              "      border-radius: 50%;\n",
              "      cursor: pointer;\n",
              "      display: none;\n",
              "      fill: #1967D2;\n",
              "      height: 32px;\n",
              "      padding: 0 0 0 0;\n",
              "      width: 32px;\n",
              "    }\n",
              "\n",
              "    .colab-df-convert:hover {\n",
              "      background-color: #E2EBFA;\n",
              "      box-shadow: 0px 1px 2px rgba(60, 64, 67, 0.3), 0px 1px 3px 1px rgba(60, 64, 67, 0.15);\n",
              "      fill: #174EA6;\n",
              "    }\n",
              "\n",
              "    [theme=dark] .colab-df-convert {\n",
              "      background-color: #3B4455;\n",
              "      fill: #D2E3FC;\n",
              "    }\n",
              "\n",
              "    [theme=dark] .colab-df-convert:hover {\n",
              "      background-color: #434B5C;\n",
              "      box-shadow: 0px 1px 3px 1px rgba(0, 0, 0, 0.15);\n",
              "      filter: drop-shadow(0px 1px 2px rgba(0, 0, 0, 0.3));\n",
              "      fill: #FFFFFF;\n",
              "    }\n",
              "  </style>\n",
              "\n",
              "      <script>\n",
              "        const buttonEl =\n",
              "          document.querySelector('#df-7bfe07bf-9bf5-489d-bb28-a868ff1e1859 button.colab-df-convert');\n",
              "        buttonEl.style.display =\n",
              "          google.colab.kernel.accessAllowed ? 'block' : 'none';\n",
              "\n",
              "        async function convertToInteractive(key) {\n",
              "          const element = document.querySelector('#df-7bfe07bf-9bf5-489d-bb28-a868ff1e1859');\n",
              "          const dataTable =\n",
              "            await google.colab.kernel.invokeFunction('convertToInteractive',\n",
              "                                                     [key], {});\n",
              "          if (!dataTable) return;\n",
              "\n",
              "          const docLinkHtml = 'Like what you see? Visit the ' +\n",
              "            '<a target=\"_blank\" href=https://colab.research.google.com/notebooks/data_table.ipynb>data table notebook</a>'\n",
              "            + ' to learn more about interactive tables.';\n",
              "          element.innerHTML = '';\n",
              "          dataTable['output_type'] = 'display_data';\n",
              "          await google.colab.output.renderOutput(dataTable, element);\n",
              "          const docLink = document.createElement('div');\n",
              "          docLink.innerHTML = docLinkHtml;\n",
              "          element.appendChild(docLink);\n",
              "        }\n",
              "      </script>\n",
              "    </div>\n",
              "  </div>\n",
              "  "
            ]
          },
          "metadata": {},
          "execution_count": 80
        }
      ]
    },
    {
      "cell_type": "code",
      "source": [
        "data2.info()"
      ],
      "metadata": {
        "colab": {
          "base_uri": "https://localhost:8080/"
        },
        "id": "79D26ObbWjzU",
        "outputId": "d7d98f77-7a14-42e9-861c-13edc043a01d"
      },
      "execution_count": null,
      "outputs": [
        {
          "output_type": "stream",
          "name": "stdout",
          "text": [
            "<class 'pandas.core.frame.DataFrame'>\n",
            "RangeIndex: 8275 entries, 0 to 8274\n",
            "Data columns (total 5 columns):\n",
            " #   Column        Non-Null Count  Dtype \n",
            "---  ------        --------------  ----- \n",
            " 0   Title         8275 non-null   object\n",
            " 1   Review Title  8275 non-null   object\n",
            " 2   Rating        7924 non-null   object\n",
            " 3   Review        8275 non-null   object\n",
            " 4   Helpfulness   8275 non-null   object\n",
            "dtypes: object(5)\n",
            "memory usage: 323.4+ KB\n"
          ]
        }
      ]
    },
    {
      "cell_type": "code",
      "source": [
        "data2.isna().sum()"
      ],
      "metadata": {
        "colab": {
          "base_uri": "https://localhost:8080/"
        },
        "id": "wuY-zG9zWlRo",
        "outputId": "706a7ab8-5b9a-41cd-8f38-4e8bb4af455b"
      },
      "execution_count": null,
      "outputs": [
        {
          "output_type": "execute_result",
          "data": {
            "text/plain": [
              "Title             0\n",
              "Review Title      0\n",
              "Rating          351\n",
              "Review            0\n",
              "Helpfulness       0\n",
              "dtype: int64"
            ]
          },
          "metadata": {},
          "execution_count": 82
        }
      ]
    },
    {
      "cell_type": "markdown",
      "source": [
        "Pada data di atas, ditemukan nilai yang hilang pada kolom *Rating*. Oleh karena itu, di sini, baris dengan data yang hilang akan dibuang."
      ],
      "metadata": {
        "id": "zJqoZVw2WsqD"
      }
    },
    {
      "cell_type": "code",
      "source": [
        "# Drop the remaining rows with missing values\n",
        "data2.dropna(axis=0, how='any', inplace=True)\n",
        "\n",
        "data2.isna().sum()"
      ],
      "metadata": {
        "colab": {
          "base_uri": "https://localhost:8080/"
        },
        "id": "NYzx2j9EXkVv",
        "outputId": "05df6e40-6c0e-4285-845b-53a6b6ef269e"
      },
      "execution_count": null,
      "outputs": [
        {
          "output_type": "execute_result",
          "data": {
            "text/plain": [
              "Title           0\n",
              "Review Title    0\n",
              "Rating          0\n",
              "Review          0\n",
              "Helpfulness     0\n",
              "dtype: int64"
            ]
          },
          "metadata": {},
          "execution_count": 83
        }
      ]
    },
    {
      "cell_type": "code",
      "source": [
        "data2.info()"
      ],
      "metadata": {
        "colab": {
          "base_uri": "https://localhost:8080/"
        },
        "id": "vCaH-MEiXqub",
        "outputId": "625f2eb6-b80f-4196-e916-c6a8ba7c6507"
      },
      "execution_count": null,
      "outputs": [
        {
          "output_type": "stream",
          "name": "stdout",
          "text": [
            "<class 'pandas.core.frame.DataFrame'>\n",
            "Int64Index: 7924 entries, 0 to 8274\n",
            "Data columns (total 5 columns):\n",
            " #   Column        Non-Null Count  Dtype \n",
            "---  ------        --------------  ----- \n",
            " 0   Title         7924 non-null   object\n",
            " 1   Review Title  7924 non-null   object\n",
            " 2   Rating        7924 non-null   object\n",
            " 3   Review        7924 non-null   object\n",
            " 4   Helpfulness   7924 non-null   object\n",
            "dtypes: object(5)\n",
            "memory usage: 371.4+ KB\n"
          ]
        }
      ]
    },
    {
      "cell_type": "markdown",
      "source": [
        "Pada data di atas, nilai pada kolom *Rating* masih bertipe object. Oleh karena itu, di sini, akan dilakukan konversi menjadi tipe data integer."
      ],
      "metadata": {
        "id": "V6V3Upc1X1bs"
      }
    },
    {
      "cell_type": "code",
      "source": [
        "data2['Rating'].unique()"
      ],
      "metadata": {
        "colab": {
          "base_uri": "https://localhost:8080/"
        },
        "id": "qwprA6ksZsqy",
        "outputId": "c32098f9-ad51-41a7-ec4b-aececf9dc657"
      },
      "execution_count": null,
      "outputs": [
        {
          "output_type": "execute_result",
          "data": {
            "text/plain": [
              "array(['8/10', '9/10', '10/10', '7/10', '4/10', '3/10', '6/10', '1/10',\n",
              "       '5/10', '2/10'], dtype=object)"
            ]
          },
          "metadata": {},
          "execution_count": 85
        }
      ]
    },
    {
      "cell_type": "code",
      "source": [
        "data2.reset_index(inplace = True, drop = True)"
      ],
      "metadata": {
        "id": "C8GWjnpifN2R"
      },
      "execution_count": null,
      "outputs": []
    },
    {
      "cell_type": "code",
      "source": [
        "rat_arr = []\n",
        "for i in range(len(data2['Rating'].tolist())):\n",
        "  rat_arr.append(data2.loc[i, 'Rating'].replace('/10', ''))\n",
        "\n",
        "data2['Rating'] = pd.Series(rat_arr)"
      ],
      "metadata": {
        "id": "TYXzJcMkd2BJ"
      },
      "execution_count": null,
      "outputs": []
    },
    {
      "cell_type": "code",
      "source": [
        "# Convert to integer\n",
        "data2['Rating'] = pd.to_numeric(data2['Rating'])\n",
        "data2.head()"
      ],
      "metadata": {
        "colab": {
          "base_uri": "https://localhost:8080/",
          "height": 250
        },
        "id": "sZ2prRVFXsuU",
        "outputId": "8a9a0710-68c2-4eda-fb43-401d9d5f0153"
      },
      "execution_count": null,
      "outputs": [
        {
          "output_type": "execute_result",
          "data": {
            "text/plain": [
              "       Title                                       Review Title  Rating  \\\n",
              "0  Hellbound                         Did I watch the same show?       8   \n",
              "1  Hellbound                                    what i think...       8   \n",
              "2  Hellbound  Overwhelming technical shortcomings with ingen...       9   \n",
              "3  Hellbound                          Slow start but oh my god!       8   \n",
              "4  Hellbound                                  A gripping series       9   \n",
              "\n",
              "                                              Review     Helpfulness  \n",
              "0  I felt compelled to write a review based on th...    37 out of 41  \n",
              "1  This show is amazing, I think people are hell-...    19 out of 20  \n",
              "2  When I saw the CG monsters in the trailer, I t...    39 out of 44  \n",
              "3  Firstly, people who have posted there reviews ...    58 out of 72  \n",
              "4  I started just thinking of watching one episod...  105 out of 138  "
            ],
            "text/html": [
              "\n",
              "  <div id=\"df-eb6313e4-47b1-45d6-b74e-fbeb1990a11d\">\n",
              "    <div class=\"colab-df-container\">\n",
              "      <div>\n",
              "<style scoped>\n",
              "    .dataframe tbody tr th:only-of-type {\n",
              "        vertical-align: middle;\n",
              "    }\n",
              "\n",
              "    .dataframe tbody tr th {\n",
              "        vertical-align: top;\n",
              "    }\n",
              "\n",
              "    .dataframe thead th {\n",
              "        text-align: right;\n",
              "    }\n",
              "</style>\n",
              "<table border=\"1\" class=\"dataframe\">\n",
              "  <thead>\n",
              "    <tr style=\"text-align: right;\">\n",
              "      <th></th>\n",
              "      <th>Title</th>\n",
              "      <th>Review Title</th>\n",
              "      <th>Rating</th>\n",
              "      <th>Review</th>\n",
              "      <th>Helpfulness</th>\n",
              "    </tr>\n",
              "  </thead>\n",
              "  <tbody>\n",
              "    <tr>\n",
              "      <th>0</th>\n",
              "      <td>Hellbound</td>\n",
              "      <td>Did I watch the same show?</td>\n",
              "      <td>8</td>\n",
              "      <td>I felt compelled to write a review based on th...</td>\n",
              "      <td>37 out of 41</td>\n",
              "    </tr>\n",
              "    <tr>\n",
              "      <th>1</th>\n",
              "      <td>Hellbound</td>\n",
              "      <td>what i think...</td>\n",
              "      <td>8</td>\n",
              "      <td>This show is amazing, I think people are hell-...</td>\n",
              "      <td>19 out of 20</td>\n",
              "    </tr>\n",
              "    <tr>\n",
              "      <th>2</th>\n",
              "      <td>Hellbound</td>\n",
              "      <td>Overwhelming technical shortcomings with ingen...</td>\n",
              "      <td>9</td>\n",
              "      <td>When I saw the CG monsters in the trailer, I t...</td>\n",
              "      <td>39 out of 44</td>\n",
              "    </tr>\n",
              "    <tr>\n",
              "      <th>3</th>\n",
              "      <td>Hellbound</td>\n",
              "      <td>Slow start but oh my god!</td>\n",
              "      <td>8</td>\n",
              "      <td>Firstly, people who have posted there reviews ...</td>\n",
              "      <td>58 out of 72</td>\n",
              "    </tr>\n",
              "    <tr>\n",
              "      <th>4</th>\n",
              "      <td>Hellbound</td>\n",
              "      <td>A gripping series</td>\n",
              "      <td>9</td>\n",
              "      <td>I started just thinking of watching one episod...</td>\n",
              "      <td>105 out of 138</td>\n",
              "    </tr>\n",
              "  </tbody>\n",
              "</table>\n",
              "</div>\n",
              "      <button class=\"colab-df-convert\" onclick=\"convertToInteractive('df-eb6313e4-47b1-45d6-b74e-fbeb1990a11d')\"\n",
              "              title=\"Convert this dataframe to an interactive table.\"\n",
              "              style=\"display:none;\">\n",
              "        \n",
              "  <svg xmlns=\"http://www.w3.org/2000/svg\" height=\"24px\"viewBox=\"0 0 24 24\"\n",
              "       width=\"24px\">\n",
              "    <path d=\"M0 0h24v24H0V0z\" fill=\"none\"/>\n",
              "    <path d=\"M18.56 5.44l.94 2.06.94-2.06 2.06-.94-2.06-.94-.94-2.06-.94 2.06-2.06.94zm-11 1L8.5 8.5l.94-2.06 2.06-.94-2.06-.94L8.5 2.5l-.94 2.06-2.06.94zm10 10l.94 2.06.94-2.06 2.06-.94-2.06-.94-.94-2.06-.94 2.06-2.06.94z\"/><path d=\"M17.41 7.96l-1.37-1.37c-.4-.4-.92-.59-1.43-.59-.52 0-1.04.2-1.43.59L10.3 9.45l-7.72 7.72c-.78.78-.78 2.05 0 2.83L4 21.41c.39.39.9.59 1.41.59.51 0 1.02-.2 1.41-.59l7.78-7.78 2.81-2.81c.8-.78.8-2.07 0-2.86zM5.41 20L4 18.59l7.72-7.72 1.47 1.35L5.41 20z\"/>\n",
              "  </svg>\n",
              "      </button>\n",
              "      \n",
              "  <style>\n",
              "    .colab-df-container {\n",
              "      display:flex;\n",
              "      flex-wrap:wrap;\n",
              "      gap: 12px;\n",
              "    }\n",
              "\n",
              "    .colab-df-convert {\n",
              "      background-color: #E8F0FE;\n",
              "      border: none;\n",
              "      border-radius: 50%;\n",
              "      cursor: pointer;\n",
              "      display: none;\n",
              "      fill: #1967D2;\n",
              "      height: 32px;\n",
              "      padding: 0 0 0 0;\n",
              "      width: 32px;\n",
              "    }\n",
              "\n",
              "    .colab-df-convert:hover {\n",
              "      background-color: #E2EBFA;\n",
              "      box-shadow: 0px 1px 2px rgba(60, 64, 67, 0.3), 0px 1px 3px 1px rgba(60, 64, 67, 0.15);\n",
              "      fill: #174EA6;\n",
              "    }\n",
              "\n",
              "    [theme=dark] .colab-df-convert {\n",
              "      background-color: #3B4455;\n",
              "      fill: #D2E3FC;\n",
              "    }\n",
              "\n",
              "    [theme=dark] .colab-df-convert:hover {\n",
              "      background-color: #434B5C;\n",
              "      box-shadow: 0px 1px 3px 1px rgba(0, 0, 0, 0.15);\n",
              "      filter: drop-shadow(0px 1px 2px rgba(0, 0, 0, 0.3));\n",
              "      fill: #FFFFFF;\n",
              "    }\n",
              "  </style>\n",
              "\n",
              "      <script>\n",
              "        const buttonEl =\n",
              "          document.querySelector('#df-eb6313e4-47b1-45d6-b74e-fbeb1990a11d button.colab-df-convert');\n",
              "        buttonEl.style.display =\n",
              "          google.colab.kernel.accessAllowed ? 'block' : 'none';\n",
              "\n",
              "        async function convertToInteractive(key) {\n",
              "          const element = document.querySelector('#df-eb6313e4-47b1-45d6-b74e-fbeb1990a11d');\n",
              "          const dataTable =\n",
              "            await google.colab.kernel.invokeFunction('convertToInteractive',\n",
              "                                                     [key], {});\n",
              "          if (!dataTable) return;\n",
              "\n",
              "          const docLinkHtml = 'Like what you see? Visit the ' +\n",
              "            '<a target=\"_blank\" href=https://colab.research.google.com/notebooks/data_table.ipynb>data table notebook</a>'\n",
              "            + ' to learn more about interactive tables.';\n",
              "          element.innerHTML = '';\n",
              "          dataTable['output_type'] = 'display_data';\n",
              "          await google.colab.output.renderOutput(dataTable, element);\n",
              "          const docLink = document.createElement('div');\n",
              "          docLink.innerHTML = docLinkHtml;\n",
              "          element.appendChild(docLink);\n",
              "        }\n",
              "      </script>\n",
              "    </div>\n",
              "  </div>\n",
              "  "
            ]
          },
          "metadata": {},
          "execution_count": 88
        }
      ]
    },
    {
      "cell_type": "code",
      "source": [
        "data2.info()"
      ],
      "metadata": {
        "colab": {
          "base_uri": "https://localhost:8080/"
        },
        "id": "sx6n3yDPgbh4",
        "outputId": "f57341c3-f82e-4fbc-b54e-4d95ba3093e0"
      },
      "execution_count": null,
      "outputs": [
        {
          "output_type": "stream",
          "name": "stdout",
          "text": [
            "<class 'pandas.core.frame.DataFrame'>\n",
            "RangeIndex: 7924 entries, 0 to 7923\n",
            "Data columns (total 5 columns):\n",
            " #   Column        Non-Null Count  Dtype \n",
            "---  ------        --------------  ----- \n",
            " 0   Title         7924 non-null   object\n",
            " 1   Review Title  7924 non-null   object\n",
            " 2   Rating        7924 non-null   int64 \n",
            " 3   Review        7924 non-null   object\n",
            " 4   Helpfulness   7924 non-null   object\n",
            "dtypes: int64(1), object(4)\n",
            "memory usage: 309.7+ KB\n"
          ]
        }
      ]
    },
    {
      "cell_type": "code",
      "source": [
        "data2.describe()"
      ],
      "metadata": {
        "colab": {
          "base_uri": "https://localhost:8080/",
          "height": 300
        },
        "id": "AsTKdAn7gfZ0",
        "outputId": "6536c267-f303-47e8-8e83-2db243007438"
      },
      "execution_count": null,
      "outputs": [
        {
          "output_type": "execute_result",
          "data": {
            "text/plain": [
              "            Rating\n",
              "count  7924.000000\n",
              "mean      8.031424\n",
              "std       2.440952\n",
              "min       1.000000\n",
              "25%       7.000000\n",
              "50%       9.000000\n",
              "75%      10.000000\n",
              "max      10.000000"
            ],
            "text/html": [
              "\n",
              "  <div id=\"df-d98ce8f8-f725-4156-ad61-8b0bab8cffbd\">\n",
              "    <div class=\"colab-df-container\">\n",
              "      <div>\n",
              "<style scoped>\n",
              "    .dataframe tbody tr th:only-of-type {\n",
              "        vertical-align: middle;\n",
              "    }\n",
              "\n",
              "    .dataframe tbody tr th {\n",
              "        vertical-align: top;\n",
              "    }\n",
              "\n",
              "    .dataframe thead th {\n",
              "        text-align: right;\n",
              "    }\n",
              "</style>\n",
              "<table border=\"1\" class=\"dataframe\">\n",
              "  <thead>\n",
              "    <tr style=\"text-align: right;\">\n",
              "      <th></th>\n",
              "      <th>Rating</th>\n",
              "    </tr>\n",
              "  </thead>\n",
              "  <tbody>\n",
              "    <tr>\n",
              "      <th>count</th>\n",
              "      <td>7924.000000</td>\n",
              "    </tr>\n",
              "    <tr>\n",
              "      <th>mean</th>\n",
              "      <td>8.031424</td>\n",
              "    </tr>\n",
              "    <tr>\n",
              "      <th>std</th>\n",
              "      <td>2.440952</td>\n",
              "    </tr>\n",
              "    <tr>\n",
              "      <th>min</th>\n",
              "      <td>1.000000</td>\n",
              "    </tr>\n",
              "    <tr>\n",
              "      <th>25%</th>\n",
              "      <td>7.000000</td>\n",
              "    </tr>\n",
              "    <tr>\n",
              "      <th>50%</th>\n",
              "      <td>9.000000</td>\n",
              "    </tr>\n",
              "    <tr>\n",
              "      <th>75%</th>\n",
              "      <td>10.000000</td>\n",
              "    </tr>\n",
              "    <tr>\n",
              "      <th>max</th>\n",
              "      <td>10.000000</td>\n",
              "    </tr>\n",
              "  </tbody>\n",
              "</table>\n",
              "</div>\n",
              "      <button class=\"colab-df-convert\" onclick=\"convertToInteractive('df-d98ce8f8-f725-4156-ad61-8b0bab8cffbd')\"\n",
              "              title=\"Convert this dataframe to an interactive table.\"\n",
              "              style=\"display:none;\">\n",
              "        \n",
              "  <svg xmlns=\"http://www.w3.org/2000/svg\" height=\"24px\"viewBox=\"0 0 24 24\"\n",
              "       width=\"24px\">\n",
              "    <path d=\"M0 0h24v24H0V0z\" fill=\"none\"/>\n",
              "    <path d=\"M18.56 5.44l.94 2.06.94-2.06 2.06-.94-2.06-.94-.94-2.06-.94 2.06-2.06.94zm-11 1L8.5 8.5l.94-2.06 2.06-.94-2.06-.94L8.5 2.5l-.94 2.06-2.06.94zm10 10l.94 2.06.94-2.06 2.06-.94-2.06-.94-.94-2.06-.94 2.06-2.06.94z\"/><path d=\"M17.41 7.96l-1.37-1.37c-.4-.4-.92-.59-1.43-.59-.52 0-1.04.2-1.43.59L10.3 9.45l-7.72 7.72c-.78.78-.78 2.05 0 2.83L4 21.41c.39.39.9.59 1.41.59.51 0 1.02-.2 1.41-.59l7.78-7.78 2.81-2.81c.8-.78.8-2.07 0-2.86zM5.41 20L4 18.59l7.72-7.72 1.47 1.35L5.41 20z\"/>\n",
              "  </svg>\n",
              "      </button>\n",
              "      \n",
              "  <style>\n",
              "    .colab-df-container {\n",
              "      display:flex;\n",
              "      flex-wrap:wrap;\n",
              "      gap: 12px;\n",
              "    }\n",
              "\n",
              "    .colab-df-convert {\n",
              "      background-color: #E8F0FE;\n",
              "      border: none;\n",
              "      border-radius: 50%;\n",
              "      cursor: pointer;\n",
              "      display: none;\n",
              "      fill: #1967D2;\n",
              "      height: 32px;\n",
              "      padding: 0 0 0 0;\n",
              "      width: 32px;\n",
              "    }\n",
              "\n",
              "    .colab-df-convert:hover {\n",
              "      background-color: #E2EBFA;\n",
              "      box-shadow: 0px 1px 2px rgba(60, 64, 67, 0.3), 0px 1px 3px 1px rgba(60, 64, 67, 0.15);\n",
              "      fill: #174EA6;\n",
              "    }\n",
              "\n",
              "    [theme=dark] .colab-df-convert {\n",
              "      background-color: #3B4455;\n",
              "      fill: #D2E3FC;\n",
              "    }\n",
              "\n",
              "    [theme=dark] .colab-df-convert:hover {\n",
              "      background-color: #434B5C;\n",
              "      box-shadow: 0px 1px 3px 1px rgba(0, 0, 0, 0.15);\n",
              "      filter: drop-shadow(0px 1px 2px rgba(0, 0, 0, 0.3));\n",
              "      fill: #FFFFFF;\n",
              "    }\n",
              "  </style>\n",
              "\n",
              "      <script>\n",
              "        const buttonEl =\n",
              "          document.querySelector('#df-d98ce8f8-f725-4156-ad61-8b0bab8cffbd button.colab-df-convert');\n",
              "        buttonEl.style.display =\n",
              "          google.colab.kernel.accessAllowed ? 'block' : 'none';\n",
              "\n",
              "        async function convertToInteractive(key) {\n",
              "          const element = document.querySelector('#df-d98ce8f8-f725-4156-ad61-8b0bab8cffbd');\n",
              "          const dataTable =\n",
              "            await google.colab.kernel.invokeFunction('convertToInteractive',\n",
              "                                                     [key], {});\n",
              "          if (!dataTable) return;\n",
              "\n",
              "          const docLinkHtml = 'Like what you see? Visit the ' +\n",
              "            '<a target=\"_blank\" href=https://colab.research.google.com/notebooks/data_table.ipynb>data table notebook</a>'\n",
              "            + ' to learn more about interactive tables.';\n",
              "          element.innerHTML = '';\n",
              "          dataTable['output_type'] = 'display_data';\n",
              "          await google.colab.output.renderOutput(dataTable, element);\n",
              "          const docLink = document.createElement('div');\n",
              "          docLink.innerHTML = docLinkHtml;\n",
              "          element.appendChild(docLink);\n",
              "        }\n",
              "      </script>\n",
              "    </div>\n",
              "  </div>\n",
              "  "
            ]
          },
          "metadata": {},
          "execution_count": 90
        }
      ]
    },
    {
      "cell_type": "markdown",
      "source": [
        "**Visualization**"
      ],
      "metadata": {
        "id": "fh0yKmFcg17h"
      }
    },
    {
      "cell_type": "code",
      "source": [
        "plt.figure(figsize=(10,10))\n",
        "sns.distplot(data2[\"Rating\"])\n",
        "plt.xlabel(\"Rating\")\n",
        "plt.legend()\n",
        "\n",
        "plt.tight_layout()\n",
        "plt.savefig('rating_distribution.png')\n",
        "plt.plot()"
      ],
      "metadata": {
        "colab": {
          "base_uri": "https://localhost:8080/",
          "height": 764
        },
        "id": "YxWr0G36g4Ss",
        "outputId": "7fc237e2-610f-4fe4-b4e4-2f30805c94c5"
      },
      "execution_count": null,
      "outputs": [
        {
          "output_type": "stream",
          "name": "stderr",
          "text": [
            "WARNING:matplotlib.legend:No handles with labels found to put in legend.\n"
          ]
        },
        {
          "output_type": "execute_result",
          "data": {
            "text/plain": [
              "[]"
            ]
          },
          "metadata": {},
          "execution_count": 91
        },
        {
          "output_type": "display_data",
          "data": {
            "text/plain": [
              "<Figure size 720x720 with 1 Axes>"
            ],
            "image/png": "[encoded data removed]"
          },
          "metadata": {
            "needs_background": "light"
          }
        }
      ]
    },
    {
      "cell_type": "code",
      "source": [
        "plt.figure(figsize=(10,10))\n",
        "sns.boxplot(data2[\"Rating\"])\n",
        "plt.xlabel(\"Rating\")\n",
        "plt.legend()\n",
        "\n",
        "plt.tight_layout()\n",
        "plt.savefig('rating_box.png')\n",
        "plt.plot()"
      ],
      "metadata": {
        "colab": {
          "base_uri": "https://localhost:8080/",
          "height": 764
        },
        "id": "DncVzSMzhme7",
        "outputId": "fb5646d2-3933-437c-b842-f9f34d37a008"
      },
      "execution_count": null,
      "outputs": [
        {
          "output_type": "stream",
          "name": "stderr",
          "text": [
            "WARNING:matplotlib.legend:No handles with labels found to put in legend.\n"
          ]
        },
        {
          "output_type": "execute_result",
          "data": {
            "text/plain": [
              "[]"
            ]
          },
          "metadata": {},
          "execution_count": 92
        },
        {
          "output_type": "display_data",
          "data": {
            "text/plain": [
              "<Figure size 720x720 with 1 Axes>"
            ],
            "image/png": "[encoded data removed]"
          },
          "metadata": {
            "needs_background": "light"
          }
        }
      ]
    },
    {
      "cell_type": "markdown",
      "source": [
        "Sementara itu, untuk berkas kedua, nilai rating terpusat di angka 10 yang dapat diamati dari *distribution plot*. Nilai rating pada berkas kedua juga memiliki beberapa *outliers*."
      ],
      "metadata": {
        "id": "TZNdnasctavR"
      }
    },
    {
      "cell_type": "markdown",
      "source": [
        "## Data Preparation"
      ],
      "metadata": {
        "id": "EDpJQ470jyCC"
      }
    },
    {
      "cell_type": "markdown",
      "source": [
        "### Berkas Pertama"
      ],
      "metadata": {
        "id": "PaEqql3G0IeG"
      }
    },
    {
      "cell_type": "markdown",
      "source": [
        "**Menghilangkan Outliers**\n",
        "\n",
        "Seperti telah disebutkan, pada berkas pertama terdapat *outliers* pada nilai *Final Rating*. Oleh karena itu, di sini, data akan dibersihkan dengan *metode Inter-Quantile Range (IQR)*."
      ],
      "metadata": {
        "id": "FrHrhmA7j2Xe"
      }
    },
    {
      "cell_type": "code",
      "source": [
        "Q1 = data1.quantile(0.25)\n",
        "Q3 = data1.quantile(0.75)\n",
        "IQR=Q3-Q1\n",
        "data1=data1[~((data1<(Q1-1.5*IQR))|(data1>(Q3+1.5*IQR))).any(axis=1)]\n",
        " \n",
        "# Cek ukuran dataset setelah kita drop outliers\n",
        "data1.shape"
      ],
      "metadata": {
        "colab": {
          "base_uri": "https://localhost:8080/"
        },
        "id": "t02dwyowj0SK",
        "outputId": "50bddb8f-9fba-4d96-ce04-36d904a2ba16"
      },
      "execution_count": null,
      "outputs": [
        {
          "output_type": "execute_result",
          "data": {
            "text/plain": [
              "(1412, 6)"
            ]
          },
          "metadata": {},
          "execution_count": 93
        }
      ]
    },
    {
      "cell_type": "code",
      "source": [
        "data1.reset_index(inplace = True, drop = True)"
      ],
      "metadata": {
        "id": "BO2Sn1Oxop91"
      },
      "execution_count": null,
      "outputs": []
    },
    {
      "cell_type": "markdown",
      "source": [
        "**Membuang Judul Duplikat**"
      ],
      "metadata": {
        "id": "vNI5oKqLkNc-"
      }
    },
    {
      "cell_type": "code",
      "source": [
        "data1.info()"
      ],
      "metadata": {
        "colab": {
          "base_uri": "https://localhost:8080/"
        },
        "id": "wXJlAFUwkb71",
        "outputId": "8dff7466-786c-4c07-b2e3-541c369eb474"
      },
      "execution_count": null,
      "outputs": [
        {
          "output_type": "stream",
          "name": "stdout",
          "text": [
            "<class 'pandas.core.frame.DataFrame'>\n",
            "RangeIndex: 1412 entries, 0 to 1411\n",
            "Data columns (total 6 columns):\n",
            " #   Column        Non-Null Count  Dtype  \n",
            "---  ------        --------------  -----  \n",
            " 0   Title         1412 non-null   object \n",
            " 1   Year          1412 non-null   object \n",
            " 2   Final Rating  1412 non-null   float64\n",
            " 3   Total Votes   1412 non-null   object \n",
            " 4   Genre         1412 non-null   object \n",
            " 5   Synopsis      1412 non-null   object \n",
            "dtypes: float64(1), object(5)\n",
            "memory usage: 66.3+ KB\n"
          ]
        }
      ]
    },
    {
      "cell_type": "code",
      "source": [
        "len(data1.Title.unique())"
      ],
      "metadata": {
        "colab": {
          "base_uri": "https://localhost:8080/"
        },
        "id": "SLwFV7rykhGV",
        "outputId": "6241c6c8-8e99-4bbd-9f22-64c78f756279"
      },
      "execution_count": null,
      "outputs": [
        {
          "output_type": "execute_result",
          "data": {
            "text/plain": [
              "1406"
            ]
          },
          "metadata": {},
          "execution_count": 96
        }
      ]
    },
    {
      "cell_type": "markdown",
      "source": [
        "Setelah dilakukan pengecekan, ternyata terdapat beberapa judul yang memiliki lebih dari satu entri. Oleh karena itu, di sini, baris dengan judul duplikat akan dibuang."
      ],
      "metadata": {
        "id": "lAH2Q-9jnD0X"
      }
    },
    {
      "cell_type": "code",
      "source": [
        "data1['Title'].value_counts().head(12)"
      ],
      "metadata": {
        "colab": {
          "base_uri": "https://localhost:8080/"
        },
        "id": "6HO9hx6wmeid",
        "outputId": "2a8757ba-a6c4-4bd2-b39e-e44faa9a615e"
      },
      "execution_count": null,
      "outputs": [
        {
          "output_type": "execute_result",
          "data": {
            "text/plain": [
              "Teenage Mutant Ninja Turtles      2\n",
              "Running Man                       2\n",
              "Punch                             2\n",
              "Smile Again                       2\n",
              "Iljimae                           2\n",
              "Happy Together                    2\n",
              "Hellbound                         1\n",
              "Return                            1\n",
              "Neighborhood Lawyer Jo Deul-ho    1\n",
              "Delayed Justice                   1\n",
              "Shik-gaek                         1\n",
              "Family Outing                     1\n",
              "Name: Title, dtype: int64"
            ]
          },
          "metadata": {},
          "execution_count": 97
        }
      ]
    },
    {
      "cell_type": "code",
      "source": [
        "# Cari baris dengan judul berlebih\n",
        "row_to_drop = ['Teenage Mutant Ninja Turtles', 'Running Man', 'Punch', 'Smile Again', 'Iljimae', 'Happy Together']\n",
        "data1.loc[data1[\"Title\"].isin(row_to_drop)]"
      ],
      "metadata": {
        "colab": {
          "base_uri": "https://localhost:8080/",
          "height": 661
        },
        "id": "wX4vTRiYmRtB",
        "outputId": "e12d7ef7-76f5-49e8-ed44-aae2ad93d2a7"
      },
      "execution_count": null,
      "outputs": [
        {
          "output_type": "execute_result",
          "data": {
            "text/plain": [
              "                             Title             Year  Final Rating Total Votes  \\\n",
              "48    Teenage Mutant Ninja Turtles      (1987–1996)           7.9      32,617   \n",
              "60    Teenage Mutant Ninja Turtles      (2003–2010)           7.8       9,571   \n",
              "96                     Running Man         (2010– )           9.0       2,938   \n",
              "364                        Iljimae           (2008)           8.1         902   \n",
              "560                 Happy Together         (1999– )           7.4          35   \n",
              "578                          Punch      (2014–2015)           7.8          84   \n",
              "591                    Smile Again      (2010–2011)           8.5          41   \n",
              "747                    Running Man  (I) (2017–2019)           8.0          29   \n",
              "849                 Happy Together      (2001–2020)           7.4          30   \n",
              "948                          Punch         (2003– )           7.7          10   \n",
              "1284                   Smile Again         (2006– )           6.9          24   \n",
              "1403                       Iljimae         (1993– )           7.9          19   \n",
              "\n",
              "                              Genre  \\\n",
              "48     Animation, Action, Adventure   \n",
              "60     Animation, Action, Adventure   \n",
              "96    Comedy, Game-Show, Reality-TV   \n",
              "364        Action, History, Romance   \n",
              "560          Comedy, Drama, Romance   \n",
              "578        Drama, Romance, Thriller   \n",
              "591                          Family   \n",
              "747               Animation, Comedy   \n",
              "849               Comedy, Talk-Show   \n",
              "948                           Drama   \n",
              "1284          Drama, Romance, Sport   \n",
              "1403       Adventure, Action, Drama   \n",
              "\n",
              "                                               Synopsis  \n",
              "48    \\nThe adventures of a quartet of humanoid warr...  \n",
              "60    \\nThe continuing adventures of a quartet of tu...  \n",
              "96    \\nRunning Man is a reality-variety show where ...  \n",
              "364   \\nDuring the Joseon Dynasty, Ryung acted as a ...  \n",
              "560   \\nHappy Together is a hugely successful melodr...  \n",
              "578   \\nWhen Park Jung Hwan (Kim Rae Won), the chief...  \n",
              "591   \\nRaised in America by his mentally handicappe...  \n",
              "747   \\nThe fruit of the Soul Tree was the source of...  \n",
              "849   \\nHappy Together is a South Korean talk show w...  \n",
              "948   \\nYu Bin's brother dies in a boxing match. Yu ...  \n",
              "1284                                     \\nAdd a Plot\\n  \n",
              "1403                                     \\nAdd a Plot\\n  "
            ],
            "text/html": [
              "\n",
              "  <div id=\"df-1edd8352-13b5-4f5b-a148-1ce1e6daa3c9\">\n",
              "    <div class=\"colab-df-container\">\n",
              "      <div>\n",
              "<style scoped>\n",
              "    .dataframe tbody tr th:only-of-type {\n",
              "        vertical-align: middle;\n",
              "    }\n",
              "\n",
              "    .dataframe tbody tr th {\n",
              "        vertical-align: top;\n",
              "    }\n",
              "\n",
              "    .dataframe thead th {\n",
              "        text-align: right;\n",
              "    }\n",
              "</style>\n",
              "<table border=\"1\" class=\"dataframe\">\n",
              "  <thead>\n",
              "    <tr style=\"text-align: right;\">\n",
              "      <th></th>\n",
              "      <th>Title</th>\n",
              "      <th>Year</th>\n",
              "      <th>Final Rating</th>\n",
              "      <th>Total Votes</th>\n",
              "      <th>Genre</th>\n",
              "      <th>Synopsis</th>\n",
              "    </tr>\n",
              "  </thead>\n",
              "  <tbody>\n",
              "    <tr>\n",
              "      <th>48</th>\n",
              "      <td>Teenage Mutant Ninja Turtles</td>\n",
              "      <td>(1987–1996)</td>\n",
              "      <td>7.9</td>\n",
              "      <td>32,617</td>\n",
              "      <td>Animation, Action, Adventure</td>\n",
              "      <td>\\nThe adventures of a quartet of humanoid warr...</td>\n",
              "    </tr>\n",
              "    <tr>\n",
              "      <th>60</th>\n",
              "      <td>Teenage Mutant Ninja Turtles</td>\n",
              "      <td>(2003–2010)</td>\n",
              "      <td>7.8</td>\n",
              "      <td>9,571</td>\n",
              "      <td>Animation, Action, Adventure</td>\n",
              "      <td>\\nThe continuing adventures of a quartet of tu...</td>\n",
              "    </tr>\n",
              "    <tr>\n",
              "      <th>96</th>\n",
              "      <td>Running Man</td>\n",
              "      <td>(2010– )</td>\n",
              "      <td>9.0</td>\n",
              "      <td>2,938</td>\n",
              "      <td>Comedy, Game-Show, Reality-TV</td>\n",
              "      <td>\\nRunning Man is a reality-variety show where ...</td>\n",
              "    </tr>\n",
              "    <tr>\n",
              "      <th>364</th>\n",
              "      <td>Iljimae</td>\n",
              "      <td>(2008)</td>\n",
              "      <td>8.1</td>\n",
              "      <td>902</td>\n",
              "      <td>Action, History, Romance</td>\n",
              "      <td>\\nDuring the Joseon Dynasty, Ryung acted as a ...</td>\n",
              "    </tr>\n",
              "    <tr>\n",
              "      <th>560</th>\n",
              "      <td>Happy Together</td>\n",
              "      <td>(1999– )</td>\n",
              "      <td>7.4</td>\n",
              "      <td>35</td>\n",
              "      <td>Comedy, Drama, Romance</td>\n",
              "      <td>\\nHappy Together is a hugely successful melodr...</td>\n",
              "    </tr>\n",
              "    <tr>\n",
              "      <th>578</th>\n",
              "      <td>Punch</td>\n",
              "      <td>(2014–2015)</td>\n",
              "      <td>7.8</td>\n",
              "      <td>84</td>\n",
              "      <td>Drama, Romance, Thriller</td>\n",
              "      <td>\\nWhen Park Jung Hwan (Kim Rae Won), the chief...</td>\n",
              "    </tr>\n",
              "    <tr>\n",
              "      <th>591</th>\n",
              "      <td>Smile Again</td>\n",
              "      <td>(2010–2011)</td>\n",
              "      <td>8.5</td>\n",
              "      <td>41</td>\n",
              "      <td>Family</td>\n",
              "      <td>\\nRaised in America by his mentally handicappe...</td>\n",
              "    </tr>\n",
              "    <tr>\n",
              "      <th>747</th>\n",
              "      <td>Running Man</td>\n",
              "      <td>(I) (2017–2019)</td>\n",
              "      <td>8.0</td>\n",
              "      <td>29</td>\n",
              "      <td>Animation, Comedy</td>\n",
              "      <td>\\nThe fruit of the Soul Tree was the source of...</td>\n",
              "    </tr>\n",
              "    <tr>\n",
              "      <th>849</th>\n",
              "      <td>Happy Together</td>\n",
              "      <td>(2001–2020)</td>\n",
              "      <td>7.4</td>\n",
              "      <td>30</td>\n",
              "      <td>Comedy, Talk-Show</td>\n",
              "      <td>\\nHappy Together is a South Korean talk show w...</td>\n",
              "    </tr>\n",
              "    <tr>\n",
              "      <th>948</th>\n",
              "      <td>Punch</td>\n",
              "      <td>(2003– )</td>\n",
              "      <td>7.7</td>\n",
              "      <td>10</td>\n",
              "      <td>Drama</td>\n",
              "      <td>\\nYu Bin's brother dies in a boxing match. Yu ...</td>\n",
              "    </tr>\n",
              "    <tr>\n",
              "      <th>1284</th>\n",
              "      <td>Smile Again</td>\n",
              "      <td>(2006– )</td>\n",
              "      <td>6.9</td>\n",
              "      <td>24</td>\n",
              "      <td>Drama, Romance, Sport</td>\n",
              "      <td>\\nAdd a Plot\\n</td>\n",
              "    </tr>\n",
              "    <tr>\n",
              "      <th>1403</th>\n",
              "      <td>Iljimae</td>\n",
              "      <td>(1993– )</td>\n",
              "      <td>7.9</td>\n",
              "      <td>19</td>\n",
              "      <td>Adventure, Action, Drama</td>\n",
              "      <td>\\nAdd a Plot\\n</td>\n",
              "    </tr>\n",
              "  </tbody>\n",
              "</table>\n",
              "</div>\n",
              "      <button class=\"colab-df-convert\" onclick=\"convertToInteractive('df-1edd8352-13b5-4f5b-a148-1ce1e6daa3c9')\"\n",
              "              title=\"Convert this dataframe to an interactive table.\"\n",
              "              style=\"display:none;\">\n",
              "        \n",
              "  <svg xmlns=\"http://www.w3.org/2000/svg\" height=\"24px\"viewBox=\"0 0 24 24\"\n",
              "       width=\"24px\">\n",
              "    <path d=\"M0 0h24v24H0V0z\" fill=\"none\"/>\n",
              "    <path d=\"M18.56 5.44l.94 2.06.94-2.06 2.06-.94-2.06-.94-.94-2.06-.94 2.06-2.06.94zm-11 1L8.5 8.5l.94-2.06 2.06-.94-2.06-.94L8.5 2.5l-.94 2.06-2.06.94zm10 10l.94 2.06.94-2.06 2.06-.94-2.06-.94-.94-2.06-.94 2.06-2.06.94z\"/><path d=\"M17.41 7.96l-1.37-1.37c-.4-.4-.92-.59-1.43-.59-.52 0-1.04.2-1.43.59L10.3 9.45l-7.72 7.72c-.78.78-.78 2.05 0 2.83L4 21.41c.39.39.9.59 1.41.59.51 0 1.02-.2 1.41-.59l7.78-7.78 2.81-2.81c.8-.78.8-2.07 0-2.86zM5.41 20L4 18.59l7.72-7.72 1.47 1.35L5.41 20z\"/>\n",
              "  </svg>\n",
              "      </button>\n",
              "      \n",
              "  <style>\n",
              "    .colab-df-container {\n",
              "      display:flex;\n",
              "      flex-wrap:wrap;\n",
              "      gap: 12px;\n",
              "    }\n",
              "\n",
              "    .colab-df-convert {\n",
              "      background-color: #E8F0FE;\n",
              "      border: none;\n",
              "      border-radius: 50%;\n",
              "      cursor: pointer;\n",
              "      display: none;\n",
              "      fill: #1967D2;\n",
              "      height: 32px;\n",
              "      padding: 0 0 0 0;\n",
              "      width: 32px;\n",
              "    }\n",
              "\n",
              "    .colab-df-convert:hover {\n",
              "      background-color: #E2EBFA;\n",
              "      box-shadow: 0px 1px 2px rgba(60, 64, 67, 0.3), 0px 1px 3px 1px rgba(60, 64, 67, 0.15);\n",
              "      fill: #174EA6;\n",
              "    }\n",
              "\n",
              "    [theme=dark] .colab-df-convert {\n",
              "      background-color: #3B4455;\n",
              "      fill: #D2E3FC;\n",
              "    }\n",
              "\n",
              "    [theme=dark] .colab-df-convert:hover {\n",
              "      background-color: #434B5C;\n",
              "      box-shadow: 0px 1px 3px 1px rgba(0, 0, 0, 0.15);\n",
              "      filter: drop-shadow(0px 1px 2px rgba(0, 0, 0, 0.3));\n",
              "      fill: #FFFFFF;\n",
              "    }\n",
              "  </style>\n",
              "\n",
              "      <script>\n",
              "        const buttonEl =\n",
              "          document.querySelector('#df-1edd8352-13b5-4f5b-a148-1ce1e6daa3c9 button.colab-df-convert');\n",
              "        buttonEl.style.display =\n",
              "          google.colab.kernel.accessAllowed ? 'block' : 'none';\n",
              "\n",
              "        async function convertToInteractive(key) {\n",
              "          const element = document.querySelector('#df-1edd8352-13b5-4f5b-a148-1ce1e6daa3c9');\n",
              "          const dataTable =\n",
              "            await google.colab.kernel.invokeFunction('convertToInteractive',\n",
              "                                                     [key], {});\n",
              "          if (!dataTable) return;\n",
              "\n",
              "          const docLinkHtml = 'Like what you see? Visit the ' +\n",
              "            '<a target=\"_blank\" href=https://colab.research.google.com/notebooks/data_table.ipynb>data table notebook</a>'\n",
              "            + ' to learn more about interactive tables.';\n",
              "          element.innerHTML = '';\n",
              "          dataTable['output_type'] = 'display_data';\n",
              "          await google.colab.output.renderOutput(dataTable, element);\n",
              "          const docLink = document.createElement('div');\n",
              "          docLink.innerHTML = docLinkHtml;\n",
              "          element.appendChild(docLink);\n",
              "        }\n",
              "      </script>\n",
              "    </div>\n",
              "  </div>\n",
              "  "
            ]
          },
          "metadata": {},
          "execution_count": 98
        }
      ]
    },
    {
      "cell_type": "code",
      "source": [
        "data1.drop(index=[60, 747, 1403, 849, 948, 1284], inplace=True)\n",
        "data1['Title'].value_counts().head(12)"
      ],
      "metadata": {
        "colab": {
          "base_uri": "https://localhost:8080/"
        },
        "id": "s23mQ8OXntVI",
        "outputId": "9ba4443c-c226-41aa-b570-07f81caece17"
      },
      "execution_count": null,
      "outputs": [
        {
          "output_type": "execute_result",
          "data": {
            "text/plain": [
              "Hellbound                         1\n",
              "Maids                             1\n",
              "Beautiful My Lady                 1\n",
              "Neighborhood Lawyer Jo Deul-ho    1\n",
              "Delayed Justice                   1\n",
              "Shik-gaek                         1\n",
              "Family Outing                     1\n",
              "Bachelor's Vegetable Store        1\n",
              "How to Buy a Friend               1\n",
              "Return                            1\n",
              "Kamen Rider Drive                 1\n",
              "My Beautiful Bride                1\n",
              "Name: Title, dtype: int64"
            ]
          },
          "metadata": {},
          "execution_count": 99
        }
      ]
    },
    {
      "cell_type": "code",
      "source": [
        "data1.reset_index(inplace = True, drop = True)"
      ],
      "metadata": {
        "id": "2yFoNAmatlYL"
      },
      "execution_count": null,
      "outputs": []
    },
    {
      "cell_type": "markdown",
      "source": [
        "**Membuang Genre Non-Drama**\n",
        "\n",
        "Ketika dilakukan pengecekan terhadap genre, data ternyata memuat beberapa acara non-drama. Acara tersebut seperti *talk-show*, *game-show*, *reality-TV*, *documentary*, dan *biography*. Pada tahap ini, acara dengan genre tersebut akan dibuang dari data. "
      ],
      "metadata": {
        "id": "0WD8kuJ1qTTo"
      }
    },
    {
      "cell_type": "code",
      "source": [
        "# Cek jenis genre\n",
        "data1.Genre.unique()"
      ],
      "metadata": {
        "colab": {
          "base_uri": "https://localhost:8080/"
        },
        "id": "99MY5Z_BkyeO",
        "outputId": "6a8746da-6ae3-4c1a-8f71-fe0626540060"
      },
      "execution_count": null,
      "outputs": [
        {
          "output_type": "execute_result",
          "data": {
            "text/plain": [
              "array(['Crime, Drama, Fantasy', 'Action, Drama, Mystery',\n",
              "       'Action, Crime, Drama', 'Animation, Action, Adventure',\n",
              "       'Action, Fantasy, Thriller', 'Drama, Mystery, Sci-Fi',\n",
              "       'Comedy, Romance', 'Action, Drama, History',\n",
              "       'Drama, Fantasy, Horror', 'Adventure, Comedy, Romance',\n",
              "       'Crime, Mystery', 'Drama, Romance', 'Animation, Short, Action',\n",
              "       'Comedy, Crime, Drama', 'Comedy, Drama, Romance',\n",
              "       'Comedy, Drama, Fantasy', 'Action, Crime, Mystery',\n",
              "       'Drama, History, Romance', 'Animation, Action, Comedy',\n",
              "       'Crime, Mystery, Romance', 'Crime, Drama, Mystery',\n",
              "       'Action, Mystery, Thriller', 'Action, Comedy, Drama', 'Drama',\n",
              "       'Crime, Drama', 'Comedy, Mystery, Romance', 'Drama, Thriller',\n",
              "       'Drama, Mystery, Thriller', 'Fantasy, Mystery, Romance',\n",
              "       'Fantasy, Horror, Romance', 'Crime, Horror, Mystery',\n",
              "       'Drama, Fantasy, History', 'Action, Drama, Fantasy',\n",
              "       'Comedy, Drama, Family', 'Action, Fantasy, Horror',\n",
              "       'Drama, Romance, Thriller', 'Animation, Adventure, Comedy',\n",
              "       'Comedy, Fantasy, Romance', 'Drama, Family', 'Comedy, Drama',\n",
              "       'Mystery, Thriller', 'Romance', 'Drama, Fantasy, Romance',\n",
              "       'Comedy, Drama, History', 'Action, Comedy, Crime',\n",
              "       'Action, Comedy, Thriller', 'Drama, Romance, Sci-Fi',\n",
              "       'Comedy, Fantasy, Horror', 'Action, Drama, Thriller',\n",
              "       'Comedy, Game-Show, Reality-TV', 'Action, Comedy, History',\n",
              "       'Animation, Adventure, Sci-Fi', 'Animation, Short, Adventure',\n",
              "       'Reality-TV', 'Drama, Mystery, Romance', 'Comedy, Crime, Romance',\n",
              "       'Drama, Mystery', 'Crime, Fantasy, Romance', 'Romance, Comedy',\n",
              "       'Comedy, Romance, Sci-Fi', 'Romance, Drama', 'Fantasy, Romance',\n",
              "       'Drama, Horror, Mystery', 'Action, Comedy, Romance',\n",
              "       'Action, Drama, Romance', 'Comedy, Music, Romance',\n",
              "       'Action, Crime, Sci-Fi', 'Action, Romance, Thriller',\n",
              "       'Animation, Comedy', 'Drama, History', 'Drama, Fantasy, Mystery',\n",
              "       'Short, Comedy, Drama', 'Comedy, Fantasy, Mystery',\n",
              "       'Comedy, Reality-TV', 'Comedy, Drama, Mystery',\n",
              "       'Comedy, Drama, Music', 'Crime, Drama, Thriller',\n",
              "       'Crime, Fantasy, Thriller', 'Biography, Drama, History',\n",
              "       'Action, Mystery, Romance', 'Fantasy, Mystery, Thriller',\n",
              "       'Animation, Adventure, Family', 'Crime, Fantasy, Mystery',\n",
              "       'Drama, Music, Romance', 'Horror, Mystery, Thriller',\n",
              "       'Action, Fantasy, Sci-Fi', 'Drama, Sport', 'Crime, Drama, Romance',\n",
              "       'History, Romance', 'Short, Horror, Mystery',\n",
              "       'Fantasy, Mystery, Sci-Fi', 'Action, Crime, Thriller',\n",
              "       'Comedy, Fantasy', 'Game-Show, Reality-TV',\n",
              "       'Action, Fantasy, Mystery', 'Drama, Music',\n",
              "       'Animation, Short, Comedy', 'Action, Comedy, Fantasy', 'Action',\n",
              "       'Fantasy', 'Action, Fantasy, History', 'Comedy, Crime, Mystery',\n",
              "       'Fantasy, Mystery', 'Comedy', 'Action, History, Romance',\n",
              "       'Action, Comedy, Mystery', 'Animation', 'Drama, Horror',\n",
              "       'Crime, Sci-Fi, Thriller', 'Action, Adventure, Comedy',\n",
              "       'Drama, Fantasy, Music', 'Music, Romance', 'Animation, Family',\n",
              "       'Comedy, Game-Show, Mystery', 'Mystery, Sci-Fi',\n",
              "       'Comedy, History, Romance', 'Mystery', 'Action, Adventure, Drama',\n",
              "       'Documentary', 'Animation, Action', 'Animation, Comedy, Family',\n",
              "       'Game-Show, Talk-Show', 'Adventure, Comedy, Family',\n",
              "       'Adventure, Mystery', 'Game-Show', 'Music, Reality-TV',\n",
              "       'Drama, Fantasy, Thriller', 'Animation, Comedy, Musical',\n",
              "       'Comedy, Drama, Horror', 'Drama, Family, Romance',\n",
              "       'Drama, Fantasy', 'Talk-Show', 'Mystery, Romance', 'Family',\n",
              "       'Animation, Family, Sci-Fi', 'Thriller',\n",
              "       'Drama, Music, Reality-TV', 'Crime, Fantasy',\n",
              "       'Crime, Mystery, Thriller', 'Fantasy, Horror, Mystery',\n",
              "       'Action, Drama', 'Crime', 'Animation, Adventure, Fantasy',\n",
              "       'Comedy, Romance, Sport', 'Comedy, Mystery',\n",
              "       'Animation, Action, Sci-Fi', 'Action, Thriller', 'Horror',\n",
              "       'Family, Romance', 'Crime, Romance', 'Biography, History',\n",
              "       'Drama, History, Thriller', 'Animation, Short, Drama',\n",
              "       'Action, Biography, Drama', 'Game-Show, Sport',\n",
              "       'Animation, Short, Mystery', 'Animation, Action, Family',\n",
              "       'Adventure, Comedy, Drama', 'Action, Romance', 'Adventure',\n",
              "       'Music', 'Reality-TV, Music', 'Crime, Thriller',\n",
              "       'Adventure, Comedy, Reality-TV', 'Comedy, Music, Reality-TV',\n",
              "       'War', 'Musical', 'History', 'Animation, Sci-Fi',\n",
              "       'Drama, History, Mystery', 'Drama, History, War',\n",
              "       'Romance, Sci-Fi', 'Sport', 'Animation, Comedy, Fantasy',\n",
              "       'Reality-TV, Romance', 'Documentary, Comedy',\n",
              "       'Animation, Comedy, Sport', 'Drama, Romance, Sport',\n",
              "       'Animation, Comedy, Drama', 'Action, Comedy', 'Action, Fantasy',\n",
              "       'Comedy, Crime, Horror', 'Animation, Sport',\n",
              "       'Animation, Adventure', 'Documentary, History',\n",
              "       'Drama, Musical, Romance', 'Comedy, Family, Romance',\n",
              "       'Drama, Action'], dtype=object)"
            ]
          },
          "metadata": {},
          "execution_count": 101
        }
      ]
    },
    {
      "cell_type": "code",
      "source": [
        "# Cek jumlah genre\n",
        "len(data1.Genre.unique())"
      ],
      "metadata": {
        "colab": {
          "base_uri": "https://localhost:8080/"
        },
        "id": "UpvswC-blEfs",
        "outputId": "50912b5a-1eb6-4152-e13b-ceb387a8ebf0"
      },
      "execution_count": null,
      "outputs": [
        {
          "output_type": "execute_result",
          "data": {
            "text/plain": [
              "188"
            ]
          },
          "metadata": {},
          "execution_count": 102
        }
      ]
    },
    {
      "cell_type": "code",
      "source": [
        "# Cari baris dengan genre non-drama\n",
        "data1_new1 = data1.copy()\n",
        "non_drama = ['Documentary', 'Reality-TV', 'Game-Show', 'Talk-Show', 'Biography']\n",
        "\n",
        "for i in range(len(data1['Genre'].tolist())):\n",
        "  count = 0\n",
        "  for j in non_drama:\n",
        "    if (data1.loc[i, 'Genre'].find(j) >= 0):\n",
        "      count += 1\n",
        "  \n",
        "  if (count > 0):\n",
        "    data1_new1.drop(index=[i], inplace=True)"
      ],
      "metadata": {
        "id": "cHdLYGKIq0sr"
      },
      "execution_count": null,
      "outputs": []
    },
    {
      "cell_type": "code",
      "source": [
        "# Cek jumlah genre\n",
        "len(data1_new1.Genre.unique())"
      ],
      "metadata": {
        "colab": {
          "base_uri": "https://localhost:8080/"
        },
        "id": "1rcsyZ-HukBv",
        "outputId": "4c1afb70-08a9-45ec-c07a-763d798da858"
      },
      "execution_count": null,
      "outputs": [
        {
          "output_type": "execute_result",
          "data": {
            "text/plain": [
              "167"
            ]
          },
          "metadata": {},
          "execution_count": 104
        }
      ]
    },
    {
      "cell_type": "code",
      "source": [
        "# Cek jenis genre\n",
        "data1_new1.Genre.unique()"
      ],
      "metadata": {
        "colab": {
          "base_uri": "https://localhost:8080/"
        },
        "id": "ke0xOCOrut5O",
        "outputId": "939d6901-20cd-461f-b67e-7be3d26eebe9"
      },
      "execution_count": null,
      "outputs": [
        {
          "output_type": "execute_result",
          "data": {
            "text/plain": [
              "array(['Crime, Drama, Fantasy', 'Action, Drama, Mystery',\n",
              "       'Action, Crime, Drama', 'Animation, Action, Adventure',\n",
              "       'Action, Fantasy, Thriller', 'Drama, Mystery, Sci-Fi',\n",
              "       'Comedy, Romance', 'Action, Drama, History',\n",
              "       'Drama, Fantasy, Horror', 'Adventure, Comedy, Romance',\n",
              "       'Crime, Mystery', 'Drama, Romance', 'Animation, Short, Action',\n",
              "       'Comedy, Crime, Drama', 'Comedy, Drama, Romance',\n",
              "       'Comedy, Drama, Fantasy', 'Action, Crime, Mystery',\n",
              "       'Drama, History, Romance', 'Animation, Action, Comedy',\n",
              "       'Crime, Mystery, Romance', 'Crime, Drama, Mystery',\n",
              "       'Action, Mystery, Thriller', 'Action, Comedy, Drama', 'Drama',\n",
              "       'Crime, Drama', 'Comedy, Mystery, Romance', 'Drama, Thriller',\n",
              "       'Drama, Mystery, Thriller', 'Fantasy, Mystery, Romance',\n",
              "       'Fantasy, Horror, Romance', 'Crime, Horror, Mystery',\n",
              "       'Drama, Fantasy, History', 'Action, Drama, Fantasy',\n",
              "       'Comedy, Drama, Family', 'Action, Fantasy, Horror',\n",
              "       'Drama, Romance, Thriller', 'Animation, Adventure, Comedy',\n",
              "       'Comedy, Fantasy, Romance', 'Drama, Family', 'Comedy, Drama',\n",
              "       'Mystery, Thriller', 'Romance', 'Drama, Fantasy, Romance',\n",
              "       'Comedy, Drama, History', 'Action, Comedy, Crime',\n",
              "       'Action, Comedy, Thriller', 'Drama, Romance, Sci-Fi',\n",
              "       'Comedy, Fantasy, Horror', 'Action, Drama, Thriller',\n",
              "       'Action, Comedy, History', 'Animation, Adventure, Sci-Fi',\n",
              "       'Animation, Short, Adventure', 'Drama, Mystery, Romance',\n",
              "       'Comedy, Crime, Romance', 'Drama, Mystery',\n",
              "       'Crime, Fantasy, Romance', 'Romance, Comedy',\n",
              "       'Comedy, Romance, Sci-Fi', 'Romance, Drama', 'Fantasy, Romance',\n",
              "       'Drama, Horror, Mystery', 'Action, Comedy, Romance',\n",
              "       'Action, Drama, Romance', 'Comedy, Music, Romance',\n",
              "       'Action, Crime, Sci-Fi', 'Action, Romance, Thriller',\n",
              "       'Animation, Comedy', 'Drama, History', 'Drama, Fantasy, Mystery',\n",
              "       'Short, Comedy, Drama', 'Comedy, Fantasy, Mystery',\n",
              "       'Comedy, Drama, Mystery', 'Comedy, Drama, Music',\n",
              "       'Crime, Drama, Thriller', 'Crime, Fantasy, Thriller',\n",
              "       'Action, Mystery, Romance', 'Fantasy, Mystery, Thriller',\n",
              "       'Animation, Adventure, Family', 'Crime, Fantasy, Mystery',\n",
              "       'Drama, Music, Romance', 'Horror, Mystery, Thriller',\n",
              "       'Action, Fantasy, Sci-Fi', 'Drama, Sport', 'Crime, Drama, Romance',\n",
              "       'History, Romance', 'Short, Horror, Mystery',\n",
              "       'Fantasy, Mystery, Sci-Fi', 'Action, Crime, Thriller',\n",
              "       'Comedy, Fantasy', 'Action, Fantasy, Mystery', 'Drama, Music',\n",
              "       'Animation, Short, Comedy', 'Action, Comedy, Fantasy', 'Action',\n",
              "       'Fantasy', 'Action, Fantasy, History', 'Comedy, Crime, Mystery',\n",
              "       'Fantasy, Mystery', 'Comedy', 'Action, History, Romance',\n",
              "       'Action, Comedy, Mystery', 'Animation', 'Drama, Horror',\n",
              "       'Crime, Sci-Fi, Thriller', 'Action, Adventure, Comedy',\n",
              "       'Drama, Fantasy, Music', 'Music, Romance', 'Animation, Family',\n",
              "       'Mystery, Sci-Fi', 'Comedy, History, Romance', 'Mystery',\n",
              "       'Action, Adventure, Drama', 'Animation, Action',\n",
              "       'Animation, Comedy, Family', 'Adventure, Comedy, Family',\n",
              "       'Adventure, Mystery', 'Drama, Fantasy, Thriller',\n",
              "       'Animation, Comedy, Musical', 'Comedy, Drama, Horror',\n",
              "       'Drama, Family, Romance', 'Drama, Fantasy', 'Mystery, Romance',\n",
              "       'Family', 'Animation, Family, Sci-Fi', 'Thriller',\n",
              "       'Crime, Fantasy', 'Crime, Mystery, Thriller',\n",
              "       'Fantasy, Horror, Mystery', 'Action, Drama', 'Crime',\n",
              "       'Animation, Adventure, Fantasy', 'Comedy, Romance, Sport',\n",
              "       'Comedy, Mystery', 'Animation, Action, Sci-Fi', 'Action, Thriller',\n",
              "       'Horror', 'Family, Romance', 'Crime, Romance',\n",
              "       'Drama, History, Thriller', 'Animation, Short, Drama',\n",
              "       'Animation, Short, Mystery', 'Animation, Action, Family',\n",
              "       'Adventure, Comedy, Drama', 'Action, Romance', 'Adventure',\n",
              "       'Music', 'Crime, Thriller', 'War', 'Musical', 'History',\n",
              "       'Animation, Sci-Fi', 'Drama, History, Mystery',\n",
              "       'Drama, History, War', 'Romance, Sci-Fi', 'Sport',\n",
              "       'Animation, Comedy, Fantasy', 'Animation, Comedy, Sport',\n",
              "       'Drama, Romance, Sport', 'Animation, Comedy, Drama',\n",
              "       'Action, Comedy', 'Action, Fantasy', 'Comedy, Crime, Horror',\n",
              "       'Animation, Sport', 'Animation, Adventure',\n",
              "       'Drama, Musical, Romance', 'Comedy, Family, Romance',\n",
              "       'Drama, Action'], dtype=object)"
            ]
          },
          "metadata": {},
          "execution_count": 105
        }
      ]
    },
    {
      "cell_type": "code",
      "source": [
        "data1_new1.reset_index(inplace = True, drop = True)\n",
        "data1_new1.info()"
      ],
      "metadata": {
        "colab": {
          "base_uri": "https://localhost:8080/"
        },
        "id": "rX_pw_nivAWq",
        "outputId": "06b3fffa-4544-49b4-b278-95024f26484d"
      },
      "execution_count": null,
      "outputs": [
        {
          "output_type": "stream",
          "name": "stdout",
          "text": [
            "<class 'pandas.core.frame.DataFrame'>\n",
            "RangeIndex: 1296 entries, 0 to 1295\n",
            "Data columns (total 6 columns):\n",
            " #   Column        Non-Null Count  Dtype  \n",
            "---  ------        --------------  -----  \n",
            " 0   Title         1296 non-null   object \n",
            " 1   Year          1296 non-null   object \n",
            " 2   Final Rating  1296 non-null   float64\n",
            " 3   Total Votes   1296 non-null   object \n",
            " 4   Genre         1296 non-null   object \n",
            " 5   Synopsis      1296 non-null   object \n",
            "dtypes: float64(1), object(5)\n",
            "memory usage: 60.9+ KB\n"
          ]
        }
      ]
    },
    {
      "cell_type": "markdown",
      "source": [
        "### Berkas Kedua"
      ],
      "metadata": {
        "id": "kYLGCqN40UsH"
      }
    },
    {
      "cell_type": "markdown",
      "source": [
        "**Membuang Outliers**\n",
        "\n",
        "Seperti pada berkas pertama, berkas kedua juga memiliki *outliers* pada nilai rating. Agar tidak menganggu pelatihan model sistem rekomendasi, nilai *outliers* akan dibuang dengan metode IQR."
      ],
      "metadata": {
        "id": "7l6Z2l-C0adm"
      }
    },
    {
      "cell_type": "code",
      "source": [
        "Q1 = data2.quantile(0.25)\n",
        "Q3 = data2.quantile(0.75)\n",
        "IQR=Q3-Q1\n",
        "data2=data2[~((data2<(Q1-1.5*IQR))|(data2>(Q3+1.5*IQR))).any(axis=1)]\n",
        " \n",
        "# Cek ukuran dataset setelah kita drop outliers\n",
        "data2.shape"
      ],
      "metadata": {
        "id": "pNp21q-40cks",
        "colab": {
          "base_uri": "https://localhost:8080/"
        },
        "outputId": "47216082-c5b7-4806-ec8b-a559378198da"
      },
      "execution_count": null,
      "outputs": [
        {
          "output_type": "execute_result",
          "data": {
            "text/plain": [
              "(7532, 5)"
            ]
          },
          "metadata": {},
          "execution_count": 107
        }
      ]
    },
    {
      "cell_type": "code",
      "source": [
        "data2.reset_index(inplace = True, drop = True)"
      ],
      "metadata": {
        "id": "ohZFZJdQ0g7C"
      },
      "execution_count": null,
      "outputs": []
    },
    {
      "cell_type": "markdown",
      "source": [
        "**Membuat User ID**\n",
        "\n",
        "Pada data yang digunakan, belum ada User ID dari pemberi reviu. Oleh karena itu, di sini, akan di-*generate* data baru untuk memenuhi kekosongan tersebut."
      ],
      "metadata": {
        "id": "_2xSzOGi0khx"
      }
    },
    {
      "cell_type": "code",
      "source": [
        "len(data2['Rating'].tolist())"
      ],
      "metadata": {
        "colab": {
          "base_uri": "https://localhost:8080/"
        },
        "id": "EXAbRCqk2aTB",
        "outputId": "b0386d66-3e0d-43a0-ca67-d556a5e37fc7"
      },
      "execution_count": null,
      "outputs": [
        {
          "output_type": "execute_result",
          "data": {
            "text/plain": [
              "7532"
            ]
          },
          "metadata": {},
          "execution_count": 109
        }
      ]
    },
    {
      "cell_type": "code",
      "source": [
        "user_num = np.arange(1, 7533, 1)\n",
        "user_id = []\n",
        "\n",
        "for i in user_num.tolist():\n",
        "  id = 'USER' + str(i)\n",
        "  user_id.append(id)\n",
        "\n",
        "\n",
        "data2['User ID'] = user_id\n",
        "data2.head()"
      ],
      "metadata": {
        "colab": {
          "base_uri": "https://localhost:8080/",
          "height": 354
        },
        "id": "kJJEFGBM2o5r",
        "outputId": "f8b7184c-8615-499d-8eb7-5b47ef40af07"
      },
      "execution_count": null,
      "outputs": [
        {
          "output_type": "execute_result",
          "data": {
            "text/plain": [
              "       Title                                       Review Title  Rating  \\\n",
              "0  Hellbound                         Did I watch the same show?       8   \n",
              "1  Hellbound                                    what i think...       8   \n",
              "2  Hellbound  Overwhelming technical shortcomings with ingen...       9   \n",
              "3  Hellbound                          Slow start but oh my god!       8   \n",
              "4  Hellbound                                  A gripping series       9   \n",
              "\n",
              "                                              Review     Helpfulness User ID  \n",
              "0  I felt compelled to write a review based on th...    37 out of 41   USER1  \n",
              "1  This show is amazing, I think people are hell-...    19 out of 20   USER2  \n",
              "2  When I saw the CG monsters in the trailer, I t...    39 out of 44   USER3  \n",
              "3  Firstly, people who have posted there reviews ...    58 out of 72   USER4  \n",
              "4  I started just thinking of watching one episod...  105 out of 138   USER5  "
            ],
            "text/html": [
              "\n",
              "  <div id=\"df-246465e2-5714-417a-b8fc-6339a7d8342f\">\n",
              "    <div class=\"colab-df-container\">\n",
              "      <div>\n",
              "<style scoped>\n",
              "    .dataframe tbody tr th:only-of-type {\n",
              "        vertical-align: middle;\n",
              "    }\n",
              "\n",
              "    .dataframe tbody tr th {\n",
              "        vertical-align: top;\n",
              "    }\n",
              "\n",
              "    .dataframe thead th {\n",
              "        text-align: right;\n",
              "    }\n",
              "</style>\n",
              "<table border=\"1\" class=\"dataframe\">\n",
              "  <thead>\n",
              "    <tr style=\"text-align: right;\">\n",
              "      <th></th>\n",
              "      <th>Title</th>\n",
              "      <th>Review Title</th>\n",
              "      <th>Rating</th>\n",
              "      <th>Review</th>\n",
              "      <th>Helpfulness</th>\n",
              "      <th>User ID</th>\n",
              "    </tr>\n",
              "  </thead>\n",
              "  <tbody>\n",
              "    <tr>\n",
              "      <th>0</th>\n",
              "      <td>Hellbound</td>\n",
              "      <td>Did I watch the same show?</td>\n",
              "      <td>8</td>\n",
              "      <td>I felt compelled to write a review based on th...</td>\n",
              "      <td>37 out of 41</td>\n",
              "      <td>USER1</td>\n",
              "    </tr>\n",
              "    <tr>\n",
              "      <th>1</th>\n",
              "      <td>Hellbound</td>\n",
              "      <td>what i think...</td>\n",
              "      <td>8</td>\n",
              "      <td>This show is amazing, I think people are hell-...</td>\n",
              "      <td>19 out of 20</td>\n",
              "      <td>USER2</td>\n",
              "    </tr>\n",
              "    <tr>\n",
              "      <th>2</th>\n",
              "      <td>Hellbound</td>\n",
              "      <td>Overwhelming technical shortcomings with ingen...</td>\n",
              "      <td>9</td>\n",
              "      <td>When I saw the CG monsters in the trailer, I t...</td>\n",
              "      <td>39 out of 44</td>\n",
              "      <td>USER3</td>\n",
              "    </tr>\n",
              "    <tr>\n",
              "      <th>3</th>\n",
              "      <td>Hellbound</td>\n",
              "      <td>Slow start but oh my god!</td>\n",
              "      <td>8</td>\n",
              "      <td>Firstly, people who have posted there reviews ...</td>\n",
              "      <td>58 out of 72</td>\n",
              "      <td>USER4</td>\n",
              "    </tr>\n",
              "    <tr>\n",
              "      <th>4</th>\n",
              "      <td>Hellbound</td>\n",
              "      <td>A gripping series</td>\n",
              "      <td>9</td>\n",
              "      <td>I started just thinking of watching one episod...</td>\n",
              "      <td>105 out of 138</td>\n",
              "      <td>USER5</td>\n",
              "    </tr>\n",
              "  </tbody>\n",
              "</table>\n",
              "</div>\n",
              "      <button class=\"colab-df-convert\" onclick=\"convertToInteractive('df-246465e2-5714-417a-b8fc-6339a7d8342f')\"\n",
              "              title=\"Convert this dataframe to an interactive table.\"\n",
              "              style=\"display:none;\">\n",
              "        \n",
              "  <svg xmlns=\"http://www.w3.org/2000/svg\" height=\"24px\"viewBox=\"0 0 24 24\"\n",
              "       width=\"24px\">\n",
              "    <path d=\"M0 0h24v24H0V0z\" fill=\"none\"/>\n",
              "    <path d=\"M18.56 5.44l.94 2.06.94-2.06 2.06-.94-2.06-.94-.94-2.06-.94 2.06-2.06.94zm-11 1L8.5 8.5l.94-2.06 2.06-.94-2.06-.94L8.5 2.5l-.94 2.06-2.06.94zm10 10l.94 2.06.94-2.06 2.06-.94-2.06-.94-.94-2.06-.94 2.06-2.06.94z\"/><path d=\"M17.41 7.96l-1.37-1.37c-.4-.4-.92-.59-1.43-.59-.52 0-1.04.2-1.43.59L10.3 9.45l-7.72 7.72c-.78.78-.78 2.05 0 2.83L4 21.41c.39.39.9.59 1.41.59.51 0 1.02-.2 1.41-.59l7.78-7.78 2.81-2.81c.8-.78.8-2.07 0-2.86zM5.41 20L4 18.59l7.72-7.72 1.47 1.35L5.41 20z\"/>\n",
              "  </svg>\n",
              "      </button>\n",
              "      \n",
              "  <style>\n",
              "    .colab-df-container {\n",
              "      display:flex;\n",
              "      flex-wrap:wrap;\n",
              "      gap: 12px;\n",
              "    }\n",
              "\n",
              "    .colab-df-convert {\n",
              "      background-color: #E8F0FE;\n",
              "      border: none;\n",
              "      border-radius: 50%;\n",
              "      cursor: pointer;\n",
              "      display: none;\n",
              "      fill: #1967D2;\n",
              "      height: 32px;\n",
              "      padding: 0 0 0 0;\n",
              "      width: 32px;\n",
              "    }\n",
              "\n",
              "    .colab-df-convert:hover {\n",
              "      background-color: #E2EBFA;\n",
              "      box-shadow: 0px 1px 2px rgba(60, 64, 67, 0.3), 0px 1px 3px 1px rgba(60, 64, 67, 0.15);\n",
              "      fill: #174EA6;\n",
              "    }\n",
              "\n",
              "    [theme=dark] .colab-df-convert {\n",
              "      background-color: #3B4455;\n",
              "      fill: #D2E3FC;\n",
              "    }\n",
              "\n",
              "    [theme=dark] .colab-df-convert:hover {\n",
              "      background-color: #434B5C;\n",
              "      box-shadow: 0px 1px 3px 1px rgba(0, 0, 0, 0.15);\n",
              "      filter: drop-shadow(0px 1px 2px rgba(0, 0, 0, 0.3));\n",
              "      fill: #FFFFFF;\n",
              "    }\n",
              "  </style>\n",
              "\n",
              "      <script>\n",
              "        const buttonEl =\n",
              "          document.querySelector('#df-246465e2-5714-417a-b8fc-6339a7d8342f button.colab-df-convert');\n",
              "        buttonEl.style.display =\n",
              "          google.colab.kernel.accessAllowed ? 'block' : 'none';\n",
              "\n",
              "        async function convertToInteractive(key) {\n",
              "          const element = document.querySelector('#df-246465e2-5714-417a-b8fc-6339a7d8342f');\n",
              "          const dataTable =\n",
              "            await google.colab.kernel.invokeFunction('convertToInteractive',\n",
              "                                                     [key], {});\n",
              "          if (!dataTable) return;\n",
              "\n",
              "          const docLinkHtml = 'Like what you see? Visit the ' +\n",
              "            '<a target=\"_blank\" href=https://colab.research.google.com/notebooks/data_table.ipynb>data table notebook</a>'\n",
              "            + ' to learn more about interactive tables.';\n",
              "          element.innerHTML = '';\n",
              "          dataTable['output_type'] = 'display_data';\n",
              "          await google.colab.output.renderOutput(dataTable, element);\n",
              "          const docLink = document.createElement('div');\n",
              "          docLink.innerHTML = docLinkHtml;\n",
              "          element.appendChild(docLink);\n",
              "        }\n",
              "      </script>\n",
              "    </div>\n",
              "  </div>\n",
              "  "
            ]
          },
          "metadata": {},
          "execution_count": 110
        }
      ]
    },
    {
      "cell_type": "code",
      "source": [
        "data2.info()"
      ],
      "metadata": {
        "colab": {
          "base_uri": "https://localhost:8080/"
        },
        "id": "aAxEAvyM3tcW",
        "outputId": "0b29daea-54c9-4c3d-c6e2-80b7c69ea30c"
      },
      "execution_count": null,
      "outputs": [
        {
          "output_type": "stream",
          "name": "stdout",
          "text": [
            "<class 'pandas.core.frame.DataFrame'>\n",
            "RangeIndex: 7532 entries, 0 to 7531\n",
            "Data columns (total 6 columns):\n",
            " #   Column        Non-Null Count  Dtype \n",
            "---  ------        --------------  ----- \n",
            " 0   Title         7532 non-null   object\n",
            " 1   Review Title  7532 non-null   object\n",
            " 2   Rating        7532 non-null   int64 \n",
            " 3   Review        7532 non-null   object\n",
            " 4   Helpfulness   7532 non-null   object\n",
            " 5   User ID       7532 non-null   object\n",
            "dtypes: int64(1), object(5)\n",
            "memory usage: 353.2+ KB\n"
          ]
        }
      ]
    },
    {
      "cell_type": "markdown",
      "source": [
        "**Encoding User dan Judul**\n",
        "\n",
        "Sebelum dilakukan pelatihan model, data pengguna dan judul drama pada data akan dilakukan proses penyandian (*encoding*) agar memudahkan proses prediksi. Selain itu, akan dilakukan pemetaan pengguna dan judul ke sandi tersebut."
      ],
      "metadata": {
        "id": "Xwyoety-30PB"
      }
    },
    {
      "cell_type": "code",
      "source": [
        "# Mengubah userID menjadi list tanpa nilai yang sama\n",
        "user_ids = data2['User ID'].unique().tolist()\n",
        "print('list User ID: ', user_ids)\n",
        " \n",
        "# Melakukan encoding userID\n",
        "user_to_user_encoded = {x: i for i, x in enumerate(user_ids)}\n",
        "print('encoded userID : ', user_to_user_encoded)\n",
        " \n",
        "# Melakukan proses encoding angka ke ke userID\n",
        "user_encoded_to_user = {i: x for i, x in enumerate(user_ids)}\n",
        "print('encoded angka ke userID: ', user_encoded_to_user)"
      ],
      "metadata": {
        "colab": {
          "base_uri": "https://localhost:8080/"
        },
        "id": "pc0yuFcm330Q",
        "outputId": "960c1edb-f3f8-4737-c0a4-e4491796a518"
      },
      "execution_count": null,
      "outputs": [
        {
          "output_type": "stream",
          "name": "stdout",
          "text": [
            "list User ID:  ['USER1', 'USER2', 'USER3', 'USER4', 'USER5', 'USER6', 'USER7', 'USER8', 'USER9', 'USER10', 'USER11', 'USER12', 'USER13', 'USER14', 'USER15', 'USER16', 'USER17', 'USER18', 'USER19', 'USER20', 'USER21', 'USER22', 'USER23', 'USER24', 'USER25', 'USER26', 'USER27', 'USER28', 'USER29', 'USER30', 'USER31', 'USER32', 'USER33', 'USER34', 'USER35', 'USER36', 'USER37', 'USER38', 'USER39', 'USER40', 'USER41', 'USER42', 'USER43', 'USER44', 'USER45', 'USER46', 'USER47', 'USER48', 'USER49', 'USER50', 'USER51', 'USER52', 'USER53', 'USER54', 'USER55', 'USER56', 'USER57', 'USER58', 'USER59', 'USER60', 'USER61', 'USER62', 'USER63', 'USER64', 'USER65', 'USER66', 'USER67', 'USER68', 'USER69', 'USER70', 'USER71', 'USER72', 'USER73', 'USER74', 'USER75', 'USER76', 'USER77', 'USER78', 'USER79', 'USER80', 'USER81', 'USER82', 'USER83', 'USER84', 'USER85', 'USER86', 'USER87', 'USER88', 'USER89', 'USER90', 'USER91', 'USER92', 'USER93', 'USER94', 'USER95', 'USER96', 'USER97', 'USER98', 'USER99', 'USER100', 'USER101', 'USER102', 'USER103', 'USER104', 'USER105', 'USER106', 'USER107', 'USER108', 'USER109', 'USER110', 'USER111', 'USER112', 'USER113', 'USER114', 'USER115', 'USER116', 'USER117', 'USER118', 'USER119', 'USER120', 'USER121', 'USER122', 'USER123', 'USER124', 'USER125', 'USER126', 'USER127', 'USER128', 'USER129', 'USER130', 'USER131', 'USER132', 'USER133', 'USER134', 'USER135', 'USER136', 'USER137', 'USER138', 'USER139', 'USER140', 'USER141', 'USER142', 'USER143', 'USER144', 'USER145', 'USER146', 'USER147', 'USER148', 'USER149', 'USER150', 'USER151', 'USER152', 'USER153', 'USER154', 'USER155', 'USER156', 'USER157', 'USER158', 'USER159', 'USER160', 'USER161', 'USER162', 'USER163', 'USER164', 'USER165', 'USER166', 'USER167', 'USER168', 'USER169', 'USER170', 'USER171', 'USER172', 'USER173', 'USER174', 'USER175', 'USER176', 'USER177', 'USER178', 'USER179', 'USER180', 'USER181', 'USER182', 'USER183', 'USER184', 'USER185', 'USER186', 'USER187', 'USER188', 'USER189', 'USER190', 'USER191', 'USER192', 'USER193', 'USER194', 'USER195', 'USER196', 'USER197', 'USER198', 'USER199', 'USER200', 'USER201', 'USER202', 'USER203', 'USER204', 'USER205', 'USER206', 'USER207', 'USER208', 'USER209', 'USER210', 'USER211', 'USER212', 'USER213', 'USER214', 'USER215', 'USER216', 'USER217', 'USER218', 'USER219', 'USER220', 'USER221', 'USER222', 'USER223', 'USER224', 'USER225', 'USER226', 'USER227', 'USER228', 'USER229', 'USER230', 'USER231', 'USER232', 'USER233', 'USER234', 'USER235', 'USER236', 'USER237', 'USER238', 'USER239', 'USER240', 'USER241', 'USER242', 'USER243', 'USER244', 'USER245', 'USER246', 'USER247', 'USER248', 'USER249', 'USER250', 'USER251', 'USER252', 'USER253', 'USER254', 'USER255', 'USER256', 'USER257', 'USER258', 'USER259', 'USER260', 'USER261', 'USER262', 'USER263', 'USER264', 'USER265', 'USER266', 'USER267', 'USER268', 'USER269', 'USER270', 'USER271', 'USER272', 'USER273', 'USER274', 'USER275', 'USER276', 'USER277', 'USER278', 'USER279', 'USER280', 'USER281', 'USER282', 'USER283', 'USER284', 'USER285', 'USER286', 'USER287', 'USER288', 'USER289', 'USER290', 'USER291', 'USER292', 'USER293', 'USER294', 'USER295', 'USER296', 'USER297', 'USER298', 'USER299', 'USER300', 'USER301', 'USER302', 'USER303', 'USER304', 'USER305', 'USER306', 'USER307', 'USER308', 'USER309', 'USER310', 'USER311', 'USER312', 'USER313', 'USER314', 'USER315', 'USER316', 'USER317', 'USER318', 'USER319', 'USER320', 'USER321', 'USER322', 'USER323', 'USER324', 'USER325', 'USER326', 'USER327', 'USER328', 'USER329', 'USER330', 'USER331', 'USER332', 'USER333', 'USER334', 'USER335', 'USER336', 'USER337', 'USER338', 'USER339', 'USER340', 'USER341', 'USER342', 'USER343', 'USER344', 'USER345', 'USER346', 'USER347', 'USER348', 'USER349', 'USER350', 'USER351', 'USER352', 'USER353', 'USER354', 'USER355', 'USER356', 'USER357', 'USER358', 'USER359', 'USER360', 'USER361', 'USER362', 'USER363', 'USER364', 'USER365', 'USER366', 'USER367', 'USER368', 'USER369', 'USER370', 'USER371', 'USER372', 'USER373', 'USER374', 'USER375', 'USER376', 'USER377', 'USER378', 'USER379', 'USER380', 'USER381', 'USER382', 'USER383', 'USER384', 'USER385', 'USER386', 'USER387', 'USER388', 'USER389', 'USER390', 'USER391', 'USER392', 'USER393', 'USER394', 'USER395', 'USER396', 'USER397', 'USER398', 'USER399', 'USER400', 'USER401', 'USER402', 'USER403', 'USER404', 'USER405', 'USER406', 'USER407', 'USER408', 'USER409', 'USER410', 'USER411', 'USER412', 'USER413', 'USER414', 'USER415', 'USER416', 'USER417', 'USER418', 'USER419', 'USER420', 'USER421', 'USER422', 'USER423', 'USER424', 'USER425', 'USER426', 'USER427', 'USER428', 'USER429', 'USER430', 'USER431', 'USER432', 'USER433', 'USER434', 'USER435', 'USER436', 'USER437', 'USER438', 'USER439', 'USER440', 'USER441', 'USER442', 'USER443', 'USER444', 'USER445', 'USER446', 'USER447', 'USER448', 'USER449', 'USER450', 'USER451', 'USER452', 'USER453', 'USER454', 'USER455', 'USER456', 'USER457', 'USER458', 'USER459', 'USER460', 'USER461', 'USER462', 'USER463', 'USER464', 'USER465', 'USER466', 'USER467', 'USER468', 'USER469', 'USER470', 'USER471', 'USER472', 'USER473', 'USER474', 'USER475', 'USER476', 'USER477', 'USER478', 'USER479', 'USER480', 'USER481', 'USER482', 'USER483', 'USER484', 'USER485', 'USER486', 'USER487', 'USER488', 'USER489', 'USER490', 'USER491', 'USER492', 'USER493', 'USER494', 'USER495', 'USER496', 'USER497', 'USER498', 'USER499', 'USER500', 'USER501', 'USER502', 'USER503', 'USER504', 'USER505', 'USER506', 'USER507', 'USER508', 'USER509', 'USER510', 'USER511', 'USER512', 'USER513', 'USER514', 'USER515', 'USER516', 'USER517', 'USER518', 'USER519', 'USER520', 'USER521', 'USER522', 'USER523', 'USER524', 'USER525', 'USER526', 'USER527', 'USER528', 'USER529', 'USER530', 'USER531', 'USER532', 'USER533', 'USER534', 'USER535', 'USER536', 'USER537', 'USER538', 'USER539', 'USER540', 'USER541', 'USER542', 'USER543', 'USER544', 'USER545', 'USER546', 'USER547', 'USER548', 'USER549', 'USER550', 'USER551', 'USER552', 'USER553', 'USER554', 'USER555', 'USER556', 'USER557', 'USER558', 'USER559', 'USER560', 'USER561', 'USER562', 'USER563', 'USER564', 'USER565', 'USER566', 'USER567', 'USER568', 'USER569', 'USER570', 'USER571', 'USER572', 'USER573', 'USER574', 'USER575', 'USER576', 'USER577', 'USER578', 'USER579', 'USER580', 'USER581', 'USER582', 'USER583', 'USER584', 'USER585', 'USER586', 'USER587', 'USER588', 'USER589', 'USER590', 'USER591', 'USER592', 'USER593', 'USER594', 'USER595', 'USER596', 'USER597', 'USER598', 'USER599', 'USER600', 'USER601', 'USER602', 'USER603', 'USER604', 'USER605', 'USER606', 'USER607', 'USER608', 'USER609', 'USER610', 'USER611', 'USER612', 'USER613', 'USER614', 'USER615', 'USER616', 'USER617', 'USER618', 'USER619', 'USER620', 'USER621', 'USER622', 'USER623', 'USER624', 'USER625', 'USER626', 'USER627', 'USER628', 'USER629', 'USER630', 'USER631', 'USER632', 'USER633', 'USER634', 'USER635', 'USER636', 'USER637', 'USER638', 'USER639', 'USER640', 'USER641', 'USER642', 'USER643', 'USER644', 'USER645', 'USER646', 'USER647', 'USER648', 'USER649', 'USER650', 'USER651', 'USER652', 'USER653', 'USER654', 'USER655', 'USER656', 'USER657', 'USER658', 'USER659', 'USER660', 'USER661', 'USER662', 'USER663', 'USER664', 'USER665', 'USER666', 'USER667', 'USER668', 'USER669', 'USER670', 'USER671', 'USER672', 'USER673', 'USER674', 'USER675', 'USER676', 'USER677', 'USER678', 'USER679', 'USER680', 'USER681', 'USER682', 'USER683', 'USER684', 'USER685', 'USER686', 'USER687', 'USER688', 'USER689', 'USER690', 'USER691', 'USER692', 'USER693', 'USER694', 'USER695', 'USER696', 'USER697', 'USER698', 'USER699', 'USER700', 'USER701', 'USER702', 'USER703', 'USER704', 'USER705', 'USER706', 'USER707', 'USER708', 'USER709', 'USER710', 'USER711', 'USER712', 'USER713', 'USER714', 'USER715', 'USER716', 'USER717', 'USER718', 'USER719', 'USER720', 'USER721', 'USER722', 'USER723', 'USER724', 'USER725', 'USER726', 'USER727', 'USER728', 'USER729', 'USER730', 'USER731', 'USER732', 'USER733', 'USER734', 'USER735', 'USER736', 'USER737', 'USER738', 'USER739', 'USER740', 'USER741', 'USER742', 'USER743', 'USER744', 'USER745', 'USER746', 'USER747', 'USER748', 'USER749', 'USER750', 'USER751', 'USER752', 'USER753', 'USER754', 'USER755', 'USER756', 'USER757', 'USER758', 'USER759', 'USER760', 'USER761', 'USER762', 'USER763', 'USER764', 'USER765', 'USER766', 'USER767', 'USER768', 'USER769', 'USER770', 'USER771', 'USER772', 'USER773', 'USER774', 'USER775', 'USER776', 'USER777', 'USER778', 'USER779', 'USER780', 'USER781', 'USER782', 'USER783', 'USER784', 'USER785', 'USER786', 'USER787', 'USER788', 'USER789', 'USER790', 'USER791', 'USER792', 'USER793', 'USER794', 'USER795', 'USER796', 'USER797', 'USER798', 'USER799', 'USER800', 'USER801', 'USER802', 'USER803', 'USER804', 'USER805', 'USER806', 'USER807', 'USER808', 'USER809', 'USER810', 'USER811', 'USER812', 'USER813', 'USER814', 'USER815', 'USER816', 'USER817', 'USER818', 'USER819', 'USER820', 'USER821', 'USER822', 'USER823', 'USER824', 'USER825', 'USER826', 'USER827', 'USER828', 'USER829', 'USER830', 'USER831', 'USER832', 'USER833', 'USER834', 'USER835', 'USER836', 'USER837', 'USER838', 'USER839', 'USER840', 'USER841', 'USER842', 'USER843', 'USER844', 'USER845', 'USER846', 'USER847', 'USER848', 'USER849', 'USER850', 'USER851', 'USER852', 'USER853', 'USER854', 'USER855', 'USER856', 'USER857', 'USER858', 'USER859', 'USER860', 'USER861', 'USER862', 'USER863', 'USER864', 'USER865', 'USER866', 'USER867', 'USER868', 'USER869', 'USER870', 'USER871', 'USER872', 'USER873', 'USER874', 'USER875', 'USER876', 'USER877', 'USER878', 'USER879', 'USER880', 'USER881', 'USER882', 'USER883', 'USER884', 'USER885', 'USER886', 'USER887', 'USER888', 'USER889', 'USER890', 'USER891', 'USER892', 'USER893', 'USER894', 'USER895', 'USER896', 'USER897', 'USER898', 'USER899', 'USER900', 'USER901', 'USER902', 'USER903', 'USER904', 'USER905', 'USER906', 'USER907', 'USER908', 'USER909', 'USER910', 'USER911', 'USER912', 'USER913', 'USER914', 'USER915', 'USER916', 'USER917', 'USER918', 'USER919', 'USER920', 'USER921', 'USER922', 'USER923', 'USER924', 'USER925', 'USER926', 'USER927', 'USER928', 'USER929', 'USER930', 'USER931', 'USER932', 'USER933', 'USER934', 'USER935', 'USER936', 'USER937', 'USER938', 'USER939', 'USER940', 'USER941', 'USER942', 'USER943', 'USER944', 'USER945', 'USER946', 'USER947', 'USER948', 'USER949', 'USER950', 'USER951', 'USER952', 'USER953', 'USER954', 'USER955', 'USER956', 'USER957', 'USER958', 'USER959', 'USER960', 'USER961', 'USER962', 'USER963', 'USER964', 'USER965', 'USER966', 'USER967', 'USER968', 'USER969', 'USER970', 'USER971', 'USER972', 'USER973', 'USER974', 'USER975', 'USER976', 'USER977', 'USER978', 'USER979', 'USER980', 'USER981', 'USER982', 'USER983', 'USER984', 'USER985', 'USER986', 'USER987', 'USER988', 'USER989', 'USER990', 'USER991', 'USER992', 'USER993', 'USER994', 'USER995', 'USER996', 'USER997', 'USER998', 'USER999', 'USER1000', 'USER1001', 'USER1002', 'USER1003', 'USER1004', 'USER1005', 'USER1006', 'USER1007', 'USER1008', 'USER1009', 'USER1010', 'USER1011', 'USER1012', 'USER1013', 'USER1014', 'USER1015', 'USER1016', 'USER1017', 'USER1018', 'USER1019', 'USER1020', 'USER1021', 'USER1022', 'USER1023', 'USER1024', 'USER1025', 'USER1026', 'USER1027', 'USER1028', 'USER1029', 'USER1030', 'USER1031', 'USER1032', 'USER1033', 'USER1034', 'USER1035', 'USER1036', 'USER1037', 'USER1038', 'USER1039', 'USER1040', 'USER1041', 'USER1042', 'USER1043', 'USER1044', 'USER1045', 'USER1046', 'USER1047', 'USER1048', 'USER1049', 'USER1050', 'USER1051', 'USER1052', 'USER1053', 'USER1054', 'USER1055', 'USER1056', 'USER1057', 'USER1058', 'USER1059', 'USER1060', 'USER1061', 'USER1062', 'USER1063', 'USER1064', 'USER1065', 'USER1066', 'USER1067', 'USER1068', 'USER1069', 'USER1070', 'USER1071', 'USER1072', 'USER1073', 'USER1074', 'USER1075', 'USER1076', 'USER1077', 'USER1078', 'USER1079', 'USER1080', 'USER1081', 'USER1082', 'USER1083', 'USER1084', 'USER1085', 'USER1086', 'USER1087', 'USER1088', 'USER1089', 'USER1090', 'USER1091', 'USER1092', 'USER1093', 'USER1094', 'USER1095', 'USER1096', 'USER1097', 'USER1098', 'USER1099', 'USER1100', 'USER1101', 'USER1102', 'USER1103', 'USER1104', 'USER1105', 'USER1106', 'USER1107', 'USER1108', 'USER1109', 'USER1110', 'USER1111', 'USER1112', 'USER1113', 'USER1114', 'USER1115', 'USER1116', 'USER1117', 'USER1118', 'USER1119', 'USER1120', 'USER1121', 'USER1122', 'USER1123', 'USER1124', 'USER1125', 'USER1126', 'USER1127', 'USER1128', 'USER1129', 'USER1130', 'USER1131', 'USER1132', 'USER1133', 'USER1134', 'USER1135', 'USER1136', 'USER1137', 'USER1138', 'USER1139', 'USER1140', 'USER1141', 'USER1142', 'USER1143', 'USER1144', 'USER1145', 'USER1146', 'USER1147', 'USER1148', 'USER1149', 'USER1150', 'USER1151', 'USER1152', 'USER1153', 'USER1154', 'USER1155', 'USER1156', 'USER1157', 'USER1158', 'USER1159', 'USER1160', 'USER1161', 'USER1162', 'USER1163', 'USER1164', 'USER1165', 'USER1166', 'USER1167', 'USER1168', 'USER1169', 'USER1170', 'USER1171', 'USER1172', 'USER1173', 'USER1174', 'USER1175', 'USER1176', 'USER1177', 'USER1178', 'USER1179', 'USER1180', 'USER1181', 'USER1182', 'USER1183', 'USER1184', 'USER1185', 'USER1186', 'USER1187', 'USER1188', 'USER1189', 'USER1190', 'USER1191', 'USER1192', 'USER1193', 'USER1194', 'USER1195', 'USER1196', 'USER1197', 'USER1198', 'USER1199', 'USER1200', 'USER1201', 'USER1202', 'USER1203', 'USER1204', 'USER1205', 'USER1206', 'USER1207', 'USER1208', 'USER1209', 'USER1210', 'USER1211', 'USER1212', 'USER1213', 'USER1214', 'USER1215', 'USER1216', 'USER1217', 'USER1218', 'USER1219', 'USER1220', 'USER1221', 'USER1222', 'USER1223', 'USER1224', 'USER1225', 'USER1226', 'USER1227', 'USER1228', 'USER1229', 'USER1230', 'USER1231', 'USER1232', 'USER1233', 'USER1234', 'USER1235', 'USER1236', 'USER1237', 'USER1238', 'USER1239', 'USER1240', 'USER1241', 'USER1242', 'USER1243', 'USER1244', 'USER1245', 'USER1246', 'USER1247', 'USER1248', 'USER1249', 'USER1250', 'USER1251', 'USER1252', 'USER1253', 'USER1254', 'USER1255', 'USER1256', 'USER1257', 'USER1258', 'USER1259', 'USER1260', 'USER1261', 'USER1262', 'USER1263', 'USER1264', 'USER1265', 'USER1266', 'USER1267', 'USER1268', 'USER1269', 'USER1270', 'USER1271', 'USER1272', 'USER1273', 'USER1274', 'USER1275', 'USER1276', 'USER1277', 'USER1278', 'USER1279', 'USER1280', 'USER1281', 'USER1282', 'USER1283', 'USER1284', 'USER1285', 'USER1286', 'USER1287', 'USER1288', 'USER1289', 'USER1290', 'USER1291', 'USER1292', 'USER1293', 'USER1294', 'USER1295', 'USER1296', 'USER1297', 'USER1298', 'USER1299', 'USER1300', 'USER1301', 'USER1302', 'USER1303', 'USER1304', 'USER1305', 'USER1306', 'USER1307', 'USER1308', 'USER1309', 'USER1310', 'USER1311', 'USER1312', 'USER1313', 'USER1314', 'USER1315', 'USER1316', 'USER1317', 'USER1318', 'USER1319', 'USER1320', 'USER1321', 'USER1322', 'USER1323', 'USER1324', 'USER1325', 'USER1326', 'USER1327', 'USER1328', 'USER1329', 'USER1330', 'USER1331', 'USER1332', 'USER1333', 'USER1334', 'USER1335', 'USER1336', 'USER1337', 'USER1338', 'USER1339', 'USER1340', 'USER1341', 'USER1342', 'USER1343', 'USER1344', 'USER1345', 'USER1346', 'USER1347', 'USER1348', 'USER1349', 'USER1350', 'USER1351', 'USER1352', 'USER1353', 'USER1354', 'USER1355', 'USER1356', 'USER1357', 'USER1358', 'USER1359', 'USER1360', 'USER1361', 'USER1362', 'USER1363', 'USER1364', 'USER1365', 'USER1366', 'USER1367', 'USER1368', 'USER1369', 'USER1370', 'USER1371', 'USER1372', 'USER1373', 'USER1374', 'USER1375', 'USER1376', 'USER1377', 'USER1378', 'USER1379', 'USER1380', 'USER1381', 'USER1382', 'USER1383', 'USER1384', 'USER1385', 'USER1386', 'USER1387', 'USER1388', 'USER1389', 'USER1390', 'USER1391', 'USER1392', 'USER1393', 'USER1394', 'USER1395', 'USER1396', 'USER1397', 'USER1398', 'USER1399', 'USER1400', 'USER1401', 'USER1402', 'USER1403', 'USER1404', 'USER1405', 'USER1406', 'USER1407', 'USER1408', 'USER1409', 'USER1410', 'USER1411', 'USER1412', 'USER1413', 'USER1414', 'USER1415', 'USER1416', 'USER1417', 'USER1418', 'USER1419', 'USER1420', 'USER1421', 'USER1422', 'USER1423', 'USER1424', 'USER1425', 'USER1426', 'USER1427', 'USER1428', 'USER1429', 'USER1430', 'USER1431', 'USER1432', 'USER1433', 'USER1434', 'USER1435', 'USER1436', 'USER1437', 'USER1438', 'USER1439', 'USER1440', 'USER1441', 'USER1442', 'USER1443', 'USER1444', 'USER1445', 'USER1446', 'USER1447', 'USER1448', 'USER1449', 'USER1450', 'USER1451', 'USER1452', 'USER1453', 'USER1454', 'USER1455', 'USER1456', 'USER1457', 'USER1458', 'USER1459', 'USER1460', 'USER1461', 'USER1462', 'USER1463', 'USER1464', 'USER1465', 'USER1466', 'USER1467', 'USER1468', 'USER1469', 'USER1470', 'USER1471', 'USER1472', 'USER1473', 'USER1474', 'USER1475', 'USER1476', 'USER1477', 'USER1478', 'USER1479', 'USER1480', 'USER1481', 'USER1482', 'USER1483', 'USER1484', 'USER1485', 'USER1486', 'USER1487', 'USER1488', 'USER1489', 'USER1490', 'USER1491', 'USER1492', 'USER1493', 'USER1494', 'USER1495', 'USER1496', 'USER1497', 'USER1498', 'USER1499', 'USER1500', 'USER1501', 'USER1502', 'USER1503', 'USER1504', 'USER1505', 'USER1506', 'USER1507', 'USER1508', 'USER1509', 'USER1510', 'USER1511', 'USER1512', 'USER1513', 'USER1514', 'USER1515', 'USER1516', 'USER1517', 'USER1518', 'USER1519', 'USER1520', 'USER1521', 'USER1522', 'USER1523', 'USER1524', 'USER1525', 'USER1526', 'USER1527', 'USER1528', 'USER1529', 'USER1530', 'USER1531', 'USER1532', 'USER1533', 'USER1534', 'USER1535', 'USER1536', 'USER1537', 'USER1538', 'USER1539', 'USER1540', 'USER1541', 'USER1542', 'USER1543', 'USER1544', 'USER1545', 'USER1546', 'USER1547', 'USER1548', 'USER1549', 'USER1550', 'USER1551', 'USER1552', 'USER1553', 'USER1554', 'USER1555', 'USER1556', 'USER1557', 'USER1558', 'USER1559', 'USER1560', 'USER1561', 'USER1562', 'USER1563', 'USER1564', 'USER1565', 'USER1566', 'USER1567', 'USER1568', 'USER1569', 'USER1570', 'USER1571', 'USER1572', 'USER1573', 'USER1574', 'USER1575', 'USER1576', 'USER1577', 'USER1578', 'USER1579', 'USER1580', 'USER1581', 'USER1582', 'USER1583', 'USER1584', 'USER1585', 'USER1586', 'USER1587', 'USER1588', 'USER1589', 'USER1590', 'USER1591', 'USER1592', 'USER1593', 'USER1594', 'USER1595', 'USER1596', 'USER1597', 'USER1598', 'USER1599', 'USER1600', 'USER1601', 'USER1602', 'USER1603', 'USER1604', 'USER1605', 'USER1606', 'USER1607', 'USER1608', 'USER1609', 'USER1610', 'USER1611', 'USER1612', 'USER1613', 'USER1614', 'USER1615', 'USER1616', 'USER1617', 'USER1618', 'USER1619', 'USER1620', 'USER1621', 'USER1622', 'USER1623', 'USER1624', 'USER1625', 'USER1626', 'USER1627', 'USER1628', 'USER1629', 'USER1630', 'USER1631', 'USER1632', 'USER1633', 'USER1634', 'USER1635', 'USER1636', 'USER1637', 'USER1638', 'USER1639', 'USER1640', 'USER1641', 'USER1642', 'USER1643', 'USER1644', 'USER1645', 'USER1646', 'USER1647', 'USER1648', 'USER1649', 'USER1650', 'USER1651', 'USER1652', 'USER1653', 'USER1654', 'USER1655', 'USER1656', 'USER1657', 'USER1658', 'USER1659', 'USER1660', 'USER1661', 'USER1662', 'USER1663', 'USER1664', 'USER1665', 'USER1666', 'USER1667', 'USER1668', 'USER1669', 'USER1670', 'USER1671', 'USER1672', 'USER1673', 'USER1674', 'USER1675', 'USER1676', 'USER1677', 'USER1678', 'USER1679', 'USER1680', 'USER1681', 'USER1682', 'USER1683', 'USER1684', 'USER1685', 'USER1686', 'USER1687', 'USER1688', 'USER1689', 'USER1690', 'USER1691', 'USER1692', 'USER1693', 'USER1694', 'USER1695', 'USER1696', 'USER1697', 'USER1698', 'USER1699', 'USER1700', 'USER1701', 'USER1702', 'USER1703', 'USER1704', 'USER1705', 'USER1706', 'USER1707', 'USER1708', 'USER1709', 'USER1710', 'USER1711', 'USER1712', 'USER1713', 'USER1714', 'USER1715', 'USER1716', 'USER1717', 'USER1718', 'USER1719', 'USER1720', 'USER1721', 'USER1722', 'USER1723', 'USER1724', 'USER1725', 'USER1726', 'USER1727', 'USER1728', 'USER1729', 'USER1730', 'USER1731', 'USER1732', 'USER1733', 'USER1734', 'USER1735', 'USER1736', 'USER1737', 'USER1738', 'USER1739', 'USER1740', 'USER1741', 'USER1742', 'USER1743', 'USER1744', 'USER1745', 'USER1746', 'USER1747', 'USER1748', 'USER1749', 'USER1750', 'USER1751', 'USER1752', 'USER1753', 'USER1754', 'USER1755', 'USER1756', 'USER1757', 'USER1758', 'USER1759', 'USER1760', 'USER1761', 'USER1762', 'USER1763', 'USER1764', 'USER1765', 'USER1766', 'USER1767', 'USER1768', 'USER1769', 'USER1770', 'USER1771', 'USER1772', 'USER1773', 'USER1774', 'USER1775', 'USER1776', 'USER1777', 'USER1778', 'USER1779', 'USER1780', 'USER1781', 'USER1782', 'USER1783', 'USER1784', 'USER1785', 'USER1786', 'USER1787', 'USER1788', 'USER1789', 'USER1790', 'USER1791', 'USER1792', 'USER1793', 'USER1794', 'USER1795', 'USER1796', 'USER1797', 'USER1798', 'USER1799', 'USER1800', 'USER1801', 'USER1802', 'USER1803', 'USER1804', 'USER1805', 'USER1806', 'USER1807', 'USER1808', 'USER1809', 'USER1810', 'USER1811', 'USER1812', 'USER1813', 'USER1814', 'USER1815', 'USER1816', 'USER1817', 'USER1818', 'USER1819', 'USER1820', 'USER1821', 'USER1822', 'USER1823', 'USER1824', 'USER1825', 'USER1826', 'USER1827', 'USER1828', 'USER1829', 'USER1830', 'USER1831', 'USER1832', 'USER1833', 'USER1834', 'USER1835', 'USER1836', 'USER1837', 'USER1838', 'USER1839', 'USER1840', 'USER1841', 'USER1842', 'USER1843', 'USER1844', 'USER1845', 'USER1846', 'USER1847', 'USER1848', 'USER1849', 'USER1850', 'USER1851', 'USER1852', 'USER1853', 'USER1854', 'USER1855', 'USER1856', 'USER1857', 'USER1858', 'USER1859', 'USER1860', 'USER1861', 'USER1862', 'USER1863', 'USER1864', 'USER1865', 'USER1866', 'USER1867', 'USER1868', 'USER1869', 'USER1870', 'USER1871', 'USER1872', 'USER1873', 'USER1874', 'USER1875', 'USER1876', 'USER1877', 'USER1878', 'USER1879', 'USER1880', 'USER1881', 'USER1882', 'USER1883', 'USER1884', 'USER1885', 'USER1886', 'USER1887', 'USER1888', 'USER1889', 'USER1890', 'USER1891', 'USER1892', 'USER1893', 'USER1894', 'USER1895', 'USER1896', 'USER1897', 'USER1898', 'USER1899', 'USER1900', 'USER1901', 'USER1902', 'USER1903', 'USER1904', 'USER1905', 'USER1906', 'USER1907', 'USER1908', 'USER1909', 'USER1910', 'USER1911', 'USER1912', 'USER1913', 'USER1914', 'USER1915', 'USER1916', 'USER1917', 'USER1918', 'USER1919', 'USER1920', 'USER1921', 'USER1922', 'USER1923', 'USER1924', 'USER1925', 'USER1926', 'USER1927', 'USER1928', 'USER1929', 'USER1930', 'USER1931', 'USER1932', 'USER1933', 'USER1934', 'USER1935', 'USER1936', 'USER1937', 'USER1938', 'USER1939', 'USER1940', 'USER1941', 'USER1942', 'USER1943', 'USER1944', 'USER1945', 'USER1946', 'USER1947', 'USER1948', 'USER1949', 'USER1950', 'USER1951', 'USER1952', 'USER1953', 'USER1954', 'USER1955', 'USER1956', 'USER1957', 'USER1958', 'USER1959', 'USER1960', 'USER1961', 'USER1962', 'USER1963', 'USER1964', 'USER1965', 'USER1966', 'USER1967', 'USER1968', 'USER1969', 'USER1970', 'USER1971', 'USER1972', 'USER1973', 'USER1974', 'USER1975', 'USER1976', 'USER1977', 'USER1978', 'USER1979', 'USER1980', 'USER1981', 'USER1982', 'USER1983', 'USER1984', 'USER1985', 'USER1986', 'USER1987', 'USER1988', 'USER1989', 'USER1990', 'USER1991', 'USER1992', 'USER1993', 'USER1994', 'USER1995', 'USER1996', 'USER1997', 'USER1998', 'USER1999', 'USER2000', 'USER2001', 'USER2002', 'USER2003', 'USER2004', 'USER2005', 'USER2006', 'USER2007', 'USER2008', 'USER2009', 'USER2010', 'USER2011', 'USER2012', 'USER2013', 'USER2014', 'USER2015', 'USER2016', 'USER2017', 'USER2018', 'USER2019', 'USER2020', 'USER2021', 'USER2022', 'USER2023', 'USER2024', 'USER2025', 'USER2026', 'USER2027', 'USER2028', 'USER2029', 'USER2030', 'USER2031', 'USER2032', 'USER2033', 'USER2034', 'USER2035', 'USER2036', 'USER2037', 'USER2038', 'USER2039', 'USER2040', 'USER2041', 'USER2042', 'USER2043', 'USER2044', 'USER2045', 'USER2046', 'USER2047', 'USER2048', 'USER2049', 'USER2050', 'USER2051', 'USER2052', 'USER2053', 'USER2054', 'USER2055', 'USER2056', 'USER2057', 'USER2058', 'USER2059', 'USER2060', 'USER2061', 'USER2062', 'USER2063', 'USER2064', 'USER2065', 'USER2066', 'USER2067', 'USER2068', 'USER2069', 'USER2070', 'USER2071', 'USER2072', 'USER2073', 'USER2074', 'USER2075', 'USER2076', 'USER2077', 'USER2078', 'USER2079', 'USER2080', 'USER2081', 'USER2082', 'USER2083', 'USER2084', 'USER2085', 'USER2086', 'USER2087', 'USER2088', 'USER2089', 'USER2090', 'USER2091', 'USER2092', 'USER2093', 'USER2094', 'USER2095', 'USER2096', 'USER2097', 'USER2098', 'USER2099', 'USER2100', 'USER2101', 'USER2102', 'USER2103', 'USER2104', 'USER2105', 'USER2106', 'USER2107', 'USER2108', 'USER2109', 'USER2110', 'USER2111', 'USER2112', 'USER2113', 'USER2114', 'USER2115', 'USER2116', 'USER2117', 'USER2118', 'USER2119', 'USER2120', 'USER2121', 'USER2122', 'USER2123', 'USER2124', 'USER2125', 'USER2126', 'USER2127', 'USER2128', 'USER2129', 'USER2130', 'USER2131', 'USER2132', 'USER2133', 'USER2134', 'USER2135', 'USER2136', 'USER2137', 'USER2138', 'USER2139', 'USER2140', 'USER2141', 'USER2142', 'USER2143', 'USER2144', 'USER2145', 'USER2146', 'USER2147', 'USER2148', 'USER2149', 'USER2150', 'USER2151', 'USER2152', 'USER2153', 'USER2154', 'USER2155', 'USER2156', 'USER2157', 'USER2158', 'USER2159', 'USER2160', 'USER2161', 'USER2162', 'USER2163', 'USER2164', 'USER2165', 'USER2166', 'USER2167', 'USER2168', 'USER2169', 'USER2170', 'USER2171', 'USER2172', 'USER2173', 'USER2174', 'USER2175', 'USER2176', 'USER2177', 'USER2178', 'USER2179', 'USER2180', 'USER2181', 'USER2182', 'USER2183', 'USER2184', 'USER2185', 'USER2186', 'USER2187', 'USER2188', 'USER2189', 'USER2190', 'USER2191', 'USER2192', 'USER2193', 'USER2194', 'USER2195', 'USER2196', 'USER2197', 'USER2198', 'USER2199', 'USER2200', 'USER2201', 'USER2202', 'USER2203', 'USER2204', 'USER2205', 'USER2206', 'USER2207', 'USER2208', 'USER2209', 'USER2210', 'USER2211', 'USER2212', 'USER2213', 'USER2214', 'USER2215', 'USER2216', 'USER2217', 'USER2218', 'USER2219', 'USER2220', 'USER2221', 'USER2222', 'USER2223', 'USER2224', 'USER2225', 'USER2226', 'USER2227', 'USER2228', 'USER2229', 'USER2230', 'USER2231', 'USER2232', 'USER2233', 'USER2234', 'USER2235', 'USER2236', 'USER2237', 'USER2238', 'USER2239', 'USER2240', 'USER2241', 'USER2242', 'USER2243', 'USER2244', 'USER2245', 'USER2246', 'USER2247', 'USER2248', 'USER2249', 'USER2250', 'USER2251', 'USER2252', 'USER2253', 'USER2254', 'USER2255', 'USER2256', 'USER2257', 'USER2258', 'USER2259', 'USER2260', 'USER2261', 'USER2262', 'USER2263', 'USER2264', 'USER2265', 'USER2266', 'USER2267', 'USER2268', 'USER2269', 'USER2270', 'USER2271', 'USER2272', 'USER2273', 'USER2274', 'USER2275', 'USER2276', 'USER2277', 'USER2278', 'USER2279', 'USER2280', 'USER2281', 'USER2282', 'USER2283', 'USER2284', 'USER2285', 'USER2286', 'USER2287', 'USER2288', 'USER2289', 'USER2290', 'USER2291', 'USER2292', 'USER2293', 'USER2294', 'USER2295', 'USER2296', 'USER2297', 'USER2298', 'USER2299', 'USER2300', 'USER2301', 'USER2302', 'USER2303', 'USER2304', 'USER2305', 'USER2306', 'USER2307', 'USER2308', 'USER2309', 'USER2310', 'USER2311', 'USER2312', 'USER2313', 'USER2314', 'USER2315', 'USER2316', 'USER2317', 'USER2318', 'USER2319', 'USER2320', 'USER2321', 'USER2322', 'USER2323', 'USER2324', 'USER2325', 'USER2326', 'USER2327', 'USER2328', 'USER2329', 'USER2330', 'USER2331', 'USER2332', 'USER2333', 'USER2334', 'USER2335', 'USER2336', 'USER2337', 'USER2338', 'USER2339', 'USER2340', 'USER2341', 'USER2342', 'USER2343', 'USER2344', 'USER2345', 'USER2346', 'USER2347', 'USER2348', 'USER2349', 'USER2350', 'USER2351', 'USER2352', 'USER2353', 'USER2354', 'USER2355', 'USER2356', 'USER2357', 'USER2358', 'USER2359', 'USER2360', 'USER2361', 'USER2362', 'USER2363', 'USER2364', 'USER2365', 'USER2366', 'USER2367', 'USER2368', 'USER2369', 'USER2370', 'USER2371', 'USER2372', 'USER2373', 'USER2374', 'USER2375', 'USER2376', 'USER2377', 'USER2378', 'USER2379', 'USER2380', 'USER2381', 'USER2382', 'USER2383', 'USER2384', 'USER2385', 'USER2386', 'USER2387', 'USER2388', 'USER2389', 'USER2390', 'USER2391', 'USER2392', 'USER2393', 'USER2394', 'USER2395', 'USER2396', 'USER2397', 'USER2398', 'USER2399', 'USER2400', 'USER2401', 'USER2402', 'USER2403', 'USER2404', 'USER2405', 'USER2406', 'USER2407', 'USER2408', 'USER2409', 'USER2410', 'USER2411', 'USER2412', 'USER2413', 'USER2414', 'USER2415', 'USER2416', 'USER2417', 'USER2418', 'USER2419', 'USER2420', 'USER2421', 'USER2422', 'USER2423', 'USER2424', 'USER2425', 'USER2426', 'USER2427', 'USER2428', 'USER2429', 'USER2430', 'USER2431', 'USER2432', 'USER2433', 'USER2434', 'USER2435', 'USER2436', 'USER2437', 'USER2438', 'USER2439', 'USER2440', 'USER2441', 'USER2442', 'USER2443', 'USER2444', 'USER2445', 'USER2446', 'USER2447', 'USER2448', 'USER2449', 'USER2450', 'USER2451', 'USER2452', 'USER2453', 'USER2454', 'USER2455', 'USER2456', 'USER2457', 'USER2458', 'USER2459', 'USER2460', 'USER2461', 'USER2462', 'USER2463', 'USER2464', 'USER2465', 'USER2466', 'USER2467', 'USER2468', 'USER2469', 'USER2470', 'USER2471', 'USER2472', 'USER2473', 'USER2474', 'USER2475', 'USER2476', 'USER2477', 'USER2478', 'USER2479', 'USER2480', 'USER2481', 'USER2482', 'USER2483', 'USER2484', 'USER2485', 'USER2486', 'USER2487', 'USER2488', 'USER2489', 'USER2490', 'USER2491', 'USER2492', 'USER2493', 'USER2494', 'USER2495', 'USER2496', 'USER2497', 'USER2498', 'USER2499', 'USER2500', 'USER2501', 'USER2502', 'USER2503', 'USER2504', 'USER2505', 'USER2506', 'USER2507', 'USER2508', 'USER2509', 'USER2510', 'USER2511', 'USER2512', 'USER2513', 'USER2514', 'USER2515', 'USER2516', 'USER2517', 'USER2518', 'USER2519', 'USER2520', 'USER2521', 'USER2522', 'USER2523', 'USER2524', 'USER2525', 'USER2526', 'USER2527', 'USER2528', 'USER2529', 'USER2530', 'USER2531', 'USER2532', 'USER2533', 'USER2534', 'USER2535', 'USER2536', 'USER2537', 'USER2538', 'USER2539', 'USER2540', 'USER2541', 'USER2542', 'USER2543', 'USER2544', 'USER2545', 'USER2546', 'USER2547', 'USER2548', 'USER2549', 'USER2550', 'USER2551', 'USER2552', 'USER2553', 'USER2554', 'USER2555', 'USER2556', 'USER2557', 'USER2558', 'USER2559', 'USER2560', 'USER2561', 'USER2562', 'USER2563', 'USER2564', 'USER2565', 'USER2566', 'USER2567', 'USER2568', 'USER2569', 'USER2570', 'USER2571', 'USER2572', 'USER2573', 'USER2574', 'USER2575', 'USER2576', 'USER2577', 'USER2578', 'USER2579', 'USER2580', 'USER2581', 'USER2582', 'USER2583', 'USER2584', 'USER2585', 'USER2586', 'USER2587', 'USER2588', 'USER2589', 'USER2590', 'USER2591', 'USER2592', 'USER2593', 'USER2594', 'USER2595', 'USER2596', 'USER2597', 'USER2598', 'USER2599', 'USER2600', 'USER2601', 'USER2602', 'USER2603', 'USER2604', 'USER2605', 'USER2606', 'USER2607', 'USER2608', 'USER2609', 'USER2610', 'USER2611', 'USER2612', 'USER2613', 'USER2614', 'USER2615', 'USER2616', 'USER2617', 'USER2618', 'USER2619', 'USER2620', 'USER2621', 'USER2622', 'USER2623', 'USER2624', 'USER2625', 'USER2626', 'USER2627', 'USER2628', 'USER2629', 'USER2630', 'USER2631', 'USER2632', 'USER2633', 'USER2634', 'USER2635', 'USER2636', 'USER2637', 'USER2638', 'USER2639', 'USER2640', 'USER2641', 'USER2642', 'USER2643', 'USER2644', 'USER2645', 'USER2646', 'USER2647', 'USER2648', 'USER2649', 'USER2650', 'USER2651', 'USER2652', 'USER2653', 'USER2654', 'USER2655', 'USER2656', 'USER2657', 'USER2658', 'USER2659', 'USER2660', 'USER2661', 'USER2662', 'USER2663', 'USER2664', 'USER2665', 'USER2666', 'USER2667', 'USER2668', 'USER2669', 'USER2670', 'USER2671', 'USER2672', 'USER2673', 'USER2674', 'USER2675', 'USER2676', 'USER2677', 'USER2678', 'USER2679', 'USER2680', 'USER2681', 'USER2682', 'USER2683', 'USER2684', 'USER2685', 'USER2686', 'USER2687', 'USER2688', 'USER2689', 'USER2690', 'USER2691', 'USER2692', 'USER2693', 'USER2694', 'USER2695', 'USER2696', 'USER2697', 'USER2698', 'USER2699', 'USER2700', 'USER2701', 'USER2702', 'USER2703', 'USER2704', 'USER2705', 'USER2706', 'USER2707', 'USER2708', 'USER2709', 'USER2710', 'USER2711', 'USER2712', 'USER2713', 'USER2714', 'USER2715', 'USER2716', 'USER2717', 'USER2718', 'USER2719', 'USER2720', 'USER2721', 'USER2722', 'USER2723', 'USER2724', 'USER2725', 'USER2726', 'USER2727', 'USER2728', 'USER2729', 'USER2730', 'USER2731', 'USER2732', 'USER2733', 'USER2734', 'USER2735', 'USER2736', 'USER2737', 'USER2738', 'USER2739', 'USER2740', 'USER2741', 'USER2742', 'USER2743', 'USER2744', 'USER2745', 'USER2746', 'USER2747', 'USER2748', 'USER2749', 'USER2750', 'USER2751', 'USER2752', 'USER2753', 'USER2754', 'USER2755', 'USER2756', 'USER2757', 'USER2758', 'USER2759', 'USER2760', 'USER2761', 'USER2762', 'USER2763', 'USER2764', 'USER2765', 'USER2766', 'USER2767', 'USER2768', 'USER2769', 'USER2770', 'USER2771', 'USER2772', 'USER2773', 'USER2774', 'USER2775', 'USER2776', 'USER2777', 'USER2778', 'USER2779', 'USER2780', 'USER2781', 'USER2782', 'USER2783', 'USER2784', 'USER2785', 'USER2786', 'USER2787', 'USER2788', 'USER2789', 'USER2790', 'USER2791', 'USER2792', 'USER2793', 'USER2794', 'USER2795', 'USER2796', 'USER2797', 'USER2798', 'USER2799', 'USER2800', 'USER2801', 'USER2802', 'USER2803', 'USER2804', 'USER2805', 'USER2806', 'USER2807', 'USER2808', 'USER2809', 'USER2810', 'USER2811', 'USER2812', 'USER2813', 'USER2814', 'USER2815', 'USER2816', 'USER2817', 'USER2818', 'USER2819', 'USER2820', 'USER2821', 'USER2822', 'USER2823', 'USER2824', 'USER2825', 'USER2826', 'USER2827', 'USER2828', 'USER2829', 'USER2830', 'USER2831', 'USER2832', 'USER2833', 'USER2834', 'USER2835', 'USER2836', 'USER2837', 'USER2838', 'USER2839', 'USER2840', 'USER2841', 'USER2842', 'USER2843', 'USER2844', 'USER2845', 'USER2846', 'USER2847', 'USER2848', 'USER2849', 'USER2850', 'USER2851', 'USER2852', 'USER2853', 'USER2854', 'USER2855', 'USER2856', 'USER2857', 'USER2858', 'USER2859', 'USER2860', 'USER2861', 'USER2862', 'USER2863', 'USER2864', 'USER2865', 'USER2866', 'USER2867', 'USER2868', 'USER2869', 'USER2870', 'USER2871', 'USER2872', 'USER2873', 'USER2874', 'USER2875', 'USER2876', 'USER2877', 'USER2878', 'USER2879', 'USER2880', 'USER2881', 'USER2882', 'USER2883', 'USER2884', 'USER2885', 'USER2886', 'USER2887', 'USER2888', 'USER2889', 'USER2890', 'USER2891', 'USER2892', 'USER2893', 'USER2894', 'USER2895', 'USER2896', 'USER2897', 'USER2898', 'USER2899', 'USER2900', 'USER2901', 'USER2902', 'USER2903', 'USER2904', 'USER2905', 'USER2906', 'USER2907', 'USER2908', 'USER2909', 'USER2910', 'USER2911', 'USER2912', 'USER2913', 'USER2914', 'USER2915', 'USER2916', 'USER2917', 'USER2918', 'USER2919', 'USER2920', 'USER2921', 'USER2922', 'USER2923', 'USER2924', 'USER2925', 'USER2926', 'USER2927', 'USER2928', 'USER2929', 'USER2930', 'USER2931', 'USER2932', 'USER2933', 'USER2934', 'USER2935', 'USER2936', 'USER2937', 'USER2938', 'USER2939', 'USER2940', 'USER2941', 'USER2942', 'USER2943', 'USER2944', 'USER2945', 'USER2946', 'USER2947', 'USER2948', 'USER2949', 'USER2950', 'USER2951', 'USER2952', 'USER2953', 'USER2954', 'USER2955', 'USER2956', 'USER2957', 'USER2958', 'USER2959', 'USER2960', 'USER2961', 'USER2962', 'USER2963', 'USER2964', 'USER2965', 'USER2966', 'USER2967', 'USER2968', 'USER2969', 'USER2970', 'USER2971', 'USER2972', 'USER2973', 'USER2974', 'USER2975', 'USER2976', 'USER2977', 'USER2978', 'USER2979', 'USER2980', 'USER2981', 'USER2982', 'USER2983', 'USER2984', 'USER2985', 'USER2986', 'USER2987', 'USER2988', 'USER2989', 'USER2990', 'USER2991', 'USER2992', 'USER2993', 'USER2994', 'USER2995', 'USER2996', 'USER2997', 'USER2998', 'USER2999', 'USER3000', 'USER3001', 'USER3002', 'USER3003', 'USER3004', 'USER3005', 'USER3006', 'USER3007', 'USER3008', 'USER3009', 'USER3010', 'USER3011', 'USER3012', 'USER3013', 'USER3014', 'USER3015', 'USER3016', 'USER3017', 'USER3018', 'USER3019', 'USER3020', 'USER3021', 'USER3022', 'USER3023', 'USER3024', 'USER3025', 'USER3026', 'USER3027', 'USER3028', 'USER3029', 'USER3030', 'USER3031', 'USER3032', 'USER3033', 'USER3034', 'USER3035', 'USER3036', 'USER3037', 'USER3038', 'USER3039', 'USER3040', 'USER3041', 'USER3042', 'USER3043', 'USER3044', 'USER3045', 'USER3046', 'USER3047', 'USER3048', 'USER3049', 'USER3050', 'USER3051', 'USER3052', 'USER3053', 'USER3054', 'USER3055', 'USER3056', 'USER3057', 'USER3058', 'USER3059', 'USER3060', 'USER3061', 'USER3062', 'USER3063', 'USER3064', 'USER3065', 'USER3066', 'USER3067', 'USER3068', 'USER3069', 'USER3070', 'USER3071', 'USER3072', 'USER3073', 'USER3074', 'USER3075', 'USER3076', 'USER3077', 'USER3078', 'USER3079', 'USER3080', 'USER3081', 'USER3082', 'USER3083', 'USER3084', 'USER3085', 'USER3086', 'USER3087', 'USER3088', 'USER3089', 'USER3090', 'USER3091', 'USER3092', 'USER3093', 'USER3094', 'USER3095', 'USER3096', 'USER3097', 'USER3098', 'USER3099', 'USER3100', 'USER3101', 'USER3102', 'USER3103', 'USER3104', 'USER3105', 'USER3106', 'USER3107', 'USER3108', 'USER3109', 'USER3110', 'USER3111', 'USER3112', 'USER3113', 'USER3114', 'USER3115', 'USER3116', 'USER3117', 'USER3118', 'USER3119', 'USER3120', 'USER3121', 'USER3122', 'USER3123', 'USER3124', 'USER3125', 'USER3126', 'USER3127', 'USER3128', 'USER3129', 'USER3130', 'USER3131', 'USER3132', 'USER3133', 'USER3134', 'USER3135', 'USER3136', 'USER3137', 'USER3138', 'USER3139', 'USER3140', 'USER3141', 'USER3142', 'USER3143', 'USER3144', 'USER3145', 'USER3146', 'USER3147', 'USER3148', 'USER3149', 'USER3150', 'USER3151', 'USER3152', 'USER3153', 'USER3154', 'USER3155', 'USER3156', 'USER3157', 'USER3158', 'USER3159', 'USER3160', 'USER3161', 'USER3162', 'USER3163', 'USER3164', 'USER3165', 'USER3166', 'USER3167', 'USER3168', 'USER3169', 'USER3170', 'USER3171', 'USER3172', 'USER3173', 'USER3174', 'USER3175', 'USER3176', 'USER3177', 'USER3178', 'USER3179', 'USER3180', 'USER3181', 'USER3182', 'USER3183', 'USER3184', 'USER3185', 'USER3186', 'USER3187', 'USER3188', 'USER3189', 'USER3190', 'USER3191', 'USER3192', 'USER3193', 'USER3194', 'USER3195', 'USER3196', 'USER3197', 'USER3198', 'USER3199', 'USER3200', 'USER3201', 'USER3202', 'USER3203', 'USER3204', 'USER3205', 'USER3206', 'USER3207', 'USER3208', 'USER3209', 'USER3210', 'USER3211', 'USER3212', 'USER3213', 'USER3214', 'USER3215', 'USER3216', 'USER3217', 'USER3218', 'USER3219', 'USER3220', 'USER3221', 'USER3222', 'USER3223', 'USER3224', 'USER3225', 'USER3226', 'USER3227', 'USER3228', 'USER3229', 'USER3230', 'USER3231', 'USER3232', 'USER3233', 'USER3234', 'USER3235', 'USER3236', 'USER3237', 'USER3238', 'USER3239', 'USER3240', 'USER3241', 'USER3242', 'USER3243', 'USER3244', 'USER3245', 'USER3246', 'USER3247', 'USER3248', 'USER3249', 'USER3250', 'USER3251', 'USER3252', 'USER3253', 'USER3254', 'USER3255', 'USER3256', 'USER3257', 'USER3258', 'USER3259', 'USER3260', 'USER3261', 'USER3262', 'USER3263', 'USER3264', 'USER3265', 'USER3266', 'USER3267', 'USER3268', 'USER3269', 'USER3270', 'USER3271', 'USER3272', 'USER3273', 'USER3274', 'USER3275', 'USER3276', 'USER3277', 'USER3278', 'USER3279', 'USER3280', 'USER3281', 'USER3282', 'USER3283', 'USER3284', 'USER3285', 'USER3286', 'USER3287', 'USER3288', 'USER3289', 'USER3290', 'USER3291', 'USER3292', 'USER3293', 'USER3294', 'USER3295', 'USER3296', 'USER3297', 'USER3298', 'USER3299', 'USER3300', 'USER3301', 'USER3302', 'USER3303', 'USER3304', 'USER3305', 'USER3306', 'USER3307', 'USER3308', 'USER3309', 'USER3310', 'USER3311', 'USER3312', 'USER3313', 'USER3314', 'USER3315', 'USER3316', 'USER3317', 'USER3318', 'USER3319', 'USER3320', 'USER3321', 'USER3322', 'USER3323', 'USER3324', 'USER3325', 'USER3326', 'USER3327', 'USER3328', 'USER3329', 'USER3330', 'USER3331', 'USER3332', 'USER3333', 'USER3334', 'USER3335', 'USER3336', 'USER3337', 'USER3338', 'USER3339', 'USER3340', 'USER3341', 'USER3342', 'USER3343', 'USER3344', 'USER3345', 'USER3346', 'USER3347', 'USER3348', 'USER3349', 'USER3350', 'USER3351', 'USER3352', 'USER3353', 'USER3354', 'USER3355', 'USER3356', 'USER3357', 'USER3358', 'USER3359', 'USER3360', 'USER3361', 'USER3362', 'USER3363', 'USER3364', 'USER3365', 'USER3366', 'USER3367', 'USER3368', 'USER3369', 'USER3370', 'USER3371', 'USER3372', 'USER3373', 'USER3374', 'USER3375', 'USER3376', 'USER3377', 'USER3378', 'USER3379', 'USER3380', 'USER3381', 'USER3382', 'USER3383', 'USER3384', 'USER3385', 'USER3386', 'USER3387', 'USER3388', 'USER3389', 'USER3390', 'USER3391', 'USER3392', 'USER3393', 'USER3394', 'USER3395', 'USER3396', 'USER3397', 'USER3398', 'USER3399', 'USER3400', 'USER3401', 'USER3402', 'USER3403', 'USER3404', 'USER3405', 'USER3406', 'USER3407', 'USER3408', 'USER3409', 'USER3410', 'USER3411', 'USER3412', 'USER3413', 'USER3414', 'USER3415', 'USER3416', 'USER3417', 'USER3418', 'USER3419', 'USER3420', 'USER3421', 'USER3422', 'USER3423', 'USER3424', 'USER3425', 'USER3426', 'USER3427', 'USER3428', 'USER3429', 'USER3430', 'USER3431', 'USER3432', 'USER3433', 'USER3434', 'USER3435', 'USER3436', 'USER3437', 'USER3438', 'USER3439', 'USER3440', 'USER3441', 'USER3442', 'USER3443', 'USER3444', 'USER3445', 'USER3446', 'USER3447', 'USER3448', 'USER3449', 'USER3450', 'USER3451', 'USER3452', 'USER3453', 'USER3454', 'USER3455', 'USER3456', 'USER3457', 'USER3458', 'USER3459', 'USER3460', 'USER3461', 'USER3462', 'USER3463', 'USER3464', 'USER3465', 'USER3466', 'USER3467', 'USER3468', 'USER3469', 'USER3470', 'USER3471', 'USER3472', 'USER3473', 'USER3474', 'USER3475', 'USER3476', 'USER3477', 'USER3478', 'USER3479', 'USER3480', 'USER3481', 'USER3482', 'USER3483', 'USER3484', 'USER3485', 'USER3486', 'USER3487', 'USER3488', 'USER3489', 'USER3490', 'USER3491', 'USER3492', 'USER3493', 'USER3494', 'USER3495', 'USER3496', 'USER3497', 'USER3498', 'USER3499', 'USER3500', 'USER3501', 'USER3502', 'USER3503', 'USER3504', 'USER3505', 'USER3506', 'USER3507', 'USER3508', 'USER3509', 'USER3510', 'USER3511', 'USER3512', 'USER3513', 'USER3514', 'USER3515', 'USER3516', 'USER3517', 'USER3518', 'USER3519', 'USER3520', 'USER3521', 'USER3522', 'USER3523', 'USER3524', 'USER3525', 'USER3526', 'USER3527', 'USER3528', 'USER3529', 'USER3530', 'USER3531', 'USER3532', 'USER3533', 'USER3534', 'USER3535', 'USER3536', 'USER3537', 'USER3538', 'USER3539', 'USER3540', 'USER3541', 'USER3542', 'USER3543', 'USER3544', 'USER3545', 'USER3546', 'USER3547', 'USER3548', 'USER3549', 'USER3550', 'USER3551', 'USER3552', 'USER3553', 'USER3554', 'USER3555', 'USER3556', 'USER3557', 'USER3558', 'USER3559', 'USER3560', 'USER3561', 'USER3562', 'USER3563', 'USER3564', 'USER3565', 'USER3566', 'USER3567', 'USER3568', 'USER3569', 'USER3570', 'USER3571', 'USER3572', 'USER3573', 'USER3574', 'USER3575', 'USER3576', 'USER3577', 'USER3578', 'USER3579', 'USER3580', 'USER3581', 'USER3582', 'USER3583', 'USER3584', 'USER3585', 'USER3586', 'USER3587', 'USER3588', 'USER3589', 'USER3590', 'USER3591', 'USER3592', 'USER3593', 'USER3594', 'USER3595', 'USER3596', 'USER3597', 'USER3598', 'USER3599', 'USER3600', 'USER3601', 'USER3602', 'USER3603', 'USER3604', 'USER3605', 'USER3606', 'USER3607', 'USER3608', 'USER3609', 'USER3610', 'USER3611', 'USER3612', 'USER3613', 'USER3614', 'USER3615', 'USER3616', 'USER3617', 'USER3618', 'USER3619', 'USER3620', 'USER3621', 'USER3622', 'USER3623', 'USER3624', 'USER3625', 'USER3626', 'USER3627', 'USER3628', 'USER3629', 'USER3630', 'USER3631', 'USER3632', 'USER3633', 'USER3634', 'USER3635', 'USER3636', 'USER3637', 'USER3638', 'USER3639', 'USER3640', 'USER3641', 'USER3642', 'USER3643', 'USER3644', 'USER3645', 'USER3646', 'USER3647', 'USER3648', 'USER3649', 'USER3650', 'USER3651', 'USER3652', 'USER3653', 'USER3654', 'USER3655', 'USER3656', 'USER3657', 'USER3658', 'USER3659', 'USER3660', 'USER3661', 'USER3662', 'USER3663', 'USER3664', 'USER3665', 'USER3666', 'USER3667', 'USER3668', 'USER3669', 'USER3670', 'USER3671', 'USER3672', 'USER3673', 'USER3674', 'USER3675', 'USER3676', 'USER3677', 'USER3678', 'USER3679', 'USER3680', 'USER3681', 'USER3682', 'USER3683', 'USER3684', 'USER3685', 'USER3686', 'USER3687', 'USER3688', 'USER3689', 'USER3690', 'USER3691', 'USER3692', 'USER3693', 'USER3694', 'USER3695', 'USER3696', 'USER3697', 'USER3698', 'USER3699', 'USER3700', 'USER3701', 'USER3702', 'USER3703', 'USER3704', 'USER3705', 'USER3706', 'USER3707', 'USER3708', 'USER3709', 'USER3710', 'USER3711', 'USER3712', 'USER3713', 'USER3714', 'USER3715', 'USER3716', 'USER3717', 'USER3718', 'USER3719', 'USER3720', 'USER3721', 'USER3722', 'USER3723', 'USER3724', 'USER3725', 'USER3726', 'USER3727', 'USER3728', 'USER3729', 'USER3730', 'USER3731', 'USER3732', 'USER3733', 'USER3734', 'USER3735', 'USER3736', 'USER3737', 'USER3738', 'USER3739', 'USER3740', 'USER3741', 'USER3742', 'USER3743', 'USER3744', 'USER3745', 'USER3746', 'USER3747', 'USER3748', 'USER3749', 'USER3750', 'USER3751', 'USER3752', 'USER3753', 'USER3754', 'USER3755', 'USER3756', 'USER3757', 'USER3758', 'USER3759', 'USER3760', 'USER3761', 'USER3762', 'USER3763', 'USER3764', 'USER3765', 'USER3766', 'USER3767', 'USER3768', 'USER3769', 'USER3770', 'USER3771', 'USER3772', 'USER3773', 'USER3774', 'USER3775', 'USER3776', 'USER3777', 'USER3778', 'USER3779', 'USER3780', 'USER3781', 'USER3782', 'USER3783', 'USER3784', 'USER3785', 'USER3786', 'USER3787', 'USER3788', 'USER3789', 'USER3790', 'USER3791', 'USER3792', 'USER3793', 'USER3794', 'USER3795', 'USER3796', 'USER3797', 'USER3798', 'USER3799', 'USER3800', 'USER3801', 'USER3802', 'USER3803', 'USER3804', 'USER3805', 'USER3806', 'USER3807', 'USER3808', 'USER3809', 'USER3810', 'USER3811', 'USER3812', 'USER3813', 'USER3814', 'USER3815', 'USER3816', 'USER3817', 'USER3818', 'USER3819', 'USER3820', 'USER3821', 'USER3822', 'USER3823', 'USER3824', 'USER3825', 'USER3826', 'USER3827', 'USER3828', 'USER3829', 'USER3830', 'USER3831', 'USER3832', 'USER3833', 'USER3834', 'USER3835', 'USER3836', 'USER3837', 'USER3838', 'USER3839', 'USER3840', 'USER3841', 'USER3842', 'USER3843', 'USER3844', 'USER3845', 'USER3846', 'USER3847', 'USER3848', 'USER3849', 'USER3850', 'USER3851', 'USER3852', 'USER3853', 'USER3854', 'USER3855', 'USER3856', 'USER3857', 'USER3858', 'USER3859', 'USER3860', 'USER3861', 'USER3862', 'USER3863', 'USER3864', 'USER3865', 'USER3866', 'USER3867', 'USER3868', 'USER3869', 'USER3870', 'USER3871', 'USER3872', 'USER3873', 'USER3874', 'USER3875', 'USER3876', 'USER3877', 'USER3878', 'USER3879', 'USER3880', 'USER3881', 'USER3882', 'USER3883', 'USER3884', 'USER3885', 'USER3886', 'USER3887', 'USER3888', 'USER3889', 'USER3890', 'USER3891', 'USER3892', 'USER3893', 'USER3894', 'USER3895', 'USER3896', 'USER3897', 'USER3898', 'USER3899', 'USER3900', 'USER3901', 'USER3902', 'USER3903', 'USER3904', 'USER3905', 'USER3906', 'USER3907', 'USER3908', 'USER3909', 'USER3910', 'USER3911', 'USER3912', 'USER3913', 'USER3914', 'USER3915', 'USER3916', 'USER3917', 'USER3918', 'USER3919', 'USER3920', 'USER3921', 'USER3922', 'USER3923', 'USER3924', 'USER3925', 'USER3926', 'USER3927', 'USER3928', 'USER3929', 'USER3930', 'USER3931', 'USER3932', 'USER3933', 'USER3934', 'USER3935', 'USER3936', 'USER3937', 'USER3938', 'USER3939', 'USER3940', 'USER3941', 'USER3942', 'USER3943', 'USER3944', 'USER3945', 'USER3946', 'USER3947', 'USER3948', 'USER3949', 'USER3950', 'USER3951', 'USER3952', 'USER3953', 'USER3954', 'USER3955', 'USER3956', 'USER3957', 'USER3958', 'USER3959', 'USER3960', 'USER3961', 'USER3962', 'USER3963', 'USER3964', 'USER3965', 'USER3966', 'USER3967', 'USER3968', 'USER3969', 'USER3970', 'USER3971', 'USER3972', 'USER3973', 'USER3974', 'USER3975', 'USER3976', 'USER3977', 'USER3978', 'USER3979', 'USER3980', 'USER3981', 'USER3982', 'USER3983', 'USER3984', 'USER3985', 'USER3986', 'USER3987', 'USER3988', 'USER3989', 'USER3990', 'USER3991', 'USER3992', 'USER3993', 'USER3994', 'USER3995', 'USER3996', 'USER3997', 'USER3998', 'USER3999', 'USER4000', 'USER4001', 'USER4002', 'USER4003', 'USER4004', 'USER4005', 'USER4006', 'USER4007', 'USER4008', 'USER4009', 'USER4010', 'USER4011', 'USER4012', 'USER4013', 'USER4014', 'USER4015', 'USER4016', 'USER4017', 'USER4018', 'USER4019', 'USER4020', 'USER4021', 'USER4022', 'USER4023', 'USER4024', 'USER4025', 'USER4026', 'USER4027', 'USER4028', 'USER4029', 'USER4030', 'USER4031', 'USER4032', 'USER4033', 'USER4034', 'USER4035', 'USER4036', 'USER4037', 'USER4038', 'USER4039', 'USER4040', 'USER4041', 'USER4042', 'USER4043', 'USER4044', 'USER4045', 'USER4046', 'USER4047', 'USER4048', 'USER4049', 'USER4050', 'USER4051', 'USER4052', 'USER4053', 'USER4054', 'USER4055', 'USER4056', 'USER4057', 'USER4058', 'USER4059', 'USER4060', 'USER4061', 'USER4062', 'USER4063', 'USER4064', 'USER4065', 'USER4066', 'USER4067', 'USER4068', 'USER4069', 'USER4070', 'USER4071', 'USER4072', 'USER4073', 'USER4074', 'USER4075', 'USER4076', 'USER4077', 'USER4078', 'USER4079', 'USER4080', 'USER4081', 'USER4082', 'USER4083', 'USER4084', 'USER4085', 'USER4086', 'USER4087', 'USER4088', 'USER4089', 'USER4090', 'USER4091', 'USER4092', 'USER4093', 'USER4094', 'USER4095', 'USER4096', 'USER4097', 'USER4098', 'USER4099', 'USER4100', 'USER4101', 'USER4102', 'USER4103', 'USER4104', 'USER4105', 'USER4106', 'USER4107', 'USER4108', 'USER4109', 'USER4110', 'USER4111', 'USER4112', 'USER4113', 'USER4114', 'USER4115', 'USER4116', 'USER4117', 'USER4118', 'USER4119', 'USER4120', 'USER4121', 'USER4122', 'USER4123', 'USER4124', 'USER4125', 'USER4126', 'USER4127', 'USER4128', 'USER4129', 'USER4130', 'USER4131', 'USER4132', 'USER4133', 'USER4134', 'USER4135', 'USER4136', 'USER4137', 'USER4138', 'USER4139', 'USER4140', 'USER4141', 'USER4142', 'USER4143', 'USER4144', 'USER4145', 'USER4146', 'USER4147', 'USER4148', 'USER4149', 'USER4150', 'USER4151', 'USER4152', 'USER4153', 'USER4154', 'USER4155', 'USER4156', 'USER4157', 'USER4158', 'USER4159', 'USER4160', 'USER4161', 'USER4162', 'USER4163', 'USER4164', 'USER4165', 'USER4166', 'USER4167', 'USER4168', 'USER4169', 'USER4170', 'USER4171', 'USER4172', 'USER4173', 'USER4174', 'USER4175', 'USER4176', 'USER4177', 'USER4178', 'USER4179', 'USER4180', 'USER4181', 'USER4182', 'USER4183', 'USER4184', 'USER4185', 'USER4186', 'USER4187', 'USER4188', 'USER4189', 'USER4190', 'USER4191', 'USER4192', 'USER4193', 'USER4194', 'USER4195', 'USER4196', 'USER4197', 'USER4198', 'USER4199', 'USER4200', 'USER4201', 'USER4202', 'USER4203', 'USER4204', 'USER4205', 'USER4206', 'USER4207', 'USER4208', 'USER4209', 'USER4210', 'USER4211', 'USER4212', 'USER4213', 'USER4214', 'USER4215', 'USER4216', 'USER4217', 'USER4218', 'USER4219', 'USER4220', 'USER4221', 'USER4222', 'USER4223', 'USER4224', 'USER4225', 'USER4226', 'USER4227', 'USER4228', 'USER4229', 'USER4230', 'USER4231', 'USER4232', 'USER4233', 'USER4234', 'USER4235', 'USER4236', 'USER4237', 'USER4238', 'USER4239', 'USER4240', 'USER4241', 'USER4242', 'USER4243', 'USER4244', 'USER4245', 'USER4246', 'USER4247', 'USER4248', 'USER4249', 'USER4250', 'USER4251', 'USER4252', 'USER4253', 'USER4254', 'USER4255', 'USER4256', 'USER4257', 'USER4258', 'USER4259', 'USER4260', 'USER4261', 'USER4262', 'USER4263', 'USER4264', 'USER4265', 'USER4266', 'USER4267', 'USER4268', 'USER4269', 'USER4270', 'USER4271', 'USER4272', 'USER4273', 'USER4274', 'USER4275', 'USER4276', 'USER4277', 'USER4278', 'USER4279', 'USER4280', 'USER4281', 'USER4282', 'USER4283', 'USER4284', 'USER4285', 'USER4286', 'USER4287', 'USER4288', 'USER4289', 'USER4290', 'USER4291', 'USER4292', 'USER4293', 'USER4294', 'USER4295', 'USER4296', 'USER4297', 'USER4298', 'USER4299', 'USER4300', 'USER4301', 'USER4302', 'USER4303', 'USER4304', 'USER4305', 'USER4306', 'USER4307', 'USER4308', 'USER4309', 'USER4310', 'USER4311', 'USER4312', 'USER4313', 'USER4314', 'USER4315', 'USER4316', 'USER4317', 'USER4318', 'USER4319', 'USER4320', 'USER4321', 'USER4322', 'USER4323', 'USER4324', 'USER4325', 'USER4326', 'USER4327', 'USER4328', 'USER4329', 'USER4330', 'USER4331', 'USER4332', 'USER4333', 'USER4334', 'USER4335', 'USER4336', 'USER4337', 'USER4338', 'USER4339', 'USER4340', 'USER4341', 'USER4342', 'USER4343', 'USER4344', 'USER4345', 'USER4346', 'USER4347', 'USER4348', 'USER4349', 'USER4350', 'USER4351', 'USER4352', 'USER4353', 'USER4354', 'USER4355', 'USER4356', 'USER4357', 'USER4358', 'USER4359', 'USER4360', 'USER4361', 'USER4362', 'USER4363', 'USER4364', 'USER4365', 'USER4366', 'USER4367', 'USER4368', 'USER4369', 'USER4370', 'USER4371', 'USER4372', 'USER4373', 'USER4374', 'USER4375', 'USER4376', 'USER4377', 'USER4378', 'USER4379', 'USER4380', 'USER4381', 'USER4382', 'USER4383', 'USER4384', 'USER4385', 'USER4386', 'USER4387', 'USER4388', 'USER4389', 'USER4390', 'USER4391', 'USER4392', 'USER4393', 'USER4394', 'USER4395', 'USER4396', 'USER4397', 'USER4398', 'USER4399', 'USER4400', 'USER4401', 'USER4402', 'USER4403', 'USER4404', 'USER4405', 'USER4406', 'USER4407', 'USER4408', 'USER4409', 'USER4410', 'USER4411', 'USER4412', 'USER4413', 'USER4414', 'USER4415', 'USER4416', 'USER4417', 'USER4418', 'USER4419', 'USER4420', 'USER4421', 'USER4422', 'USER4423', 'USER4424', 'USER4425', 'USER4426', 'USER4427', 'USER4428', 'USER4429', 'USER4430', 'USER4431', 'USER4432', 'USER4433', 'USER4434', 'USER4435', 'USER4436', 'USER4437', 'USER4438', 'USER4439', 'USER4440', 'USER4441', 'USER4442', 'USER4443', 'USER4444', 'USER4445', 'USER4446', 'USER4447', 'USER4448', 'USER4449', 'USER4450', 'USER4451', 'USER4452', 'USER4453', 'USER4454', 'USER4455', 'USER4456', 'USER4457', 'USER4458', 'USER4459', 'USER4460', 'USER4461', 'USER4462', 'USER4463', 'USER4464', 'USER4465', 'USER4466', 'USER4467', 'USER4468', 'USER4469', 'USER4470', 'USER4471', 'USER4472', 'USER4473', 'USER4474', 'USER4475', 'USER4476', 'USER4477', 'USER4478', 'USER4479', 'USER4480', 'USER4481', 'USER4482', 'USER4483', 'USER4484', 'USER4485', 'USER4486', 'USER4487', 'USER4488', 'USER4489', 'USER4490', 'USER4491', 'USER4492', 'USER4493', 'USER4494', 'USER4495', 'USER4496', 'USER4497', 'USER4498', 'USER4499', 'USER4500', 'USER4501', 'USER4502', 'USER4503', 'USER4504', 'USER4505', 'USER4506', 'USER4507', 'USER4508', 'USER4509', 'USER4510', 'USER4511', 'USER4512', 'USER4513', 'USER4514', 'USER4515', 'USER4516', 'USER4517', 'USER4518', 'USER4519', 'USER4520', 'USER4521', 'USER4522', 'USER4523', 'USER4524', 'USER4525', 'USER4526', 'USER4527', 'USER4528', 'USER4529', 'USER4530', 'USER4531', 'USER4532', 'USER4533', 'USER4534', 'USER4535', 'USER4536', 'USER4537', 'USER4538', 'USER4539', 'USER4540', 'USER4541', 'USER4542', 'USER4543', 'USER4544', 'USER4545', 'USER4546', 'USER4547', 'USER4548', 'USER4549', 'USER4550', 'USER4551', 'USER4552', 'USER4553', 'USER4554', 'USER4555', 'USER4556', 'USER4557', 'USER4558', 'USER4559', 'USER4560', 'USER4561', 'USER4562', 'USER4563', 'USER4564', 'USER4565', 'USER4566', 'USER4567', 'USER4568', 'USER4569', 'USER4570', 'USER4571', 'USER4572', 'USER4573', 'USER4574', 'USER4575', 'USER4576', 'USER4577', 'USER4578', 'USER4579', 'USER4580', 'USER4581', 'USER4582', 'USER4583', 'USER4584', 'USER4585', 'USER4586', 'USER4587', 'USER4588', 'USER4589', 'USER4590', 'USER4591', 'USER4592', 'USER4593', 'USER4594', 'USER4595', 'USER4596', 'USER4597', 'USER4598', 'USER4599', 'USER4600', 'USER4601', 'USER4602', 'USER4603', 'USER4604', 'USER4605', 'USER4606', 'USER4607', 'USER4608', 'USER4609', 'USER4610', 'USER4611', 'USER4612', 'USER4613', 'USER4614', 'USER4615', 'USER4616', 'USER4617', 'USER4618', 'USER4619', 'USER4620', 'USER4621', 'USER4622', 'USER4623', 'USER4624', 'USER4625', 'USER4626', 'USER4627', 'USER4628', 'USER4629', 'USER4630', 'USER4631', 'USER4632', 'USER4633', 'USER4634', 'USER4635', 'USER4636', 'USER4637', 'USER4638', 'USER4639', 'USER4640', 'USER4641', 'USER4642', 'USER4643', 'USER4644', 'USER4645', 'USER4646', 'USER4647', 'USER4648', 'USER4649', 'USER4650', 'USER4651', 'USER4652', 'USER4653', 'USER4654', 'USER4655', 'USER4656', 'USER4657', 'USER4658', 'USER4659', 'USER4660', 'USER4661', 'USER4662', 'USER4663', 'USER4664', 'USER4665', 'USER4666', 'USER4667', 'USER4668', 'USER4669', 'USER4670', 'USER4671', 'USER4672', 'USER4673', 'USER4674', 'USER4675', 'USER4676', 'USER4677', 'USER4678', 'USER4679', 'USER4680', 'USER4681', 'USER4682', 'USER4683', 'USER4684', 'USER4685', 'USER4686', 'USER4687', 'USER4688', 'USER4689', 'USER4690', 'USER4691', 'USER4692', 'USER4693', 'USER4694', 'USER4695', 'USER4696', 'USER4697', 'USER4698', 'USER4699', 'USER4700', 'USER4701', 'USER4702', 'USER4703', 'USER4704', 'USER4705', 'USER4706', 'USER4707', 'USER4708', 'USER4709', 'USER4710', 'USER4711', 'USER4712', 'USER4713', 'USER4714', 'USER4715', 'USER4716', 'USER4717', 'USER4718', 'USER4719', 'USER4720', 'USER4721', 'USER4722', 'USER4723', 'USER4724', 'USER4725', 'USER4726', 'USER4727', 'USER4728', 'USER4729', 'USER4730', 'USER4731', 'USER4732', 'USER4733', 'USER4734', 'USER4735', 'USER4736', 'USER4737', 'USER4738', 'USER4739', 'USER4740', 'USER4741', 'USER4742', 'USER4743', 'USER4744', 'USER4745', 'USER4746', 'USER4747', 'USER4748', 'USER4749', 'USER4750', 'USER4751', 'USER4752', 'USER4753', 'USER4754', 'USER4755', 'USER4756', 'USER4757', 'USER4758', 'USER4759', 'USER4760', 'USER4761', 'USER4762', 'USER4763', 'USER4764', 'USER4765', 'USER4766', 'USER4767', 'USER4768', 'USER4769', 'USER4770', 'USER4771', 'USER4772', 'USER4773', 'USER4774', 'USER4775', 'USER4776', 'USER4777', 'USER4778', 'USER4779', 'USER4780', 'USER4781', 'USER4782', 'USER4783', 'USER4784', 'USER4785', 'USER4786', 'USER4787', 'USER4788', 'USER4789', 'USER4790', 'USER4791', 'USER4792', 'USER4793', 'USER4794', 'USER4795', 'USER4796', 'USER4797', 'USER4798', 'USER4799', 'USER4800', 'USER4801', 'USER4802', 'USER4803', 'USER4804', 'USER4805', 'USER4806', 'USER4807', 'USER4808', 'USER4809', 'USER4810', 'USER4811', 'USER4812', 'USER4813', 'USER4814', 'USER4815', 'USER4816', 'USER4817', 'USER4818', 'USER4819', 'USER4820', 'USER4821', 'USER4822', 'USER4823', 'USER4824', 'USER4825', 'USER4826', 'USER4827', 'USER4828', 'USER4829', 'USER4830', 'USER4831', 'USER4832', 'USER4833', 'USER4834', 'USER4835', 'USER4836', 'USER4837', 'USER4838', 'USER4839', 'USER4840', 'USER4841', 'USER4842', 'USER4843', 'USER4844', 'USER4845', 'USER4846', 'USER4847', 'USER4848', 'USER4849', 'USER4850', 'USER4851', 'USER4852', 'USER4853', 'USER4854', 'USER4855', 'USER4856', 'USER4857', 'USER4858', 'USER4859', 'USER4860', 'USER4861', 'USER4862', 'USER4863', 'USER4864', 'USER4865', 'USER4866', 'USER4867', 'USER4868', 'USER4869', 'USER4870', 'USER4871', 'USER4872', 'USER4873', 'USER4874', 'USER4875', 'USER4876', 'USER4877', 'USER4878', 'USER4879', 'USER4880', 'USER4881', 'USER4882', 'USER4883', 'USER4884', 'USER4885', 'USER4886', 'USER4887', 'USER4888', 'USER4889', 'USER4890', 'USER4891', 'USER4892', 'USER4893', 'USER4894', 'USER4895', 'USER4896', 'USER4897', 'USER4898', 'USER4899', 'USER4900', 'USER4901', 'USER4902', 'USER4903', 'USER4904', 'USER4905', 'USER4906', 'USER4907', 'USER4908', 'USER4909', 'USER4910', 'USER4911', 'USER4912', 'USER4913', 'USER4914', 'USER4915', 'USER4916', 'USER4917', 'USER4918', 'USER4919', 'USER4920', 'USER4921', 'USER4922', 'USER4923', 'USER4924', 'USER4925', 'USER4926', 'USER4927', 'USER4928', 'USER4929', 'USER4930', 'USER4931', 'USER4932', 'USER4933', 'USER4934', 'USER4935', 'USER4936', 'USER4937', 'USER4938', 'USER4939', 'USER4940', 'USER4941', 'USER4942', 'USER4943', 'USER4944', 'USER4945', 'USER4946', 'USER4947', 'USER4948', 'USER4949', 'USER4950', 'USER4951', 'USER4952', 'USER4953', 'USER4954', 'USER4955', 'USER4956', 'USER4957', 'USER4958', 'USER4959', 'USER4960', 'USER4961', 'USER4962', 'USER4963', 'USER4964', 'USER4965', 'USER4966', 'USER4967', 'USER4968', 'USER4969', 'USER4970', 'USER4971', 'USER4972', 'USER4973', 'USER4974', 'USER4975', 'USER4976', 'USER4977', 'USER4978', 'USER4979', 'USER4980', 'USER4981', 'USER4982', 'USER4983', 'USER4984', 'USER4985', 'USER4986', 'USER4987', 'USER4988', 'USER4989', 'USER4990', 'USER4991', 'USER4992', 'USER4993', 'USER4994', 'USER4995', 'USER4996', 'USER4997', 'USER4998', 'USER4999', 'USER5000', 'USER5001', 'USER5002', 'USER5003', 'USER5004', 'USER5005', 'USER5006', 'USER5007', 'USER5008', 'USER5009', 'USER5010', 'USER5011', 'USER5012', 'USER5013', 'USER5014', 'USER5015', 'USER5016', 'USER5017', 'USER5018', 'USER5019', 'USER5020', 'USER5021', 'USER5022', 'USER5023', 'USER5024', 'USER5025', 'USER5026', 'USER5027', 'USER5028', 'USER5029', 'USER5030', 'USER5031', 'USER5032', 'USER5033', 'USER5034', 'USER5035', 'USER5036', 'USER5037', 'USER5038', 'USER5039', 'USER5040', 'USER5041', 'USER5042', 'USER5043', 'USER5044', 'USER5045', 'USER5046', 'USER5047', 'USER5048', 'USER5049', 'USER5050', 'USER5051', 'USER5052', 'USER5053', 'USER5054', 'USER5055', 'USER5056', 'USER5057', 'USER5058', 'USER5059', 'USER5060', 'USER5061', 'USER5062', 'USER5063', 'USER5064', 'USER5065', 'USER5066', 'USER5067', 'USER5068', 'USER5069', 'USER5070', 'USER5071', 'USER5072', 'USER5073', 'USER5074', 'USER5075', 'USER5076', 'USER5077', 'USER5078', 'USER5079', 'USER5080', 'USER5081', 'USER5082', 'USER5083', 'USER5084', 'USER5085', 'USER5086', 'USER5087', 'USER5088', 'USER5089', 'USER5090', 'USER5091', 'USER5092', 'USER5093', 'USER5094', 'USER5095', 'USER5096', 'USER5097', 'USER5098', 'USER5099', 'USER5100', 'USER5101', 'USER5102', 'USER5103', 'USER5104', 'USER5105', 'USER5106', 'USER5107', 'USER5108', 'USER5109', 'USER5110', 'USER5111', 'USER5112', 'USER5113', 'USER5114', 'USER5115', 'USER5116', 'USER5117', 'USER5118', 'USER5119', 'USER5120', 'USER5121', 'USER5122', 'USER5123', 'USER5124', 'USER5125', 'USER5126', 'USER5127', 'USER5128', 'USER5129', 'USER5130', 'USER5131', 'USER5132', 'USER5133', 'USER5134', 'USER5135', 'USER5136', 'USER5137', 'USER5138', 'USER5139', 'USER5140', 'USER5141', 'USER5142', 'USER5143', 'USER5144', 'USER5145', 'USER5146', 'USER5147', 'USER5148', 'USER5149', 'USER5150', 'USER5151', 'USER5152', 'USER5153', 'USER5154', 'USER5155', 'USER5156', 'USER5157', 'USER5158', 'USER5159', 'USER5160', 'USER5161', 'USER5162', 'USER5163', 'USER5164', 'USER5165', 'USER5166', 'USER5167', 'USER5168', 'USER5169', 'USER5170', 'USER5171', 'USER5172', 'USER5173', 'USER5174', 'USER5175', 'USER5176', 'USER5177', 'USER5178', 'USER5179', 'USER5180', 'USER5181', 'USER5182', 'USER5183', 'USER5184', 'USER5185', 'USER5186', 'USER5187', 'USER5188', 'USER5189', 'USER5190', 'USER5191', 'USER5192', 'USER5193', 'USER5194', 'USER5195', 'USER5196', 'USER5197', 'USER5198', 'USER5199', 'USER5200', 'USER5201', 'USER5202', 'USER5203', 'USER5204', 'USER5205', 'USER5206', 'USER5207', 'USER5208', 'USER5209', 'USER5210', 'USER5211', 'USER5212', 'USER5213', 'USER5214', 'USER5215', 'USER5216', 'USER5217', 'USER5218', 'USER5219', 'USER5220', 'USER5221', 'USER5222', 'USER5223', 'USER5224', 'USER5225', 'USER5226', 'USER5227', 'USER5228', 'USER5229', 'USER5230', 'USER5231', 'USER5232', 'USER5233', 'USER5234', 'USER5235', 'USER5236', 'USER5237', 'USER5238', 'USER5239', 'USER5240', 'USER5241', 'USER5242', 'USER5243', 'USER5244', 'USER5245', 'USER5246', 'USER5247', 'USER5248', 'USER5249', 'USER5250', 'USER5251', 'USER5252', 'USER5253', 'USER5254', 'USER5255', 'USER5256', 'USER5257', 'USER5258', 'USER5259', 'USER5260', 'USER5261', 'USER5262', 'USER5263', 'USER5264', 'USER5265', 'USER5266', 'USER5267', 'USER5268', 'USER5269', 'USER5270', 'USER5271', 'USER5272', 'USER5273', 'USER5274', 'USER5275', 'USER5276', 'USER5277', 'USER5278', 'USER5279', 'USER5280', 'USER5281', 'USER5282', 'USER5283', 'USER5284', 'USER5285', 'USER5286', 'USER5287', 'USER5288', 'USER5289', 'USER5290', 'USER5291', 'USER5292', 'USER5293', 'USER5294', 'USER5295', 'USER5296', 'USER5297', 'USER5298', 'USER5299', 'USER5300', 'USER5301', 'USER5302', 'USER5303', 'USER5304', 'USER5305', 'USER5306', 'USER5307', 'USER5308', 'USER5309', 'USER5310', 'USER5311', 'USER5312', 'USER5313', 'USER5314', 'USER5315', 'USER5316', 'USER5317', 'USER5318', 'USER5319', 'USER5320', 'USER5321', 'USER5322', 'USER5323', 'USER5324', 'USER5325', 'USER5326', 'USER5327', 'USER5328', 'USER5329', 'USER5330', 'USER5331', 'USER5332', 'USER5333', 'USER5334', 'USER5335', 'USER5336', 'USER5337', 'USER5338', 'USER5339', 'USER5340', 'USER5341', 'USER5342', 'USER5343', 'USER5344', 'USER5345', 'USER5346', 'USER5347', 'USER5348', 'USER5349', 'USER5350', 'USER5351', 'USER5352', 'USER5353', 'USER5354', 'USER5355', 'USER5356', 'USER5357', 'USER5358', 'USER5359', 'USER5360', 'USER5361', 'USER5362', 'USER5363', 'USER5364', 'USER5365', 'USER5366', 'USER5367', 'USER5368', 'USER5369', 'USER5370', 'USER5371', 'USER5372', 'USER5373', 'USER5374', 'USER5375', 'USER5376', 'USER5377', 'USER5378', 'USER5379', 'USER5380', 'USER5381', 'USER5382', 'USER5383', 'USER5384', 'USER5385', 'USER5386', 'USER5387', 'USER5388', 'USER5389', 'USER5390', 'USER5391', 'USER5392', 'USER5393', 'USER5394', 'USER5395', 'USER5396', 'USER5397', 'USER5398', 'USER5399', 'USER5400', 'USER5401', 'USER5402', 'USER5403', 'USER5404', 'USER5405', 'USER5406', 'USER5407', 'USER5408', 'USER5409', 'USER5410', 'USER5411', 'USER5412', 'USER5413', 'USER5414', 'USER5415', 'USER5416', 'USER5417', 'USER5418', 'USER5419', 'USER5420', 'USER5421', 'USER5422', 'USER5423', 'USER5424', 'USER5425', 'USER5426', 'USER5427', 'USER5428', 'USER5429', 'USER5430', 'USER5431', 'USER5432', 'USER5433', 'USER5434', 'USER5435', 'USER5436', 'USER5437', 'USER5438', 'USER5439', 'USER5440', 'USER5441', 'USER5442', 'USER5443', 'USER5444', 'USER5445', 'USER5446', 'USER5447', 'USER5448', 'USER5449', 'USER5450', 'USER5451', 'USER5452', 'USER5453', 'USER5454', 'USER5455', 'USER5456', 'USER5457', 'USER5458', 'USER5459', 'USER5460', 'USER5461', 'USER5462', 'USER5463', 'USER5464', 'USER5465', 'USER5466', 'USER5467', 'USER5468', 'USER5469', 'USER5470', 'USER5471', 'USER5472', 'USER5473', 'USER5474', 'USER5475', 'USER5476', 'USER5477', 'USER5478', 'USER5479', 'USER5480', 'USER5481', 'USER5482', 'USER5483', 'USER5484', 'USER5485', 'USER5486', 'USER5487', 'USER5488', 'USER5489', 'USER5490', 'USER5491', 'USER5492', 'USER5493', 'USER5494', 'USER5495', 'USER5496', 'USER5497', 'USER5498', 'USER5499', 'USER5500', 'USER5501', 'USER5502', 'USER5503', 'USER5504', 'USER5505', 'USER5506', 'USER5507', 'USER5508', 'USER5509', 'USER5510', 'USER5511', 'USER5512', 'USER5513', 'USER5514', 'USER5515', 'USER5516', 'USER5517', 'USER5518', 'USER5519', 'USER5520', 'USER5521', 'USER5522', 'USER5523', 'USER5524', 'USER5525', 'USER5526', 'USER5527', 'USER5528', 'USER5529', 'USER5530', 'USER5531', 'USER5532', 'USER5533', 'USER5534', 'USER5535', 'USER5536', 'USER5537', 'USER5538', 'USER5539', 'USER5540', 'USER5541', 'USER5542', 'USER5543', 'USER5544', 'USER5545', 'USER5546', 'USER5547', 'USER5548', 'USER5549', 'USER5550', 'USER5551', 'USER5552', 'USER5553', 'USER5554', 'USER5555', 'USER5556', 'USER5557', 'USER5558', 'USER5559', 'USER5560', 'USER5561', 'USER5562', 'USER5563', 'USER5564', 'USER5565', 'USER5566', 'USER5567', 'USER5568', 'USER5569', 'USER5570', 'USER5571', 'USER5572', 'USER5573', 'USER5574', 'USER5575', 'USER5576', 'USER5577', 'USER5578', 'USER5579', 'USER5580', 'USER5581', 'USER5582', 'USER5583', 'USER5584', 'USER5585', 'USER5586', 'USER5587', 'USER5588', 'USER5589', 'USER5590', 'USER5591', 'USER5592', 'USER5593', 'USER5594', 'USER5595', 'USER5596', 'USER5597', 'USER5598', 'USER5599', 'USER5600', 'USER5601', 'USER5602', 'USER5603', 'USER5604', 'USER5605', 'USER5606', 'USER5607', 'USER5608', 'USER5609', 'USER5610', 'USER5611', 'USER5612', 'USER5613', 'USER5614', 'USER5615', 'USER5616', 'USER5617', 'USER5618', 'USER5619', 'USER5620', 'USER5621', 'USER5622', 'USER5623', 'USER5624', 'USER5625', 'USER5626', 'USER5627', 'USER5628', 'USER5629', 'USER5630', 'USER5631', 'USER5632', 'USER5633', 'USER5634', 'USER5635', 'USER5636', 'USER5637', 'USER5638', 'USER5639', 'USER5640', 'USER5641', 'USER5642', 'USER5643', 'USER5644', 'USER5645', 'USER5646', 'USER5647', 'USER5648', 'USER5649', 'USER5650', 'USER5651', 'USER5652', 'USER5653', 'USER5654', 'USER5655', 'USER5656', 'USER5657', 'USER5658', 'USER5659', 'USER5660', 'USER5661', 'USER5662', 'USER5663', 'USER5664', 'USER5665', 'USER5666', 'USER5667', 'USER5668', 'USER5669', 'USER5670', 'USER5671', 'USER5672', 'USER5673', 'USER5674', 'USER5675', 'USER5676', 'USER5677', 'USER5678', 'USER5679', 'USER5680', 'USER5681', 'USER5682', 'USER5683', 'USER5684', 'USER5685', 'USER5686', 'USER5687', 'USER5688', 'USER5689', 'USER5690', 'USER5691', 'USER5692', 'USER5693', 'USER5694', 'USER5695', 'USER5696', 'USER5697', 'USER5698', 'USER5699', 'USER5700', 'USER5701', 'USER5702', 'USER5703', 'USER5704', 'USER5705', 'USER5706', 'USER5707', 'USER5708', 'USER5709', 'USER5710', 'USER5711', 'USER5712', 'USER5713', 'USER5714', 'USER5715', 'USER5716', 'USER5717', 'USER5718', 'USER5719', 'USER5720', 'USER5721', 'USER5722', 'USER5723', 'USER5724', 'USER5725', 'USER5726', 'USER5727', 'USER5728', 'USER5729', 'USER5730', 'USER5731', 'USER5732', 'USER5733', 'USER5734', 'USER5735', 'USER5736', 'USER5737', 'USER5738', 'USER5739', 'USER5740', 'USER5741', 'USER5742', 'USER5743', 'USER5744', 'USER5745', 'USER5746', 'USER5747', 'USER5748', 'USER5749', 'USER5750', 'USER5751', 'USER5752', 'USER5753', 'USER5754', 'USER5755', 'USER5756', 'USER5757', 'USER5758', 'USER5759', 'USER5760', 'USER5761', 'USER5762', 'USER5763', 'USER5764', 'USER5765', 'USER5766', 'USER5767', 'USER5768', 'USER5769', 'USER5770', 'USER5771', 'USER5772', 'USER5773', 'USER5774', 'USER5775', 'USER5776', 'USER5777', 'USER5778', 'USER5779', 'USER5780', 'USER5781', 'USER5782', 'USER5783', 'USER5784', 'USER5785', 'USER5786', 'USER5787', 'USER5788', 'USER5789', 'USER5790', 'USER5791', 'USER5792', 'USER5793', 'USER5794', 'USER5795', 'USER5796', 'USER5797', 'USER5798', 'USER5799', 'USER5800', 'USER5801', 'USER5802', 'USER5803', 'USER5804', 'USER5805', 'USER5806', 'USER5807', 'USER5808', 'USER5809', 'USER5810', 'USER5811', 'USER5812', 'USER5813', 'USER5814', 'USER5815', 'USER5816', 'USER5817', 'USER5818', 'USER5819', 'USER5820', 'USER5821', 'USER5822', 'USER5823', 'USER5824', 'USER5825', 'USER5826', 'USER5827', 'USER5828', 'USER5829', 'USER5830', 'USER5831', 'USER5832', 'USER5833', 'USER5834', 'USER5835', 'USER5836', 'USER5837', 'USER5838', 'USER5839', 'USER5840', 'USER5841', 'USER5842', 'USER5843', 'USER5844', 'USER5845', 'USER5846', 'USER5847', 'USER5848', 'USER5849', 'USER5850', 'USER5851', 'USER5852', 'USER5853', 'USER5854', 'USER5855', 'USER5856', 'USER5857', 'USER5858', 'USER5859', 'USER5860', 'USER5861', 'USER5862', 'USER5863', 'USER5864', 'USER5865', 'USER5866', 'USER5867', 'USER5868', 'USER5869', 'USER5870', 'USER5871', 'USER5872', 'USER5873', 'USER5874', 'USER5875', 'USER5876', 'USER5877', 'USER5878', 'USER5879', 'USER5880', 'USER5881', 'USER5882', 'USER5883', 'USER5884', 'USER5885', 'USER5886', 'USER5887', 'USER5888', 'USER5889', 'USER5890', 'USER5891', 'USER5892', 'USER5893', 'USER5894', 'USER5895', 'USER5896', 'USER5897', 'USER5898', 'USER5899', 'USER5900', 'USER5901', 'USER5902', 'USER5903', 'USER5904', 'USER5905', 'USER5906', 'USER5907', 'USER5908', 'USER5909', 'USER5910', 'USER5911', 'USER5912', 'USER5913', 'USER5914', 'USER5915', 'USER5916', 'USER5917', 'USER5918', 'USER5919', 'USER5920', 'USER5921', 'USER5922', 'USER5923', 'USER5924', 'USER5925', 'USER5926', 'USER5927', 'USER5928', 'USER5929', 'USER5930', 'USER5931', 'USER5932', 'USER5933', 'USER5934', 'USER5935', 'USER5936', 'USER5937', 'USER5938', 'USER5939', 'USER5940', 'USER5941', 'USER5942', 'USER5943', 'USER5944', 'USER5945', 'USER5946', 'USER5947', 'USER5948', 'USER5949', 'USER5950', 'USER5951', 'USER5952', 'USER5953', 'USER5954', 'USER5955', 'USER5956', 'USER5957', 'USER5958', 'USER5959', 'USER5960', 'USER5961', 'USER5962', 'USER5963', 'USER5964', 'USER5965', 'USER5966', 'USER5967', 'USER5968', 'USER5969', 'USER5970', 'USER5971', 'USER5972', 'USER5973', 'USER5974', 'USER5975', 'USER5976', 'USER5977', 'USER5978', 'USER5979', 'USER5980', 'USER5981', 'USER5982', 'USER5983', 'USER5984', 'USER5985', 'USER5986', 'USER5987', 'USER5988', 'USER5989', 'USER5990', 'USER5991', 'USER5992', 'USER5993', 'USER5994', 'USER5995', 'USER5996', 'USER5997', 'USER5998', 'USER5999', 'USER6000', 'USER6001', 'USER6002', 'USER6003', 'USER6004', 'USER6005', 'USER6006', 'USER6007', 'USER6008', 'USER6009', 'USER6010', 'USER6011', 'USER6012', 'USER6013', 'USER6014', 'USER6015', 'USER6016', 'USER6017', 'USER6018', 'USER6019', 'USER6020', 'USER6021', 'USER6022', 'USER6023', 'USER6024', 'USER6025', 'USER6026', 'USER6027', 'USER6028', 'USER6029', 'USER6030', 'USER6031', 'USER6032', 'USER6033', 'USER6034', 'USER6035', 'USER6036', 'USER6037', 'USER6038', 'USER6039', 'USER6040', 'USER6041', 'USER6042', 'USER6043', 'USER6044', 'USER6045', 'USER6046', 'USER6047', 'USER6048', 'USER6049', 'USER6050', 'USER6051', 'USER6052', 'USER6053', 'USER6054', 'USER6055', 'USER6056', 'USER6057', 'USER6058', 'USER6059', 'USER6060', 'USER6061', 'USER6062', 'USER6063', 'USER6064', 'USER6065', 'USER6066', 'USER6067', 'USER6068', 'USER6069', 'USER6070', 'USER6071', 'USER6072', 'USER6073', 'USER6074', 'USER6075', 'USER6076', 'USER6077', 'USER6078', 'USER6079', 'USER6080', 'USER6081', 'USER6082', 'USER6083', 'USER6084', 'USER6085', 'USER6086', 'USER6087', 'USER6088', 'USER6089', 'USER6090', 'USER6091', 'USER6092', 'USER6093', 'USER6094', 'USER6095', 'USER6096', 'USER6097', 'USER6098', 'USER6099', 'USER6100', 'USER6101', 'USER6102', 'USER6103', 'USER6104', 'USER6105', 'USER6106', 'USER6107', 'USER6108', 'USER6109', 'USER6110', 'USER6111', 'USER6112', 'USER6113', 'USER6114', 'USER6115', 'USER6116', 'USER6117', 'USER6118', 'USER6119', 'USER6120', 'USER6121', 'USER6122', 'USER6123', 'USER6124', 'USER6125', 'USER6126', 'USER6127', 'USER6128', 'USER6129', 'USER6130', 'USER6131', 'USER6132', 'USER6133', 'USER6134', 'USER6135', 'USER6136', 'USER6137', 'USER6138', 'USER6139', 'USER6140', 'USER6141', 'USER6142', 'USER6143', 'USER6144', 'USER6145', 'USER6146', 'USER6147', 'USER6148', 'USER6149', 'USER6150', 'USER6151', 'USER6152', 'USER6153', 'USER6154', 'USER6155', 'USER6156', 'USER6157', 'USER6158', 'USER6159', 'USER6160', 'USER6161', 'USER6162', 'USER6163', 'USER6164', 'USER6165', 'USER6166', 'USER6167', 'USER6168', 'USER6169', 'USER6170', 'USER6171', 'USER6172', 'USER6173', 'USER6174', 'USER6175', 'USER6176', 'USER6177', 'USER6178', 'USER6179', 'USER6180', 'USER6181', 'USER6182', 'USER6183', 'USER6184', 'USER6185', 'USER6186', 'USER6187', 'USER6188', 'USER6189', 'USER6190', 'USER6191', 'USER6192', 'USER6193', 'USER6194', 'USER6195', 'USER6196', 'USER6197', 'USER6198', 'USER6199', 'USER6200', 'USER6201', 'USER6202', 'USER6203', 'USER6204', 'USER6205', 'USER6206', 'USER6207', 'USER6208', 'USER6209', 'USER6210', 'USER6211', 'USER6212', 'USER6213', 'USER6214', 'USER6215', 'USER6216', 'USER6217', 'USER6218', 'USER6219', 'USER6220', 'USER6221', 'USER6222', 'USER6223', 'USER6224', 'USER6225', 'USER6226', 'USER6227', 'USER6228', 'USER6229', 'USER6230', 'USER6231', 'USER6232', 'USER6233', 'USER6234', 'USER6235', 'USER6236', 'USER6237', 'USER6238', 'USER6239', 'USER6240', 'USER6241', 'USER6242', 'USER6243', 'USER6244', 'USER6245', 'USER6246', 'USER6247', 'USER6248', 'USER6249', 'USER6250', 'USER6251', 'USER6252', 'USER6253', 'USER6254', 'USER6255', 'USER6256', 'USER6257', 'USER6258', 'USER6259', 'USER6260', 'USER6261', 'USER6262', 'USER6263', 'USER6264', 'USER6265', 'USER6266', 'USER6267', 'USER6268', 'USER6269', 'USER6270', 'USER6271', 'USER6272', 'USER6273', 'USER6274', 'USER6275', 'USER6276', 'USER6277', 'USER6278', 'USER6279', 'USER6280', 'USER6281', 'USER6282', 'USER6283', 'USER6284', 'USER6285', 'USER6286', 'USER6287', 'USER6288', 'USER6289', 'USER6290', 'USER6291', 'USER6292', 'USER6293', 'USER6294', 'USER6295', 'USER6296', 'USER6297', 'USER6298', 'USER6299', 'USER6300', 'USER6301', 'USER6302', 'USER6303', 'USER6304', 'USER6305', 'USER6306', 'USER6307', 'USER6308', 'USER6309', 'USER6310', 'USER6311', 'USER6312', 'USER6313', 'USER6314', 'USER6315', 'USER6316', 'USER6317', 'USER6318', 'USER6319', 'USER6320', 'USER6321', 'USER6322', 'USER6323', 'USER6324', 'USER6325', 'USER6326', 'USER6327', 'USER6328', 'USER6329', 'USER6330', 'USER6331', 'USER6332', 'USER6333', 'USER6334', 'USER6335', 'USER6336', 'USER6337', 'USER6338', 'USER6339', 'USER6340', 'USER6341', 'USER6342', 'USER6343', 'USER6344', 'USER6345', 'USER6346', 'USER6347', 'USER6348', 'USER6349', 'USER6350', 'USER6351', 'USER6352', 'USER6353', 'USER6354', 'USER6355', 'USER6356', 'USER6357', 'USER6358', 'USER6359', 'USER6360', 'USER6361', 'USER6362', 'USER6363', 'USER6364', 'USER6365', 'USER6366', 'USER6367', 'USER6368', 'USER6369', 'USER6370', 'USER6371', 'USER6372', 'USER6373', 'USER6374', 'USER6375', 'USER6376', 'USER6377', 'USER6378', 'USER6379', 'USER6380', 'USER6381', 'USER6382', 'USER6383', 'USER6384', 'USER6385', 'USER6386', 'USER6387', 'USER6388', 'USER6389', 'USER6390', 'USER6391', 'USER6392', 'USER6393', 'USER6394', 'USER6395', 'USER6396', 'USER6397', 'USER6398', 'USER6399', 'USER6400', 'USER6401', 'USER6402', 'USER6403', 'USER6404', 'USER6405', 'USER6406', 'USER6407', 'USER6408', 'USER6409', 'USER6410', 'USER6411', 'USER6412', 'USER6413', 'USER6414', 'USER6415', 'USER6416', 'USER6417', 'USER6418', 'USER6419', 'USER6420', 'USER6421', 'USER6422', 'USER6423', 'USER6424', 'USER6425', 'USER6426', 'USER6427', 'USER6428', 'USER6429', 'USER6430', 'USER6431', 'USER6432', 'USER6433', 'USER6434', 'USER6435', 'USER6436', 'USER6437', 'USER6438', 'USER6439', 'USER6440', 'USER6441', 'USER6442', 'USER6443', 'USER6444', 'USER6445', 'USER6446', 'USER6447', 'USER6448', 'USER6449', 'USER6450', 'USER6451', 'USER6452', 'USER6453', 'USER6454', 'USER6455', 'USER6456', 'USER6457', 'USER6458', 'USER6459', 'USER6460', 'USER6461', 'USER6462', 'USER6463', 'USER6464', 'USER6465', 'USER6466', 'USER6467', 'USER6468', 'USER6469', 'USER6470', 'USER6471', 'USER6472', 'USER6473', 'USER6474', 'USER6475', 'USER6476', 'USER6477', 'USER6478', 'USER6479', 'USER6480', 'USER6481', 'USER6482', 'USER6483', 'USER6484', 'USER6485', 'USER6486', 'USER6487', 'USER6488', 'USER6489', 'USER6490', 'USER6491', 'USER6492', 'USER6493', 'USER6494', 'USER6495', 'USER6496', 'USER6497', 'USER6498', 'USER6499', 'USER6500', 'USER6501', 'USER6502', 'USER6503', 'USER6504', 'USER6505', 'USER6506', 'USER6507', 'USER6508', 'USER6509', 'USER6510', 'USER6511', 'USER6512', 'USER6513', 'USER6514', 'USER6515', 'USER6516', 'USER6517', 'USER6518', 'USER6519', 'USER6520', 'USER6521', 'USER6522', 'USER6523', 'USER6524', 'USER6525', 'USER6526', 'USER6527', 'USER6528', 'USER6529', 'USER6530', 'USER6531', 'USER6532', 'USER6533', 'USER6534', 'USER6535', 'USER6536', 'USER6537', 'USER6538', 'USER6539', 'USER6540', 'USER6541', 'USER6542', 'USER6543', 'USER6544', 'USER6545', 'USER6546', 'USER6547', 'USER6548', 'USER6549', 'USER6550', 'USER6551', 'USER6552', 'USER6553', 'USER6554', 'USER6555', 'USER6556', 'USER6557', 'USER6558', 'USER6559', 'USER6560', 'USER6561', 'USER6562', 'USER6563', 'USER6564', 'USER6565', 'USER6566', 'USER6567', 'USER6568', 'USER6569', 'USER6570', 'USER6571', 'USER6572', 'USER6573', 'USER6574', 'USER6575', 'USER6576', 'USER6577', 'USER6578', 'USER6579', 'USER6580', 'USER6581', 'USER6582', 'USER6583', 'USER6584', 'USER6585', 'USER6586', 'USER6587', 'USER6588', 'USER6589', 'USER6590', 'USER6591', 'USER6592', 'USER6593', 'USER6594', 'USER6595', 'USER6596', 'USER6597', 'USER6598', 'USER6599', 'USER6600', 'USER6601', 'USER6602', 'USER6603', 'USER6604', 'USER6605', 'USER6606', 'USER6607', 'USER6608', 'USER6609', 'USER6610', 'USER6611', 'USER6612', 'USER6613', 'USER6614', 'USER6615', 'USER6616', 'USER6617', 'USER6618', 'USER6619', 'USER6620', 'USER6621', 'USER6622', 'USER6623', 'USER6624', 'USER6625', 'USER6626', 'USER6627', 'USER6628', 'USER6629', 'USER6630', 'USER6631', 'USER6632', 'USER6633', 'USER6634', 'USER6635', 'USER6636', 'USER6637', 'USER6638', 'USER6639', 'USER6640', 'USER6641', 'USER6642', 'USER6643', 'USER6644', 'USER6645', 'USER6646', 'USER6647', 'USER6648', 'USER6649', 'USER6650', 'USER6651', 'USER6652', 'USER6653', 'USER6654', 'USER6655', 'USER6656', 'USER6657', 'USER6658', 'USER6659', 'USER6660', 'USER6661', 'USER6662', 'USER6663', 'USER6664', 'USER6665', 'USER6666', 'USER6667', 'USER6668', 'USER6669', 'USER6670', 'USER6671', 'USER6672', 'USER6673', 'USER6674', 'USER6675', 'USER6676', 'USER6677', 'USER6678', 'USER6679', 'USER6680', 'USER6681', 'USER6682', 'USER6683', 'USER6684', 'USER6685', 'USER6686', 'USER6687', 'USER6688', 'USER6689', 'USER6690', 'USER6691', 'USER6692', 'USER6693', 'USER6694', 'USER6695', 'USER6696', 'USER6697', 'USER6698', 'USER6699', 'USER6700', 'USER6701', 'USER6702', 'USER6703', 'USER6704', 'USER6705', 'USER6706', 'USER6707', 'USER6708', 'USER6709', 'USER6710', 'USER6711', 'USER6712', 'USER6713', 'USER6714', 'USER6715', 'USER6716', 'USER6717', 'USER6718', 'USER6719', 'USER6720', 'USER6721', 'USER6722', 'USER6723', 'USER6724', 'USER6725', 'USER6726', 'USER6727', 'USER6728', 'USER6729', 'USER6730', 'USER6731', 'USER6732', 'USER6733', 'USER6734', 'USER6735', 'USER6736', 'USER6737', 'USER6738', 'USER6739', 'USER6740', 'USER6741', 'USER6742', 'USER6743', 'USER6744', 'USER6745', 'USER6746', 'USER6747', 'USER6748', 'USER6749', 'USER6750', 'USER6751', 'USER6752', 'USER6753', 'USER6754', 'USER6755', 'USER6756', 'USER6757', 'USER6758', 'USER6759', 'USER6760', 'USER6761', 'USER6762', 'USER6763', 'USER6764', 'USER6765', 'USER6766', 'USER6767', 'USER6768', 'USER6769', 'USER6770', 'USER6771', 'USER6772', 'USER6773', 'USER6774', 'USER6775', 'USER6776', 'USER6777', 'USER6778', 'USER6779', 'USER6780', 'USER6781', 'USER6782', 'USER6783', 'USER6784', 'USER6785', 'USER6786', 'USER6787', 'USER6788', 'USER6789', 'USER6790', 'USER6791', 'USER6792', 'USER6793', 'USER6794', 'USER6795', 'USER6796', 'USER6797', 'USER6798', 'USER6799', 'USER6800', 'USER6801', 'USER6802', 'USER6803', 'USER6804', 'USER6805', 'USER6806', 'USER6807', 'USER6808', 'USER6809', 'USER6810', 'USER6811', 'USER6812', 'USER6813', 'USER6814', 'USER6815', 'USER6816', 'USER6817', 'USER6818', 'USER6819', 'USER6820', 'USER6821', 'USER6822', 'USER6823', 'USER6824', 'USER6825', 'USER6826', 'USER6827', 'USER6828', 'USER6829', 'USER6830', 'USER6831', 'USER6832', 'USER6833', 'USER6834', 'USER6835', 'USER6836', 'USER6837', 'USER6838', 'USER6839', 'USER6840', 'USER6841', 'USER6842', 'USER6843', 'USER6844', 'USER6845', 'USER6846', 'USER6847', 'USER6848', 'USER6849', 'USER6850', 'USER6851', 'USER6852', 'USER6853', 'USER6854', 'USER6855', 'USER6856', 'USER6857', 'USER6858', 'USER6859', 'USER6860', 'USER6861', 'USER6862', 'USER6863', 'USER6864', 'USER6865', 'USER6866', 'USER6867', 'USER6868', 'USER6869', 'USER6870', 'USER6871', 'USER6872', 'USER6873', 'USER6874', 'USER6875', 'USER6876', 'USER6877', 'USER6878', 'USER6879', 'USER6880', 'USER6881', 'USER6882', 'USER6883', 'USER6884', 'USER6885', 'USER6886', 'USER6887', 'USER6888', 'USER6889', 'USER6890', 'USER6891', 'USER6892', 'USER6893', 'USER6894', 'USER6895', 'USER6896', 'USER6897', 'USER6898', 'USER6899', 'USER6900', 'USER6901', 'USER6902', 'USER6903', 'USER6904', 'USER6905', 'USER6906', 'USER6907', 'USER6908', 'USER6909', 'USER6910', 'USER6911', 'USER6912', 'USER6913', 'USER6914', 'USER6915', 'USER6916', 'USER6917', 'USER6918', 'USER6919', 'USER6920', 'USER6921', 'USER6922', 'USER6923', 'USER6924', 'USER6925', 'USER6926', 'USER6927', 'USER6928', 'USER6929', 'USER6930', 'USER6931', 'USER6932', 'USER6933', 'USER6934', 'USER6935', 'USER6936', 'USER6937', 'USER6938', 'USER6939', 'USER6940', 'USER6941', 'USER6942', 'USER6943', 'USER6944', 'USER6945', 'USER6946', 'USER6947', 'USER6948', 'USER6949', 'USER6950', 'USER6951', 'USER6952', 'USER6953', 'USER6954', 'USER6955', 'USER6956', 'USER6957', 'USER6958', 'USER6959', 'USER6960', 'USER6961', 'USER6962', 'USER6963', 'USER6964', 'USER6965', 'USER6966', 'USER6967', 'USER6968', 'USER6969', 'USER6970', 'USER6971', 'USER6972', 'USER6973', 'USER6974', 'USER6975', 'USER6976', 'USER6977', 'USER6978', 'USER6979', 'USER6980', 'USER6981', 'USER6982', 'USER6983', 'USER6984', 'USER6985', 'USER6986', 'USER6987', 'USER6988', 'USER6989', 'USER6990', 'USER6991', 'USER6992', 'USER6993', 'USER6994', 'USER6995', 'USER6996', 'USER6997', 'USER6998', 'USER6999', 'USER7000', 'USER7001', 'USER7002', 'USER7003', 'USER7004', 'USER7005', 'USER7006', 'USER7007', 'USER7008', 'USER7009', 'USER7010', 'USER7011', 'USER7012', 'USER7013', 'USER7014', 'USER7015', 'USER7016', 'USER7017', 'USER7018', 'USER7019', 'USER7020', 'USER7021', 'USER7022', 'USER7023', 'USER7024', 'USER7025', 'USER7026', 'USER7027', 'USER7028', 'USER7029', 'USER7030', 'USER7031', 'USER7032', 'USER7033', 'USER7034', 'USER7035', 'USER7036', 'USER7037', 'USER7038', 'USER7039', 'USER7040', 'USER7041', 'USER7042', 'USER7043', 'USER7044', 'USER7045', 'USER7046', 'USER7047', 'USER7048', 'USER7049', 'USER7050', 'USER7051', 'USER7052', 'USER7053', 'USER7054', 'USER7055', 'USER7056', 'USER7057', 'USER7058', 'USER7059', 'USER7060', 'USER7061', 'USER7062', 'USER7063', 'USER7064', 'USER7065', 'USER7066', 'USER7067', 'USER7068', 'USER7069', 'USER7070', 'USER7071', 'USER7072', 'USER7073', 'USER7074', 'USER7075', 'USER7076', 'USER7077', 'USER7078', 'USER7079', 'USER7080', 'USER7081', 'USER7082', 'USER7083', 'USER7084', 'USER7085', 'USER7086', 'USER7087', 'USER7088', 'USER7089', 'USER7090', 'USER7091', 'USER7092', 'USER7093', 'USER7094', 'USER7095', 'USER7096', 'USER7097', 'USER7098', 'USER7099', 'USER7100', 'USER7101', 'USER7102', 'USER7103', 'USER7104', 'USER7105', 'USER7106', 'USER7107', 'USER7108', 'USER7109', 'USER7110', 'USER7111', 'USER7112', 'USER7113', 'USER7114', 'USER7115', 'USER7116', 'USER7117', 'USER7118', 'USER7119', 'USER7120', 'USER7121', 'USER7122', 'USER7123', 'USER7124', 'USER7125', 'USER7126', 'USER7127', 'USER7128', 'USER7129', 'USER7130', 'USER7131', 'USER7132', 'USER7133', 'USER7134', 'USER7135', 'USER7136', 'USER7137', 'USER7138', 'USER7139', 'USER7140', 'USER7141', 'USER7142', 'USER7143', 'USER7144', 'USER7145', 'USER7146', 'USER7147', 'USER7148', 'USER7149', 'USER7150', 'USER7151', 'USER7152', 'USER7153', 'USER7154', 'USER7155', 'USER7156', 'USER7157', 'USER7158', 'USER7159', 'USER7160', 'USER7161', 'USER7162', 'USER7163', 'USER7164', 'USER7165', 'USER7166', 'USER7167', 'USER7168', 'USER7169', 'USER7170', 'USER7171', 'USER7172', 'USER7173', 'USER7174', 'USER7175', 'USER7176', 'USER7177', 'USER7178', 'USER7179', 'USER7180', 'USER7181', 'USER7182', 'USER7183', 'USER7184', 'USER7185', 'USER7186', 'USER7187', 'USER7188', 'USER7189', 'USER7190', 'USER7191', 'USER7192', 'USER7193', 'USER7194', 'USER7195', 'USER7196', 'USER7197', 'USER7198', 'USER7199', 'USER7200', 'USER7201', 'USER7202', 'USER7203', 'USER7204', 'USER7205', 'USER7206', 'USER7207', 'USER7208', 'USER7209', 'USER7210', 'USER7211', 'USER7212', 'USER7213', 'USER7214', 'USER7215', 'USER7216', 'USER7217', 'USER7218', 'USER7219', 'USER7220', 'USER7221', 'USER7222', 'USER7223', 'USER7224', 'USER7225', 'USER7226', 'USER7227', 'USER7228', 'USER7229', 'USER7230', 'USER7231', 'USER7232', 'USER7233', 'USER7234', 'USER7235', 'USER7236', 'USER7237', 'USER7238', 'USER7239', 'USER7240', 'USER7241', 'USER7242', 'USER7243', 'USER7244', 'USER7245', 'USER7246', 'USER7247', 'USER7248', 'USER7249', 'USER7250', 'USER7251', 'USER7252', 'USER7253', 'USER7254', 'USER7255', 'USER7256', 'USER7257', 'USER7258', 'USER7259', 'USER7260', 'USER7261', 'USER7262', 'USER7263', 'USER7264', 'USER7265', 'USER7266', 'USER7267', 'USER7268', 'USER7269', 'USER7270', 'USER7271', 'USER7272', 'USER7273', 'USER7274', 'USER7275', 'USER7276', 'USER7277', 'USER7278', 'USER7279', 'USER7280', 'USER7281', 'USER7282', 'USER7283', 'USER7284', 'USER7285', 'USER7286', 'USER7287', 'USER7288', 'USER7289', 'USER7290', 'USER7291', 'USER7292', 'USER7293', 'USER7294', 'USER7295', 'USER7296', 'USER7297', 'USER7298', 'USER7299', 'USER7300', 'USER7301', 'USER7302', 'USER7303', 'USER7304', 'USER7305', 'USER7306', 'USER7307', 'USER7308', 'USER7309', 'USER7310', 'USER7311', 'USER7312', 'USER7313', 'USER7314', 'USER7315', 'USER7316', 'USER7317', 'USER7318', 'USER7319', 'USER7320', 'USER7321', 'USER7322', 'USER7323', 'USER7324', 'USER7325', 'USER7326', 'USER7327', 'USER7328', 'USER7329', 'USER7330', 'USER7331', 'USER7332', 'USER7333', 'USER7334', 'USER7335', 'USER7336', 'USER7337', 'USER7338', 'USER7339', 'USER7340', 'USER7341', 'USER7342', 'USER7343', 'USER7344', 'USER7345', 'USER7346', 'USER7347', 'USER7348', 'USER7349', 'USER7350', 'USER7351', 'USER7352', 'USER7353', 'USER7354', 'USER7355', 'USER7356', 'USER7357', 'USER7358', 'USER7359', 'USER7360', 'USER7361', 'USER7362', 'USER7363', 'USER7364', 'USER7365', 'USER7366', 'USER7367', 'USER7368', 'USER7369', 'USER7370', 'USER7371', 'USER7372', 'USER7373', 'USER7374', 'USER7375', 'USER7376', 'USER7377', 'USER7378', 'USER7379', 'USER7380', 'USER7381', 'USER7382', 'USER7383', 'USER7384', 'USER7385', 'USER7386', 'USER7387', 'USER7388', 'USER7389', 'USER7390', 'USER7391', 'USER7392', 'USER7393', 'USER7394', 'USER7395', 'USER7396', 'USER7397', 'USER7398', 'USER7399', 'USER7400', 'USER7401', 'USER7402', 'USER7403', 'USER7404', 'USER7405', 'USER7406', 'USER7407', 'USER7408', 'USER7409', 'USER7410', 'USER7411', 'USER7412', 'USER7413', 'USER7414', 'USER7415', 'USER7416', 'USER7417', 'USER7418', 'USER7419', 'USER7420', 'USER7421', 'USER7422', 'USER7423', 'USER7424', 'USER7425', 'USER7426', 'USER7427', 'USER7428', 'USER7429', 'USER7430', 'USER7431', 'USER7432', 'USER7433', 'USER7434', 'USER7435', 'USER7436', 'USER7437', 'USER7438', 'USER7439', 'USER7440', 'USER7441', 'USER7442', 'USER7443', 'USER7444', 'USER7445', 'USER7446', 'USER7447', 'USER7448', 'USER7449', 'USER7450', 'USER7451', 'USER7452', 'USER7453', 'USER7454', 'USER7455', 'USER7456', 'USER7457', 'USER7458', 'USER7459', 'USER7460', 'USER7461', 'USER7462', 'USER7463', 'USER7464', 'USER7465', 'USER7466', 'USER7467', 'USER7468', 'USER7469', 'USER7470', 'USER7471', 'USER7472', 'USER7473', 'USER7474', 'USER7475', 'USER7476', 'USER7477', 'USER7478', 'USER7479', 'USER7480', 'USER7481', 'USER7482', 'USER7483', 'USER7484', 'USER7485', 'USER7486', 'USER7487', 'USER7488', 'USER7489', 'USER7490', 'USER7491', 'USER7492', 'USER7493', 'USER7494', 'USER7495', 'USER7496', 'USER7497', 'USER7498', 'USER7499', 'USER7500', 'USER7501', 'USER7502', 'USER7503', 'USER7504', 'USER7505', 'USER7506', 'USER7507', 'USER7508', 'USER7509', 'USER7510', 'USER7511', 'USER7512', 'USER7513', 'USER7514', 'USER7515', 'USER7516', 'USER7517', 'USER7518', 'USER7519', 'USER7520', 'USER7521', 'USER7522', 'USER7523', 'USER7524', 'USER7525', 'USER7526', 'USER7527', 'USER7528', 'USER7529', 'USER7530', 'USER7531', 'USER7532']\n",
            "encoded userID :  {'USER1': 0, 'USER2': 1, 'USER3': 2, 'USER4': 3, 'USER5': 4, 'USER6': 5, 'USER7': 6, 'USER8': 7, 'USER9': 8, 'USER10': 9, 'USER11': 10, 'USER12': 11, 'USER13': 12, 'USER14': 13, 'USER15': 14, 'USER16': 15, 'USER17': 16, 'USER18': 17, 'USER19': 18, 'USER20': 19, 'USER21': 20, 'USER22': 21, 'USER23': 22, 'USER24': 23, 'USER25': 24, 'USER26': 25, 'USER27': 26, 'USER28': 27, 'USER29': 28, 'USER30': 29, 'USER31': 30, 'USER32': 31, 'USER33': 32, 'USER34': 33, 'USER35': 34, 'USER36': 35, 'USER37': 36, 'USER38': 37, 'USER39': 38, 'USER40': 39, 'USER41': 40, 'USER42': 41, 'USER43': 42, 'USER44': 43, 'USER45': 44, 'USER46': 45, 'USER47': 46, 'USER48': 47, 'USER49': 48, 'USER50': 49, 'USER51': 50, 'USER52': 51, 'USER53': 52, 'USER54': 53, 'USER55': 54, 'USER56': 55, 'USER57': 56, 'USER58': 57, 'USER59': 58, 'USER60': 59, 'USER61': 60, 'USER62': 61, 'USER63': 62, 'USER64': 63, 'USER65': 64, 'USER66': 65, 'USER67': 66, 'USER68': 67, 'USER69': 68, 'USER70': 69, 'USER71': 70, 'USER72': 71, 'USER73': 72, 'USER74': 73, 'USER75': 74, 'USER76': 75, 'USER77': 76, 'USER78': 77, 'USER79': 78, 'USER80': 79, 'USER81': 80, 'USER82': 81, 'USER83': 82, 'USER84': 83, 'USER85': 84, 'USER86': 85, 'USER87': 86, 'USER88': 87, 'USER89': 88, 'USER90': 89, 'USER91': 90, 'USER92': 91, 'USER93': 92, 'USER94': 93, 'USER95': 94, 'USER96': 95, 'USER97': 96, 'USER98': 97, 'USER99': 98, 'USER100': 99, 'USER101': 100, 'USER102': 101, 'USER103': 102, 'USER104': 103, 'USER105': 104, 'USER106': 105, 'USER107': 106, 'USER108': 107, 'USER109': 108, 'USER110': 109, 'USER111': 110, 'USER112': 111, 'USER113': 112, 'USER114': 113, 'USER115': 114, 'USER116': 115, 'USER117': 116, 'USER118': 117, 'USER119': 118, 'USER120': 119, 'USER121': 120, 'USER122': 121, 'USER123': 122, 'USER124': 123, 'USER125': 124, 'USER126': 125, 'USER127': 126, 'USER128': 127, 'USER129': 128, 'USER130': 129, 'USER131': 130, 'USER132': 131, 'USER133': 132, 'USER134': 133, 'USER135': 134, 'USER136': 135, 'USER137': 136, 'USER138': 137, 'USER139': 138, 'USER140': 139, 'USER141': 140, 'USER142': 141, 'USER143': 142, 'USER144': 143, 'USER145': 144, 'USER146': 145, 'USER147': 146, 'USER148': 147, 'USER149': 148, 'USER150': 149, 'USER151': 150, 'USER152': 151, 'USER153': 152, 'USER154': 153, 'USER155': 154, 'USER156': 155, 'USER157': 156, 'USER158': 157, 'USER159': 158, 'USER160': 159, 'USER161': 160, 'USER162': 161, 'USER163': 162, 'USER164': 163, 'USER165': 164, 'USER166': 165, 'USER167': 166, 'USER168': 167, 'USER169': 168, 'USER170': 169, 'USER171': 170, 'USER172': 171, 'USER173': 172, 'USER174': 173, 'USER175': 174, 'USER176': 175, 'USER177': 176, 'USER178': 177, 'USER179': 178, 'USER180': 179, 'USER181': 180, 'USER182': 181, 'USER183': 182, 'USER184': 183, 'USER185': 184, 'USER186': 185, 'USER187': 186, 'USER188': 187, 'USER189': 188, 'USER190': 189, 'USER191': 190, 'USER192': 191, 'USER193': 192, 'USER194': 193, 'USER195': 194, 'USER196': 195, 'USER197': 196, 'USER198': 197, 'USER199': 198, 'USER200': 199, 'USER201': 200, 'USER202': 201, 'USER203': 202, 'USER204': 203, 'USER205': 204, 'USER206': 205, 'USER207': 206, 'USER208': 207, 'USER209': 208, 'USER210': 209, 'USER211': 210, 'USER212': 211, 'USER213': 212, 'USER214': 213, 'USER215': 214, 'USER216': 215, 'USER217': 216, 'USER218': 217, 'USER219': 218, 'USER220': 219, 'USER221': 220, 'USER222': 221, 'USER223': 222, 'USER224': 223, 'USER225': 224, 'USER226': 225, 'USER227': 226, 'USER228': 227, 'USER229': 228, 'USER230': 229, 'USER231': 230, 'USER232': 231, 'USER233': 232, 'USER234': 233, 'USER235': 234, 'USER236': 235, 'USER237': 236, 'USER238': 237, 'USER239': 238, 'USER240': 239, 'USER241': 240, 'USER242': 241, 'USER243': 242, 'USER244': 243, 'USER245': 244, 'USER246': 245, 'USER247': 246, 'USER248': 247, 'USER249': 248, 'USER250': 249, 'USER251': 250, 'USER252': 251, 'USER253': 252, 'USER254': 253, 'USER255': 254, 'USER256': 255, 'USER257': 256, 'USER258': 257, 'USER259': 258, 'USER260': 259, 'USER261': 260, 'USER262': 261, 'USER263': 262, 'USER264': 263, 'USER265': 264, 'USER266': 265, 'USER267': 266, 'USER268': 267, 'USER269': 268, 'USER270': 269, 'USER271': 270, 'USER272': 271, 'USER273': 272, 'USER274': 273, 'USER275': 274, 'USER276': 275, 'USER277': 276, 'USER278': 277, 'USER279': 278, 'USER280': 279, 'USER281': 280, 'USER282': 281, 'USER283': 282, 'USER284': 283, 'USER285': 284, 'USER286': 285, 'USER287': 286, 'USER288': 287, 'USER289': 288, 'USER290': 289, 'USER291': 290, 'USER292': 291, 'USER293': 292, 'USER294': 293, 'USER295': 294, 'USER296': 295, 'USER297': 296, 'USER298': 297, 'USER299': 298, 'USER300': 299, 'USER301': 300, 'USER302': 301, 'USER303': 302, 'USER304': 303, 'USER305': 304, 'USER306': 305, 'USER307': 306, 'USER308': 307, 'USER309': 308, 'USER310': 309, 'USER311': 310, 'USER312': 311, 'USER313': 312, 'USER314': 313, 'USER315': 314, 'USER316': 315, 'USER317': 316, 'USER318': 317, 'USER319': 318, 'USER320': 319, 'USER321': 320, 'USER322': 321, 'USER323': 322, 'USER324': 323, 'USER325': 324, 'USER326': 325, 'USER327': 326, 'USER328': 327, 'USER329': 328, 'USER330': 329, 'USER331': 330, 'USER332': 331, 'USER333': 332, 'USER334': 333, 'USER335': 334, 'USER336': 335, 'USER337': 336, 'USER338': 337, 'USER339': 338, 'USER340': 339, 'USER341': 340, 'USER342': 341, 'USER343': 342, 'USER344': 343, 'USER345': 344, 'USER346': 345, 'USER347': 346, 'USER348': 347, 'USER349': 348, 'USER350': 349, 'USER351': 350, 'USER352': 351, 'USER353': 352, 'USER354': 353, 'USER355': 354, 'USER356': 355, 'USER357': 356, 'USER358': 357, 'USER359': 358, 'USER360': 359, 'USER361': 360, 'USER362': 361, 'USER363': 362, 'USER364': 363, 'USER365': 364, 'USER366': 365, 'USER367': 366, 'USER368': 367, 'USER369': 368, 'USER370': 369, 'USER371': 370, 'USER372': 371, 'USER373': 372, 'USER374': 373, 'USER375': 374, 'USER376': 375, 'USER377': 376, 'USER378': 377, 'USER379': 378, 'USER380': 379, 'USER381': 380, 'USER382': 381, 'USER383': 382, 'USER384': 383, 'USER385': 384, 'USER386': 385, 'USER387': 386, 'USER388': 387, 'USER389': 388, 'USER390': 389, 'USER391': 390, 'USER392': 391, 'USER393': 392, 'USER394': 393, 'USER395': 394, 'USER396': 395, 'USER397': 396, 'USER398': 397, 'USER399': 398, 'USER400': 399, 'USER401': 400, 'USER402': 401, 'USER403': 402, 'USER404': 403, 'USER405': 404, 'USER406': 405, 'USER407': 406, 'USER408': 407, 'USER409': 408, 'USER410': 409, 'USER411': 410, 'USER412': 411, 'USER413': 412, 'USER414': 413, 'USER415': 414, 'USER416': 415, 'USER417': 416, 'USER418': 417, 'USER419': 418, 'USER420': 419, 'USER421': 420, 'USER422': 421, 'USER423': 422, 'USER424': 423, 'USER425': 424, 'USER426': 425, 'USER427': 426, 'USER428': 427, 'USER429': 428, 'USER430': 429, 'USER431': 430, 'USER432': 431, 'USER433': 432, 'USER434': 433, 'USER435': 434, 'USER436': 435, 'USER437': 436, 'USER438': 437, 'USER439': 438, 'USER440': 439, 'USER441': 440, 'USER442': 441, 'USER443': 442, 'USER444': 443, 'USER445': 444, 'USER446': 445, 'USER447': 446, 'USER448': 447, 'USER449': 448, 'USER450': 449, 'USER451': 450, 'USER452': 451, 'USER453': 452, 'USER454': 453, 'USER455': 454, 'USER456': 455, 'USER457': 456, 'USER458': 457, 'USER459': 458, 'USER460': 459, 'USER461': 460, 'USER462': 461, 'USER463': 462, 'USER464': 463, 'USER465': 464, 'USER466': 465, 'USER467': 466, 'USER468': 467, 'USER469': 468, 'USER470': 469, 'USER471': 470, 'USER472': 471, 'USER473': 472, 'USER474': 473, 'USER475': 474, 'USER476': 475, 'USER477': 476, 'USER478': 477, 'USER479': 478, 'USER480': 479, 'USER481': 480, 'USER482': 481, 'USER483': 482, 'USER484': 483, 'USER485': 484, 'USER486': 485, 'USER487': 486, 'USER488': 487, 'USER489': 488, 'USER490': 489, 'USER491': 490, 'USER492': 491, 'USER493': 492, 'USER494': 493, 'USER495': 494, 'USER496': 495, 'USER497': 496, 'USER498': 497, 'USER499': 498, 'USER500': 499, 'USER501': 500, 'USER502': 501, 'USER503': 502, 'USER504': 503, 'USER505': 504, 'USER506': 505, 'USER507': 506, 'USER508': 507, 'USER509': 508, 'USER510': 509, 'USER511': 510, 'USER512': 511, 'USER513': 512, 'USER514': 513, 'USER515': 514, 'USER516': 515, 'USER517': 516, 'USER518': 517, 'USER519': 518, 'USER520': 519, 'USER521': 520, 'USER522': 521, 'USER523': 522, 'USER524': 523, 'USER525': 524, 'USER526': 525, 'USER527': 526, 'USER528': 527, 'USER529': 528, 'USER530': 529, 'USER531': 530, 'USER532': 531, 'USER533': 532, 'USER534': 533, 'USER535': 534, 'USER536': 535, 'USER537': 536, 'USER538': 537, 'USER539': 538, 'USER540': 539, 'USER541': 540, 'USER542': 541, 'USER543': 542, 'USER544': 543, 'USER545': 544, 'USER546': 545, 'USER547': 546, 'USER548': 547, 'USER549': 548, 'USER550': 549, 'USER551': 550, 'USER552': 551, 'USER553': 552, 'USER554': 553, 'USER555': 554, 'USER556': 555, 'USER557': 556, 'USER558': 557, 'USER559': 558, 'USER560': 559, 'USER561': 560, 'USER562': 561, 'USER563': 562, 'USER564': 563, 'USER565': 564, 'USER566': 565, 'USER567': 566, 'USER568': 567, 'USER569': 568, 'USER570': 569, 'USER571': 570, 'USER572': 571, 'USER573': 572, 'USER574': 573, 'USER575': 574, 'USER576': 575, 'USER577': 576, 'USER578': 577, 'USER579': 578, 'USER580': 579, 'USER581': 580, 'USER582': 581, 'USER583': 582, 'USER584': 583, 'USER585': 584, 'USER586': 585, 'USER587': 586, 'USER588': 587, 'USER589': 588, 'USER590': 589, 'USER591': 590, 'USER592': 591, 'USER593': 592, 'USER594': 593, 'USER595': 594, 'USER596': 595, 'USER597': 596, 'USER598': 597, 'USER599': 598, 'USER600': 599, 'USER601': 600, 'USER602': 601, 'USER603': 602, 'USER604': 603, 'USER605': 604, 'USER606': 605, 'USER607': 606, 'USER608': 607, 'USER609': 608, 'USER610': 609, 'USER611': 610, 'USER612': 611, 'USER613': 612, 'USER614': 613, 'USER615': 614, 'USER616': 615, 'USER617': 616, 'USER618': 617, 'USER619': 618, 'USER620': 619, 'USER621': 620, 'USER622': 621, 'USER623': 622, 'USER624': 623, 'USER625': 624, 'USER626': 625, 'USER627': 626, 'USER628': 627, 'USER629': 628, 'USER630': 629, 'USER631': 630, 'USER632': 631, 'USER633': 632, 'USER634': 633, 'USER635': 634, 'USER636': 635, 'USER637': 636, 'USER638': 637, 'USER639': 638, 'USER640': 639, 'USER641': 640, 'USER642': 641, 'USER643': 642, 'USER644': 643, 'USER645': 644, 'USER646': 645, 'USER647': 646, 'USER648': 647, 'USER649': 648, 'USER650': 649, 'USER651': 650, 'USER652': 651, 'USER653': 652, 'USER654': 653, 'USER655': 654, 'USER656': 655, 'USER657': 656, 'USER658': 657, 'USER659': 658, 'USER660': 659, 'USER661': 660, 'USER662': 661, 'USER663': 662, 'USER664': 663, 'USER665': 664, 'USER666': 665, 'USER667': 666, 'USER668': 667, 'USER669': 668, 'USER670': 669, 'USER671': 670, 'USER672': 671, 'USER673': 672, 'USER674': 673, 'USER675': 674, 'USER676': 675, 'USER677': 676, 'USER678': 677, 'USER679': 678, 'USER680': 679, 'USER681': 680, 'USER682': 681, 'USER683': 682, 'USER684': 683, 'USER685': 684, 'USER686': 685, 'USER687': 686, 'USER688': 687, 'USER689': 688, 'USER690': 689, 'USER691': 690, 'USER692': 691, 'USER693': 692, 'USER694': 693, 'USER695': 694, 'USER696': 695, 'USER697': 696, 'USER698': 697, 'USER699': 698, 'USER700': 699, 'USER701': 700, 'USER702': 701, 'USER703': 702, 'USER704': 703, 'USER705': 704, 'USER706': 705, 'USER707': 706, 'USER708': 707, 'USER709': 708, 'USER710': 709, 'USER711': 710, 'USER712': 711, 'USER713': 712, 'USER714': 713, 'USER715': 714, 'USER716': 715, 'USER717': 716, 'USER718': 717, 'USER719': 718, 'USER720': 719, 'USER721': 720, 'USER722': 721, 'USER723': 722, 'USER724': 723, 'USER725': 724, 'USER726': 725, 'USER727': 726, 'USER728': 727, 'USER729': 728, 'USER730': 729, 'USER731': 730, 'USER732': 731, 'USER733': 732, 'USER734': 733, 'USER735': 734, 'USER736': 735, 'USER737': 736, 'USER738': 737, 'USER739': 738, 'USER740': 739, 'USER741': 740, 'USER742': 741, 'USER743': 742, 'USER744': 743, 'USER745': 744, 'USER746': 745, 'USER747': 746, 'USER748': 747, 'USER749': 748, 'USER750': 749, 'USER751': 750, 'USER752': 751, 'USER753': 752, 'USER754': 753, 'USER755': 754, 'USER756': 755, 'USER757': 756, 'USER758': 757, 'USER759': 758, 'USER760': 759, 'USER761': 760, 'USER762': 761, 'USER763': 762, 'USER764': 763, 'USER765': 764, 'USER766': 765, 'USER767': 766, 'USER768': 767, 'USER769': 768, 'USER770': 769, 'USER771': 770, 'USER772': 771, 'USER773': 772, 'USER774': 773, 'USER775': 774, 'USER776': 775, 'USER777': 776, 'USER778': 777, 'USER779': 778, 'USER780': 779, 'USER781': 780, 'USER782': 781, 'USER783': 782, 'USER784': 783, 'USER785': 784, 'USER786': 785, 'USER787': 786, 'USER788': 787, 'USER789': 788, 'USER790': 789, 'USER791': 790, 'USER792': 791, 'USER793': 792, 'USER794': 793, 'USER795': 794, 'USER796': 795, 'USER797': 796, 'USER798': 797, 'USER799': 798, 'USER800': 799, 'USER801': 800, 'USER802': 801, 'USER803': 802, 'USER804': 803, 'USER805': 804, 'USER806': 805, 'USER807': 806, 'USER808': 807, 'USER809': 808, 'USER810': 809, 'USER811': 810, 'USER812': 811, 'USER813': 812, 'USER814': 813, 'USER815': 814, 'USER816': 815, 'USER817': 816, 'USER818': 817, 'USER819': 818, 'USER820': 819, 'USER821': 820, 'USER822': 821, 'USER823': 822, 'USER824': 823, 'USER825': 824, 'USER826': 825, 'USER827': 826, 'USER828': 827, 'USER829': 828, 'USER830': 829, 'USER831': 830, 'USER832': 831, 'USER833': 832, 'USER834': 833, 'USER835': 834, 'USER836': 835, 'USER837': 836, 'USER838': 837, 'USER839': 838, 'USER840': 839, 'USER841': 840, 'USER842': 841, 'USER843': 842, 'USER844': 843, 'USER845': 844, 'USER846': 845, 'USER847': 846, 'USER848': 847, 'USER849': 848, 'USER850': 849, 'USER851': 850, 'USER852': 851, 'USER853': 852, 'USER854': 853, 'USER855': 854, 'USER856': 855, 'USER857': 856, 'USER858': 857, 'USER859': 858, 'USER860': 859, 'USER861': 860, 'USER862': 861, 'USER863': 862, 'USER864': 863, 'USER865': 864, 'USER866': 865, 'USER867': 866, 'USER868': 867, 'USER869': 868, 'USER870': 869, 'USER871': 870, 'USER872': 871, 'USER873': 872, 'USER874': 873, 'USER875': 874, 'USER876': 875, 'USER877': 876, 'USER878': 877, 'USER879': 878, 'USER880': 879, 'USER881': 880, 'USER882': 881, 'USER883': 882, 'USER884': 883, 'USER885': 884, 'USER886': 885, 'USER887': 886, 'USER888': 887, 'USER889': 888, 'USER890': 889, 'USER891': 890, 'USER892': 891, 'USER893': 892, 'USER894': 893, 'USER895': 894, 'USER896': 895, 'USER897': 896, 'USER898': 897, 'USER899': 898, 'USER900': 899, 'USER901': 900, 'USER902': 901, 'USER903': 902, 'USER904': 903, 'USER905': 904, 'USER906': 905, 'USER907': 906, 'USER908': 907, 'USER909': 908, 'USER910': 909, 'USER911': 910, 'USER912': 911, 'USER913': 912, 'USER914': 913, 'USER915': 914, 'USER916': 915, 'USER917': 916, 'USER918': 917, 'USER919': 918, 'USER920': 919, 'USER921': 920, 'USER922': 921, 'USER923': 922, 'USER924': 923, 'USER925': 924, 'USER926': 925, 'USER927': 926, 'USER928': 927, 'USER929': 928, 'USER930': 929, 'USER931': 930, 'USER932': 931, 'USER933': 932, 'USER934': 933, 'USER935': 934, 'USER936': 935, 'USER937': 936, 'USER938': 937, 'USER939': 938, 'USER940': 939, 'USER941': 940, 'USER942': 941, 'USER943': 942, 'USER944': 943, 'USER945': 944, 'USER946': 945, 'USER947': 946, 'USER948': 947, 'USER949': 948, 'USER950': 949, 'USER951': 950, 'USER952': 951, 'USER953': 952, 'USER954': 953, 'USER955': 954, 'USER956': 955, 'USER957': 956, 'USER958': 957, 'USER959': 958, 'USER960': 959, 'USER961': 960, 'USER962': 961, 'USER963': 962, 'USER964': 963, 'USER965': 964, 'USER966': 965, 'USER967': 966, 'USER968': 967, 'USER969': 968, 'USER970': 969, 'USER971': 970, 'USER972': 971, 'USER973': 972, 'USER974': 973, 'USER975': 974, 'USER976': 975, 'USER977': 976, 'USER978': 977, 'USER979': 978, 'USER980': 979, 'USER981': 980, 'USER982': 981, 'USER983': 982, 'USER984': 983, 'USER985': 984, 'USER986': 985, 'USER987': 986, 'USER988': 987, 'USER989': 988, 'USER990': 989, 'USER991': 990, 'USER992': 991, 'USER993': 992, 'USER994': 993, 'USER995': 994, 'USER996': 995, 'USER997': 996, 'USER998': 997, 'USER999': 998, 'USER1000': 999, 'USER1001': 1000, 'USER1002': 1001, 'USER1003': 1002, 'USER1004': 1003, 'USER1005': 1004, 'USER1006': 1005, 'USER1007': 1006, 'USER1008': 1007, 'USER1009': 1008, 'USER1010': 1009, 'USER1011': 1010, 'USER1012': 1011, 'USER1013': 1012, 'USER1014': 1013, 'USER1015': 1014, 'USER1016': 1015, 'USER1017': 1016, 'USER1018': 1017, 'USER1019': 1018, 'USER1020': 1019, 'USER1021': 1020, 'USER1022': 1021, 'USER1023': 1022, 'USER1024': 1023, 'USER1025': 1024, 'USER1026': 1025, 'USER1027': 1026, 'USER1028': 1027, 'USER1029': 1028, 'USER1030': 1029, 'USER1031': 1030, 'USER1032': 1031, 'USER1033': 1032, 'USER1034': 1033, 'USER1035': 1034, 'USER1036': 1035, 'USER1037': 1036, 'USER1038': 1037, 'USER1039': 1038, 'USER1040': 1039, 'USER1041': 1040, 'USER1042': 1041, 'USER1043': 1042, 'USER1044': 1043, 'USER1045': 1044, 'USER1046': 1045, 'USER1047': 1046, 'USER1048': 1047, 'USER1049': 1048, 'USER1050': 1049, 'USER1051': 1050, 'USER1052': 1051, 'USER1053': 1052, 'USER1054': 1053, 'USER1055': 1054, 'USER1056': 1055, 'USER1057': 1056, 'USER1058': 1057, 'USER1059': 1058, 'USER1060': 1059, 'USER1061': 1060, 'USER1062': 1061, 'USER1063': 1062, 'USER1064': 1063, 'USER1065': 1064, 'USER1066': 1065, 'USER1067': 1066, 'USER1068': 1067, 'USER1069': 1068, 'USER1070': 1069, 'USER1071': 1070, 'USER1072': 1071, 'USER1073': 1072, 'USER1074': 1073, 'USER1075': 1074, 'USER1076': 1075, 'USER1077': 1076, 'USER1078': 1077, 'USER1079': 1078, 'USER1080': 1079, 'USER1081': 1080, 'USER1082': 1081, 'USER1083': 1082, 'USER1084': 1083, 'USER1085': 1084, 'USER1086': 1085, 'USER1087': 1086, 'USER1088': 1087, 'USER1089': 1088, 'USER1090': 1089, 'USER1091': 1090, 'USER1092': 1091, 'USER1093': 1092, 'USER1094': 1093, 'USER1095': 1094, 'USER1096': 1095, 'USER1097': 1096, 'USER1098': 1097, 'USER1099': 1098, 'USER1100': 1099, 'USER1101': 1100, 'USER1102': 1101, 'USER1103': 1102, 'USER1104': 1103, 'USER1105': 1104, 'USER1106': 1105, 'USER1107': 1106, 'USER1108': 1107, 'USER1109': 1108, 'USER1110': 1109, 'USER1111': 1110, 'USER1112': 1111, 'USER1113': 1112, 'USER1114': 1113, 'USER1115': 1114, 'USER1116': 1115, 'USER1117': 1116, 'USER1118': 1117, 'USER1119': 1118, 'USER1120': 1119, 'USER1121': 1120, 'USER1122': 1121, 'USER1123': 1122, 'USER1124': 1123, 'USER1125': 1124, 'USER1126': 1125, 'USER1127': 1126, 'USER1128': 1127, 'USER1129': 1128, 'USER1130': 1129, 'USER1131': 1130, 'USER1132': 1131, 'USER1133': 1132, 'USER1134': 1133, 'USER1135': 1134, 'USER1136': 1135, 'USER1137': 1136, 'USER1138': 1137, 'USER1139': 1138, 'USER1140': 1139, 'USER1141': 1140, 'USER1142': 1141, 'USER1143': 1142, 'USER1144': 1143, 'USER1145': 1144, 'USER1146': 1145, 'USER1147': 1146, 'USER1148': 1147, 'USER1149': 1148, 'USER1150': 1149, 'USER1151': 1150, 'USER1152': 1151, 'USER1153': 1152, 'USER1154': 1153, 'USER1155': 1154, 'USER1156': 1155, 'USER1157': 1156, 'USER1158': 1157, 'USER1159': 1158, 'USER1160': 1159, 'USER1161': 1160, 'USER1162': 1161, 'USER1163': 1162, 'USER1164': 1163, 'USER1165': 1164, 'USER1166': 1165, 'USER1167': 1166, 'USER1168': 1167, 'USER1169': 1168, 'USER1170': 1169, 'USER1171': 1170, 'USER1172': 1171, 'USER1173': 1172, 'USER1174': 1173, 'USER1175': 1174, 'USER1176': 1175, 'USER1177': 1176, 'USER1178': 1177, 'USER1179': 1178, 'USER1180': 1179, 'USER1181': 1180, 'USER1182': 1181, 'USER1183': 1182, 'USER1184': 1183, 'USER1185': 1184, 'USER1186': 1185, 'USER1187': 1186, 'USER1188': 1187, 'USER1189': 1188, 'USER1190': 1189, 'USER1191': 1190, 'USER1192': 1191, 'USER1193': 1192, 'USER1194': 1193, 'USER1195': 1194, 'USER1196': 1195, 'USER1197': 1196, 'USER1198': 1197, 'USER1199': 1198, 'USER1200': 1199, 'USER1201': 1200, 'USER1202': 1201, 'USER1203': 1202, 'USER1204': 1203, 'USER1205': 1204, 'USER1206': 1205, 'USER1207': 1206, 'USER1208': 1207, 'USER1209': 1208, 'USER1210': 1209, 'USER1211': 1210, 'USER1212': 1211, 'USER1213': 1212, 'USER1214': 1213, 'USER1215': 1214, 'USER1216': 1215, 'USER1217': 1216, 'USER1218': 1217, 'USER1219': 1218, 'USER1220': 1219, 'USER1221': 1220, 'USER1222': 1221, 'USER1223': 1222, 'USER1224': 1223, 'USER1225': 1224, 'USER1226': 1225, 'USER1227': 1226, 'USER1228': 1227, 'USER1229': 1228, 'USER1230': 1229, 'USER1231': 1230, 'USER1232': 1231, 'USER1233': 1232, 'USER1234': 1233, 'USER1235': 1234, 'USER1236': 1235, 'USER1237': 1236, 'USER1238': 1237, 'USER1239': 1238, 'USER1240': 1239, 'USER1241': 1240, 'USER1242': 1241, 'USER1243': 1242, 'USER1244': 1243, 'USER1245': 1244, 'USER1246': 1245, 'USER1247': 1246, 'USER1248': 1247, 'USER1249': 1248, 'USER1250': 1249, 'USER1251': 1250, 'USER1252': 1251, 'USER1253': 1252, 'USER1254': 1253, 'USER1255': 1254, 'USER1256': 1255, 'USER1257': 1256, 'USER1258': 1257, 'USER1259': 1258, 'USER1260': 1259, 'USER1261': 1260, 'USER1262': 1261, 'USER1263': 1262, 'USER1264': 1263, 'USER1265': 1264, 'USER1266': 1265, 'USER1267': 1266, 'USER1268': 1267, 'USER1269': 1268, 'USER1270': 1269, 'USER1271': 1270, 'USER1272': 1271, 'USER1273': 1272, 'USER1274': 1273, 'USER1275': 1274, 'USER1276': 1275, 'USER1277': 1276, 'USER1278': 1277, 'USER1279': 1278, 'USER1280': 1279, 'USER1281': 1280, 'USER1282': 1281, 'USER1283': 1282, 'USER1284': 1283, 'USER1285': 1284, 'USER1286': 1285, 'USER1287': 1286, 'USER1288': 1287, 'USER1289': 1288, 'USER1290': 1289, 'USER1291': 1290, 'USER1292': 1291, 'USER1293': 1292, 'USER1294': 1293, 'USER1295': 1294, 'USER1296': 1295, 'USER1297': 1296, 'USER1298': 1297, 'USER1299': 1298, 'USER1300': 1299, 'USER1301': 1300, 'USER1302': 1301, 'USER1303': 1302, 'USER1304': 1303, 'USER1305': 1304, 'USER1306': 1305, 'USER1307': 1306, 'USER1308': 1307, 'USER1309': 1308, 'USER1310': 1309, 'USER1311': 1310, 'USER1312': 1311, 'USER1313': 1312, 'USER1314': 1313, 'USER1315': 1314, 'USER1316': 1315, 'USER1317': 1316, 'USER1318': 1317, 'USER1319': 1318, 'USER1320': 1319, 'USER1321': 1320, 'USER1322': 1321, 'USER1323': 1322, 'USER1324': 1323, 'USER1325': 1324, 'USER1326': 1325, 'USER1327': 1326, 'USER1328': 1327, 'USER1329': 1328, 'USER1330': 1329, 'USER1331': 1330, 'USER1332': 1331, 'USER1333': 1332, 'USER1334': 1333, 'USER1335': 1334, 'USER1336': 1335, 'USER1337': 1336, 'USER1338': 1337, 'USER1339': 1338, 'USER1340': 1339, 'USER1341': 1340, 'USER1342': 1341, 'USER1343': 1342, 'USER1344': 1343, 'USER1345': 1344, 'USER1346': 1345, 'USER1347': 1346, 'USER1348': 1347, 'USER1349': 1348, 'USER1350': 1349, 'USER1351': 1350, 'USER1352': 1351, 'USER1353': 1352, 'USER1354': 1353, 'USER1355': 1354, 'USER1356': 1355, 'USER1357': 1356, 'USER1358': 1357, 'USER1359': 1358, 'USER1360': 1359, 'USER1361': 1360, 'USER1362': 1361, 'USER1363': 1362, 'USER1364': 1363, 'USER1365': 1364, 'USER1366': 1365, 'USER1367': 1366, 'USER1368': 1367, 'USER1369': 1368, 'USER1370': 1369, 'USER1371': 1370, 'USER1372': 1371, 'USER1373': 1372, 'USER1374': 1373, 'USER1375': 1374, 'USER1376': 1375, 'USER1377': 1376, 'USER1378': 1377, 'USER1379': 1378, 'USER1380': 1379, 'USER1381': 1380, 'USER1382': 1381, 'USER1383': 1382, 'USER1384': 1383, 'USER1385': 1384, 'USER1386': 1385, 'USER1387': 1386, 'USER1388': 1387, 'USER1389': 1388, 'USER1390': 1389, 'USER1391': 1390, 'USER1392': 1391, 'USER1393': 1392, 'USER1394': 1393, 'USER1395': 1394, 'USER1396': 1395, 'USER1397': 1396, 'USER1398': 1397, 'USER1399': 1398, 'USER1400': 1399, 'USER1401': 1400, 'USER1402': 1401, 'USER1403': 1402, 'USER1404': 1403, 'USER1405': 1404, 'USER1406': 1405, 'USER1407': 1406, 'USER1408': 1407, 'USER1409': 1408, 'USER1410': 1409, 'USER1411': 1410, 'USER1412': 1411, 'USER1413': 1412, 'USER1414': 1413, 'USER1415': 1414, 'USER1416': 1415, 'USER1417': 1416, 'USER1418': 1417, 'USER1419': 1418, 'USER1420': 1419, 'USER1421': 1420, 'USER1422': 1421, 'USER1423': 1422, 'USER1424': 1423, 'USER1425': 1424, 'USER1426': 1425, 'USER1427': 1426, 'USER1428': 1427, 'USER1429': 1428, 'USER1430': 1429, 'USER1431': 1430, 'USER1432': 1431, 'USER1433': 1432, 'USER1434': 1433, 'USER1435': 1434, 'USER1436': 1435, 'USER1437': 1436, 'USER1438': 1437, 'USER1439': 1438, 'USER1440': 1439, 'USER1441': 1440, 'USER1442': 1441, 'USER1443': 1442, 'USER1444': 1443, 'USER1445': 1444, 'USER1446': 1445, 'USER1447': 1446, 'USER1448': 1447, 'USER1449': 1448, 'USER1450': 1449, 'USER1451': 1450, 'USER1452': 1451, 'USER1453': 1452, 'USER1454': 1453, 'USER1455': 1454, 'USER1456': 1455, 'USER1457': 1456, 'USER1458': 1457, 'USER1459': 1458, 'USER1460': 1459, 'USER1461': 1460, 'USER1462': 1461, 'USER1463': 1462, 'USER1464': 1463, 'USER1465': 1464, 'USER1466': 1465, 'USER1467': 1466, 'USER1468': 1467, 'USER1469': 1468, 'USER1470': 1469, 'USER1471': 1470, 'USER1472': 1471, 'USER1473': 1472, 'USER1474': 1473, 'USER1475': 1474, 'USER1476': 1475, 'USER1477': 1476, 'USER1478': 1477, 'USER1479': 1478, 'USER1480': 1479, 'USER1481': 1480, 'USER1482': 1481, 'USER1483': 1482, 'USER1484': 1483, 'USER1485': 1484, 'USER1486': 1485, 'USER1487': 1486, 'USER1488': 1487, 'USER1489': 1488, 'USER1490': 1489, 'USER1491': 1490, 'USER1492': 1491, 'USER1493': 1492, 'USER1494': 1493, 'USER1495': 1494, 'USER1496': 1495, 'USER1497': 1496, 'USER1498': 1497, 'USER1499': 1498, 'USER1500': 1499, 'USER1501': 1500, 'USER1502': 1501, 'USER1503': 1502, 'USER1504': 1503, 'USER1505': 1504, 'USER1506': 1505, 'USER1507': 1506, 'USER1508': 1507, 'USER1509': 1508, 'USER1510': 1509, 'USER1511': 1510, 'USER1512': 1511, 'USER1513': 1512, 'USER1514': 1513, 'USER1515': 1514, 'USER1516': 1515, 'USER1517': 1516, 'USER1518': 1517, 'USER1519': 1518, 'USER1520': 1519, 'USER1521': 1520, 'USER1522': 1521, 'USER1523': 1522, 'USER1524': 1523, 'USER1525': 1524, 'USER1526': 1525, 'USER1527': 1526, 'USER1528': 1527, 'USER1529': 1528, 'USER1530': 1529, 'USER1531': 1530, 'USER1532': 1531, 'USER1533': 1532, 'USER1534': 1533, 'USER1535': 1534, 'USER1536': 1535, 'USER1537': 1536, 'USER1538': 1537, 'USER1539': 1538, 'USER1540': 1539, 'USER1541': 1540, 'USER1542': 1541, 'USER1543': 1542, 'USER1544': 1543, 'USER1545': 1544, 'USER1546': 1545, 'USER1547': 1546, 'USER1548': 1547, 'USER1549': 1548, 'USER1550': 1549, 'USER1551': 1550, 'USER1552': 1551, 'USER1553': 1552, 'USER1554': 1553, 'USER1555': 1554, 'USER1556': 1555, 'USER1557': 1556, 'USER1558': 1557, 'USER1559': 1558, 'USER1560': 1559, 'USER1561': 1560, 'USER1562': 1561, 'USER1563': 1562, 'USER1564': 1563, 'USER1565': 1564, 'USER1566': 1565, 'USER1567': 1566, 'USER1568': 1567, 'USER1569': 1568, 'USER1570': 1569, 'USER1571': 1570, 'USER1572': 1571, 'USER1573': 1572, 'USER1574': 1573, 'USER1575': 1574, 'USER1576': 1575, 'USER1577': 1576, 'USER1578': 1577, 'USER1579': 1578, 'USER1580': 1579, 'USER1581': 1580, 'USER1582': 1581, 'USER1583': 1582, 'USER1584': 1583, 'USER1585': 1584, 'USER1586': 1585, 'USER1587': 1586, 'USER1588': 1587, 'USER1589': 1588, 'USER1590': 1589, 'USER1591': 1590, 'USER1592': 1591, 'USER1593': 1592, 'USER1594': 1593, 'USER1595': 1594, 'USER1596': 1595, 'USER1597': 1596, 'USER1598': 1597, 'USER1599': 1598, 'USER1600': 1599, 'USER1601': 1600, 'USER1602': 1601, 'USER1603': 1602, 'USER1604': 1603, 'USER1605': 1604, 'USER1606': 1605, 'USER1607': 1606, 'USER1608': 1607, 'USER1609': 1608, 'USER1610': 1609, 'USER1611': 1610, 'USER1612': 1611, 'USER1613': 1612, 'USER1614': 1613, 'USER1615': 1614, 'USER1616': 1615, 'USER1617': 1616, 'USER1618': 1617, 'USER1619': 1618, 'USER1620': 1619, 'USER1621': 1620, 'USER1622': 1621, 'USER1623': 1622, 'USER1624': 1623, 'USER1625': 1624, 'USER1626': 1625, 'USER1627': 1626, 'USER1628': 1627, 'USER1629': 1628, 'USER1630': 1629, 'USER1631': 1630, 'USER1632': 1631, 'USER1633': 1632, 'USER1634': 1633, 'USER1635': 1634, 'USER1636': 1635, 'USER1637': 1636, 'USER1638': 1637, 'USER1639': 1638, 'USER1640': 1639, 'USER1641': 1640, 'USER1642': 1641, 'USER1643': 1642, 'USER1644': 1643, 'USER1645': 1644, 'USER1646': 1645, 'USER1647': 1646, 'USER1648': 1647, 'USER1649': 1648, 'USER1650': 1649, 'USER1651': 1650, 'USER1652': 1651, 'USER1653': 1652, 'USER1654': 1653, 'USER1655': 1654, 'USER1656': 1655, 'USER1657': 1656, 'USER1658': 1657, 'USER1659': 1658, 'USER1660': 1659, 'USER1661': 1660, 'USER1662': 1661, 'USER1663': 1662, 'USER1664': 1663, 'USER1665': 1664, 'USER1666': 1665, 'USER1667': 1666, 'USER1668': 1667, 'USER1669': 1668, 'USER1670': 1669, 'USER1671': 1670, 'USER1672': 1671, 'USER1673': 1672, 'USER1674': 1673, 'USER1675': 1674, 'USER1676': 1675, 'USER1677': 1676, 'USER1678': 1677, 'USER1679': 1678, 'USER1680': 1679, 'USER1681': 1680, 'USER1682': 1681, 'USER1683': 1682, 'USER1684': 1683, 'USER1685': 1684, 'USER1686': 1685, 'USER1687': 1686, 'USER1688': 1687, 'USER1689': 1688, 'USER1690': 1689, 'USER1691': 1690, 'USER1692': 1691, 'USER1693': 1692, 'USER1694': 1693, 'USER1695': 1694, 'USER1696': 1695, 'USER1697': 1696, 'USER1698': 1697, 'USER1699': 1698, 'USER1700': 1699, 'USER1701': 1700, 'USER1702': 1701, 'USER1703': 1702, 'USER1704': 1703, 'USER1705': 1704, 'USER1706': 1705, 'USER1707': 1706, 'USER1708': 1707, 'USER1709': 1708, 'USER1710': 1709, 'USER1711': 1710, 'USER1712': 1711, 'USER1713': 1712, 'USER1714': 1713, 'USER1715': 1714, 'USER1716': 1715, 'USER1717': 1716, 'USER1718': 1717, 'USER1719': 1718, 'USER1720': 1719, 'USER1721': 1720, 'USER1722': 1721, 'USER1723': 1722, 'USER1724': 1723, 'USER1725': 1724, 'USER1726': 1725, 'USER1727': 1726, 'USER1728': 1727, 'USER1729': 1728, 'USER1730': 1729, 'USER1731': 1730, 'USER1732': 1731, 'USER1733': 1732, 'USER1734': 1733, 'USER1735': 1734, 'USER1736': 1735, 'USER1737': 1736, 'USER1738': 1737, 'USER1739': 1738, 'USER1740': 1739, 'USER1741': 1740, 'USER1742': 1741, 'USER1743': 1742, 'USER1744': 1743, 'USER1745': 1744, 'USER1746': 1745, 'USER1747': 1746, 'USER1748': 1747, 'USER1749': 1748, 'USER1750': 1749, 'USER1751': 1750, 'USER1752': 1751, 'USER1753': 1752, 'USER1754': 1753, 'USER1755': 1754, 'USER1756': 1755, 'USER1757': 1756, 'USER1758': 1757, 'USER1759': 1758, 'USER1760': 1759, 'USER1761': 1760, 'USER1762': 1761, 'USER1763': 1762, 'USER1764': 1763, 'USER1765': 1764, 'USER1766': 1765, 'USER1767': 1766, 'USER1768': 1767, 'USER1769': 1768, 'USER1770': 1769, 'USER1771': 1770, 'USER1772': 1771, 'USER1773': 1772, 'USER1774': 1773, 'USER1775': 1774, 'USER1776': 1775, 'USER1777': 1776, 'USER1778': 1777, 'USER1779': 1778, 'USER1780': 1779, 'USER1781': 1780, 'USER1782': 1781, 'USER1783': 1782, 'USER1784': 1783, 'USER1785': 1784, 'USER1786': 1785, 'USER1787': 1786, 'USER1788': 1787, 'USER1789': 1788, 'USER1790': 1789, 'USER1791': 1790, 'USER1792': 1791, 'USER1793': 1792, 'USER1794': 1793, 'USER1795': 1794, 'USER1796': 1795, 'USER1797': 1796, 'USER1798': 1797, 'USER1799': 1798, 'USER1800': 1799, 'USER1801': 1800, 'USER1802': 1801, 'USER1803': 1802, 'USER1804': 1803, 'USER1805': 1804, 'USER1806': 1805, 'USER1807': 1806, 'USER1808': 1807, 'USER1809': 1808, 'USER1810': 1809, 'USER1811': 1810, 'USER1812': 1811, 'USER1813': 1812, 'USER1814': 1813, 'USER1815': 1814, 'USER1816': 1815, 'USER1817': 1816, 'USER1818': 1817, 'USER1819': 1818, 'USER1820': 1819, 'USER1821': 1820, 'USER1822': 1821, 'USER1823': 1822, 'USER1824': 1823, 'USER1825': 1824, 'USER1826': 1825, 'USER1827': 1826, 'USER1828': 1827, 'USER1829': 1828, 'USER1830': 1829, 'USER1831': 1830, 'USER1832': 1831, 'USER1833': 1832, 'USER1834': 1833, 'USER1835': 1834, 'USER1836': 1835, 'USER1837': 1836, 'USER1838': 1837, 'USER1839': 1838, 'USER1840': 1839, 'USER1841': 1840, 'USER1842': 1841, 'USER1843': 1842, 'USER1844': 1843, 'USER1845': 1844, 'USER1846': 1845, 'USER1847': 1846, 'USER1848': 1847, 'USER1849': 1848, 'USER1850': 1849, 'USER1851': 1850, 'USER1852': 1851, 'USER1853': 1852, 'USER1854': 1853, 'USER1855': 1854, 'USER1856': 1855, 'USER1857': 1856, 'USER1858': 1857, 'USER1859': 1858, 'USER1860': 1859, 'USER1861': 1860, 'USER1862': 1861, 'USER1863': 1862, 'USER1864': 1863, 'USER1865': 1864, 'USER1866': 1865, 'USER1867': 1866, 'USER1868': 1867, 'USER1869': 1868, 'USER1870': 1869, 'USER1871': 1870, 'USER1872': 1871, 'USER1873': 1872, 'USER1874': 1873, 'USER1875': 1874, 'USER1876': 1875, 'USER1877': 1876, 'USER1878': 1877, 'USER1879': 1878, 'USER1880': 1879, 'USER1881': 1880, 'USER1882': 1881, 'USER1883': 1882, 'USER1884': 1883, 'USER1885': 1884, 'USER1886': 1885, 'USER1887': 1886, 'USER1888': 1887, 'USER1889': 1888, 'USER1890': 1889, 'USER1891': 1890, 'USER1892': 1891, 'USER1893': 1892, 'USER1894': 1893, 'USER1895': 1894, 'USER1896': 1895, 'USER1897': 1896, 'USER1898': 1897, 'USER1899': 1898, 'USER1900': 1899, 'USER1901': 1900, 'USER1902': 1901, 'USER1903': 1902, 'USER1904': 1903, 'USER1905': 1904, 'USER1906': 1905, 'USER1907': 1906, 'USER1908': 1907, 'USER1909': 1908, 'USER1910': 1909, 'USER1911': 1910, 'USER1912': 1911, 'USER1913': 1912, 'USER1914': 1913, 'USER1915': 1914, 'USER1916': 1915, 'USER1917': 1916, 'USER1918': 1917, 'USER1919': 1918, 'USER1920': 1919, 'USER1921': 1920, 'USER1922': 1921, 'USER1923': 1922, 'USER1924': 1923, 'USER1925': 1924, 'USER1926': 1925, 'USER1927': 1926, 'USER1928': 1927, 'USER1929': 1928, 'USER1930': 1929, 'USER1931': 1930, 'USER1932': 1931, 'USER1933': 1932, 'USER1934': 1933, 'USER1935': 1934, 'USER1936': 1935, 'USER1937': 1936, 'USER1938': 1937, 'USER1939': 1938, 'USER1940': 1939, 'USER1941': 1940, 'USER1942': 1941, 'USER1943': 1942, 'USER1944': 1943, 'USER1945': 1944, 'USER1946': 1945, 'USER1947': 1946, 'USER1948': 1947, 'USER1949': 1948, 'USER1950': 1949, 'USER1951': 1950, 'USER1952': 1951, 'USER1953': 1952, 'USER1954': 1953, 'USER1955': 1954, 'USER1956': 1955, 'USER1957': 1956, 'USER1958': 1957, 'USER1959': 1958, 'USER1960': 1959, 'USER1961': 1960, 'USER1962': 1961, 'USER1963': 1962, 'USER1964': 1963, 'USER1965': 1964, 'USER1966': 1965, 'USER1967': 1966, 'USER1968': 1967, 'USER1969': 1968, 'USER1970': 1969, 'USER1971': 1970, 'USER1972': 1971, 'USER1973': 1972, 'USER1974': 1973, 'USER1975': 1974, 'USER1976': 1975, 'USER1977': 1976, 'USER1978': 1977, 'USER1979': 1978, 'USER1980': 1979, 'USER1981': 1980, 'USER1982': 1981, 'USER1983': 1982, 'USER1984': 1983, 'USER1985': 1984, 'USER1986': 1985, 'USER1987': 1986, 'USER1988': 1987, 'USER1989': 1988, 'USER1990': 1989, 'USER1991': 1990, 'USER1992': 1991, 'USER1993': 1992, 'USER1994': 1993, 'USER1995': 1994, 'USER1996': 1995, 'USER1997': 1996, 'USER1998': 1997, 'USER1999': 1998, 'USER2000': 1999, 'USER2001': 2000, 'USER2002': 2001, 'USER2003': 2002, 'USER2004': 2003, 'USER2005': 2004, 'USER2006': 2005, 'USER2007': 2006, 'USER2008': 2007, 'USER2009': 2008, 'USER2010': 2009, 'USER2011': 2010, 'USER2012': 2011, 'USER2013': 2012, 'USER2014': 2013, 'USER2015': 2014, 'USER2016': 2015, 'USER2017': 2016, 'USER2018': 2017, 'USER2019': 2018, 'USER2020': 2019, 'USER2021': 2020, 'USER2022': 2021, 'USER2023': 2022, 'USER2024': 2023, 'USER2025': 2024, 'USER2026': 2025, 'USER2027': 2026, 'USER2028': 2027, 'USER2029': 2028, 'USER2030': 2029, 'USER2031': 2030, 'USER2032': 2031, 'USER2033': 2032, 'USER2034': 2033, 'USER2035': 2034, 'USER2036': 2035, 'USER2037': 2036, 'USER2038': 2037, 'USER2039': 2038, 'USER2040': 2039, 'USER2041': 2040, 'USER2042': 2041, 'USER2043': 2042, 'USER2044': 2043, 'USER2045': 2044, 'USER2046': 2045, 'USER2047': 2046, 'USER2048': 2047, 'USER2049': 2048, 'USER2050': 2049, 'USER2051': 2050, 'USER2052': 2051, 'USER2053': 2052, 'USER2054': 2053, 'USER2055': 2054, 'USER2056': 2055, 'USER2057': 2056, 'USER2058': 2057, 'USER2059': 2058, 'USER2060': 2059, 'USER2061': 2060, 'USER2062': 2061, 'USER2063': 2062, 'USER2064': 2063, 'USER2065': 2064, 'USER2066': 2065, 'USER2067': 2066, 'USER2068': 2067, 'USER2069': 2068, 'USER2070': 2069, 'USER2071': 2070, 'USER2072': 2071, 'USER2073': 2072, 'USER2074': 2073, 'USER2075': 2074, 'USER2076': 2075, 'USER2077': 2076, 'USER2078': 2077, 'USER2079': 2078, 'USER2080': 2079, 'USER2081': 2080, 'USER2082': 2081, 'USER2083': 2082, 'USER2084': 2083, 'USER2085': 2084, 'USER2086': 2085, 'USER2087': 2086, 'USER2088': 2087, 'USER2089': 2088, 'USER2090': 2089, 'USER2091': 2090, 'USER2092': 2091, 'USER2093': 2092, 'USER2094': 2093, 'USER2095': 2094, 'USER2096': 2095, 'USER2097': 2096, 'USER2098': 2097, 'USER2099': 2098, 'USER2100': 2099, 'USER2101': 2100, 'USER2102': 2101, 'USER2103': 2102, 'USER2104': 2103, 'USER2105': 2104, 'USER2106': 2105, 'USER2107': 2106, 'USER2108': 2107, 'USER2109': 2108, 'USER2110': 2109, 'USER2111': 2110, 'USER2112': 2111, 'USER2113': 2112, 'USER2114': 2113, 'USER2115': 2114, 'USER2116': 2115, 'USER2117': 2116, 'USER2118': 2117, 'USER2119': 2118, 'USER2120': 2119, 'USER2121': 2120, 'USER2122': 2121, 'USER2123': 2122, 'USER2124': 2123, 'USER2125': 2124, 'USER2126': 2125, 'USER2127': 2126, 'USER2128': 2127, 'USER2129': 2128, 'USER2130': 2129, 'USER2131': 2130, 'USER2132': 2131, 'USER2133': 2132, 'USER2134': 2133, 'USER2135': 2134, 'USER2136': 2135, 'USER2137': 2136, 'USER2138': 2137, 'USER2139': 2138, 'USER2140': 2139, 'USER2141': 2140, 'USER2142': 2141, 'USER2143': 2142, 'USER2144': 2143, 'USER2145': 2144, 'USER2146': 2145, 'USER2147': 2146, 'USER2148': 2147, 'USER2149': 2148, 'USER2150': 2149, 'USER2151': 2150, 'USER2152': 2151, 'USER2153': 2152, 'USER2154': 2153, 'USER2155': 2154, 'USER2156': 2155, 'USER2157': 2156, 'USER2158': 2157, 'USER2159': 2158, 'USER2160': 2159, 'USER2161': 2160, 'USER2162': 2161, 'USER2163': 2162, 'USER2164': 2163, 'USER2165': 2164, 'USER2166': 2165, 'USER2167': 2166, 'USER2168': 2167, 'USER2169': 2168, 'USER2170': 2169, 'USER2171': 2170, 'USER2172': 2171, 'USER2173': 2172, 'USER2174': 2173, 'USER2175': 2174, 'USER2176': 2175, 'USER2177': 2176, 'USER2178': 2177, 'USER2179': 2178, 'USER2180': 2179, 'USER2181': 2180, 'USER2182': 2181, 'USER2183': 2182, 'USER2184': 2183, 'USER2185': 2184, 'USER2186': 2185, 'USER2187': 2186, 'USER2188': 2187, 'USER2189': 2188, 'USER2190': 2189, 'USER2191': 2190, 'USER2192': 2191, 'USER2193': 2192, 'USER2194': 2193, 'USER2195': 2194, 'USER2196': 2195, 'USER2197': 2196, 'USER2198': 2197, 'USER2199': 2198, 'USER2200': 2199, 'USER2201': 2200, 'USER2202': 2201, 'USER2203': 2202, 'USER2204': 2203, 'USER2205': 2204, 'USER2206': 2205, 'USER2207': 2206, 'USER2208': 2207, 'USER2209': 2208, 'USER2210': 2209, 'USER2211': 2210, 'USER2212': 2211, 'USER2213': 2212, 'USER2214': 2213, 'USER2215': 2214, 'USER2216': 2215, 'USER2217': 2216, 'USER2218': 2217, 'USER2219': 2218, 'USER2220': 2219, 'USER2221': 2220, 'USER2222': 2221, 'USER2223': 2222, 'USER2224': 2223, 'USER2225': 2224, 'USER2226': 2225, 'USER2227': 2226, 'USER2228': 2227, 'USER2229': 2228, 'USER2230': 2229, 'USER2231': 2230, 'USER2232': 2231, 'USER2233': 2232, 'USER2234': 2233, 'USER2235': 2234, 'USER2236': 2235, 'USER2237': 2236, 'USER2238': 2237, 'USER2239': 2238, 'USER2240': 2239, 'USER2241': 2240, 'USER2242': 2241, 'USER2243': 2242, 'USER2244': 2243, 'USER2245': 2244, 'USER2246': 2245, 'USER2247': 2246, 'USER2248': 2247, 'USER2249': 2248, 'USER2250': 2249, 'USER2251': 2250, 'USER2252': 2251, 'USER2253': 2252, 'USER2254': 2253, 'USER2255': 2254, 'USER2256': 2255, 'USER2257': 2256, 'USER2258': 2257, 'USER2259': 2258, 'USER2260': 2259, 'USER2261': 2260, 'USER2262': 2261, 'USER2263': 2262, 'USER2264': 2263, 'USER2265': 2264, 'USER2266': 2265, 'USER2267': 2266, 'USER2268': 2267, 'USER2269': 2268, 'USER2270': 2269, 'USER2271': 2270, 'USER2272': 2271, 'USER2273': 2272, 'USER2274': 2273, 'USER2275': 2274, 'USER2276': 2275, 'USER2277': 2276, 'USER2278': 2277, 'USER2279': 2278, 'USER2280': 2279, 'USER2281': 2280, 'USER2282': 2281, 'USER2283': 2282, 'USER2284': 2283, 'USER2285': 2284, 'USER2286': 2285, 'USER2287': 2286, 'USER2288': 2287, 'USER2289': 2288, 'USER2290': 2289, 'USER2291': 2290, 'USER2292': 2291, 'USER2293': 2292, 'USER2294': 2293, 'USER2295': 2294, 'USER2296': 2295, 'USER2297': 2296, 'USER2298': 2297, 'USER2299': 2298, 'USER2300': 2299, 'USER2301': 2300, 'USER2302': 2301, 'USER2303': 2302, 'USER2304': 2303, 'USER2305': 2304, 'USER2306': 2305, 'USER2307': 2306, 'USER2308': 2307, 'USER2309': 2308, 'USER2310': 2309, 'USER2311': 2310, 'USER2312': 2311, 'USER2313': 2312, 'USER2314': 2313, 'USER2315': 2314, 'USER2316': 2315, 'USER2317': 2316, 'USER2318': 2317, 'USER2319': 2318, 'USER2320': 2319, 'USER2321': 2320, 'USER2322': 2321, 'USER2323': 2322, 'USER2324': 2323, 'USER2325': 2324, 'USER2326': 2325, 'USER2327': 2326, 'USER2328': 2327, 'USER2329': 2328, 'USER2330': 2329, 'USER2331': 2330, 'USER2332': 2331, 'USER2333': 2332, 'USER2334': 2333, 'USER2335': 2334, 'USER2336': 2335, 'USER2337': 2336, 'USER2338': 2337, 'USER2339': 2338, 'USER2340': 2339, 'USER2341': 2340, 'USER2342': 2341, 'USER2343': 2342, 'USER2344': 2343, 'USER2345': 2344, 'USER2346': 2345, 'USER2347': 2346, 'USER2348': 2347, 'USER2349': 2348, 'USER2350': 2349, 'USER2351': 2350, 'USER2352': 2351, 'USER2353': 2352, 'USER2354': 2353, 'USER2355': 2354, 'USER2356': 2355, 'USER2357': 2356, 'USER2358': 2357, 'USER2359': 2358, 'USER2360': 2359, 'USER2361': 2360, 'USER2362': 2361, 'USER2363': 2362, 'USER2364': 2363, 'USER2365': 2364, 'USER2366': 2365, 'USER2367': 2366, 'USER2368': 2367, 'USER2369': 2368, 'USER2370': 2369, 'USER2371': 2370, 'USER2372': 2371, 'USER2373': 2372, 'USER2374': 2373, 'USER2375': 2374, 'USER2376': 2375, 'USER2377': 2376, 'USER2378': 2377, 'USER2379': 2378, 'USER2380': 2379, 'USER2381': 2380, 'USER2382': 2381, 'USER2383': 2382, 'USER2384': 2383, 'USER2385': 2384, 'USER2386': 2385, 'USER2387': 2386, 'USER2388': 2387, 'USER2389': 2388, 'USER2390': 2389, 'USER2391': 2390, 'USER2392': 2391, 'USER2393': 2392, 'USER2394': 2393, 'USER2395': 2394, 'USER2396': 2395, 'USER2397': 2396, 'USER2398': 2397, 'USER2399': 2398, 'USER2400': 2399, 'USER2401': 2400, 'USER2402': 2401, 'USER2403': 2402, 'USER2404': 2403, 'USER2405': 2404, 'USER2406': 2405, 'USER2407': 2406, 'USER2408': 2407, 'USER2409': 2408, 'USER2410': 2409, 'USER2411': 2410, 'USER2412': 2411, 'USER2413': 2412, 'USER2414': 2413, 'USER2415': 2414, 'USER2416': 2415, 'USER2417': 2416, 'USER2418': 2417, 'USER2419': 2418, 'USER2420': 2419, 'USER2421': 2420, 'USER2422': 2421, 'USER2423': 2422, 'USER2424': 2423, 'USER2425': 2424, 'USER2426': 2425, 'USER2427': 2426, 'USER2428': 2427, 'USER2429': 2428, 'USER2430': 2429, 'USER2431': 2430, 'USER2432': 2431, 'USER2433': 2432, 'USER2434': 2433, 'USER2435': 2434, 'USER2436': 2435, 'USER2437': 2436, 'USER2438': 2437, 'USER2439': 2438, 'USER2440': 2439, 'USER2441': 2440, 'USER2442': 2441, 'USER2443': 2442, 'USER2444': 2443, 'USER2445': 2444, 'USER2446': 2445, 'USER2447': 2446, 'USER2448': 2447, 'USER2449': 2448, 'USER2450': 2449, 'USER2451': 2450, 'USER2452': 2451, 'USER2453': 2452, 'USER2454': 2453, 'USER2455': 2454, 'USER2456': 2455, 'USER2457': 2456, 'USER2458': 2457, 'USER2459': 2458, 'USER2460': 2459, 'USER2461': 2460, 'USER2462': 2461, 'USER2463': 2462, 'USER2464': 2463, 'USER2465': 2464, 'USER2466': 2465, 'USER2467': 2466, 'USER2468': 2467, 'USER2469': 2468, 'USER2470': 2469, 'USER2471': 2470, 'USER2472': 2471, 'USER2473': 2472, 'USER2474': 2473, 'USER2475': 2474, 'USER2476': 2475, 'USER2477': 2476, 'USER2478': 2477, 'USER2479': 2478, 'USER2480': 2479, 'USER2481': 2480, 'USER2482': 2481, 'USER2483': 2482, 'USER2484': 2483, 'USER2485': 2484, 'USER2486': 2485, 'USER2487': 2486, 'USER2488': 2487, 'USER2489': 2488, 'USER2490': 2489, 'USER2491': 2490, 'USER2492': 2491, 'USER2493': 2492, 'USER2494': 2493, 'USER2495': 2494, 'USER2496': 2495, 'USER2497': 2496, 'USER2498': 2497, 'USER2499': 2498, 'USER2500': 2499, 'USER2501': 2500, 'USER2502': 2501, 'USER2503': 2502, 'USER2504': 2503, 'USER2505': 2504, 'USER2506': 2505, 'USER2507': 2506, 'USER2508': 2507, 'USER2509': 2508, 'USER2510': 2509, 'USER2511': 2510, 'USER2512': 2511, 'USER2513': 2512, 'USER2514': 2513, 'USER2515': 2514, 'USER2516': 2515, 'USER2517': 2516, 'USER2518': 2517, 'USER2519': 2518, 'USER2520': 2519, 'USER2521': 2520, 'USER2522': 2521, 'USER2523': 2522, 'USER2524': 2523, 'USER2525': 2524, 'USER2526': 2525, 'USER2527': 2526, 'USER2528': 2527, 'USER2529': 2528, 'USER2530': 2529, 'USER2531': 2530, 'USER2532': 2531, 'USER2533': 2532, 'USER2534': 2533, 'USER2535': 2534, 'USER2536': 2535, 'USER2537': 2536, 'USER2538': 2537, 'USER2539': 2538, 'USER2540': 2539, 'USER2541': 2540, 'USER2542': 2541, 'USER2543': 2542, 'USER2544': 2543, 'USER2545': 2544, 'USER2546': 2545, 'USER2547': 2546, 'USER2548': 2547, 'USER2549': 2548, 'USER2550': 2549, 'USER2551': 2550, 'USER2552': 2551, 'USER2553': 2552, 'USER2554': 2553, 'USER2555': 2554, 'USER2556': 2555, 'USER2557': 2556, 'USER2558': 2557, 'USER2559': 2558, 'USER2560': 2559, 'USER2561': 2560, 'USER2562': 2561, 'USER2563': 2562, 'USER2564': 2563, 'USER2565': 2564, 'USER2566': 2565, 'USER2567': 2566, 'USER2568': 2567, 'USER2569': 2568, 'USER2570': 2569, 'USER2571': 2570, 'USER2572': 2571, 'USER2573': 2572, 'USER2574': 2573, 'USER2575': 2574, 'USER2576': 2575, 'USER2577': 2576, 'USER2578': 2577, 'USER2579': 2578, 'USER2580': 2579, 'USER2581': 2580, 'USER2582': 2581, 'USER2583': 2582, 'USER2584': 2583, 'USER2585': 2584, 'USER2586': 2585, 'USER2587': 2586, 'USER2588': 2587, 'USER2589': 2588, 'USER2590': 2589, 'USER2591': 2590, 'USER2592': 2591, 'USER2593': 2592, 'USER2594': 2593, 'USER2595': 2594, 'USER2596': 2595, 'USER2597': 2596, 'USER2598': 2597, 'USER2599': 2598, 'USER2600': 2599, 'USER2601': 2600, 'USER2602': 2601, 'USER2603': 2602, 'USER2604': 2603, 'USER2605': 2604, 'USER2606': 2605, 'USER2607': 2606, 'USER2608': 2607, 'USER2609': 2608, 'USER2610': 2609, 'USER2611': 2610, 'USER2612': 2611, 'USER2613': 2612, 'USER2614': 2613, 'USER2615': 2614, 'USER2616': 2615, 'USER2617': 2616, 'USER2618': 2617, 'USER2619': 2618, 'USER2620': 2619, 'USER2621': 2620, 'USER2622': 2621, 'USER2623': 2622, 'USER2624': 2623, 'USER2625': 2624, 'USER2626': 2625, 'USER2627': 2626, 'USER2628': 2627, 'USER2629': 2628, 'USER2630': 2629, 'USER2631': 2630, 'USER2632': 2631, 'USER2633': 2632, 'USER2634': 2633, 'USER2635': 2634, 'USER2636': 2635, 'USER2637': 2636, 'USER2638': 2637, 'USER2639': 2638, 'USER2640': 2639, 'USER2641': 2640, 'USER2642': 2641, 'USER2643': 2642, 'USER2644': 2643, 'USER2645': 2644, 'USER2646': 2645, 'USER2647': 2646, 'USER2648': 2647, 'USER2649': 2648, 'USER2650': 2649, 'USER2651': 2650, 'USER2652': 2651, 'USER2653': 2652, 'USER2654': 2653, 'USER2655': 2654, 'USER2656': 2655, 'USER2657': 2656, 'USER2658': 2657, 'USER2659': 2658, 'USER2660': 2659, 'USER2661': 2660, 'USER2662': 2661, 'USER2663': 2662, 'USER2664': 2663, 'USER2665': 2664, 'USER2666': 2665, 'USER2667': 2666, 'USER2668': 2667, 'USER2669': 2668, 'USER2670': 2669, 'USER2671': 2670, 'USER2672': 2671, 'USER2673': 2672, 'USER2674': 2673, 'USER2675': 2674, 'USER2676': 2675, 'USER2677': 2676, 'USER2678': 2677, 'USER2679': 2678, 'USER2680': 2679, 'USER2681': 2680, 'USER2682': 2681, 'USER2683': 2682, 'USER2684': 2683, 'USER2685': 2684, 'USER2686': 2685, 'USER2687': 2686, 'USER2688': 2687, 'USER2689': 2688, 'USER2690': 2689, 'USER2691': 2690, 'USER2692': 2691, 'USER2693': 2692, 'USER2694': 2693, 'USER2695': 2694, 'USER2696': 2695, 'USER2697': 2696, 'USER2698': 2697, 'USER2699': 2698, 'USER2700': 2699, 'USER2701': 2700, 'USER2702': 2701, 'USER2703': 2702, 'USER2704': 2703, 'USER2705': 2704, 'USER2706': 2705, 'USER2707': 2706, 'USER2708': 2707, 'USER2709': 2708, 'USER2710': 2709, 'USER2711': 2710, 'USER2712': 2711, 'USER2713': 2712, 'USER2714': 2713, 'USER2715': 2714, 'USER2716': 2715, 'USER2717': 2716, 'USER2718': 2717, 'USER2719': 2718, 'USER2720': 2719, 'USER2721': 2720, 'USER2722': 2721, 'USER2723': 2722, 'USER2724': 2723, 'USER2725': 2724, 'USER2726': 2725, 'USER2727': 2726, 'USER2728': 2727, 'USER2729': 2728, 'USER2730': 2729, 'USER2731': 2730, 'USER2732': 2731, 'USER2733': 2732, 'USER2734': 2733, 'USER2735': 2734, 'USER2736': 2735, 'USER2737': 2736, 'USER2738': 2737, 'USER2739': 2738, 'USER2740': 2739, 'USER2741': 2740, 'USER2742': 2741, 'USER2743': 2742, 'USER2744': 2743, 'USER2745': 2744, 'USER2746': 2745, 'USER2747': 2746, 'USER2748': 2747, 'USER2749': 2748, 'USER2750': 2749, 'USER2751': 2750, 'USER2752': 2751, 'USER2753': 2752, 'USER2754': 2753, 'USER2755': 2754, 'USER2756': 2755, 'USER2757': 2756, 'USER2758': 2757, 'USER2759': 2758, 'USER2760': 2759, 'USER2761': 2760, 'USER2762': 2761, 'USER2763': 2762, 'USER2764': 2763, 'USER2765': 2764, 'USER2766': 2765, 'USER2767': 2766, 'USER2768': 2767, 'USER2769': 2768, 'USER2770': 2769, 'USER2771': 2770, 'USER2772': 2771, 'USER2773': 2772, 'USER2774': 2773, 'USER2775': 2774, 'USER2776': 2775, 'USER2777': 2776, 'USER2778': 2777, 'USER2779': 2778, 'USER2780': 2779, 'USER2781': 2780, 'USER2782': 2781, 'USER2783': 2782, 'USER2784': 2783, 'USER2785': 2784, 'USER2786': 2785, 'USER2787': 2786, 'USER2788': 2787, 'USER2789': 2788, 'USER2790': 2789, 'USER2791': 2790, 'USER2792': 2791, 'USER2793': 2792, 'USER2794': 2793, 'USER2795': 2794, 'USER2796': 2795, 'USER2797': 2796, 'USER2798': 2797, 'USER2799': 2798, 'USER2800': 2799, 'USER2801': 2800, 'USER2802': 2801, 'USER2803': 2802, 'USER2804': 2803, 'USER2805': 2804, 'USER2806': 2805, 'USER2807': 2806, 'USER2808': 2807, 'USER2809': 2808, 'USER2810': 2809, 'USER2811': 2810, 'USER2812': 2811, 'USER2813': 2812, 'USER2814': 2813, 'USER2815': 2814, 'USER2816': 2815, 'USER2817': 2816, 'USER2818': 2817, 'USER2819': 2818, 'USER2820': 2819, 'USER2821': 2820, 'USER2822': 2821, 'USER2823': 2822, 'USER2824': 2823, 'USER2825': 2824, 'USER2826': 2825, 'USER2827': 2826, 'USER2828': 2827, 'USER2829': 2828, 'USER2830': 2829, 'USER2831': 2830, 'USER2832': 2831, 'USER2833': 2832, 'USER2834': 2833, 'USER2835': 2834, 'USER2836': 2835, 'USER2837': 2836, 'USER2838': 2837, 'USER2839': 2838, 'USER2840': 2839, 'USER2841': 2840, 'USER2842': 2841, 'USER2843': 2842, 'USER2844': 2843, 'USER2845': 2844, 'USER2846': 2845, 'USER2847': 2846, 'USER2848': 2847, 'USER2849': 2848, 'USER2850': 2849, 'USER2851': 2850, 'USER2852': 2851, 'USER2853': 2852, 'USER2854': 2853, 'USER2855': 2854, 'USER2856': 2855, 'USER2857': 2856, 'USER2858': 2857, 'USER2859': 2858, 'USER2860': 2859, 'USER2861': 2860, 'USER2862': 2861, 'USER2863': 2862, 'USER2864': 2863, 'USER2865': 2864, 'USER2866': 2865, 'USER2867': 2866, 'USER2868': 2867, 'USER2869': 2868, 'USER2870': 2869, 'USER2871': 2870, 'USER2872': 2871, 'USER2873': 2872, 'USER2874': 2873, 'USER2875': 2874, 'USER2876': 2875, 'USER2877': 2876, 'USER2878': 2877, 'USER2879': 2878, 'USER2880': 2879, 'USER2881': 2880, 'USER2882': 2881, 'USER2883': 2882, 'USER2884': 2883, 'USER2885': 2884, 'USER2886': 2885, 'USER2887': 2886, 'USER2888': 2887, 'USER2889': 2888, 'USER2890': 2889, 'USER2891': 2890, 'USER2892': 2891, 'USER2893': 2892, 'USER2894': 2893, 'USER2895': 2894, 'USER2896': 2895, 'USER2897': 2896, 'USER2898': 2897, 'USER2899': 2898, 'USER2900': 2899, 'USER2901': 2900, 'USER2902': 2901, 'USER2903': 2902, 'USER2904': 2903, 'USER2905': 2904, 'USER2906': 2905, 'USER2907': 2906, 'USER2908': 2907, 'USER2909': 2908, 'USER2910': 2909, 'USER2911': 2910, 'USER2912': 2911, 'USER2913': 2912, 'USER2914': 2913, 'USER2915': 2914, 'USER2916': 2915, 'USER2917': 2916, 'USER2918': 2917, 'USER2919': 2918, 'USER2920': 2919, 'USER2921': 2920, 'USER2922': 2921, 'USER2923': 2922, 'USER2924': 2923, 'USER2925': 2924, 'USER2926': 2925, 'USER2927': 2926, 'USER2928': 2927, 'USER2929': 2928, 'USER2930': 2929, 'USER2931': 2930, 'USER2932': 2931, 'USER2933': 2932, 'USER2934': 2933, 'USER2935': 2934, 'USER2936': 2935, 'USER2937': 2936, 'USER2938': 2937, 'USER2939': 2938, 'USER2940': 2939, 'USER2941': 2940, 'USER2942': 2941, 'USER2943': 2942, 'USER2944': 2943, 'USER2945': 2944, 'USER2946': 2945, 'USER2947': 2946, 'USER2948': 2947, 'USER2949': 2948, 'USER2950': 2949, 'USER2951': 2950, 'USER2952': 2951, 'USER2953': 2952, 'USER2954': 2953, 'USER2955': 2954, 'USER2956': 2955, 'USER2957': 2956, 'USER2958': 2957, 'USER2959': 2958, 'USER2960': 2959, 'USER2961': 2960, 'USER2962': 2961, 'USER2963': 2962, 'USER2964': 2963, 'USER2965': 2964, 'USER2966': 2965, 'USER2967': 2966, 'USER2968': 2967, 'USER2969': 2968, 'USER2970': 2969, 'USER2971': 2970, 'USER2972': 2971, 'USER2973': 2972, 'USER2974': 2973, 'USER2975': 2974, 'USER2976': 2975, 'USER2977': 2976, 'USER2978': 2977, 'USER2979': 2978, 'USER2980': 2979, 'USER2981': 2980, 'USER2982': 2981, 'USER2983': 2982, 'USER2984': 2983, 'USER2985': 2984, 'USER2986': 2985, 'USER2987': 2986, 'USER2988': 2987, 'USER2989': 2988, 'USER2990': 2989, 'USER2991': 2990, 'USER2992': 2991, 'USER2993': 2992, 'USER2994': 2993, 'USER2995': 2994, 'USER2996': 2995, 'USER2997': 2996, 'USER2998': 2997, 'USER2999': 2998, 'USER3000': 2999, 'USER3001': 3000, 'USER3002': 3001, 'USER3003': 3002, 'USER3004': 3003, 'USER3005': 3004, 'USER3006': 3005, 'USER3007': 3006, 'USER3008': 3007, 'USER3009': 3008, 'USER3010': 3009, 'USER3011': 3010, 'USER3012': 3011, 'USER3013': 3012, 'USER3014': 3013, 'USER3015': 3014, 'USER3016': 3015, 'USER3017': 3016, 'USER3018': 3017, 'USER3019': 3018, 'USER3020': 3019, 'USER3021': 3020, 'USER3022': 3021, 'USER3023': 3022, 'USER3024': 3023, 'USER3025': 3024, 'USER3026': 3025, 'USER3027': 3026, 'USER3028': 3027, 'USER3029': 3028, 'USER3030': 3029, 'USER3031': 3030, 'USER3032': 3031, 'USER3033': 3032, 'USER3034': 3033, 'USER3035': 3034, 'USER3036': 3035, 'USER3037': 3036, 'USER3038': 3037, 'USER3039': 3038, 'USER3040': 3039, 'USER3041': 3040, 'USER3042': 3041, 'USER3043': 3042, 'USER3044': 3043, 'USER3045': 3044, 'USER3046': 3045, 'USER3047': 3046, 'USER3048': 3047, 'USER3049': 3048, 'USER3050': 3049, 'USER3051': 3050, 'USER3052': 3051, 'USER3053': 3052, 'USER3054': 3053, 'USER3055': 3054, 'USER3056': 3055, 'USER3057': 3056, 'USER3058': 3057, 'USER3059': 3058, 'USER3060': 3059, 'USER3061': 3060, 'USER3062': 3061, 'USER3063': 3062, 'USER3064': 3063, 'USER3065': 3064, 'USER3066': 3065, 'USER3067': 3066, 'USER3068': 3067, 'USER3069': 3068, 'USER3070': 3069, 'USER3071': 3070, 'USER3072': 3071, 'USER3073': 3072, 'USER3074': 3073, 'USER3075': 3074, 'USER3076': 3075, 'USER3077': 3076, 'USER3078': 3077, 'USER3079': 3078, 'USER3080': 3079, 'USER3081': 3080, 'USER3082': 3081, 'USER3083': 3082, 'USER3084': 3083, 'USER3085': 3084, 'USER3086': 3085, 'USER3087': 3086, 'USER3088': 3087, 'USER3089': 3088, 'USER3090': 3089, 'USER3091': 3090, 'USER3092': 3091, 'USER3093': 3092, 'USER3094': 3093, 'USER3095': 3094, 'USER3096': 3095, 'USER3097': 3096, 'USER3098': 3097, 'USER3099': 3098, 'USER3100': 3099, 'USER3101': 3100, 'USER3102': 3101, 'USER3103': 3102, 'USER3104': 3103, 'USER3105': 3104, 'USER3106': 3105, 'USER3107': 3106, 'USER3108': 3107, 'USER3109': 3108, 'USER3110': 3109, 'USER3111': 3110, 'USER3112': 3111, 'USER3113': 3112, 'USER3114': 3113, 'USER3115': 3114, 'USER3116': 3115, 'USER3117': 3116, 'USER3118': 3117, 'USER3119': 3118, 'USER3120': 3119, 'USER3121': 3120, 'USER3122': 3121, 'USER3123': 3122, 'USER3124': 3123, 'USER3125': 3124, 'USER3126': 3125, 'USER3127': 3126, 'USER3128': 3127, 'USER3129': 3128, 'USER3130': 3129, 'USER3131': 3130, 'USER3132': 3131, 'USER3133': 3132, 'USER3134': 3133, 'USER3135': 3134, 'USER3136': 3135, 'USER3137': 3136, 'USER3138': 3137, 'USER3139': 3138, 'USER3140': 3139, 'USER3141': 3140, 'USER3142': 3141, 'USER3143': 3142, 'USER3144': 3143, 'USER3145': 3144, 'USER3146': 3145, 'USER3147': 3146, 'USER3148': 3147, 'USER3149': 3148, 'USER3150': 3149, 'USER3151': 3150, 'USER3152': 3151, 'USER3153': 3152, 'USER3154': 3153, 'USER3155': 3154, 'USER3156': 3155, 'USER3157': 3156, 'USER3158': 3157, 'USER3159': 3158, 'USER3160': 3159, 'USER3161': 3160, 'USER3162': 3161, 'USER3163': 3162, 'USER3164': 3163, 'USER3165': 3164, 'USER3166': 3165, 'USER3167': 3166, 'USER3168': 3167, 'USER3169': 3168, 'USER3170': 3169, 'USER3171': 3170, 'USER3172': 3171, 'USER3173': 3172, 'USER3174': 3173, 'USER3175': 3174, 'USER3176': 3175, 'USER3177': 3176, 'USER3178': 3177, 'USER3179': 3178, 'USER3180': 3179, 'USER3181': 3180, 'USER3182': 3181, 'USER3183': 3182, 'USER3184': 3183, 'USER3185': 3184, 'USER3186': 3185, 'USER3187': 3186, 'USER3188': 3187, 'USER3189': 3188, 'USER3190': 3189, 'USER3191': 3190, 'USER3192': 3191, 'USER3193': 3192, 'USER3194': 3193, 'USER3195': 3194, 'USER3196': 3195, 'USER3197': 3196, 'USER3198': 3197, 'USER3199': 3198, 'USER3200': 3199, 'USER3201': 3200, 'USER3202': 3201, 'USER3203': 3202, 'USER3204': 3203, 'USER3205': 3204, 'USER3206': 3205, 'USER3207': 3206, 'USER3208': 3207, 'USER3209': 3208, 'USER3210': 3209, 'USER3211': 3210, 'USER3212': 3211, 'USER3213': 3212, 'USER3214': 3213, 'USER3215': 3214, 'USER3216': 3215, 'USER3217': 3216, 'USER3218': 3217, 'USER3219': 3218, 'USER3220': 3219, 'USER3221': 3220, 'USER3222': 3221, 'USER3223': 3222, 'USER3224': 3223, 'USER3225': 3224, 'USER3226': 3225, 'USER3227': 3226, 'USER3228': 3227, 'USER3229': 3228, 'USER3230': 3229, 'USER3231': 3230, 'USER3232': 3231, 'USER3233': 3232, 'USER3234': 3233, 'USER3235': 3234, 'USER3236': 3235, 'USER3237': 3236, 'USER3238': 3237, 'USER3239': 3238, 'USER3240': 3239, 'USER3241': 3240, 'USER3242': 3241, 'USER3243': 3242, 'USER3244': 3243, 'USER3245': 3244, 'USER3246': 3245, 'USER3247': 3246, 'USER3248': 3247, 'USER3249': 3248, 'USER3250': 3249, 'USER3251': 3250, 'USER3252': 3251, 'USER3253': 3252, 'USER3254': 3253, 'USER3255': 3254, 'USER3256': 3255, 'USER3257': 3256, 'USER3258': 3257, 'USER3259': 3258, 'USER3260': 3259, 'USER3261': 3260, 'USER3262': 3261, 'USER3263': 3262, 'USER3264': 3263, 'USER3265': 3264, 'USER3266': 3265, 'USER3267': 3266, 'USER3268': 3267, 'USER3269': 3268, 'USER3270': 3269, 'USER3271': 3270, 'USER3272': 3271, 'USER3273': 3272, 'USER3274': 3273, 'USER3275': 3274, 'USER3276': 3275, 'USER3277': 3276, 'USER3278': 3277, 'USER3279': 3278, 'USER3280': 3279, 'USER3281': 3280, 'USER3282': 3281, 'USER3283': 3282, 'USER3284': 3283, 'USER3285': 3284, 'USER3286': 3285, 'USER3287': 3286, 'USER3288': 3287, 'USER3289': 3288, 'USER3290': 3289, 'USER3291': 3290, 'USER3292': 3291, 'USER3293': 3292, 'USER3294': 3293, 'USER3295': 3294, 'USER3296': 3295, 'USER3297': 3296, 'USER3298': 3297, 'USER3299': 3298, 'USER3300': 3299, 'USER3301': 3300, 'USER3302': 3301, 'USER3303': 3302, 'USER3304': 3303, 'USER3305': 3304, 'USER3306': 3305, 'USER3307': 3306, 'USER3308': 3307, 'USER3309': 3308, 'USER3310': 3309, 'USER3311': 3310, 'USER3312': 3311, 'USER3313': 3312, 'USER3314': 3313, 'USER3315': 3314, 'USER3316': 3315, 'USER3317': 3316, 'USER3318': 3317, 'USER3319': 3318, 'USER3320': 3319, 'USER3321': 3320, 'USER3322': 3321, 'USER3323': 3322, 'USER3324': 3323, 'USER3325': 3324, 'USER3326': 3325, 'USER3327': 3326, 'USER3328': 3327, 'USER3329': 3328, 'USER3330': 3329, 'USER3331': 3330, 'USER3332': 3331, 'USER3333': 3332, 'USER3334': 3333, 'USER3335': 3334, 'USER3336': 3335, 'USER3337': 3336, 'USER3338': 3337, 'USER3339': 3338, 'USER3340': 3339, 'USER3341': 3340, 'USER3342': 3341, 'USER3343': 3342, 'USER3344': 3343, 'USER3345': 3344, 'USER3346': 3345, 'USER3347': 3346, 'USER3348': 3347, 'USER3349': 3348, 'USER3350': 3349, 'USER3351': 3350, 'USER3352': 3351, 'USER3353': 3352, 'USER3354': 3353, 'USER3355': 3354, 'USER3356': 3355, 'USER3357': 3356, 'USER3358': 3357, 'USER3359': 3358, 'USER3360': 3359, 'USER3361': 3360, 'USER3362': 3361, 'USER3363': 3362, 'USER3364': 3363, 'USER3365': 3364, 'USER3366': 3365, 'USER3367': 3366, 'USER3368': 3367, 'USER3369': 3368, 'USER3370': 3369, 'USER3371': 3370, 'USER3372': 3371, 'USER3373': 3372, 'USER3374': 3373, 'USER3375': 3374, 'USER3376': 3375, 'USER3377': 3376, 'USER3378': 3377, 'USER3379': 3378, 'USER3380': 3379, 'USER3381': 3380, 'USER3382': 3381, 'USER3383': 3382, 'USER3384': 3383, 'USER3385': 3384, 'USER3386': 3385, 'USER3387': 3386, 'USER3388': 3387, 'USER3389': 3388, 'USER3390': 3389, 'USER3391': 3390, 'USER3392': 3391, 'USER3393': 3392, 'USER3394': 3393, 'USER3395': 3394, 'USER3396': 3395, 'USER3397': 3396, 'USER3398': 3397, 'USER3399': 3398, 'USER3400': 3399, 'USER3401': 3400, 'USER3402': 3401, 'USER3403': 3402, 'USER3404': 3403, 'USER3405': 3404, 'USER3406': 3405, 'USER3407': 3406, 'USER3408': 3407, 'USER3409': 3408, 'USER3410': 3409, 'USER3411': 3410, 'USER3412': 3411, 'USER3413': 3412, 'USER3414': 3413, 'USER3415': 3414, 'USER3416': 3415, 'USER3417': 3416, 'USER3418': 3417, 'USER3419': 3418, 'USER3420': 3419, 'USER3421': 3420, 'USER3422': 3421, 'USER3423': 3422, 'USER3424': 3423, 'USER3425': 3424, 'USER3426': 3425, 'USER3427': 3426, 'USER3428': 3427, 'USER3429': 3428, 'USER3430': 3429, 'USER3431': 3430, 'USER3432': 3431, 'USER3433': 3432, 'USER3434': 3433, 'USER3435': 3434, 'USER3436': 3435, 'USER3437': 3436, 'USER3438': 3437, 'USER3439': 3438, 'USER3440': 3439, 'USER3441': 3440, 'USER3442': 3441, 'USER3443': 3442, 'USER3444': 3443, 'USER3445': 3444, 'USER3446': 3445, 'USER3447': 3446, 'USER3448': 3447, 'USER3449': 3448, 'USER3450': 3449, 'USER3451': 3450, 'USER3452': 3451, 'USER3453': 3452, 'USER3454': 3453, 'USER3455': 3454, 'USER3456': 3455, 'USER3457': 3456, 'USER3458': 3457, 'USER3459': 3458, 'USER3460': 3459, 'USER3461': 3460, 'USER3462': 3461, 'USER3463': 3462, 'USER3464': 3463, 'USER3465': 3464, 'USER3466': 3465, 'USER3467': 3466, 'USER3468': 3467, 'USER3469': 3468, 'USER3470': 3469, 'USER3471': 3470, 'USER3472': 3471, 'USER3473': 3472, 'USER3474': 3473, 'USER3475': 3474, 'USER3476': 3475, 'USER3477': 3476, 'USER3478': 3477, 'USER3479': 3478, 'USER3480': 3479, 'USER3481': 3480, 'USER3482': 3481, 'USER3483': 3482, 'USER3484': 3483, 'USER3485': 3484, 'USER3486': 3485, 'USER3487': 3486, 'USER3488': 3487, 'USER3489': 3488, 'USER3490': 3489, 'USER3491': 3490, 'USER3492': 3491, 'USER3493': 3492, 'USER3494': 3493, 'USER3495': 3494, 'USER3496': 3495, 'USER3497': 3496, 'USER3498': 3497, 'USER3499': 3498, 'USER3500': 3499, 'USER3501': 3500, 'USER3502': 3501, 'USER3503': 3502, 'USER3504': 3503, 'USER3505': 3504, 'USER3506': 3505, 'USER3507': 3506, 'USER3508': 3507, 'USER3509': 3508, 'USER3510': 3509, 'USER3511': 3510, 'USER3512': 3511, 'USER3513': 3512, 'USER3514': 3513, 'USER3515': 3514, 'USER3516': 3515, 'USER3517': 3516, 'USER3518': 3517, 'USER3519': 3518, 'USER3520': 3519, 'USER3521': 3520, 'USER3522': 3521, 'USER3523': 3522, 'USER3524': 3523, 'USER3525': 3524, 'USER3526': 3525, 'USER3527': 3526, 'USER3528': 3527, 'USER3529': 3528, 'USER3530': 3529, 'USER3531': 3530, 'USER3532': 3531, 'USER3533': 3532, 'USER3534': 3533, 'USER3535': 3534, 'USER3536': 3535, 'USER3537': 3536, 'USER3538': 3537, 'USER3539': 3538, 'USER3540': 3539, 'USER3541': 3540, 'USER3542': 3541, 'USER3543': 3542, 'USER3544': 3543, 'USER3545': 3544, 'USER3546': 3545, 'USER3547': 3546, 'USER3548': 3547, 'USER3549': 3548, 'USER3550': 3549, 'USER3551': 3550, 'USER3552': 3551, 'USER3553': 3552, 'USER3554': 3553, 'USER3555': 3554, 'USER3556': 3555, 'USER3557': 3556, 'USER3558': 3557, 'USER3559': 3558, 'USER3560': 3559, 'USER3561': 3560, 'USER3562': 3561, 'USER3563': 3562, 'USER3564': 3563, 'USER3565': 3564, 'USER3566': 3565, 'USER3567': 3566, 'USER3568': 3567, 'USER3569': 3568, 'USER3570': 3569, 'USER3571': 3570, 'USER3572': 3571, 'USER3573': 3572, 'USER3574': 3573, 'USER3575': 3574, 'USER3576': 3575, 'USER3577': 3576, 'USER3578': 3577, 'USER3579': 3578, 'USER3580': 3579, 'USER3581': 3580, 'USER3582': 3581, 'USER3583': 3582, 'USER3584': 3583, 'USER3585': 3584, 'USER3586': 3585, 'USER3587': 3586, 'USER3588': 3587, 'USER3589': 3588, 'USER3590': 3589, 'USER3591': 3590, 'USER3592': 3591, 'USER3593': 3592, 'USER3594': 3593, 'USER3595': 3594, 'USER3596': 3595, 'USER3597': 3596, 'USER3598': 3597, 'USER3599': 3598, 'USER3600': 3599, 'USER3601': 3600, 'USER3602': 3601, 'USER3603': 3602, 'USER3604': 3603, 'USER3605': 3604, 'USER3606': 3605, 'USER3607': 3606, 'USER3608': 3607, 'USER3609': 3608, 'USER3610': 3609, 'USER3611': 3610, 'USER3612': 3611, 'USER3613': 3612, 'USER3614': 3613, 'USER3615': 3614, 'USER3616': 3615, 'USER3617': 3616, 'USER3618': 3617, 'USER3619': 3618, 'USER3620': 3619, 'USER3621': 3620, 'USER3622': 3621, 'USER3623': 3622, 'USER3624': 3623, 'USER3625': 3624, 'USER3626': 3625, 'USER3627': 3626, 'USER3628': 3627, 'USER3629': 3628, 'USER3630': 3629, 'USER3631': 3630, 'USER3632': 3631, 'USER3633': 3632, 'USER3634': 3633, 'USER3635': 3634, 'USER3636': 3635, 'USER3637': 3636, 'USER3638': 3637, 'USER3639': 3638, 'USER3640': 3639, 'USER3641': 3640, 'USER3642': 3641, 'USER3643': 3642, 'USER3644': 3643, 'USER3645': 3644, 'USER3646': 3645, 'USER3647': 3646, 'USER3648': 3647, 'USER3649': 3648, 'USER3650': 3649, 'USER3651': 3650, 'USER3652': 3651, 'USER3653': 3652, 'USER3654': 3653, 'USER3655': 3654, 'USER3656': 3655, 'USER3657': 3656, 'USER3658': 3657, 'USER3659': 3658, 'USER3660': 3659, 'USER3661': 3660, 'USER3662': 3661, 'USER3663': 3662, 'USER3664': 3663, 'USER3665': 3664, 'USER3666': 3665, 'USER3667': 3666, 'USER3668': 3667, 'USER3669': 3668, 'USER3670': 3669, 'USER3671': 3670, 'USER3672': 3671, 'USER3673': 3672, 'USER3674': 3673, 'USER3675': 3674, 'USER3676': 3675, 'USER3677': 3676, 'USER3678': 3677, 'USER3679': 3678, 'USER3680': 3679, 'USER3681': 3680, 'USER3682': 3681, 'USER3683': 3682, 'USER3684': 3683, 'USER3685': 3684, 'USER3686': 3685, 'USER3687': 3686, 'USER3688': 3687, 'USER3689': 3688, 'USER3690': 3689, 'USER3691': 3690, 'USER3692': 3691, 'USER3693': 3692, 'USER3694': 3693, 'USER3695': 3694, 'USER3696': 3695, 'USER3697': 3696, 'USER3698': 3697, 'USER3699': 3698, 'USER3700': 3699, 'USER3701': 3700, 'USER3702': 3701, 'USER3703': 3702, 'USER3704': 3703, 'USER3705': 3704, 'USER3706': 3705, 'USER3707': 3706, 'USER3708': 3707, 'USER3709': 3708, 'USER3710': 3709, 'USER3711': 3710, 'USER3712': 3711, 'USER3713': 3712, 'USER3714': 3713, 'USER3715': 3714, 'USER3716': 3715, 'USER3717': 3716, 'USER3718': 3717, 'USER3719': 3718, 'USER3720': 3719, 'USER3721': 3720, 'USER3722': 3721, 'USER3723': 3722, 'USER3724': 3723, 'USER3725': 3724, 'USER3726': 3725, 'USER3727': 3726, 'USER3728': 3727, 'USER3729': 3728, 'USER3730': 3729, 'USER3731': 3730, 'USER3732': 3731, 'USER3733': 3732, 'USER3734': 3733, 'USER3735': 3734, 'USER3736': 3735, 'USER3737': 3736, 'USER3738': 3737, 'USER3739': 3738, 'USER3740': 3739, 'USER3741': 3740, 'USER3742': 3741, 'USER3743': 3742, 'USER3744': 3743, 'USER3745': 3744, 'USER3746': 3745, 'USER3747': 3746, 'USER3748': 3747, 'USER3749': 3748, 'USER3750': 3749, 'USER3751': 3750, 'USER3752': 3751, 'USER3753': 3752, 'USER3754': 3753, 'USER3755': 3754, 'USER3756': 3755, 'USER3757': 3756, 'USER3758': 3757, 'USER3759': 3758, 'USER3760': 3759, 'USER3761': 3760, 'USER3762': 3761, 'USER3763': 3762, 'USER3764': 3763, 'USER3765': 3764, 'USER3766': 3765, 'USER3767': 3766, 'USER3768': 3767, 'USER3769': 3768, 'USER3770': 3769, 'USER3771': 3770, 'USER3772': 3771, 'USER3773': 3772, 'USER3774': 3773, 'USER3775': 3774, 'USER3776': 3775, 'USER3777': 3776, 'USER3778': 3777, 'USER3779': 3778, 'USER3780': 3779, 'USER3781': 3780, 'USER3782': 3781, 'USER3783': 3782, 'USER3784': 3783, 'USER3785': 3784, 'USER3786': 3785, 'USER3787': 3786, 'USER3788': 3787, 'USER3789': 3788, 'USER3790': 3789, 'USER3791': 3790, 'USER3792': 3791, 'USER3793': 3792, 'USER3794': 3793, 'USER3795': 3794, 'USER3796': 3795, 'USER3797': 3796, 'USER3798': 3797, 'USER3799': 3798, 'USER3800': 3799, 'USER3801': 3800, 'USER3802': 3801, 'USER3803': 3802, 'USER3804': 3803, 'USER3805': 3804, 'USER3806': 3805, 'USER3807': 3806, 'USER3808': 3807, 'USER3809': 3808, 'USER3810': 3809, 'USER3811': 3810, 'USER3812': 3811, 'USER3813': 3812, 'USER3814': 3813, 'USER3815': 3814, 'USER3816': 3815, 'USER3817': 3816, 'USER3818': 3817, 'USER3819': 3818, 'USER3820': 3819, 'USER3821': 3820, 'USER3822': 3821, 'USER3823': 3822, 'USER3824': 3823, 'USER3825': 3824, 'USER3826': 3825, 'USER3827': 3826, 'USER3828': 3827, 'USER3829': 3828, 'USER3830': 3829, 'USER3831': 3830, 'USER3832': 3831, 'USER3833': 3832, 'USER3834': 3833, 'USER3835': 3834, 'USER3836': 3835, 'USER3837': 3836, 'USER3838': 3837, 'USER3839': 3838, 'USER3840': 3839, 'USER3841': 3840, 'USER3842': 3841, 'USER3843': 3842, 'USER3844': 3843, 'USER3845': 3844, 'USER3846': 3845, 'USER3847': 3846, 'USER3848': 3847, 'USER3849': 3848, 'USER3850': 3849, 'USER3851': 3850, 'USER3852': 3851, 'USER3853': 3852, 'USER3854': 3853, 'USER3855': 3854, 'USER3856': 3855, 'USER3857': 3856, 'USER3858': 3857, 'USER3859': 3858, 'USER3860': 3859, 'USER3861': 3860, 'USER3862': 3861, 'USER3863': 3862, 'USER3864': 3863, 'USER3865': 3864, 'USER3866': 3865, 'USER3867': 3866, 'USER3868': 3867, 'USER3869': 3868, 'USER3870': 3869, 'USER3871': 3870, 'USER3872': 3871, 'USER3873': 3872, 'USER3874': 3873, 'USER3875': 3874, 'USER3876': 3875, 'USER3877': 3876, 'USER3878': 3877, 'USER3879': 3878, 'USER3880': 3879, 'USER3881': 3880, 'USER3882': 3881, 'USER3883': 3882, 'USER3884': 3883, 'USER3885': 3884, 'USER3886': 3885, 'USER3887': 3886, 'USER3888': 3887, 'USER3889': 3888, 'USER3890': 3889, 'USER3891': 3890, 'USER3892': 3891, 'USER3893': 3892, 'USER3894': 3893, 'USER3895': 3894, 'USER3896': 3895, 'USER3897': 3896, 'USER3898': 3897, 'USER3899': 3898, 'USER3900': 3899, 'USER3901': 3900, 'USER3902': 3901, 'USER3903': 3902, 'USER3904': 3903, 'USER3905': 3904, 'USER3906': 3905, 'USER3907': 3906, 'USER3908': 3907, 'USER3909': 3908, 'USER3910': 3909, 'USER3911': 3910, 'USER3912': 3911, 'USER3913': 3912, 'USER3914': 3913, 'USER3915': 3914, 'USER3916': 3915, 'USER3917': 3916, 'USER3918': 3917, 'USER3919': 3918, 'USER3920': 3919, 'USER3921': 3920, 'USER3922': 3921, 'USER3923': 3922, 'USER3924': 3923, 'USER3925': 3924, 'USER3926': 3925, 'USER3927': 3926, 'USER3928': 3927, 'USER3929': 3928, 'USER3930': 3929, 'USER3931': 3930, 'USER3932': 3931, 'USER3933': 3932, 'USER3934': 3933, 'USER3935': 3934, 'USER3936': 3935, 'USER3937': 3936, 'USER3938': 3937, 'USER3939': 3938, 'USER3940': 3939, 'USER3941': 3940, 'USER3942': 3941, 'USER3943': 3942, 'USER3944': 3943, 'USER3945': 3944, 'USER3946': 3945, 'USER3947': 3946, 'USER3948': 3947, 'USER3949': 3948, 'USER3950': 3949, 'USER3951': 3950, 'USER3952': 3951, 'USER3953': 3952, 'USER3954': 3953, 'USER3955': 3954, 'USER3956': 3955, 'USER3957': 3956, 'USER3958': 3957, 'USER3959': 3958, 'USER3960': 3959, 'USER3961': 3960, 'USER3962': 3961, 'USER3963': 3962, 'USER3964': 3963, 'USER3965': 3964, 'USER3966': 3965, 'USER3967': 3966, 'USER3968': 3967, 'USER3969': 3968, 'USER3970': 3969, 'USER3971': 3970, 'USER3972': 3971, 'USER3973': 3972, 'USER3974': 3973, 'USER3975': 3974, 'USER3976': 3975, 'USER3977': 3976, 'USER3978': 3977, 'USER3979': 3978, 'USER3980': 3979, 'USER3981': 3980, 'USER3982': 3981, 'USER3983': 3982, 'USER3984': 3983, 'USER3985': 3984, 'USER3986': 3985, 'USER3987': 3986, 'USER3988': 3987, 'USER3989': 3988, 'USER3990': 3989, 'USER3991': 3990, 'USER3992': 3991, 'USER3993': 3992, 'USER3994': 3993, 'USER3995': 3994, 'USER3996': 3995, 'USER3997': 3996, 'USER3998': 3997, 'USER3999': 3998, 'USER4000': 3999, 'USER4001': 4000, 'USER4002': 4001, 'USER4003': 4002, 'USER4004': 4003, 'USER4005': 4004, 'USER4006': 4005, 'USER4007': 4006, 'USER4008': 4007, 'USER4009': 4008, 'USER4010': 4009, 'USER4011': 4010, 'USER4012': 4011, 'USER4013': 4012, 'USER4014': 4013, 'USER4015': 4014, 'USER4016': 4015, 'USER4017': 4016, 'USER4018': 4017, 'USER4019': 4018, 'USER4020': 4019, 'USER4021': 4020, 'USER4022': 4021, 'USER4023': 4022, 'USER4024': 4023, 'USER4025': 4024, 'USER4026': 4025, 'USER4027': 4026, 'USER4028': 4027, 'USER4029': 4028, 'USER4030': 4029, 'USER4031': 4030, 'USER4032': 4031, 'USER4033': 4032, 'USER4034': 4033, 'USER4035': 4034, 'USER4036': 4035, 'USER4037': 4036, 'USER4038': 4037, 'USER4039': 4038, 'USER4040': 4039, 'USER4041': 4040, 'USER4042': 4041, 'USER4043': 4042, 'USER4044': 4043, 'USER4045': 4044, 'USER4046': 4045, 'USER4047': 4046, 'USER4048': 4047, 'USER4049': 4048, 'USER4050': 4049, 'USER4051': 4050, 'USER4052': 4051, 'USER4053': 4052, 'USER4054': 4053, 'USER4055': 4054, 'USER4056': 4055, 'USER4057': 4056, 'USER4058': 4057, 'USER4059': 4058, 'USER4060': 4059, 'USER4061': 4060, 'USER4062': 4061, 'USER4063': 4062, 'USER4064': 4063, 'USER4065': 4064, 'USER4066': 4065, 'USER4067': 4066, 'USER4068': 4067, 'USER4069': 4068, 'USER4070': 4069, 'USER4071': 4070, 'USER4072': 4071, 'USER4073': 4072, 'USER4074': 4073, 'USER4075': 4074, 'USER4076': 4075, 'USER4077': 4076, 'USER4078': 4077, 'USER4079': 4078, 'USER4080': 4079, 'USER4081': 4080, 'USER4082': 4081, 'USER4083': 4082, 'USER4084': 4083, 'USER4085': 4084, 'USER4086': 4085, 'USER4087': 4086, 'USER4088': 4087, 'USER4089': 4088, 'USER4090': 4089, 'USER4091': 4090, 'USER4092': 4091, 'USER4093': 4092, 'USER4094': 4093, 'USER4095': 4094, 'USER4096': 4095, 'USER4097': 4096, 'USER4098': 4097, 'USER4099': 4098, 'USER4100': 4099, 'USER4101': 4100, 'USER4102': 4101, 'USER4103': 4102, 'USER4104': 4103, 'USER4105': 4104, 'USER4106': 4105, 'USER4107': 4106, 'USER4108': 4107, 'USER4109': 4108, 'USER4110': 4109, 'USER4111': 4110, 'USER4112': 4111, 'USER4113': 4112, 'USER4114': 4113, 'USER4115': 4114, 'USER4116': 4115, 'USER4117': 4116, 'USER4118': 4117, 'USER4119': 4118, 'USER4120': 4119, 'USER4121': 4120, 'USER4122': 4121, 'USER4123': 4122, 'USER4124': 4123, 'USER4125': 4124, 'USER4126': 4125, 'USER4127': 4126, 'USER4128': 4127, 'USER4129': 4128, 'USER4130': 4129, 'USER4131': 4130, 'USER4132': 4131, 'USER4133': 4132, 'USER4134': 4133, 'USER4135': 4134, 'USER4136': 4135, 'USER4137': 4136, 'USER4138': 4137, 'USER4139': 4138, 'USER4140': 4139, 'USER4141': 4140, 'USER4142': 4141, 'USER4143': 4142, 'USER4144': 4143, 'USER4145': 4144, 'USER4146': 4145, 'USER4147': 4146, 'USER4148': 4147, 'USER4149': 4148, 'USER4150': 4149, 'USER4151': 4150, 'USER4152': 4151, 'USER4153': 4152, 'USER4154': 4153, 'USER4155': 4154, 'USER4156': 4155, 'USER4157': 4156, 'USER4158': 4157, 'USER4159': 4158, 'USER4160': 4159, 'USER4161': 4160, 'USER4162': 4161, 'USER4163': 4162, 'USER4164': 4163, 'USER4165': 4164, 'USER4166': 4165, 'USER4167': 4166, 'USER4168': 4167, 'USER4169': 4168, 'USER4170': 4169, 'USER4171': 4170, 'USER4172': 4171, 'USER4173': 4172, 'USER4174': 4173, 'USER4175': 4174, 'USER4176': 4175, 'USER4177': 4176, 'USER4178': 4177, 'USER4179': 4178, 'USER4180': 4179, 'USER4181': 4180, 'USER4182': 4181, 'USER4183': 4182, 'USER4184': 4183, 'USER4185': 4184, 'USER4186': 4185, 'USER4187': 4186, 'USER4188': 4187, 'USER4189': 4188, 'USER4190': 4189, 'USER4191': 4190, 'USER4192': 4191, 'USER4193': 4192, 'USER4194': 4193, 'USER4195': 4194, 'USER4196': 4195, 'USER4197': 4196, 'USER4198': 4197, 'USER4199': 4198, 'USER4200': 4199, 'USER4201': 4200, 'USER4202': 4201, 'USER4203': 4202, 'USER4204': 4203, 'USER4205': 4204, 'USER4206': 4205, 'USER4207': 4206, 'USER4208': 4207, 'USER4209': 4208, 'USER4210': 4209, 'USER4211': 4210, 'USER4212': 4211, 'USER4213': 4212, 'USER4214': 4213, 'USER4215': 4214, 'USER4216': 4215, 'USER4217': 4216, 'USER4218': 4217, 'USER4219': 4218, 'USER4220': 4219, 'USER4221': 4220, 'USER4222': 4221, 'USER4223': 4222, 'USER4224': 4223, 'USER4225': 4224, 'USER4226': 4225, 'USER4227': 4226, 'USER4228': 4227, 'USER4229': 4228, 'USER4230': 4229, 'USER4231': 4230, 'USER4232': 4231, 'USER4233': 4232, 'USER4234': 4233, 'USER4235': 4234, 'USER4236': 4235, 'USER4237': 4236, 'USER4238': 4237, 'USER4239': 4238, 'USER4240': 4239, 'USER4241': 4240, 'USER4242': 4241, 'USER4243': 4242, 'USER4244': 4243, 'USER4245': 4244, 'USER4246': 4245, 'USER4247': 4246, 'USER4248': 4247, 'USER4249': 4248, 'USER4250': 4249, 'USER4251': 4250, 'USER4252': 4251, 'USER4253': 4252, 'USER4254': 4253, 'USER4255': 4254, 'USER4256': 4255, 'USER4257': 4256, 'USER4258': 4257, 'USER4259': 4258, 'USER4260': 4259, 'USER4261': 4260, 'USER4262': 4261, 'USER4263': 4262, 'USER4264': 4263, 'USER4265': 4264, 'USER4266': 4265, 'USER4267': 4266, 'USER4268': 4267, 'USER4269': 4268, 'USER4270': 4269, 'USER4271': 4270, 'USER4272': 4271, 'USER4273': 4272, 'USER4274': 4273, 'USER4275': 4274, 'USER4276': 4275, 'USER4277': 4276, 'USER4278': 4277, 'USER4279': 4278, 'USER4280': 4279, 'USER4281': 4280, 'USER4282': 4281, 'USER4283': 4282, 'USER4284': 4283, 'USER4285': 4284, 'USER4286': 4285, 'USER4287': 4286, 'USER4288': 4287, 'USER4289': 4288, 'USER4290': 4289, 'USER4291': 4290, 'USER4292': 4291, 'USER4293': 4292, 'USER4294': 4293, 'USER4295': 4294, 'USER4296': 4295, 'USER4297': 4296, 'USER4298': 4297, 'USER4299': 4298, 'USER4300': 4299, 'USER4301': 4300, 'USER4302': 4301, 'USER4303': 4302, 'USER4304': 4303, 'USER4305': 4304, 'USER4306': 4305, 'USER4307': 4306, 'USER4308': 4307, 'USER4309': 4308, 'USER4310': 4309, 'USER4311': 4310, 'USER4312': 4311, 'USER4313': 4312, 'USER4314': 4313, 'USER4315': 4314, 'USER4316': 4315, 'USER4317': 4316, 'USER4318': 4317, 'USER4319': 4318, 'USER4320': 4319, 'USER4321': 4320, 'USER4322': 4321, 'USER4323': 4322, 'USER4324': 4323, 'USER4325': 4324, 'USER4326': 4325, 'USER4327': 4326, 'USER4328': 4327, 'USER4329': 4328, 'USER4330': 4329, 'USER4331': 4330, 'USER4332': 4331, 'USER4333': 4332, 'USER4334': 4333, 'USER4335': 4334, 'USER4336': 4335, 'USER4337': 4336, 'USER4338': 4337, 'USER4339': 4338, 'USER4340': 4339, 'USER4341': 4340, 'USER4342': 4341, 'USER4343': 4342, 'USER4344': 4343, 'USER4345': 4344, 'USER4346': 4345, 'USER4347': 4346, 'USER4348': 4347, 'USER4349': 4348, 'USER4350': 4349, 'USER4351': 4350, 'USER4352': 4351, 'USER4353': 4352, 'USER4354': 4353, 'USER4355': 4354, 'USER4356': 4355, 'USER4357': 4356, 'USER4358': 4357, 'USER4359': 4358, 'USER4360': 4359, 'USER4361': 4360, 'USER4362': 4361, 'USER4363': 4362, 'USER4364': 4363, 'USER4365': 4364, 'USER4366': 4365, 'USER4367': 4366, 'USER4368': 4367, 'USER4369': 4368, 'USER4370': 4369, 'USER4371': 4370, 'USER4372': 4371, 'USER4373': 4372, 'USER4374': 4373, 'USER4375': 4374, 'USER4376': 4375, 'USER4377': 4376, 'USER4378': 4377, 'USER4379': 4378, 'USER4380': 4379, 'USER4381': 4380, 'USER4382': 4381, 'USER4383': 4382, 'USER4384': 4383, 'USER4385': 4384, 'USER4386': 4385, 'USER4387': 4386, 'USER4388': 4387, 'USER4389': 4388, 'USER4390': 4389, 'USER4391': 4390, 'USER4392': 4391, 'USER4393': 4392, 'USER4394': 4393, 'USER4395': 4394, 'USER4396': 4395, 'USER4397': 4396, 'USER4398': 4397, 'USER4399': 4398, 'USER4400': 4399, 'USER4401': 4400, 'USER4402': 4401, 'USER4403': 4402, 'USER4404': 4403, 'USER4405': 4404, 'USER4406': 4405, 'USER4407': 4406, 'USER4408': 4407, 'USER4409': 4408, 'USER4410': 4409, 'USER4411': 4410, 'USER4412': 4411, 'USER4413': 4412, 'USER4414': 4413, 'USER4415': 4414, 'USER4416': 4415, 'USER4417': 4416, 'USER4418': 4417, 'USER4419': 4418, 'USER4420': 4419, 'USER4421': 4420, 'USER4422': 4421, 'USER4423': 4422, 'USER4424': 4423, 'USER4425': 4424, 'USER4426': 4425, 'USER4427': 4426, 'USER4428': 4427, 'USER4429': 4428, 'USER4430': 4429, 'USER4431': 4430, 'USER4432': 4431, 'USER4433': 4432, 'USER4434': 4433, 'USER4435': 4434, 'USER4436': 4435, 'USER4437': 4436, 'USER4438': 4437, 'USER4439': 4438, 'USER4440': 4439, 'USER4441': 4440, 'USER4442': 4441, 'USER4443': 4442, 'USER4444': 4443, 'USER4445': 4444, 'USER4446': 4445, 'USER4447': 4446, 'USER4448': 4447, 'USER4449': 4448, 'USER4450': 4449, 'USER4451': 4450, 'USER4452': 4451, 'USER4453': 4452, 'USER4454': 4453, 'USER4455': 4454, 'USER4456': 4455, 'USER4457': 4456, 'USER4458': 4457, 'USER4459': 4458, 'USER4460': 4459, 'USER4461': 4460, 'USER4462': 4461, 'USER4463': 4462, 'USER4464': 4463, 'USER4465': 4464, 'USER4466': 4465, 'USER4467': 4466, 'USER4468': 4467, 'USER4469': 4468, 'USER4470': 4469, 'USER4471': 4470, 'USER4472': 4471, 'USER4473': 4472, 'USER4474': 4473, 'USER4475': 4474, 'USER4476': 4475, 'USER4477': 4476, 'USER4478': 4477, 'USER4479': 4478, 'USER4480': 4479, 'USER4481': 4480, 'USER4482': 4481, 'USER4483': 4482, 'USER4484': 4483, 'USER4485': 4484, 'USER4486': 4485, 'USER4487': 4486, 'USER4488': 4487, 'USER4489': 4488, 'USER4490': 4489, 'USER4491': 4490, 'USER4492': 4491, 'USER4493': 4492, 'USER4494': 4493, 'USER4495': 4494, 'USER4496': 4495, 'USER4497': 4496, 'USER4498': 4497, 'USER4499': 4498, 'USER4500': 4499, 'USER4501': 4500, 'USER4502': 4501, 'USER4503': 4502, 'USER4504': 4503, 'USER4505': 4504, 'USER4506': 4505, 'USER4507': 4506, 'USER4508': 4507, 'USER4509': 4508, 'USER4510': 4509, 'USER4511': 4510, 'USER4512': 4511, 'USER4513': 4512, 'USER4514': 4513, 'USER4515': 4514, 'USER4516': 4515, 'USER4517': 4516, 'USER4518': 4517, 'USER4519': 4518, 'USER4520': 4519, 'USER4521': 4520, 'USER4522': 4521, 'USER4523': 4522, 'USER4524': 4523, 'USER4525': 4524, 'USER4526': 4525, 'USER4527': 4526, 'USER4528': 4527, 'USER4529': 4528, 'USER4530': 4529, 'USER4531': 4530, 'USER4532': 4531, 'USER4533': 4532, 'USER4534': 4533, 'USER4535': 4534, 'USER4536': 4535, 'USER4537': 4536, 'USER4538': 4537, 'USER4539': 4538, 'USER4540': 4539, 'USER4541': 4540, 'USER4542': 4541, 'USER4543': 4542, 'USER4544': 4543, 'USER4545': 4544, 'USER4546': 4545, 'USER4547': 4546, 'USER4548': 4547, 'USER4549': 4548, 'USER4550': 4549, 'USER4551': 4550, 'USER4552': 4551, 'USER4553': 4552, 'USER4554': 4553, 'USER4555': 4554, 'USER4556': 4555, 'USER4557': 4556, 'USER4558': 4557, 'USER4559': 4558, 'USER4560': 4559, 'USER4561': 4560, 'USER4562': 4561, 'USER4563': 4562, 'USER4564': 4563, 'USER4565': 4564, 'USER4566': 4565, 'USER4567': 4566, 'USER4568': 4567, 'USER4569': 4568, 'USER4570': 4569, 'USER4571': 4570, 'USER4572': 4571, 'USER4573': 4572, 'USER4574': 4573, 'USER4575': 4574, 'USER4576': 4575, 'USER4577': 4576, 'USER4578': 4577, 'USER4579': 4578, 'USER4580': 4579, 'USER4581': 4580, 'USER4582': 4581, 'USER4583': 4582, 'USER4584': 4583, 'USER4585': 4584, 'USER4586': 4585, 'USER4587': 4586, 'USER4588': 4587, 'USER4589': 4588, 'USER4590': 4589, 'USER4591': 4590, 'USER4592': 4591, 'USER4593': 4592, 'USER4594': 4593, 'USER4595': 4594, 'USER4596': 4595, 'USER4597': 4596, 'USER4598': 4597, 'USER4599': 4598, 'USER4600': 4599, 'USER4601': 4600, 'USER4602': 4601, 'USER4603': 4602, 'USER4604': 4603, 'USER4605': 4604, 'USER4606': 4605, 'USER4607': 4606, 'USER4608': 4607, 'USER4609': 4608, 'USER4610': 4609, 'USER4611': 4610, 'USER4612': 4611, 'USER4613': 4612, 'USER4614': 4613, 'USER4615': 4614, 'USER4616': 4615, 'USER4617': 4616, 'USER4618': 4617, 'USER4619': 4618, 'USER4620': 4619, 'USER4621': 4620, 'USER4622': 4621, 'USER4623': 4622, 'USER4624': 4623, 'USER4625': 4624, 'USER4626': 4625, 'USER4627': 4626, 'USER4628': 4627, 'USER4629': 4628, 'USER4630': 4629, 'USER4631': 4630, 'USER4632': 4631, 'USER4633': 4632, 'USER4634': 4633, 'USER4635': 4634, 'USER4636': 4635, 'USER4637': 4636, 'USER4638': 4637, 'USER4639': 4638, 'USER4640': 4639, 'USER4641': 4640, 'USER4642': 4641, 'USER4643': 4642, 'USER4644': 4643, 'USER4645': 4644, 'USER4646': 4645, 'USER4647': 4646, 'USER4648': 4647, 'USER4649': 4648, 'USER4650': 4649, 'USER4651': 4650, 'USER4652': 4651, 'USER4653': 4652, 'USER4654': 4653, 'USER4655': 4654, 'USER4656': 4655, 'USER4657': 4656, 'USER4658': 4657, 'USER4659': 4658, 'USER4660': 4659, 'USER4661': 4660, 'USER4662': 4661, 'USER4663': 4662, 'USER4664': 4663, 'USER4665': 4664, 'USER4666': 4665, 'USER4667': 4666, 'USER4668': 4667, 'USER4669': 4668, 'USER4670': 4669, 'USER4671': 4670, 'USER4672': 4671, 'USER4673': 4672, 'USER4674': 4673, 'USER4675': 4674, 'USER4676': 4675, 'USER4677': 4676, 'USER4678': 4677, 'USER4679': 4678, 'USER4680': 4679, 'USER4681': 4680, 'USER4682': 4681, 'USER4683': 4682, 'USER4684': 4683, 'USER4685': 4684, 'USER4686': 4685, 'USER4687': 4686, 'USER4688': 4687, 'USER4689': 4688, 'USER4690': 4689, 'USER4691': 4690, 'USER4692': 4691, 'USER4693': 4692, 'USER4694': 4693, 'USER4695': 4694, 'USER4696': 4695, 'USER4697': 4696, 'USER4698': 4697, 'USER4699': 4698, 'USER4700': 4699, 'USER4701': 4700, 'USER4702': 4701, 'USER4703': 4702, 'USER4704': 4703, 'USER4705': 4704, 'USER4706': 4705, 'USER4707': 4706, 'USER4708': 4707, 'USER4709': 4708, 'USER4710': 4709, 'USER4711': 4710, 'USER4712': 4711, 'USER4713': 4712, 'USER4714': 4713, 'USER4715': 4714, 'USER4716': 4715, 'USER4717': 4716, 'USER4718': 4717, 'USER4719': 4718, 'USER4720': 4719, 'USER4721': 4720, 'USER4722': 4721, 'USER4723': 4722, 'USER4724': 4723, 'USER4725': 4724, 'USER4726': 4725, 'USER4727': 4726, 'USER4728': 4727, 'USER4729': 4728, 'USER4730': 4729, 'USER4731': 4730, 'USER4732': 4731, 'USER4733': 4732, 'USER4734': 4733, 'USER4735': 4734, 'USER4736': 4735, 'USER4737': 4736, 'USER4738': 4737, 'USER4739': 4738, 'USER4740': 4739, 'USER4741': 4740, 'USER4742': 4741, 'USER4743': 4742, 'USER4744': 4743, 'USER4745': 4744, 'USER4746': 4745, 'USER4747': 4746, 'USER4748': 4747, 'USER4749': 4748, 'USER4750': 4749, 'USER4751': 4750, 'USER4752': 4751, 'USER4753': 4752, 'USER4754': 4753, 'USER4755': 4754, 'USER4756': 4755, 'USER4757': 4756, 'USER4758': 4757, 'USER4759': 4758, 'USER4760': 4759, 'USER4761': 4760, 'USER4762': 4761, 'USER4763': 4762, 'USER4764': 4763, 'USER4765': 4764, 'USER4766': 4765, 'USER4767': 4766, 'USER4768': 4767, 'USER4769': 4768, 'USER4770': 4769, 'USER4771': 4770, 'USER4772': 4771, 'USER4773': 4772, 'USER4774': 4773, 'USER4775': 4774, 'USER4776': 4775, 'USER4777': 4776, 'USER4778': 4777, 'USER4779': 4778, 'USER4780': 4779, 'USER4781': 4780, 'USER4782': 4781, 'USER4783': 4782, 'USER4784': 4783, 'USER4785': 4784, 'USER4786': 4785, 'USER4787': 4786, 'USER4788': 4787, 'USER4789': 4788, 'USER4790': 4789, 'USER4791': 4790, 'USER4792': 4791, 'USER4793': 4792, 'USER4794': 4793, 'USER4795': 4794, 'USER4796': 4795, 'USER4797': 4796, 'USER4798': 4797, 'USER4799': 4798, 'USER4800': 4799, 'USER4801': 4800, 'USER4802': 4801, 'USER4803': 4802, 'USER4804': 4803, 'USER4805': 4804, 'USER4806': 4805, 'USER4807': 4806, 'USER4808': 4807, 'USER4809': 4808, 'USER4810': 4809, 'USER4811': 4810, 'USER4812': 4811, 'USER4813': 4812, 'USER4814': 4813, 'USER4815': 4814, 'USER4816': 4815, 'USER4817': 4816, 'USER4818': 4817, 'USER4819': 4818, 'USER4820': 4819, 'USER4821': 4820, 'USER4822': 4821, 'USER4823': 4822, 'USER4824': 4823, 'USER4825': 4824, 'USER4826': 4825, 'USER4827': 4826, 'USER4828': 4827, 'USER4829': 4828, 'USER4830': 4829, 'USER4831': 4830, 'USER4832': 4831, 'USER4833': 4832, 'USER4834': 4833, 'USER4835': 4834, 'USER4836': 4835, 'USER4837': 4836, 'USER4838': 4837, 'USER4839': 4838, 'USER4840': 4839, 'USER4841': 4840, 'USER4842': 4841, 'USER4843': 4842, 'USER4844': 4843, 'USER4845': 4844, 'USER4846': 4845, 'USER4847': 4846, 'USER4848': 4847, 'USER4849': 4848, 'USER4850': 4849, 'USER4851': 4850, 'USER4852': 4851, 'USER4853': 4852, 'USER4854': 4853, 'USER4855': 4854, 'USER4856': 4855, 'USER4857': 4856, 'USER4858': 4857, 'USER4859': 4858, 'USER4860': 4859, 'USER4861': 4860, 'USER4862': 4861, 'USER4863': 4862, 'USER4864': 4863, 'USER4865': 4864, 'USER4866': 4865, 'USER4867': 4866, 'USER4868': 4867, 'USER4869': 4868, 'USER4870': 4869, 'USER4871': 4870, 'USER4872': 4871, 'USER4873': 4872, 'USER4874': 4873, 'USER4875': 4874, 'USER4876': 4875, 'USER4877': 4876, 'USER4878': 4877, 'USER4879': 4878, 'USER4880': 4879, 'USER4881': 4880, 'USER4882': 4881, 'USER4883': 4882, 'USER4884': 4883, 'USER4885': 4884, 'USER4886': 4885, 'USER4887': 4886, 'USER4888': 4887, 'USER4889': 4888, 'USER4890': 4889, 'USER4891': 4890, 'USER4892': 4891, 'USER4893': 4892, 'USER4894': 4893, 'USER4895': 4894, 'USER4896': 4895, 'USER4897': 4896, 'USER4898': 4897, 'USER4899': 4898, 'USER4900': 4899, 'USER4901': 4900, 'USER4902': 4901, 'USER4903': 4902, 'USER4904': 4903, 'USER4905': 4904, 'USER4906': 4905, 'USER4907': 4906, 'USER4908': 4907, 'USER4909': 4908, 'USER4910': 4909, 'USER4911': 4910, 'USER4912': 4911, 'USER4913': 4912, 'USER4914': 4913, 'USER4915': 4914, 'USER4916': 4915, 'USER4917': 4916, 'USER4918': 4917, 'USER4919': 4918, 'USER4920': 4919, 'USER4921': 4920, 'USER4922': 4921, 'USER4923': 4922, 'USER4924': 4923, 'USER4925': 4924, 'USER4926': 4925, 'USER4927': 4926, 'USER4928': 4927, 'USER4929': 4928, 'USER4930': 4929, 'USER4931': 4930, 'USER4932': 4931, 'USER4933': 4932, 'USER4934': 4933, 'USER4935': 4934, 'USER4936': 4935, 'USER4937': 4936, 'USER4938': 4937, 'USER4939': 4938, 'USER4940': 4939, 'USER4941': 4940, 'USER4942': 4941, 'USER4943': 4942, 'USER4944': 4943, 'USER4945': 4944, 'USER4946': 4945, 'USER4947': 4946, 'USER4948': 4947, 'USER4949': 4948, 'USER4950': 4949, 'USER4951': 4950, 'USER4952': 4951, 'USER4953': 4952, 'USER4954': 4953, 'USER4955': 4954, 'USER4956': 4955, 'USER4957': 4956, 'USER4958': 4957, 'USER4959': 4958, 'USER4960': 4959, 'USER4961': 4960, 'USER4962': 4961, 'USER4963': 4962, 'USER4964': 4963, 'USER4965': 4964, 'USER4966': 4965, 'USER4967': 4966, 'USER4968': 4967, 'USER4969': 4968, 'USER4970': 4969, 'USER4971': 4970, 'USER4972': 4971, 'USER4973': 4972, 'USER4974': 4973, 'USER4975': 4974, 'USER4976': 4975, 'USER4977': 4976, 'USER4978': 4977, 'USER4979': 4978, 'USER4980': 4979, 'USER4981': 4980, 'USER4982': 4981, 'USER4983': 4982, 'USER4984': 4983, 'USER4985': 4984, 'USER4986': 4985, 'USER4987': 4986, 'USER4988': 4987, 'USER4989': 4988, 'USER4990': 4989, 'USER4991': 4990, 'USER4992': 4991, 'USER4993': 4992, 'USER4994': 4993, 'USER4995': 4994, 'USER4996': 4995, 'USER4997': 4996, 'USER4998': 4997, 'USER4999': 4998, 'USER5000': 4999, 'USER5001': 5000, 'USER5002': 5001, 'USER5003': 5002, 'USER5004': 5003, 'USER5005': 5004, 'USER5006': 5005, 'USER5007': 5006, 'USER5008': 5007, 'USER5009': 5008, 'USER5010': 5009, 'USER5011': 5010, 'USER5012': 5011, 'USER5013': 5012, 'USER5014': 5013, 'USER5015': 5014, 'USER5016': 5015, 'USER5017': 5016, 'USER5018': 5017, 'USER5019': 5018, 'USER5020': 5019, 'USER5021': 5020, 'USER5022': 5021, 'USER5023': 5022, 'USER5024': 5023, 'USER5025': 5024, 'USER5026': 5025, 'USER5027': 5026, 'USER5028': 5027, 'USER5029': 5028, 'USER5030': 5029, 'USER5031': 5030, 'USER5032': 5031, 'USER5033': 5032, 'USER5034': 5033, 'USER5035': 5034, 'USER5036': 5035, 'USER5037': 5036, 'USER5038': 5037, 'USER5039': 5038, 'USER5040': 5039, 'USER5041': 5040, 'USER5042': 5041, 'USER5043': 5042, 'USER5044': 5043, 'USER5045': 5044, 'USER5046': 5045, 'USER5047': 5046, 'USER5048': 5047, 'USER5049': 5048, 'USER5050': 5049, 'USER5051': 5050, 'USER5052': 5051, 'USER5053': 5052, 'USER5054': 5053, 'USER5055': 5054, 'USER5056': 5055, 'USER5057': 5056, 'USER5058': 5057, 'USER5059': 5058, 'USER5060': 5059, 'USER5061': 5060, 'USER5062': 5061, 'USER5063': 5062, 'USER5064': 5063, 'USER5065': 5064, 'USER5066': 5065, 'USER5067': 5066, 'USER5068': 5067, 'USER5069': 5068, 'USER5070': 5069, 'USER5071': 5070, 'USER5072': 5071, 'USER5073': 5072, 'USER5074': 5073, 'USER5075': 5074, 'USER5076': 5075, 'USER5077': 5076, 'USER5078': 5077, 'USER5079': 5078, 'USER5080': 5079, 'USER5081': 5080, 'USER5082': 5081, 'USER5083': 5082, 'USER5084': 5083, 'USER5085': 5084, 'USER5086': 5085, 'USER5087': 5086, 'USER5088': 5087, 'USER5089': 5088, 'USER5090': 5089, 'USER5091': 5090, 'USER5092': 5091, 'USER5093': 5092, 'USER5094': 5093, 'USER5095': 5094, 'USER5096': 5095, 'USER5097': 5096, 'USER5098': 5097, 'USER5099': 5098, 'USER5100': 5099, 'USER5101': 5100, 'USER5102': 5101, 'USER5103': 5102, 'USER5104': 5103, 'USER5105': 5104, 'USER5106': 5105, 'USER5107': 5106, 'USER5108': 5107, 'USER5109': 5108, 'USER5110': 5109, 'USER5111': 5110, 'USER5112': 5111, 'USER5113': 5112, 'USER5114': 5113, 'USER5115': 5114, 'USER5116': 5115, 'USER5117': 5116, 'USER5118': 5117, 'USER5119': 5118, 'USER5120': 5119, 'USER5121': 5120, 'USER5122': 5121, 'USER5123': 5122, 'USER5124': 5123, 'USER5125': 5124, 'USER5126': 5125, 'USER5127': 5126, 'USER5128': 5127, 'USER5129': 5128, 'USER5130': 5129, 'USER5131': 5130, 'USER5132': 5131, 'USER5133': 5132, 'USER5134': 5133, 'USER5135': 5134, 'USER5136': 5135, 'USER5137': 5136, 'USER5138': 5137, 'USER5139': 5138, 'USER5140': 5139, 'USER5141': 5140, 'USER5142': 5141, 'USER5143': 5142, 'USER5144': 5143, 'USER5145': 5144, 'USER5146': 5145, 'USER5147': 5146, 'USER5148': 5147, 'USER5149': 5148, 'USER5150': 5149, 'USER5151': 5150, 'USER5152': 5151, 'USER5153': 5152, 'USER5154': 5153, 'USER5155': 5154, 'USER5156': 5155, 'USER5157': 5156, 'USER5158': 5157, 'USER5159': 5158, 'USER5160': 5159, 'USER5161': 5160, 'USER5162': 5161, 'USER5163': 5162, 'USER5164': 5163, 'USER5165': 5164, 'USER5166': 5165, 'USER5167': 5166, 'USER5168': 5167, 'USER5169': 5168, 'USER5170': 5169, 'USER5171': 5170, 'USER5172': 5171, 'USER5173': 5172, 'USER5174': 5173, 'USER5175': 5174, 'USER5176': 5175, 'USER5177': 5176, 'USER5178': 5177, 'USER5179': 5178, 'USER5180': 5179, 'USER5181': 5180, 'USER5182': 5181, 'USER5183': 5182, 'USER5184': 5183, 'USER5185': 5184, 'USER5186': 5185, 'USER5187': 5186, 'USER5188': 5187, 'USER5189': 5188, 'USER5190': 5189, 'USER5191': 5190, 'USER5192': 5191, 'USER5193': 5192, 'USER5194': 5193, 'USER5195': 5194, 'USER5196': 5195, 'USER5197': 5196, 'USER5198': 5197, 'USER5199': 5198, 'USER5200': 5199, 'USER5201': 5200, 'USER5202': 5201, 'USER5203': 5202, 'USER5204': 5203, 'USER5205': 5204, 'USER5206': 5205, 'USER5207': 5206, 'USER5208': 5207, 'USER5209': 5208, 'USER5210': 5209, 'USER5211': 5210, 'USER5212': 5211, 'USER5213': 5212, 'USER5214': 5213, 'USER5215': 5214, 'USER5216': 5215, 'USER5217': 5216, 'USER5218': 5217, 'USER5219': 5218, 'USER5220': 5219, 'USER5221': 5220, 'USER5222': 5221, 'USER5223': 5222, 'USER5224': 5223, 'USER5225': 5224, 'USER5226': 5225, 'USER5227': 5226, 'USER5228': 5227, 'USER5229': 5228, 'USER5230': 5229, 'USER5231': 5230, 'USER5232': 5231, 'USER5233': 5232, 'USER5234': 5233, 'USER5235': 5234, 'USER5236': 5235, 'USER5237': 5236, 'USER5238': 5237, 'USER5239': 5238, 'USER5240': 5239, 'USER5241': 5240, 'USER5242': 5241, 'USER5243': 5242, 'USER5244': 5243, 'USER5245': 5244, 'USER5246': 5245, 'USER5247': 5246, 'USER5248': 5247, 'USER5249': 5248, 'USER5250': 5249, 'USER5251': 5250, 'USER5252': 5251, 'USER5253': 5252, 'USER5254': 5253, 'USER5255': 5254, 'USER5256': 5255, 'USER5257': 5256, 'USER5258': 5257, 'USER5259': 5258, 'USER5260': 5259, 'USER5261': 5260, 'USER5262': 5261, 'USER5263': 5262, 'USER5264': 5263, 'USER5265': 5264, 'USER5266': 5265, 'USER5267': 5266, 'USER5268': 5267, 'USER5269': 5268, 'USER5270': 5269, 'USER5271': 5270, 'USER5272': 5271, 'USER5273': 5272, 'USER5274': 5273, 'USER5275': 5274, 'USER5276': 5275, 'USER5277': 5276, 'USER5278': 5277, 'USER5279': 5278, 'USER5280': 5279, 'USER5281': 5280, 'USER5282': 5281, 'USER5283': 5282, 'USER5284': 5283, 'USER5285': 5284, 'USER5286': 5285, 'USER5287': 5286, 'USER5288': 5287, 'USER5289': 5288, 'USER5290': 5289, 'USER5291': 5290, 'USER5292': 5291, 'USER5293': 5292, 'USER5294': 5293, 'USER5295': 5294, 'USER5296': 5295, 'USER5297': 5296, 'USER5298': 5297, 'USER5299': 5298, 'USER5300': 5299, 'USER5301': 5300, 'USER5302': 5301, 'USER5303': 5302, 'USER5304': 5303, 'USER5305': 5304, 'USER5306': 5305, 'USER5307': 5306, 'USER5308': 5307, 'USER5309': 5308, 'USER5310': 5309, 'USER5311': 5310, 'USER5312': 5311, 'USER5313': 5312, 'USER5314': 5313, 'USER5315': 5314, 'USER5316': 5315, 'USER5317': 5316, 'USER5318': 5317, 'USER5319': 5318, 'USER5320': 5319, 'USER5321': 5320, 'USER5322': 5321, 'USER5323': 5322, 'USER5324': 5323, 'USER5325': 5324, 'USER5326': 5325, 'USER5327': 5326, 'USER5328': 5327, 'USER5329': 5328, 'USER5330': 5329, 'USER5331': 5330, 'USER5332': 5331, 'USER5333': 5332, 'USER5334': 5333, 'USER5335': 5334, 'USER5336': 5335, 'USER5337': 5336, 'USER5338': 5337, 'USER5339': 5338, 'USER5340': 5339, 'USER5341': 5340, 'USER5342': 5341, 'USER5343': 5342, 'USER5344': 5343, 'USER5345': 5344, 'USER5346': 5345, 'USER5347': 5346, 'USER5348': 5347, 'USER5349': 5348, 'USER5350': 5349, 'USER5351': 5350, 'USER5352': 5351, 'USER5353': 5352, 'USER5354': 5353, 'USER5355': 5354, 'USER5356': 5355, 'USER5357': 5356, 'USER5358': 5357, 'USER5359': 5358, 'USER5360': 5359, 'USER5361': 5360, 'USER5362': 5361, 'USER5363': 5362, 'USER5364': 5363, 'USER5365': 5364, 'USER5366': 5365, 'USER5367': 5366, 'USER5368': 5367, 'USER5369': 5368, 'USER5370': 5369, 'USER5371': 5370, 'USER5372': 5371, 'USER5373': 5372, 'USER5374': 5373, 'USER5375': 5374, 'USER5376': 5375, 'USER5377': 5376, 'USER5378': 5377, 'USER5379': 5378, 'USER5380': 5379, 'USER5381': 5380, 'USER5382': 5381, 'USER5383': 5382, 'USER5384': 5383, 'USER5385': 5384, 'USER5386': 5385, 'USER5387': 5386, 'USER5388': 5387, 'USER5389': 5388, 'USER5390': 5389, 'USER5391': 5390, 'USER5392': 5391, 'USER5393': 5392, 'USER5394': 5393, 'USER5395': 5394, 'USER5396': 5395, 'USER5397': 5396, 'USER5398': 5397, 'USER5399': 5398, 'USER5400': 5399, 'USER5401': 5400, 'USER5402': 5401, 'USER5403': 5402, 'USER5404': 5403, 'USER5405': 5404, 'USER5406': 5405, 'USER5407': 5406, 'USER5408': 5407, 'USER5409': 5408, 'USER5410': 5409, 'USER5411': 5410, 'USER5412': 5411, 'USER5413': 5412, 'USER5414': 5413, 'USER5415': 5414, 'USER5416': 5415, 'USER5417': 5416, 'USER5418': 5417, 'USER5419': 5418, 'USER5420': 5419, 'USER5421': 5420, 'USER5422': 5421, 'USER5423': 5422, 'USER5424': 5423, 'USER5425': 5424, 'USER5426': 5425, 'USER5427': 5426, 'USER5428': 5427, 'USER5429': 5428, 'USER5430': 5429, 'USER5431': 5430, 'USER5432': 5431, 'USER5433': 5432, 'USER5434': 5433, 'USER5435': 5434, 'USER5436': 5435, 'USER5437': 5436, 'USER5438': 5437, 'USER5439': 5438, 'USER5440': 5439, 'USER5441': 5440, 'USER5442': 5441, 'USER5443': 5442, 'USER5444': 5443, 'USER5445': 5444, 'USER5446': 5445, 'USER5447': 5446, 'USER5448': 5447, 'USER5449': 5448, 'USER5450': 5449, 'USER5451': 5450, 'USER5452': 5451, 'USER5453': 5452, 'USER5454': 5453, 'USER5455': 5454, 'USER5456': 5455, 'USER5457': 5456, 'USER5458': 5457, 'USER5459': 5458, 'USER5460': 5459, 'USER5461': 5460, 'USER5462': 5461, 'USER5463': 5462, 'USER5464': 5463, 'USER5465': 5464, 'USER5466': 5465, 'USER5467': 5466, 'USER5468': 5467, 'USER5469': 5468, 'USER5470': 5469, 'USER5471': 5470, 'USER5472': 5471, 'USER5473': 5472, 'USER5474': 5473, 'USER5475': 5474, 'USER5476': 5475, 'USER5477': 5476, 'USER5478': 5477, 'USER5479': 5478, 'USER5480': 5479, 'USER5481': 5480, 'USER5482': 5481, 'USER5483': 5482, 'USER5484': 5483, 'USER5485': 5484, 'USER5486': 5485, 'USER5487': 5486, 'USER5488': 5487, 'USER5489': 5488, 'USER5490': 5489, 'USER5491': 5490, 'USER5492': 5491, 'USER5493': 5492, 'USER5494': 5493, 'USER5495': 5494, 'USER5496': 5495, 'USER5497': 5496, 'USER5498': 5497, 'USER5499': 5498, 'USER5500': 5499, 'USER5501': 5500, 'USER5502': 5501, 'USER5503': 5502, 'USER5504': 5503, 'USER5505': 5504, 'USER5506': 5505, 'USER5507': 5506, 'USER5508': 5507, 'USER5509': 5508, 'USER5510': 5509, 'USER5511': 5510, 'USER5512': 5511, 'USER5513': 5512, 'USER5514': 5513, 'USER5515': 5514, 'USER5516': 5515, 'USER5517': 5516, 'USER5518': 5517, 'USER5519': 5518, 'USER5520': 5519, 'USER5521': 5520, 'USER5522': 5521, 'USER5523': 5522, 'USER5524': 5523, 'USER5525': 5524, 'USER5526': 5525, 'USER5527': 5526, 'USER5528': 5527, 'USER5529': 5528, 'USER5530': 5529, 'USER5531': 5530, 'USER5532': 5531, 'USER5533': 5532, 'USER5534': 5533, 'USER5535': 5534, 'USER5536': 5535, 'USER5537': 5536, 'USER5538': 5537, 'USER5539': 5538, 'USER5540': 5539, 'USER5541': 5540, 'USER5542': 5541, 'USER5543': 5542, 'USER5544': 5543, 'USER5545': 5544, 'USER5546': 5545, 'USER5547': 5546, 'USER5548': 5547, 'USER5549': 5548, 'USER5550': 5549, 'USER5551': 5550, 'USER5552': 5551, 'USER5553': 5552, 'USER5554': 5553, 'USER5555': 5554, 'USER5556': 5555, 'USER5557': 5556, 'USER5558': 5557, 'USER5559': 5558, 'USER5560': 5559, 'USER5561': 5560, 'USER5562': 5561, 'USER5563': 5562, 'USER5564': 5563, 'USER5565': 5564, 'USER5566': 5565, 'USER5567': 5566, 'USER5568': 5567, 'USER5569': 5568, 'USER5570': 5569, 'USER5571': 5570, 'USER5572': 5571, 'USER5573': 5572, 'USER5574': 5573, 'USER5575': 5574, 'USER5576': 5575, 'USER5577': 5576, 'USER5578': 5577, 'USER5579': 5578, 'USER5580': 5579, 'USER5581': 5580, 'USER5582': 5581, 'USER5583': 5582, 'USER5584': 5583, 'USER5585': 5584, 'USER5586': 5585, 'USER5587': 5586, 'USER5588': 5587, 'USER5589': 5588, 'USER5590': 5589, 'USER5591': 5590, 'USER5592': 5591, 'USER5593': 5592, 'USER5594': 5593, 'USER5595': 5594, 'USER5596': 5595, 'USER5597': 5596, 'USER5598': 5597, 'USER5599': 5598, 'USER5600': 5599, 'USER5601': 5600, 'USER5602': 5601, 'USER5603': 5602, 'USER5604': 5603, 'USER5605': 5604, 'USER5606': 5605, 'USER5607': 5606, 'USER5608': 5607, 'USER5609': 5608, 'USER5610': 5609, 'USER5611': 5610, 'USER5612': 5611, 'USER5613': 5612, 'USER5614': 5613, 'USER5615': 5614, 'USER5616': 5615, 'USER5617': 5616, 'USER5618': 5617, 'USER5619': 5618, 'USER5620': 5619, 'USER5621': 5620, 'USER5622': 5621, 'USER5623': 5622, 'USER5624': 5623, 'USER5625': 5624, 'USER5626': 5625, 'USER5627': 5626, 'USER5628': 5627, 'USER5629': 5628, 'USER5630': 5629, 'USER5631': 5630, 'USER5632': 5631, 'USER5633': 5632, 'USER5634': 5633, 'USER5635': 5634, 'USER5636': 5635, 'USER5637': 5636, 'USER5638': 5637, 'USER5639': 5638, 'USER5640': 5639, 'USER5641': 5640, 'USER5642': 5641, 'USER5643': 5642, 'USER5644': 5643, 'USER5645': 5644, 'USER5646': 5645, 'USER5647': 5646, 'USER5648': 5647, 'USER5649': 5648, 'USER5650': 5649, 'USER5651': 5650, 'USER5652': 5651, 'USER5653': 5652, 'USER5654': 5653, 'USER5655': 5654, 'USER5656': 5655, 'USER5657': 5656, 'USER5658': 5657, 'USER5659': 5658, 'USER5660': 5659, 'USER5661': 5660, 'USER5662': 5661, 'USER5663': 5662, 'USER5664': 5663, 'USER5665': 5664, 'USER5666': 5665, 'USER5667': 5666, 'USER5668': 5667, 'USER5669': 5668, 'USER5670': 5669, 'USER5671': 5670, 'USER5672': 5671, 'USER5673': 5672, 'USER5674': 5673, 'USER5675': 5674, 'USER5676': 5675, 'USER5677': 5676, 'USER5678': 5677, 'USER5679': 5678, 'USER5680': 5679, 'USER5681': 5680, 'USER5682': 5681, 'USER5683': 5682, 'USER5684': 5683, 'USER5685': 5684, 'USER5686': 5685, 'USER5687': 5686, 'USER5688': 5687, 'USER5689': 5688, 'USER5690': 5689, 'USER5691': 5690, 'USER5692': 5691, 'USER5693': 5692, 'USER5694': 5693, 'USER5695': 5694, 'USER5696': 5695, 'USER5697': 5696, 'USER5698': 5697, 'USER5699': 5698, 'USER5700': 5699, 'USER5701': 5700, 'USER5702': 5701, 'USER5703': 5702, 'USER5704': 5703, 'USER5705': 5704, 'USER5706': 5705, 'USER5707': 5706, 'USER5708': 5707, 'USER5709': 5708, 'USER5710': 5709, 'USER5711': 5710, 'USER5712': 5711, 'USER5713': 5712, 'USER5714': 5713, 'USER5715': 5714, 'USER5716': 5715, 'USER5717': 5716, 'USER5718': 5717, 'USER5719': 5718, 'USER5720': 5719, 'USER5721': 5720, 'USER5722': 5721, 'USER5723': 5722, 'USER5724': 5723, 'USER5725': 5724, 'USER5726': 5725, 'USER5727': 5726, 'USER5728': 5727, 'USER5729': 5728, 'USER5730': 5729, 'USER5731': 5730, 'USER5732': 5731, 'USER5733': 5732, 'USER5734': 5733, 'USER5735': 5734, 'USER5736': 5735, 'USER5737': 5736, 'USER5738': 5737, 'USER5739': 5738, 'USER5740': 5739, 'USER5741': 5740, 'USER5742': 5741, 'USER5743': 5742, 'USER5744': 5743, 'USER5745': 5744, 'USER5746': 5745, 'USER5747': 5746, 'USER5748': 5747, 'USER5749': 5748, 'USER5750': 5749, 'USER5751': 5750, 'USER5752': 5751, 'USER5753': 5752, 'USER5754': 5753, 'USER5755': 5754, 'USER5756': 5755, 'USER5757': 5756, 'USER5758': 5757, 'USER5759': 5758, 'USER5760': 5759, 'USER5761': 5760, 'USER5762': 5761, 'USER5763': 5762, 'USER5764': 5763, 'USER5765': 5764, 'USER5766': 5765, 'USER5767': 5766, 'USER5768': 5767, 'USER5769': 5768, 'USER5770': 5769, 'USER5771': 5770, 'USER5772': 5771, 'USER5773': 5772, 'USER5774': 5773, 'USER5775': 5774, 'USER5776': 5775, 'USER5777': 5776, 'USER5778': 5777, 'USER5779': 5778, 'USER5780': 5779, 'USER5781': 5780, 'USER5782': 5781, 'USER5783': 5782, 'USER5784': 5783, 'USER5785': 5784, 'USER5786': 5785, 'USER5787': 5786, 'USER5788': 5787, 'USER5789': 5788, 'USER5790': 5789, 'USER5791': 5790, 'USER5792': 5791, 'USER5793': 5792, 'USER5794': 5793, 'USER5795': 5794, 'USER5796': 5795, 'USER5797': 5796, 'USER5798': 5797, 'USER5799': 5798, 'USER5800': 5799, 'USER5801': 5800, 'USER5802': 5801, 'USER5803': 5802, 'USER5804': 5803, 'USER5805': 5804, 'USER5806': 5805, 'USER5807': 5806, 'USER5808': 5807, 'USER5809': 5808, 'USER5810': 5809, 'USER5811': 5810, 'USER5812': 5811, 'USER5813': 5812, 'USER5814': 5813, 'USER5815': 5814, 'USER5816': 5815, 'USER5817': 5816, 'USER5818': 5817, 'USER5819': 5818, 'USER5820': 5819, 'USER5821': 5820, 'USER5822': 5821, 'USER5823': 5822, 'USER5824': 5823, 'USER5825': 5824, 'USER5826': 5825, 'USER5827': 5826, 'USER5828': 5827, 'USER5829': 5828, 'USER5830': 5829, 'USER5831': 5830, 'USER5832': 5831, 'USER5833': 5832, 'USER5834': 5833, 'USER5835': 5834, 'USER5836': 5835, 'USER5837': 5836, 'USER5838': 5837, 'USER5839': 5838, 'USER5840': 5839, 'USER5841': 5840, 'USER5842': 5841, 'USER5843': 5842, 'USER5844': 5843, 'USER5845': 5844, 'USER5846': 5845, 'USER5847': 5846, 'USER5848': 5847, 'USER5849': 5848, 'USER5850': 5849, 'USER5851': 5850, 'USER5852': 5851, 'USER5853': 5852, 'USER5854': 5853, 'USER5855': 5854, 'USER5856': 5855, 'USER5857': 5856, 'USER5858': 5857, 'USER5859': 5858, 'USER5860': 5859, 'USER5861': 5860, 'USER5862': 5861, 'USER5863': 5862, 'USER5864': 5863, 'USER5865': 5864, 'USER5866': 5865, 'USER5867': 5866, 'USER5868': 5867, 'USER5869': 5868, 'USER5870': 5869, 'USER5871': 5870, 'USER5872': 5871, 'USER5873': 5872, 'USER5874': 5873, 'USER5875': 5874, 'USER5876': 5875, 'USER5877': 5876, 'USER5878': 5877, 'USER5879': 5878, 'USER5880': 5879, 'USER5881': 5880, 'USER5882': 5881, 'USER5883': 5882, 'USER5884': 5883, 'USER5885': 5884, 'USER5886': 5885, 'USER5887': 5886, 'USER5888': 5887, 'USER5889': 5888, 'USER5890': 5889, 'USER5891': 5890, 'USER5892': 5891, 'USER5893': 5892, 'USER5894': 5893, 'USER5895': 5894, 'USER5896': 5895, 'USER5897': 5896, 'USER5898': 5897, 'USER5899': 5898, 'USER5900': 5899, 'USER5901': 5900, 'USER5902': 5901, 'USER5903': 5902, 'USER5904': 5903, 'USER5905': 5904, 'USER5906': 5905, 'USER5907': 5906, 'USER5908': 5907, 'USER5909': 5908, 'USER5910': 5909, 'USER5911': 5910, 'USER5912': 5911, 'USER5913': 5912, 'USER5914': 5913, 'USER5915': 5914, 'USER5916': 5915, 'USER5917': 5916, 'USER5918': 5917, 'USER5919': 5918, 'USER5920': 5919, 'USER5921': 5920, 'USER5922': 5921, 'USER5923': 5922, 'USER5924': 5923, 'USER5925': 5924, 'USER5926': 5925, 'USER5927': 5926, 'USER5928': 5927, 'USER5929': 5928, 'USER5930': 5929, 'USER5931': 5930, 'USER5932': 5931, 'USER5933': 5932, 'USER5934': 5933, 'USER5935': 5934, 'USER5936': 5935, 'USER5937': 5936, 'USER5938': 5937, 'USER5939': 5938, 'USER5940': 5939, 'USER5941': 5940, 'USER5942': 5941, 'USER5943': 5942, 'USER5944': 5943, 'USER5945': 5944, 'USER5946': 5945, 'USER5947': 5946, 'USER5948': 5947, 'USER5949': 5948, 'USER5950': 5949, 'USER5951': 5950, 'USER5952': 5951, 'USER5953': 5952, 'USER5954': 5953, 'USER5955': 5954, 'USER5956': 5955, 'USER5957': 5956, 'USER5958': 5957, 'USER5959': 5958, 'USER5960': 5959, 'USER5961': 5960, 'USER5962': 5961, 'USER5963': 5962, 'USER5964': 5963, 'USER5965': 5964, 'USER5966': 5965, 'USER5967': 5966, 'USER5968': 5967, 'USER5969': 5968, 'USER5970': 5969, 'USER5971': 5970, 'USER5972': 5971, 'USER5973': 5972, 'USER5974': 5973, 'USER5975': 5974, 'USER5976': 5975, 'USER5977': 5976, 'USER5978': 5977, 'USER5979': 5978, 'USER5980': 5979, 'USER5981': 5980, 'USER5982': 5981, 'USER5983': 5982, 'USER5984': 5983, 'USER5985': 5984, 'USER5986': 5985, 'USER5987': 5986, 'USER5988': 5987, 'USER5989': 5988, 'USER5990': 5989, 'USER5991': 5990, 'USER5992': 5991, 'USER5993': 5992, 'USER5994': 5993, 'USER5995': 5994, 'USER5996': 5995, 'USER5997': 5996, 'USER5998': 5997, 'USER5999': 5998, 'USER6000': 5999, 'USER6001': 6000, 'USER6002': 6001, 'USER6003': 6002, 'USER6004': 6003, 'USER6005': 6004, 'USER6006': 6005, 'USER6007': 6006, 'USER6008': 6007, 'USER6009': 6008, 'USER6010': 6009, 'USER6011': 6010, 'USER6012': 6011, 'USER6013': 6012, 'USER6014': 6013, 'USER6015': 6014, 'USER6016': 6015, 'USER6017': 6016, 'USER6018': 6017, 'USER6019': 6018, 'USER6020': 6019, 'USER6021': 6020, 'USER6022': 6021, 'USER6023': 6022, 'USER6024': 6023, 'USER6025': 6024, 'USER6026': 6025, 'USER6027': 6026, 'USER6028': 6027, 'USER6029': 6028, 'USER6030': 6029, 'USER6031': 6030, 'USER6032': 6031, 'USER6033': 6032, 'USER6034': 6033, 'USER6035': 6034, 'USER6036': 6035, 'USER6037': 6036, 'USER6038': 6037, 'USER6039': 6038, 'USER6040': 6039, 'USER6041': 6040, 'USER6042': 6041, 'USER6043': 6042, 'USER6044': 6043, 'USER6045': 6044, 'USER6046': 6045, 'USER6047': 6046, 'USER6048': 6047, 'USER6049': 6048, 'USER6050': 6049, 'USER6051': 6050, 'USER6052': 6051, 'USER6053': 6052, 'USER6054': 6053, 'USER6055': 6054, 'USER6056': 6055, 'USER6057': 6056, 'USER6058': 6057, 'USER6059': 6058, 'USER6060': 6059, 'USER6061': 6060, 'USER6062': 6061, 'USER6063': 6062, 'USER6064': 6063, 'USER6065': 6064, 'USER6066': 6065, 'USER6067': 6066, 'USER6068': 6067, 'USER6069': 6068, 'USER6070': 6069, 'USER6071': 6070, 'USER6072': 6071, 'USER6073': 6072, 'USER6074': 6073, 'USER6075': 6074, 'USER6076': 6075, 'USER6077': 6076, 'USER6078': 6077, 'USER6079': 6078, 'USER6080': 6079, 'USER6081': 6080, 'USER6082': 6081, 'USER6083': 6082, 'USER6084': 6083, 'USER6085': 6084, 'USER6086': 6085, 'USER6087': 6086, 'USER6088': 6087, 'USER6089': 6088, 'USER6090': 6089, 'USER6091': 6090, 'USER6092': 6091, 'USER6093': 6092, 'USER6094': 6093, 'USER6095': 6094, 'USER6096': 6095, 'USER6097': 6096, 'USER6098': 6097, 'USER6099': 6098, 'USER6100': 6099, 'USER6101': 6100, 'USER6102': 6101, 'USER6103': 6102, 'USER6104': 6103, 'USER6105': 6104, 'USER6106': 6105, 'USER6107': 6106, 'USER6108': 6107, 'USER6109': 6108, 'USER6110': 6109, 'USER6111': 6110, 'USER6112': 6111, 'USER6113': 6112, 'USER6114': 6113, 'USER6115': 6114, 'USER6116': 6115, 'USER6117': 6116, 'USER6118': 6117, 'USER6119': 6118, 'USER6120': 6119, 'USER6121': 6120, 'USER6122': 6121, 'USER6123': 6122, 'USER6124': 6123, 'USER6125': 6124, 'USER6126': 6125, 'USER6127': 6126, 'USER6128': 6127, 'USER6129': 6128, 'USER6130': 6129, 'USER6131': 6130, 'USER6132': 6131, 'USER6133': 6132, 'USER6134': 6133, 'USER6135': 6134, 'USER6136': 6135, 'USER6137': 6136, 'USER6138': 6137, 'USER6139': 6138, 'USER6140': 6139, 'USER6141': 6140, 'USER6142': 6141, 'USER6143': 6142, 'USER6144': 6143, 'USER6145': 6144, 'USER6146': 6145, 'USER6147': 6146, 'USER6148': 6147, 'USER6149': 6148, 'USER6150': 6149, 'USER6151': 6150, 'USER6152': 6151, 'USER6153': 6152, 'USER6154': 6153, 'USER6155': 6154, 'USER6156': 6155, 'USER6157': 6156, 'USER6158': 6157, 'USER6159': 6158, 'USER6160': 6159, 'USER6161': 6160, 'USER6162': 6161, 'USER6163': 6162, 'USER6164': 6163, 'USER6165': 6164, 'USER6166': 6165, 'USER6167': 6166, 'USER6168': 6167, 'USER6169': 6168, 'USER6170': 6169, 'USER6171': 6170, 'USER6172': 6171, 'USER6173': 6172, 'USER6174': 6173, 'USER6175': 6174, 'USER6176': 6175, 'USER6177': 6176, 'USER6178': 6177, 'USER6179': 6178, 'USER6180': 6179, 'USER6181': 6180, 'USER6182': 6181, 'USER6183': 6182, 'USER6184': 6183, 'USER6185': 6184, 'USER6186': 6185, 'USER6187': 6186, 'USER6188': 6187, 'USER6189': 6188, 'USER6190': 6189, 'USER6191': 6190, 'USER6192': 6191, 'USER6193': 6192, 'USER6194': 6193, 'USER6195': 6194, 'USER6196': 6195, 'USER6197': 6196, 'USER6198': 6197, 'USER6199': 6198, 'USER6200': 6199, 'USER6201': 6200, 'USER6202': 6201, 'USER6203': 6202, 'USER6204': 6203, 'USER6205': 6204, 'USER6206': 6205, 'USER6207': 6206, 'USER6208': 6207, 'USER6209': 6208, 'USER6210': 6209, 'USER6211': 6210, 'USER6212': 6211, 'USER6213': 6212, 'USER6214': 6213, 'USER6215': 6214, 'USER6216': 6215, 'USER6217': 6216, 'USER6218': 6217, 'USER6219': 6218, 'USER6220': 6219, 'USER6221': 6220, 'USER6222': 6221, 'USER6223': 6222, 'USER6224': 6223, 'USER6225': 6224, 'USER6226': 6225, 'USER6227': 6226, 'USER6228': 6227, 'USER6229': 6228, 'USER6230': 6229, 'USER6231': 6230, 'USER6232': 6231, 'USER6233': 6232, 'USER6234': 6233, 'USER6235': 6234, 'USER6236': 6235, 'USER6237': 6236, 'USER6238': 6237, 'USER6239': 6238, 'USER6240': 6239, 'USER6241': 6240, 'USER6242': 6241, 'USER6243': 6242, 'USER6244': 6243, 'USER6245': 6244, 'USER6246': 6245, 'USER6247': 6246, 'USER6248': 6247, 'USER6249': 6248, 'USER6250': 6249, 'USER6251': 6250, 'USER6252': 6251, 'USER6253': 6252, 'USER6254': 6253, 'USER6255': 6254, 'USER6256': 6255, 'USER6257': 6256, 'USER6258': 6257, 'USER6259': 6258, 'USER6260': 6259, 'USER6261': 6260, 'USER6262': 6261, 'USER6263': 6262, 'USER6264': 6263, 'USER6265': 6264, 'USER6266': 6265, 'USER6267': 6266, 'USER6268': 6267, 'USER6269': 6268, 'USER6270': 6269, 'USER6271': 6270, 'USER6272': 6271, 'USER6273': 6272, 'USER6274': 6273, 'USER6275': 6274, 'USER6276': 6275, 'USER6277': 6276, 'USER6278': 6277, 'USER6279': 6278, 'USER6280': 6279, 'USER6281': 6280, 'USER6282': 6281, 'USER6283': 6282, 'USER6284': 6283, 'USER6285': 6284, 'USER6286': 6285, 'USER6287': 6286, 'USER6288': 6287, 'USER6289': 6288, 'USER6290': 6289, 'USER6291': 6290, 'USER6292': 6291, 'USER6293': 6292, 'USER6294': 6293, 'USER6295': 6294, 'USER6296': 6295, 'USER6297': 6296, 'USER6298': 6297, 'USER6299': 6298, 'USER6300': 6299, 'USER6301': 6300, 'USER6302': 6301, 'USER6303': 6302, 'USER6304': 6303, 'USER6305': 6304, 'USER6306': 6305, 'USER6307': 6306, 'USER6308': 6307, 'USER6309': 6308, 'USER6310': 6309, 'USER6311': 6310, 'USER6312': 6311, 'USER6313': 6312, 'USER6314': 6313, 'USER6315': 6314, 'USER6316': 6315, 'USER6317': 6316, 'USER6318': 6317, 'USER6319': 6318, 'USER6320': 6319, 'USER6321': 6320, 'USER6322': 6321, 'USER6323': 6322, 'USER6324': 6323, 'USER6325': 6324, 'USER6326': 6325, 'USER6327': 6326, 'USER6328': 6327, 'USER6329': 6328, 'USER6330': 6329, 'USER6331': 6330, 'USER6332': 6331, 'USER6333': 6332, 'USER6334': 6333, 'USER6335': 6334, 'USER6336': 6335, 'USER6337': 6336, 'USER6338': 6337, 'USER6339': 6338, 'USER6340': 6339, 'USER6341': 6340, 'USER6342': 6341, 'USER6343': 6342, 'USER6344': 6343, 'USER6345': 6344, 'USER6346': 6345, 'USER6347': 6346, 'USER6348': 6347, 'USER6349': 6348, 'USER6350': 6349, 'USER6351': 6350, 'USER6352': 6351, 'USER6353': 6352, 'USER6354': 6353, 'USER6355': 6354, 'USER6356': 6355, 'USER6357': 6356, 'USER6358': 6357, 'USER6359': 6358, 'USER6360': 6359, 'USER6361': 6360, 'USER6362': 6361, 'USER6363': 6362, 'USER6364': 6363, 'USER6365': 6364, 'USER6366': 6365, 'USER6367': 6366, 'USER6368': 6367, 'USER6369': 6368, 'USER6370': 6369, 'USER6371': 6370, 'USER6372': 6371, 'USER6373': 6372, 'USER6374': 6373, 'USER6375': 6374, 'USER6376': 6375, 'USER6377': 6376, 'USER6378': 6377, 'USER6379': 6378, 'USER6380': 6379, 'USER6381': 6380, 'USER6382': 6381, 'USER6383': 6382, 'USER6384': 6383, 'USER6385': 6384, 'USER6386': 6385, 'USER6387': 6386, 'USER6388': 6387, 'USER6389': 6388, 'USER6390': 6389, 'USER6391': 6390, 'USER6392': 6391, 'USER6393': 6392, 'USER6394': 6393, 'USER6395': 6394, 'USER6396': 6395, 'USER6397': 6396, 'USER6398': 6397, 'USER6399': 6398, 'USER6400': 6399, 'USER6401': 6400, 'USER6402': 6401, 'USER6403': 6402, 'USER6404': 6403, 'USER6405': 6404, 'USER6406': 6405, 'USER6407': 6406, 'USER6408': 6407, 'USER6409': 6408, 'USER6410': 6409, 'USER6411': 6410, 'USER6412': 6411, 'USER6413': 6412, 'USER6414': 6413, 'USER6415': 6414, 'USER6416': 6415, 'USER6417': 6416, 'USER6418': 6417, 'USER6419': 6418, 'USER6420': 6419, 'USER6421': 6420, 'USER6422': 6421, 'USER6423': 6422, 'USER6424': 6423, 'USER6425': 6424, 'USER6426': 6425, 'USER6427': 6426, 'USER6428': 6427, 'USER6429': 6428, 'USER6430': 6429, 'USER6431': 6430, 'USER6432': 6431, 'USER6433': 6432, 'USER6434': 6433, 'USER6435': 6434, 'USER6436': 6435, 'USER6437': 6436, 'USER6438': 6437, 'USER6439': 6438, 'USER6440': 6439, 'USER6441': 6440, 'USER6442': 6441, 'USER6443': 6442, 'USER6444': 6443, 'USER6445': 6444, 'USER6446': 6445, 'USER6447': 6446, 'USER6448': 6447, 'USER6449': 6448, 'USER6450': 6449, 'USER6451': 6450, 'USER6452': 6451, 'USER6453': 6452, 'USER6454': 6453, 'USER6455': 6454, 'USER6456': 6455, 'USER6457': 6456, 'USER6458': 6457, 'USER6459': 6458, 'USER6460': 6459, 'USER6461': 6460, 'USER6462': 6461, 'USER6463': 6462, 'USER6464': 6463, 'USER6465': 6464, 'USER6466': 6465, 'USER6467': 6466, 'USER6468': 6467, 'USER6469': 6468, 'USER6470': 6469, 'USER6471': 6470, 'USER6472': 6471, 'USER6473': 6472, 'USER6474': 6473, 'USER6475': 6474, 'USER6476': 6475, 'USER6477': 6476, 'USER6478': 6477, 'USER6479': 6478, 'USER6480': 6479, 'USER6481': 6480, 'USER6482': 6481, 'USER6483': 6482, 'USER6484': 6483, 'USER6485': 6484, 'USER6486': 6485, 'USER6487': 6486, 'USER6488': 6487, 'USER6489': 6488, 'USER6490': 6489, 'USER6491': 6490, 'USER6492': 6491, 'USER6493': 6492, 'USER6494': 6493, 'USER6495': 6494, 'USER6496': 6495, 'USER6497': 6496, 'USER6498': 6497, 'USER6499': 6498, 'USER6500': 6499, 'USER6501': 6500, 'USER6502': 6501, 'USER6503': 6502, 'USER6504': 6503, 'USER6505': 6504, 'USER6506': 6505, 'USER6507': 6506, 'USER6508': 6507, 'USER6509': 6508, 'USER6510': 6509, 'USER6511': 6510, 'USER6512': 6511, 'USER6513': 6512, 'USER6514': 6513, 'USER6515': 6514, 'USER6516': 6515, 'USER6517': 6516, 'USER6518': 6517, 'USER6519': 6518, 'USER6520': 6519, 'USER6521': 6520, 'USER6522': 6521, 'USER6523': 6522, 'USER6524': 6523, 'USER6525': 6524, 'USER6526': 6525, 'USER6527': 6526, 'USER6528': 6527, 'USER6529': 6528, 'USER6530': 6529, 'USER6531': 6530, 'USER6532': 6531, 'USER6533': 6532, 'USER6534': 6533, 'USER6535': 6534, 'USER6536': 6535, 'USER6537': 6536, 'USER6538': 6537, 'USER6539': 6538, 'USER6540': 6539, 'USER6541': 6540, 'USER6542': 6541, 'USER6543': 6542, 'USER6544': 6543, 'USER6545': 6544, 'USER6546': 6545, 'USER6547': 6546, 'USER6548': 6547, 'USER6549': 6548, 'USER6550': 6549, 'USER6551': 6550, 'USER6552': 6551, 'USER6553': 6552, 'USER6554': 6553, 'USER6555': 6554, 'USER6556': 6555, 'USER6557': 6556, 'USER6558': 6557, 'USER6559': 6558, 'USER6560': 6559, 'USER6561': 6560, 'USER6562': 6561, 'USER6563': 6562, 'USER6564': 6563, 'USER6565': 6564, 'USER6566': 6565, 'USER6567': 6566, 'USER6568': 6567, 'USER6569': 6568, 'USER6570': 6569, 'USER6571': 6570, 'USER6572': 6571, 'USER6573': 6572, 'USER6574': 6573, 'USER6575': 6574, 'USER6576': 6575, 'USER6577': 6576, 'USER6578': 6577, 'USER6579': 6578, 'USER6580': 6579, 'USER6581': 6580, 'USER6582': 6581, 'USER6583': 6582, 'USER6584': 6583, 'USER6585': 6584, 'USER6586': 6585, 'USER6587': 6586, 'USER6588': 6587, 'USER6589': 6588, 'USER6590': 6589, 'USER6591': 6590, 'USER6592': 6591, 'USER6593': 6592, 'USER6594': 6593, 'USER6595': 6594, 'USER6596': 6595, 'USER6597': 6596, 'USER6598': 6597, 'USER6599': 6598, 'USER6600': 6599, 'USER6601': 6600, 'USER6602': 6601, 'USER6603': 6602, 'USER6604': 6603, 'USER6605': 6604, 'USER6606': 6605, 'USER6607': 6606, 'USER6608': 6607, 'USER6609': 6608, 'USER6610': 6609, 'USER6611': 6610, 'USER6612': 6611, 'USER6613': 6612, 'USER6614': 6613, 'USER6615': 6614, 'USER6616': 6615, 'USER6617': 6616, 'USER6618': 6617, 'USER6619': 6618, 'USER6620': 6619, 'USER6621': 6620, 'USER6622': 6621, 'USER6623': 6622, 'USER6624': 6623, 'USER6625': 6624, 'USER6626': 6625, 'USER6627': 6626, 'USER6628': 6627, 'USER6629': 6628, 'USER6630': 6629, 'USER6631': 6630, 'USER6632': 6631, 'USER6633': 6632, 'USER6634': 6633, 'USER6635': 6634, 'USER6636': 6635, 'USER6637': 6636, 'USER6638': 6637, 'USER6639': 6638, 'USER6640': 6639, 'USER6641': 6640, 'USER6642': 6641, 'USER6643': 6642, 'USER6644': 6643, 'USER6645': 6644, 'USER6646': 6645, 'USER6647': 6646, 'USER6648': 6647, 'USER6649': 6648, 'USER6650': 6649, 'USER6651': 6650, 'USER6652': 6651, 'USER6653': 6652, 'USER6654': 6653, 'USER6655': 6654, 'USER6656': 6655, 'USER6657': 6656, 'USER6658': 6657, 'USER6659': 6658, 'USER6660': 6659, 'USER6661': 6660, 'USER6662': 6661, 'USER6663': 6662, 'USER6664': 6663, 'USER6665': 6664, 'USER6666': 6665, 'USER6667': 6666, 'USER6668': 6667, 'USER6669': 6668, 'USER6670': 6669, 'USER6671': 6670, 'USER6672': 6671, 'USER6673': 6672, 'USER6674': 6673, 'USER6675': 6674, 'USER6676': 6675, 'USER6677': 6676, 'USER6678': 6677, 'USER6679': 6678, 'USER6680': 6679, 'USER6681': 6680, 'USER6682': 6681, 'USER6683': 6682, 'USER6684': 6683, 'USER6685': 6684, 'USER6686': 6685, 'USER6687': 6686, 'USER6688': 6687, 'USER6689': 6688, 'USER6690': 6689, 'USER6691': 6690, 'USER6692': 6691, 'USER6693': 6692, 'USER6694': 6693, 'USER6695': 6694, 'USER6696': 6695, 'USER6697': 6696, 'USER6698': 6697, 'USER6699': 6698, 'USER6700': 6699, 'USER6701': 6700, 'USER6702': 6701, 'USER6703': 6702, 'USER6704': 6703, 'USER6705': 6704, 'USER6706': 6705, 'USER6707': 6706, 'USER6708': 6707, 'USER6709': 6708, 'USER6710': 6709, 'USER6711': 6710, 'USER6712': 6711, 'USER6713': 6712, 'USER6714': 6713, 'USER6715': 6714, 'USER6716': 6715, 'USER6717': 6716, 'USER6718': 6717, 'USER6719': 6718, 'USER6720': 6719, 'USER6721': 6720, 'USER6722': 6721, 'USER6723': 6722, 'USER6724': 6723, 'USER6725': 6724, 'USER6726': 6725, 'USER6727': 6726, 'USER6728': 6727, 'USER6729': 6728, 'USER6730': 6729, 'USER6731': 6730, 'USER6732': 6731, 'USER6733': 6732, 'USER6734': 6733, 'USER6735': 6734, 'USER6736': 6735, 'USER6737': 6736, 'USER6738': 6737, 'USER6739': 6738, 'USER6740': 6739, 'USER6741': 6740, 'USER6742': 6741, 'USER6743': 6742, 'USER6744': 6743, 'USER6745': 6744, 'USER6746': 6745, 'USER6747': 6746, 'USER6748': 6747, 'USER6749': 6748, 'USER6750': 6749, 'USER6751': 6750, 'USER6752': 6751, 'USER6753': 6752, 'USER6754': 6753, 'USER6755': 6754, 'USER6756': 6755, 'USER6757': 6756, 'USER6758': 6757, 'USER6759': 6758, 'USER6760': 6759, 'USER6761': 6760, 'USER6762': 6761, 'USER6763': 6762, 'USER6764': 6763, 'USER6765': 6764, 'USER6766': 6765, 'USER6767': 6766, 'USER6768': 6767, 'USER6769': 6768, 'USER6770': 6769, 'USER6771': 6770, 'USER6772': 6771, 'USER6773': 6772, 'USER6774': 6773, 'USER6775': 6774, 'USER6776': 6775, 'USER6777': 6776, 'USER6778': 6777, 'USER6779': 6778, 'USER6780': 6779, 'USER6781': 6780, 'USER6782': 6781, 'USER6783': 6782, 'USER6784': 6783, 'USER6785': 6784, 'USER6786': 6785, 'USER6787': 6786, 'USER6788': 6787, 'USER6789': 6788, 'USER6790': 6789, 'USER6791': 6790, 'USER6792': 6791, 'USER6793': 6792, 'USER6794': 6793, 'USER6795': 6794, 'USER6796': 6795, 'USER6797': 6796, 'USER6798': 6797, 'USER6799': 6798, 'USER6800': 6799, 'USER6801': 6800, 'USER6802': 6801, 'USER6803': 6802, 'USER6804': 6803, 'USER6805': 6804, 'USER6806': 6805, 'USER6807': 6806, 'USER6808': 6807, 'USER6809': 6808, 'USER6810': 6809, 'USER6811': 6810, 'USER6812': 6811, 'USER6813': 6812, 'USER6814': 6813, 'USER6815': 6814, 'USER6816': 6815, 'USER6817': 6816, 'USER6818': 6817, 'USER6819': 6818, 'USER6820': 6819, 'USER6821': 6820, 'USER6822': 6821, 'USER6823': 6822, 'USER6824': 6823, 'USER6825': 6824, 'USER6826': 6825, 'USER6827': 6826, 'USER6828': 6827, 'USER6829': 6828, 'USER6830': 6829, 'USER6831': 6830, 'USER6832': 6831, 'USER6833': 6832, 'USER6834': 6833, 'USER6835': 6834, 'USER6836': 6835, 'USER6837': 6836, 'USER6838': 6837, 'USER6839': 6838, 'USER6840': 6839, 'USER6841': 6840, 'USER6842': 6841, 'USER6843': 6842, 'USER6844': 6843, 'USER6845': 6844, 'USER6846': 6845, 'USER6847': 6846, 'USER6848': 6847, 'USER6849': 6848, 'USER6850': 6849, 'USER6851': 6850, 'USER6852': 6851, 'USER6853': 6852, 'USER6854': 6853, 'USER6855': 6854, 'USER6856': 6855, 'USER6857': 6856, 'USER6858': 6857, 'USER6859': 6858, 'USER6860': 6859, 'USER6861': 6860, 'USER6862': 6861, 'USER6863': 6862, 'USER6864': 6863, 'USER6865': 6864, 'USER6866': 6865, 'USER6867': 6866, 'USER6868': 6867, 'USER6869': 6868, 'USER6870': 6869, 'USER6871': 6870, 'USER6872': 6871, 'USER6873': 6872, 'USER6874': 6873, 'USER6875': 6874, 'USER6876': 6875, 'USER6877': 6876, 'USER6878': 6877, 'USER6879': 6878, 'USER6880': 6879, 'USER6881': 6880, 'USER6882': 6881, 'USER6883': 6882, 'USER6884': 6883, 'USER6885': 6884, 'USER6886': 6885, 'USER6887': 6886, 'USER6888': 6887, 'USER6889': 6888, 'USER6890': 6889, 'USER6891': 6890, 'USER6892': 6891, 'USER6893': 6892, 'USER6894': 6893, 'USER6895': 6894, 'USER6896': 6895, 'USER6897': 6896, 'USER6898': 6897, 'USER6899': 6898, 'USER6900': 6899, 'USER6901': 6900, 'USER6902': 6901, 'USER6903': 6902, 'USER6904': 6903, 'USER6905': 6904, 'USER6906': 6905, 'USER6907': 6906, 'USER6908': 6907, 'USER6909': 6908, 'USER6910': 6909, 'USER6911': 6910, 'USER6912': 6911, 'USER6913': 6912, 'USER6914': 6913, 'USER6915': 6914, 'USER6916': 6915, 'USER6917': 6916, 'USER6918': 6917, 'USER6919': 6918, 'USER6920': 6919, 'USER6921': 6920, 'USER6922': 6921, 'USER6923': 6922, 'USER6924': 6923, 'USER6925': 6924, 'USER6926': 6925, 'USER6927': 6926, 'USER6928': 6927, 'USER6929': 6928, 'USER6930': 6929, 'USER6931': 6930, 'USER6932': 6931, 'USER6933': 6932, 'USER6934': 6933, 'USER6935': 6934, 'USER6936': 6935, 'USER6937': 6936, 'USER6938': 6937, 'USER6939': 6938, 'USER6940': 6939, 'USER6941': 6940, 'USER6942': 6941, 'USER6943': 6942, 'USER6944': 6943, 'USER6945': 6944, 'USER6946': 6945, 'USER6947': 6946, 'USER6948': 6947, 'USER6949': 6948, 'USER6950': 6949, 'USER6951': 6950, 'USER6952': 6951, 'USER6953': 6952, 'USER6954': 6953, 'USER6955': 6954, 'USER6956': 6955, 'USER6957': 6956, 'USER6958': 6957, 'USER6959': 6958, 'USER6960': 6959, 'USER6961': 6960, 'USER6962': 6961, 'USER6963': 6962, 'USER6964': 6963, 'USER6965': 6964, 'USER6966': 6965, 'USER6967': 6966, 'USER6968': 6967, 'USER6969': 6968, 'USER6970': 6969, 'USER6971': 6970, 'USER6972': 6971, 'USER6973': 6972, 'USER6974': 6973, 'USER6975': 6974, 'USER6976': 6975, 'USER6977': 6976, 'USER6978': 6977, 'USER6979': 6978, 'USER6980': 6979, 'USER6981': 6980, 'USER6982': 6981, 'USER6983': 6982, 'USER6984': 6983, 'USER6985': 6984, 'USER6986': 6985, 'USER6987': 6986, 'USER6988': 6987, 'USER6989': 6988, 'USER6990': 6989, 'USER6991': 6990, 'USER6992': 6991, 'USER6993': 6992, 'USER6994': 6993, 'USER6995': 6994, 'USER6996': 6995, 'USER6997': 6996, 'USER6998': 6997, 'USER6999': 6998, 'USER7000': 6999, 'USER7001': 7000, 'USER7002': 7001, 'USER7003': 7002, 'USER7004': 7003, 'USER7005': 7004, 'USER7006': 7005, 'USER7007': 7006, 'USER7008': 7007, 'USER7009': 7008, 'USER7010': 7009, 'USER7011': 7010, 'USER7012': 7011, 'USER7013': 7012, 'USER7014': 7013, 'USER7015': 7014, 'USER7016': 7015, 'USER7017': 7016, 'USER7018': 7017, 'USER7019': 7018, 'USER7020': 7019, 'USER7021': 7020, 'USER7022': 7021, 'USER7023': 7022, 'USER7024': 7023, 'USER7025': 7024, 'USER7026': 7025, 'USER7027': 7026, 'USER7028': 7027, 'USER7029': 7028, 'USER7030': 7029, 'USER7031': 7030, 'USER7032': 7031, 'USER7033': 7032, 'USER7034': 7033, 'USER7035': 7034, 'USER7036': 7035, 'USER7037': 7036, 'USER7038': 7037, 'USER7039': 7038, 'USER7040': 7039, 'USER7041': 7040, 'USER7042': 7041, 'USER7043': 7042, 'USER7044': 7043, 'USER7045': 7044, 'USER7046': 7045, 'USER7047': 7046, 'USER7048': 7047, 'USER7049': 7048, 'USER7050': 7049, 'USER7051': 7050, 'USER7052': 7051, 'USER7053': 7052, 'USER7054': 7053, 'USER7055': 7054, 'USER7056': 7055, 'USER7057': 7056, 'USER7058': 7057, 'USER7059': 7058, 'USER7060': 7059, 'USER7061': 7060, 'USER7062': 7061, 'USER7063': 7062, 'USER7064': 7063, 'USER7065': 7064, 'USER7066': 7065, 'USER7067': 7066, 'USER7068': 7067, 'USER7069': 7068, 'USER7070': 7069, 'USER7071': 7070, 'USER7072': 7071, 'USER7073': 7072, 'USER7074': 7073, 'USER7075': 7074, 'USER7076': 7075, 'USER7077': 7076, 'USER7078': 7077, 'USER7079': 7078, 'USER7080': 7079, 'USER7081': 7080, 'USER7082': 7081, 'USER7083': 7082, 'USER7084': 7083, 'USER7085': 7084, 'USER7086': 7085, 'USER7087': 7086, 'USER7088': 7087, 'USER7089': 7088, 'USER7090': 7089, 'USER7091': 7090, 'USER7092': 7091, 'USER7093': 7092, 'USER7094': 7093, 'USER7095': 7094, 'USER7096': 7095, 'USER7097': 7096, 'USER7098': 7097, 'USER7099': 7098, 'USER7100': 7099, 'USER7101': 7100, 'USER7102': 7101, 'USER7103': 7102, 'USER7104': 7103, 'USER7105': 7104, 'USER7106': 7105, 'USER7107': 7106, 'USER7108': 7107, 'USER7109': 7108, 'USER7110': 7109, 'USER7111': 7110, 'USER7112': 7111, 'USER7113': 7112, 'USER7114': 7113, 'USER7115': 7114, 'USER7116': 7115, 'USER7117': 7116, 'USER7118': 7117, 'USER7119': 7118, 'USER7120': 7119, 'USER7121': 7120, 'USER7122': 7121, 'USER7123': 7122, 'USER7124': 7123, 'USER7125': 7124, 'USER7126': 7125, 'USER7127': 7126, 'USER7128': 7127, 'USER7129': 7128, 'USER7130': 7129, 'USER7131': 7130, 'USER7132': 7131, 'USER7133': 7132, 'USER7134': 7133, 'USER7135': 7134, 'USER7136': 7135, 'USER7137': 7136, 'USER7138': 7137, 'USER7139': 7138, 'USER7140': 7139, 'USER7141': 7140, 'USER7142': 7141, 'USER7143': 7142, 'USER7144': 7143, 'USER7145': 7144, 'USER7146': 7145, 'USER7147': 7146, 'USER7148': 7147, 'USER7149': 7148, 'USER7150': 7149, 'USER7151': 7150, 'USER7152': 7151, 'USER7153': 7152, 'USER7154': 7153, 'USER7155': 7154, 'USER7156': 7155, 'USER7157': 7156, 'USER7158': 7157, 'USER7159': 7158, 'USER7160': 7159, 'USER7161': 7160, 'USER7162': 7161, 'USER7163': 7162, 'USER7164': 7163, 'USER7165': 7164, 'USER7166': 7165, 'USER7167': 7166, 'USER7168': 7167, 'USER7169': 7168, 'USER7170': 7169, 'USER7171': 7170, 'USER7172': 7171, 'USER7173': 7172, 'USER7174': 7173, 'USER7175': 7174, 'USER7176': 7175, 'USER7177': 7176, 'USER7178': 7177, 'USER7179': 7178, 'USER7180': 7179, 'USER7181': 7180, 'USER7182': 7181, 'USER7183': 7182, 'USER7184': 7183, 'USER7185': 7184, 'USER7186': 7185, 'USER7187': 7186, 'USER7188': 7187, 'USER7189': 7188, 'USER7190': 7189, 'USER7191': 7190, 'USER7192': 7191, 'USER7193': 7192, 'USER7194': 7193, 'USER7195': 7194, 'USER7196': 7195, 'USER7197': 7196, 'USER7198': 7197, 'USER7199': 7198, 'USER7200': 7199, 'USER7201': 7200, 'USER7202': 7201, 'USER7203': 7202, 'USER7204': 7203, 'USER7205': 7204, 'USER7206': 7205, 'USER7207': 7206, 'USER7208': 7207, 'USER7209': 7208, 'USER7210': 7209, 'USER7211': 7210, 'USER7212': 7211, 'USER7213': 7212, 'USER7214': 7213, 'USER7215': 7214, 'USER7216': 7215, 'USER7217': 7216, 'USER7218': 7217, 'USER7219': 7218, 'USER7220': 7219, 'USER7221': 7220, 'USER7222': 7221, 'USER7223': 7222, 'USER7224': 7223, 'USER7225': 7224, 'USER7226': 7225, 'USER7227': 7226, 'USER7228': 7227, 'USER7229': 7228, 'USER7230': 7229, 'USER7231': 7230, 'USER7232': 7231, 'USER7233': 7232, 'USER7234': 7233, 'USER7235': 7234, 'USER7236': 7235, 'USER7237': 7236, 'USER7238': 7237, 'USER7239': 7238, 'USER7240': 7239, 'USER7241': 7240, 'USER7242': 7241, 'USER7243': 7242, 'USER7244': 7243, 'USER7245': 7244, 'USER7246': 7245, 'USER7247': 7246, 'USER7248': 7247, 'USER7249': 7248, 'USER7250': 7249, 'USER7251': 7250, 'USER7252': 7251, 'USER7253': 7252, 'USER7254': 7253, 'USER7255': 7254, 'USER7256': 7255, 'USER7257': 7256, 'USER7258': 7257, 'USER7259': 7258, 'USER7260': 7259, 'USER7261': 7260, 'USER7262': 7261, 'USER7263': 7262, 'USER7264': 7263, 'USER7265': 7264, 'USER7266': 7265, 'USER7267': 7266, 'USER7268': 7267, 'USER7269': 7268, 'USER7270': 7269, 'USER7271': 7270, 'USER7272': 7271, 'USER7273': 7272, 'USER7274': 7273, 'USER7275': 7274, 'USER7276': 7275, 'USER7277': 7276, 'USER7278': 7277, 'USER7279': 7278, 'USER7280': 7279, 'USER7281': 7280, 'USER7282': 7281, 'USER7283': 7282, 'USER7284': 7283, 'USER7285': 7284, 'USER7286': 7285, 'USER7287': 7286, 'USER7288': 7287, 'USER7289': 7288, 'USER7290': 7289, 'USER7291': 7290, 'USER7292': 7291, 'USER7293': 7292, 'USER7294': 7293, 'USER7295': 7294, 'USER7296': 7295, 'USER7297': 7296, 'USER7298': 7297, 'USER7299': 7298, 'USER7300': 7299, 'USER7301': 7300, 'USER7302': 7301, 'USER7303': 7302, 'USER7304': 7303, 'USER7305': 7304, 'USER7306': 7305, 'USER7307': 7306, 'USER7308': 7307, 'USER7309': 7308, 'USER7310': 7309, 'USER7311': 7310, 'USER7312': 7311, 'USER7313': 7312, 'USER7314': 7313, 'USER7315': 7314, 'USER7316': 7315, 'USER7317': 7316, 'USER7318': 7317, 'USER7319': 7318, 'USER7320': 7319, 'USER7321': 7320, 'USER7322': 7321, 'USER7323': 7322, 'USER7324': 7323, 'USER7325': 7324, 'USER7326': 7325, 'USER7327': 7326, 'USER7328': 7327, 'USER7329': 7328, 'USER7330': 7329, 'USER7331': 7330, 'USER7332': 7331, 'USER7333': 7332, 'USER7334': 7333, 'USER7335': 7334, 'USER7336': 7335, 'USER7337': 7336, 'USER7338': 7337, 'USER7339': 7338, 'USER7340': 7339, 'USER7341': 7340, 'USER7342': 7341, 'USER7343': 7342, 'USER7344': 7343, 'USER7345': 7344, 'USER7346': 7345, 'USER7347': 7346, 'USER7348': 7347, 'USER7349': 7348, 'USER7350': 7349, 'USER7351': 7350, 'USER7352': 7351, 'USER7353': 7352, 'USER7354': 7353, 'USER7355': 7354, 'USER7356': 7355, 'USER7357': 7356, 'USER7358': 7357, 'USER7359': 7358, 'USER7360': 7359, 'USER7361': 7360, 'USER7362': 7361, 'USER7363': 7362, 'USER7364': 7363, 'USER7365': 7364, 'USER7366': 7365, 'USER7367': 7366, 'USER7368': 7367, 'USER7369': 7368, 'USER7370': 7369, 'USER7371': 7370, 'USER7372': 7371, 'USER7373': 7372, 'USER7374': 7373, 'USER7375': 7374, 'USER7376': 7375, 'USER7377': 7376, 'USER7378': 7377, 'USER7379': 7378, 'USER7380': 7379, 'USER7381': 7380, 'USER7382': 7381, 'USER7383': 7382, 'USER7384': 7383, 'USER7385': 7384, 'USER7386': 7385, 'USER7387': 7386, 'USER7388': 7387, 'USER7389': 7388, 'USER7390': 7389, 'USER7391': 7390, 'USER7392': 7391, 'USER7393': 7392, 'USER7394': 7393, 'USER7395': 7394, 'USER7396': 7395, 'USER7397': 7396, 'USER7398': 7397, 'USER7399': 7398, 'USER7400': 7399, 'USER7401': 7400, 'USER7402': 7401, 'USER7403': 7402, 'USER7404': 7403, 'USER7405': 7404, 'USER7406': 7405, 'USER7407': 7406, 'USER7408': 7407, 'USER7409': 7408, 'USER7410': 7409, 'USER7411': 7410, 'USER7412': 7411, 'USER7413': 7412, 'USER7414': 7413, 'USER7415': 7414, 'USER7416': 7415, 'USER7417': 7416, 'USER7418': 7417, 'USER7419': 7418, 'USER7420': 7419, 'USER7421': 7420, 'USER7422': 7421, 'USER7423': 7422, 'USER7424': 7423, 'USER7425': 7424, 'USER7426': 7425, 'USER7427': 7426, 'USER7428': 7427, 'USER7429': 7428, 'USER7430': 7429, 'USER7431': 7430, 'USER7432': 7431, 'USER7433': 7432, 'USER7434': 7433, 'USER7435': 7434, 'USER7436': 7435, 'USER7437': 7436, 'USER7438': 7437, 'USER7439': 7438, 'USER7440': 7439, 'USER7441': 7440, 'USER7442': 7441, 'USER7443': 7442, 'USER7444': 7443, 'USER7445': 7444, 'USER7446': 7445, 'USER7447': 7446, 'USER7448': 7447, 'USER7449': 7448, 'USER7450': 7449, 'USER7451': 7450, 'USER7452': 7451, 'USER7453': 7452, 'USER7454': 7453, 'USER7455': 7454, 'USER7456': 7455, 'USER7457': 7456, 'USER7458': 7457, 'USER7459': 7458, 'USER7460': 7459, 'USER7461': 7460, 'USER7462': 7461, 'USER7463': 7462, 'USER7464': 7463, 'USER7465': 7464, 'USER7466': 7465, 'USER7467': 7466, 'USER7468': 7467, 'USER7469': 7468, 'USER7470': 7469, 'USER7471': 7470, 'USER7472': 7471, 'USER7473': 7472, 'USER7474': 7473, 'USER7475': 7474, 'USER7476': 7475, 'USER7477': 7476, 'USER7478': 7477, 'USER7479': 7478, 'USER7480': 7479, 'USER7481': 7480, 'USER7482': 7481, 'USER7483': 7482, 'USER7484': 7483, 'USER7485': 7484, 'USER7486': 7485, 'USER7487': 7486, 'USER7488': 7487, 'USER7489': 7488, 'USER7490': 7489, 'USER7491': 7490, 'USER7492': 7491, 'USER7493': 7492, 'USER7494': 7493, 'USER7495': 7494, 'USER7496': 7495, 'USER7497': 7496, 'USER7498': 7497, 'USER7499': 7498, 'USER7500': 7499, 'USER7501': 7500, 'USER7502': 7501, 'USER7503': 7502, 'USER7504': 7503, 'USER7505': 7504, 'USER7506': 7505, 'USER7507': 7506, 'USER7508': 7507, 'USER7509': 7508, 'USER7510': 7509, 'USER7511': 7510, 'USER7512': 7511, 'USER7513': 7512, 'USER7514': 7513, 'USER7515': 7514, 'USER7516': 7515, 'USER7517': 7516, 'USER7518': 7517, 'USER7519': 7518, 'USER7520': 7519, 'USER7521': 7520, 'USER7522': 7521, 'USER7523': 7522, 'USER7524': 7523, 'USER7525': 7524, 'USER7526': 7525, 'USER7527': 7526, 'USER7528': 7527, 'USER7529': 7528, 'USER7530': 7529, 'USER7531': 7530, 'USER7532': 7531}\n",
            "encoded angka ke userID:  {0: 'USER1', 1: 'USER2', 2: 'USER3', 3: 'USER4', 4: 'USER5', 5: 'USER6', 6: 'USER7', 7: 'USER8', 8: 'USER9', 9: 'USER10', 10: 'USER11', 11: 'USER12', 12: 'USER13', 13: 'USER14', 14: 'USER15', 15: 'USER16', 16: 'USER17', 17: 'USER18', 18: 'USER19', 19: 'USER20', 20: 'USER21', 21: 'USER22', 22: 'USER23', 23: 'USER24', 24: 'USER25', 25: 'USER26', 26: 'USER27', 27: 'USER28', 28: 'USER29', 29: 'USER30', 30: 'USER31', 31: 'USER32', 32: 'USER33', 33: 'USER34', 34: 'USER35', 35: 'USER36', 36: 'USER37', 37: 'USER38', 38: 'USER39', 39: 'USER40', 40: 'USER41', 41: 'USER42', 42: 'USER43', 43: 'USER44', 44: 'USER45', 45: 'USER46', 46: 'USER47', 47: 'USER48', 48: 'USER49', 49: 'USER50', 50: 'USER51', 51: 'USER52', 52: 'USER53', 53: 'USER54', 54: 'USER55', 55: 'USER56', 56: 'USER57', 57: 'USER58', 58: 'USER59', 59: 'USER60', 60: 'USER61', 61: 'USER62', 62: 'USER63', 63: 'USER64', 64: 'USER65', 65: 'USER66', 66: 'USER67', 67: 'USER68', 68: 'USER69', 69: 'USER70', 70: 'USER71', 71: 'USER72', 72: 'USER73', 73: 'USER74', 74: 'USER75', 75: 'USER76', 76: 'USER77', 77: 'USER78', 78: 'USER79', 79: 'USER80', 80: 'USER81', 81: 'USER82', 82: 'USER83', 83: 'USER84', 84: 'USER85', 85: 'USER86', 86: 'USER87', 87: 'USER88', 88: 'USER89', 89: 'USER90', 90: 'USER91', 91: 'USER92', 92: 'USER93', 93: 'USER94', 94: 'USER95', 95: 'USER96', 96: 'USER97', 97: 'USER98', 98: 'USER99', 99: 'USER100', 100: 'USER101', 101: 'USER102', 102: 'USER103', 103: 'USER104', 104: 'USER105', 105: 'USER106', 106: 'USER107', 107: 'USER108', 108: 'USER109', 109: 'USER110', 110: 'USER111', 111: 'USER112', 112: 'USER113', 113: 'USER114', 114: 'USER115', 115: 'USER116', 116: 'USER117', 117: 'USER118', 118: 'USER119', 119: 'USER120', 120: 'USER121', 121: 'USER122', 122: 'USER123', 123: 'USER124', 124: 'USER125', 125: 'USER126', 126: 'USER127', 127: 'USER128', 128: 'USER129', 129: 'USER130', 130: 'USER131', 131: 'USER132', 132: 'USER133', 133: 'USER134', 134: 'USER135', 135: 'USER136', 136: 'USER137', 137: 'USER138', 138: 'USER139', 139: 'USER140', 140: 'USER141', 141: 'USER142', 142: 'USER143', 143: 'USER144', 144: 'USER145', 145: 'USER146', 146: 'USER147', 147: 'USER148', 148: 'USER149', 149: 'USER150', 150: 'USER151', 151: 'USER152', 152: 'USER153', 153: 'USER154', 154: 'USER155', 155: 'USER156', 156: 'USER157', 157: 'USER158', 158: 'USER159', 159: 'USER160', 160: 'USER161', 161: 'USER162', 162: 'USER163', 163: 'USER164', 164: 'USER165', 165: 'USER166', 166: 'USER167', 167: 'USER168', 168: 'USER169', 169: 'USER170', 170: 'USER171', 171: 'USER172', 172: 'USER173', 173: 'USER174', 174: 'USER175', 175: 'USER176', 176: 'USER177', 177: 'USER178', 178: 'USER179', 179: 'USER180', 180: 'USER181', 181: 'USER182', 182: 'USER183', 183: 'USER184', 184: 'USER185', 185: 'USER186', 186: 'USER187', 187: 'USER188', 188: 'USER189', 189: 'USER190', 190: 'USER191', 191: 'USER192', 192: 'USER193', 193: 'USER194', 194: 'USER195', 195: 'USER196', 196: 'USER197', 197: 'USER198', 198: 'USER199', 199: 'USER200', 200: 'USER201', 201: 'USER202', 202: 'USER203', 203: 'USER204', 204: 'USER205', 205: 'USER206', 206: 'USER207', 207: 'USER208', 208: 'USER209', 209: 'USER210', 210: 'USER211', 211: 'USER212', 212: 'USER213', 213: 'USER214', 214: 'USER215', 215: 'USER216', 216: 'USER217', 217: 'USER218', 218: 'USER219', 219: 'USER220', 220: 'USER221', 221: 'USER222', 222: 'USER223', 223: 'USER224', 224: 'USER225', 225: 'USER226', 226: 'USER227', 227: 'USER228', 228: 'USER229', 229: 'USER230', 230: 'USER231', 231: 'USER232', 232: 'USER233', 233: 'USER234', 234: 'USER235', 235: 'USER236', 236: 'USER237', 237: 'USER238', 238: 'USER239', 239: 'USER240', 240: 'USER241', 241: 'USER242', 242: 'USER243', 243: 'USER244', 244: 'USER245', 245: 'USER246', 246: 'USER247', 247: 'USER248', 248: 'USER249', 249: 'USER250', 250: 'USER251', 251: 'USER252', 252: 'USER253', 253: 'USER254', 254: 'USER255', 255: 'USER256', 256: 'USER257', 257: 'USER258', 258: 'USER259', 259: 'USER260', 260: 'USER261', 261: 'USER262', 262: 'USER263', 263: 'USER264', 264: 'USER265', 265: 'USER266', 266: 'USER267', 267: 'USER268', 268: 'USER269', 269: 'USER270', 270: 'USER271', 271: 'USER272', 272: 'USER273', 273: 'USER274', 274: 'USER275', 275: 'USER276', 276: 'USER277', 277: 'USER278', 278: 'USER279', 279: 'USER280', 280: 'USER281', 281: 'USER282', 282: 'USER283', 283: 'USER284', 284: 'USER285', 285: 'USER286', 286: 'USER287', 287: 'USER288', 288: 'USER289', 289: 'USER290', 290: 'USER291', 291: 'USER292', 292: 'USER293', 293: 'USER294', 294: 'USER295', 295: 'USER296', 296: 'USER297', 297: 'USER298', 298: 'USER299', 299: 'USER300', 300: 'USER301', 301: 'USER302', 302: 'USER303', 303: 'USER304', 304: 'USER305', 305: 'USER306', 306: 'USER307', 307: 'USER308', 308: 'USER309', 309: 'USER310', 310: 'USER311', 311: 'USER312', 312: 'USER313', 313: 'USER314', 314: 'USER315', 315: 'USER316', 316: 'USER317', 317: 'USER318', 318: 'USER319', 319: 'USER320', 320: 'USER321', 321: 'USER322', 322: 'USER323', 323: 'USER324', 324: 'USER325', 325: 'USER326', 326: 'USER327', 327: 'USER328', 328: 'USER329', 329: 'USER330', 330: 'USER331', 331: 'USER332', 332: 'USER333', 333: 'USER334', 334: 'USER335', 335: 'USER336', 336: 'USER337', 337: 'USER338', 338: 'USER339', 339: 'USER340', 340: 'USER341', 341: 'USER342', 342: 'USER343', 343: 'USER344', 344: 'USER345', 345: 'USER346', 346: 'USER347', 347: 'USER348', 348: 'USER349', 349: 'USER350', 350: 'USER351', 351: 'USER352', 352: 'USER353', 353: 'USER354', 354: 'USER355', 355: 'USER356', 356: 'USER357', 357: 'USER358', 358: 'USER359', 359: 'USER360', 360: 'USER361', 361: 'USER362', 362: 'USER363', 363: 'USER364', 364: 'USER365', 365: 'USER366', 366: 'USER367', 367: 'USER368', 368: 'USER369', 369: 'USER370', 370: 'USER371', 371: 'USER372', 372: 'USER373', 373: 'USER374', 374: 'USER375', 375: 'USER376', 376: 'USER377', 377: 'USER378', 378: 'USER379', 379: 'USER380', 380: 'USER381', 381: 'USER382', 382: 'USER383', 383: 'USER384', 384: 'USER385', 385: 'USER386', 386: 'USER387', 387: 'USER388', 388: 'USER389', 389: 'USER390', 390: 'USER391', 391: 'USER392', 392: 'USER393', 393: 'USER394', 394: 'USER395', 395: 'USER396', 396: 'USER397', 397: 'USER398', 398: 'USER399', 399: 'USER400', 400: 'USER401', 401: 'USER402', 402: 'USER403', 403: 'USER404', 404: 'USER405', 405: 'USER406', 406: 'USER407', 407: 'USER408', 408: 'USER409', 409: 'USER410', 410: 'USER411', 411: 'USER412', 412: 'USER413', 413: 'USER414', 414: 'USER415', 415: 'USER416', 416: 'USER417', 417: 'USER418', 418: 'USER419', 419: 'USER420', 420: 'USER421', 421: 'USER422', 422: 'USER423', 423: 'USER424', 424: 'USER425', 425: 'USER426', 426: 'USER427', 427: 'USER428', 428: 'USER429', 429: 'USER430', 430: 'USER431', 431: 'USER432', 432: 'USER433', 433: 'USER434', 434: 'USER435', 435: 'USER436', 436: 'USER437', 437: 'USER438', 438: 'USER439', 439: 'USER440', 440: 'USER441', 441: 'USER442', 442: 'USER443', 443: 'USER444', 444: 'USER445', 445: 'USER446', 446: 'USER447', 447: 'USER448', 448: 'USER449', 449: 'USER450', 450: 'USER451', 451: 'USER452', 452: 'USER453', 453: 'USER454', 454: 'USER455', 455: 'USER456', 456: 'USER457', 457: 'USER458', 458: 'USER459', 459: 'USER460', 460: 'USER461', 461: 'USER462', 462: 'USER463', 463: 'USER464', 464: 'USER465', 465: 'USER466', 466: 'USER467', 467: 'USER468', 468: 'USER469', 469: 'USER470', 470: 'USER471', 471: 'USER472', 472: 'USER473', 473: 'USER474', 474: 'USER475', 475: 'USER476', 476: 'USER477', 477: 'USER478', 478: 'USER479', 479: 'USER480', 480: 'USER481', 481: 'USER482', 482: 'USER483', 483: 'USER484', 484: 'USER485', 485: 'USER486', 486: 'USER487', 487: 'USER488', 488: 'USER489', 489: 'USER490', 490: 'USER491', 491: 'USER492', 492: 'USER493', 493: 'USER494', 494: 'USER495', 495: 'USER496', 496: 'USER497', 497: 'USER498', 498: 'USER499', 499: 'USER500', 500: 'USER501', 501: 'USER502', 502: 'USER503', 503: 'USER504', 504: 'USER505', 505: 'USER506', 506: 'USER507', 507: 'USER508', 508: 'USER509', 509: 'USER510', 510: 'USER511', 511: 'USER512', 512: 'USER513', 513: 'USER514', 514: 'USER515', 515: 'USER516', 516: 'USER517', 517: 'USER518', 518: 'USER519', 519: 'USER520', 520: 'USER521', 521: 'USER522', 522: 'USER523', 523: 'USER524', 524: 'USER525', 525: 'USER526', 526: 'USER527', 527: 'USER528', 528: 'USER529', 529: 'USER530', 530: 'USER531', 531: 'USER532', 532: 'USER533', 533: 'USER534', 534: 'USER535', 535: 'USER536', 536: 'USER537', 537: 'USER538', 538: 'USER539', 539: 'USER540', 540: 'USER541', 541: 'USER542', 542: 'USER543', 543: 'USER544', 544: 'USER545', 545: 'USER546', 546: 'USER547', 547: 'USER548', 548: 'USER549', 549: 'USER550', 550: 'USER551', 551: 'USER552', 552: 'USER553', 553: 'USER554', 554: 'USER555', 555: 'USER556', 556: 'USER557', 557: 'USER558', 558: 'USER559', 559: 'USER560', 560: 'USER561', 561: 'USER562', 562: 'USER563', 563: 'USER564', 564: 'USER565', 565: 'USER566', 566: 'USER567', 567: 'USER568', 568: 'USER569', 569: 'USER570', 570: 'USER571', 571: 'USER572', 572: 'USER573', 573: 'USER574', 574: 'USER575', 575: 'USER576', 576: 'USER577', 577: 'USER578', 578: 'USER579', 579: 'USER580', 580: 'USER581', 581: 'USER582', 582: 'USER583', 583: 'USER584', 584: 'USER585', 585: 'USER586', 586: 'USER587', 587: 'USER588', 588: 'USER589', 589: 'USER590', 590: 'USER591', 591: 'USER592', 592: 'USER593', 593: 'USER594', 594: 'USER595', 595: 'USER596', 596: 'USER597', 597: 'USER598', 598: 'USER599', 599: 'USER600', 600: 'USER601', 601: 'USER602', 602: 'USER603', 603: 'USER604', 604: 'USER605', 605: 'USER606', 606: 'USER607', 607: 'USER608', 608: 'USER609', 609: 'USER610', 610: 'USER611', 611: 'USER612', 612: 'USER613', 613: 'USER614', 614: 'USER615', 615: 'USER616', 616: 'USER617', 617: 'USER618', 618: 'USER619', 619: 'USER620', 620: 'USER621', 621: 'USER622', 622: 'USER623', 623: 'USER624', 624: 'USER625', 625: 'USER626', 626: 'USER627', 627: 'USER628', 628: 'USER629', 629: 'USER630', 630: 'USER631', 631: 'USER632', 632: 'USER633', 633: 'USER634', 634: 'USER635', 635: 'USER636', 636: 'USER637', 637: 'USER638', 638: 'USER639', 639: 'USER640', 640: 'USER641', 641: 'USER642', 642: 'USER643', 643: 'USER644', 644: 'USER645', 645: 'USER646', 646: 'USER647', 647: 'USER648', 648: 'USER649', 649: 'USER650', 650: 'USER651', 651: 'USER652', 652: 'USER653', 653: 'USER654', 654: 'USER655', 655: 'USER656', 656: 'USER657', 657: 'USER658', 658: 'USER659', 659: 'USER660', 660: 'USER661', 661: 'USER662', 662: 'USER663', 663: 'USER664', 664: 'USER665', 665: 'USER666', 666: 'USER667', 667: 'USER668', 668: 'USER669', 669: 'USER670', 670: 'USER671', 671: 'USER672', 672: 'USER673', 673: 'USER674', 674: 'USER675', 675: 'USER676', 676: 'USER677', 677: 'USER678', 678: 'USER679', 679: 'USER680', 680: 'USER681', 681: 'USER682', 682: 'USER683', 683: 'USER684', 684: 'USER685', 685: 'USER686', 686: 'USER687', 687: 'USER688', 688: 'USER689', 689: 'USER690', 690: 'USER691', 691: 'USER692', 692: 'USER693', 693: 'USER694', 694: 'USER695', 695: 'USER696', 696: 'USER697', 697: 'USER698', 698: 'USER699', 699: 'USER700', 700: 'USER701', 701: 'USER702', 702: 'USER703', 703: 'USER704', 704: 'USER705', 705: 'USER706', 706: 'USER707', 707: 'USER708', 708: 'USER709', 709: 'USER710', 710: 'USER711', 711: 'USER712', 712: 'USER713', 713: 'USER714', 714: 'USER715', 715: 'USER716', 716: 'USER717', 717: 'USER718', 718: 'USER719', 719: 'USER720', 720: 'USER721', 721: 'USER722', 722: 'USER723', 723: 'USER724', 724: 'USER725', 725: 'USER726', 726: 'USER727', 727: 'USER728', 728: 'USER729', 729: 'USER730', 730: 'USER731', 731: 'USER732', 732: 'USER733', 733: 'USER734', 734: 'USER735', 735: 'USER736', 736: 'USER737', 737: 'USER738', 738: 'USER739', 739: 'USER740', 740: 'USER741', 741: 'USER742', 742: 'USER743', 743: 'USER744', 744: 'USER745', 745: 'USER746', 746: 'USER747', 747: 'USER748', 748: 'USER749', 749: 'USER750', 750: 'USER751', 751: 'USER752', 752: 'USER753', 753: 'USER754', 754: 'USER755', 755: 'USER756', 756: 'USER757', 757: 'USER758', 758: 'USER759', 759: 'USER760', 760: 'USER761', 761: 'USER762', 762: 'USER763', 763: 'USER764', 764: 'USER765', 765: 'USER766', 766: 'USER767', 767: 'USER768', 768: 'USER769', 769: 'USER770', 770: 'USER771', 771: 'USER772', 772: 'USER773', 773: 'USER774', 774: 'USER775', 775: 'USER776', 776: 'USER777', 777: 'USER778', 778: 'USER779', 779: 'USER780', 780: 'USER781', 781: 'USER782', 782: 'USER783', 783: 'USER784', 784: 'USER785', 785: 'USER786', 786: 'USER787', 787: 'USER788', 788: 'USER789', 789: 'USER790', 790: 'USER791', 791: 'USER792', 792: 'USER793', 793: 'USER794', 794: 'USER795', 795: 'USER796', 796: 'USER797', 797: 'USER798', 798: 'USER799', 799: 'USER800', 800: 'USER801', 801: 'USER802', 802: 'USER803', 803: 'USER804', 804: 'USER805', 805: 'USER806', 806: 'USER807', 807: 'USER808', 808: 'USER809', 809: 'USER810', 810: 'USER811', 811: 'USER812', 812: 'USER813', 813: 'USER814', 814: 'USER815', 815: 'USER816', 816: 'USER817', 817: 'USER818', 818: 'USER819', 819: 'USER820', 820: 'USER821', 821: 'USER822', 822: 'USER823', 823: 'USER824', 824: 'USER825', 825: 'USER826', 826: 'USER827', 827: 'USER828', 828: 'USER829', 829: 'USER830', 830: 'USER831', 831: 'USER832', 832: 'USER833', 833: 'USER834', 834: 'USER835', 835: 'USER836', 836: 'USER837', 837: 'USER838', 838: 'USER839', 839: 'USER840', 840: 'USER841', 841: 'USER842', 842: 'USER843', 843: 'USER844', 844: 'USER845', 845: 'USER846', 846: 'USER847', 847: 'USER848', 848: 'USER849', 849: 'USER850', 850: 'USER851', 851: 'USER852', 852: 'USER853', 853: 'USER854', 854: 'USER855', 855: 'USER856', 856: 'USER857', 857: 'USER858', 858: 'USER859', 859: 'USER860', 860: 'USER861', 861: 'USER862', 862: 'USER863', 863: 'USER864', 864: 'USER865', 865: 'USER866', 866: 'USER867', 867: 'USER868', 868: 'USER869', 869: 'USER870', 870: 'USER871', 871: 'USER872', 872: 'USER873', 873: 'USER874', 874: 'USER875', 875: 'USER876', 876: 'USER877', 877: 'USER878', 878: 'USER879', 879: 'USER880', 880: 'USER881', 881: 'USER882', 882: 'USER883', 883: 'USER884', 884: 'USER885', 885: 'USER886', 886: 'USER887', 887: 'USER888', 888: 'USER889', 889: 'USER890', 890: 'USER891', 891: 'USER892', 892: 'USER893', 893: 'USER894', 894: 'USER895', 895: 'USER896', 896: 'USER897', 897: 'USER898', 898: 'USER899', 899: 'USER900', 900: 'USER901', 901: 'USER902', 902: 'USER903', 903: 'USER904', 904: 'USER905', 905: 'USER906', 906: 'USER907', 907: 'USER908', 908: 'USER909', 909: 'USER910', 910: 'USER911', 911: 'USER912', 912: 'USER913', 913: 'USER914', 914: 'USER915', 915: 'USER916', 916: 'USER917', 917: 'USER918', 918: 'USER919', 919: 'USER920', 920: 'USER921', 921: 'USER922', 922: 'USER923', 923: 'USER924', 924: 'USER925', 925: 'USER926', 926: 'USER927', 927: 'USER928', 928: 'USER929', 929: 'USER930', 930: 'USER931', 931: 'USER932', 932: 'USER933', 933: 'USER934', 934: 'USER935', 935: 'USER936', 936: 'USER937', 937: 'USER938', 938: 'USER939', 939: 'USER940', 940: 'USER941', 941: 'USER942', 942: 'USER943', 943: 'USER944', 944: 'USER945', 945: 'USER946', 946: 'USER947', 947: 'USER948', 948: 'USER949', 949: 'USER950', 950: 'USER951', 951: 'USER952', 952: 'USER953', 953: 'USER954', 954: 'USER955', 955: 'USER956', 956: 'USER957', 957: 'USER958', 958: 'USER959', 959: 'USER960', 960: 'USER961', 961: 'USER962', 962: 'USER963', 963: 'USER964', 964: 'USER965', 965: 'USER966', 966: 'USER967', 967: 'USER968', 968: 'USER969', 969: 'USER970', 970: 'USER971', 971: 'USER972', 972: 'USER973', 973: 'USER974', 974: 'USER975', 975: 'USER976', 976: 'USER977', 977: 'USER978', 978: 'USER979', 979: 'USER980', 980: 'USER981', 981: 'USER982', 982: 'USER983', 983: 'USER984', 984: 'USER985', 985: 'USER986', 986: 'USER987', 987: 'USER988', 988: 'USER989', 989: 'USER990', 990: 'USER991', 991: 'USER992', 992: 'USER993', 993: 'USER994', 994: 'USER995', 995: 'USER996', 996: 'USER997', 997: 'USER998', 998: 'USER999', 999: 'USER1000', 1000: 'USER1001', 1001: 'USER1002', 1002: 'USER1003', 1003: 'USER1004', 1004: 'USER1005', 1005: 'USER1006', 1006: 'USER1007', 1007: 'USER1008', 1008: 'USER1009', 1009: 'USER1010', 1010: 'USER1011', 1011: 'USER1012', 1012: 'USER1013', 1013: 'USER1014', 1014: 'USER1015', 1015: 'USER1016', 1016: 'USER1017', 1017: 'USER1018', 1018: 'USER1019', 1019: 'USER1020', 1020: 'USER1021', 1021: 'USER1022', 1022: 'USER1023', 1023: 'USER1024', 1024: 'USER1025', 1025: 'USER1026', 1026: 'USER1027', 1027: 'USER1028', 1028: 'USER1029', 1029: 'USER1030', 1030: 'USER1031', 1031: 'USER1032', 1032: 'USER1033', 1033: 'USER1034', 1034: 'USER1035', 1035: 'USER1036', 1036: 'USER1037', 1037: 'USER1038', 1038: 'USER1039', 1039: 'USER1040', 1040: 'USER1041', 1041: 'USER1042', 1042: 'USER1043', 1043: 'USER1044', 1044: 'USER1045', 1045: 'USER1046', 1046: 'USER1047', 1047: 'USER1048', 1048: 'USER1049', 1049: 'USER1050', 1050: 'USER1051', 1051: 'USER1052', 1052: 'USER1053', 1053: 'USER1054', 1054: 'USER1055', 1055: 'USER1056', 1056: 'USER1057', 1057: 'USER1058', 1058: 'USER1059', 1059: 'USER1060', 1060: 'USER1061', 1061: 'USER1062', 1062: 'USER1063', 1063: 'USER1064', 1064: 'USER1065', 1065: 'USER1066', 1066: 'USER1067', 1067: 'USER1068', 1068: 'USER1069', 1069: 'USER1070', 1070: 'USER1071', 1071: 'USER1072', 1072: 'USER1073', 1073: 'USER1074', 1074: 'USER1075', 1075: 'USER1076', 1076: 'USER1077', 1077: 'USER1078', 1078: 'USER1079', 1079: 'USER1080', 1080: 'USER1081', 1081: 'USER1082', 1082: 'USER1083', 1083: 'USER1084', 1084: 'USER1085', 1085: 'USER1086', 1086: 'USER1087', 1087: 'USER1088', 1088: 'USER1089', 1089: 'USER1090', 1090: 'USER1091', 1091: 'USER1092', 1092: 'USER1093', 1093: 'USER1094', 1094: 'USER1095', 1095: 'USER1096', 1096: 'USER1097', 1097: 'USER1098', 1098: 'USER1099', 1099: 'USER1100', 1100: 'USER1101', 1101: 'USER1102', 1102: 'USER1103', 1103: 'USER1104', 1104: 'USER1105', 1105: 'USER1106', 1106: 'USER1107', 1107: 'USER1108', 1108: 'USER1109', 1109: 'USER1110', 1110: 'USER1111', 1111: 'USER1112', 1112: 'USER1113', 1113: 'USER1114', 1114: 'USER1115', 1115: 'USER1116', 1116: 'USER1117', 1117: 'USER1118', 1118: 'USER1119', 1119: 'USER1120', 1120: 'USER1121', 1121: 'USER1122', 1122: 'USER1123', 1123: 'USER1124', 1124: 'USER1125', 1125: 'USER1126', 1126: 'USER1127', 1127: 'USER1128', 1128: 'USER1129', 1129: 'USER1130', 1130: 'USER1131', 1131: 'USER1132', 1132: 'USER1133', 1133: 'USER1134', 1134: 'USER1135', 1135: 'USER1136', 1136: 'USER1137', 1137: 'USER1138', 1138: 'USER1139', 1139: 'USER1140', 1140: 'USER1141', 1141: 'USER1142', 1142: 'USER1143', 1143: 'USER1144', 1144: 'USER1145', 1145: 'USER1146', 1146: 'USER1147', 1147: 'USER1148', 1148: 'USER1149', 1149: 'USER1150', 1150: 'USER1151', 1151: 'USER1152', 1152: 'USER1153', 1153: 'USER1154', 1154: 'USER1155', 1155: 'USER1156', 1156: 'USER1157', 1157: 'USER1158', 1158: 'USER1159', 1159: 'USER1160', 1160: 'USER1161', 1161: 'USER1162', 1162: 'USER1163', 1163: 'USER1164', 1164: 'USER1165', 1165: 'USER1166', 1166: 'USER1167', 1167: 'USER1168', 1168: 'USER1169', 1169: 'USER1170', 1170: 'USER1171', 1171: 'USER1172', 1172: 'USER1173', 1173: 'USER1174', 1174: 'USER1175', 1175: 'USER1176', 1176: 'USER1177', 1177: 'USER1178', 1178: 'USER1179', 1179: 'USER1180', 1180: 'USER1181', 1181: 'USER1182', 1182: 'USER1183', 1183: 'USER1184', 1184: 'USER1185', 1185: 'USER1186', 1186: 'USER1187', 1187: 'USER1188', 1188: 'USER1189', 1189: 'USER1190', 1190: 'USER1191', 1191: 'USER1192', 1192: 'USER1193', 1193: 'USER1194', 1194: 'USER1195', 1195: 'USER1196', 1196: 'USER1197', 1197: 'USER1198', 1198: 'USER1199', 1199: 'USER1200', 1200: 'USER1201', 1201: 'USER1202', 1202: 'USER1203', 1203: 'USER1204', 1204: 'USER1205', 1205: 'USER1206', 1206: 'USER1207', 1207: 'USER1208', 1208: 'USER1209', 1209: 'USER1210', 1210: 'USER1211', 1211: 'USER1212', 1212: 'USER1213', 1213: 'USER1214', 1214: 'USER1215', 1215: 'USER1216', 1216: 'USER1217', 1217: 'USER1218', 1218: 'USER1219', 1219: 'USER1220', 1220: 'USER1221', 1221: 'USER1222', 1222: 'USER1223', 1223: 'USER1224', 1224: 'USER1225', 1225: 'USER1226', 1226: 'USER1227', 1227: 'USER1228', 1228: 'USER1229', 1229: 'USER1230', 1230: 'USER1231', 1231: 'USER1232', 1232: 'USER1233', 1233: 'USER1234', 1234: 'USER1235', 1235: 'USER1236', 1236: 'USER1237', 1237: 'USER1238', 1238: 'USER1239', 1239: 'USER1240', 1240: 'USER1241', 1241: 'USER1242', 1242: 'USER1243', 1243: 'USER1244', 1244: 'USER1245', 1245: 'USER1246', 1246: 'USER1247', 1247: 'USER1248', 1248: 'USER1249', 1249: 'USER1250', 1250: 'USER1251', 1251: 'USER1252', 1252: 'USER1253', 1253: 'USER1254', 1254: 'USER1255', 1255: 'USER1256', 1256: 'USER1257', 1257: 'USER1258', 1258: 'USER1259', 1259: 'USER1260', 1260: 'USER1261', 1261: 'USER1262', 1262: 'USER1263', 1263: 'USER1264', 1264: 'USER1265', 1265: 'USER1266', 1266: 'USER1267', 1267: 'USER1268', 1268: 'USER1269', 1269: 'USER1270', 1270: 'USER1271', 1271: 'USER1272', 1272: 'USER1273', 1273: 'USER1274', 1274: 'USER1275', 1275: 'USER1276', 1276: 'USER1277', 1277: 'USER1278', 1278: 'USER1279', 1279: 'USER1280', 1280: 'USER1281', 1281: 'USER1282', 1282: 'USER1283', 1283: 'USER1284', 1284: 'USER1285', 1285: 'USER1286', 1286: 'USER1287', 1287: 'USER1288', 1288: 'USER1289', 1289: 'USER1290', 1290: 'USER1291', 1291: 'USER1292', 1292: 'USER1293', 1293: 'USER1294', 1294: 'USER1295', 1295: 'USER1296', 1296: 'USER1297', 1297: 'USER1298', 1298: 'USER1299', 1299: 'USER1300', 1300: 'USER1301', 1301: 'USER1302', 1302: 'USER1303', 1303: 'USER1304', 1304: 'USER1305', 1305: 'USER1306', 1306: 'USER1307', 1307: 'USER1308', 1308: 'USER1309', 1309: 'USER1310', 1310: 'USER1311', 1311: 'USER1312', 1312: 'USER1313', 1313: 'USER1314', 1314: 'USER1315', 1315: 'USER1316', 1316: 'USER1317', 1317: 'USER1318', 1318: 'USER1319', 1319: 'USER1320', 1320: 'USER1321', 1321: 'USER1322', 1322: 'USER1323', 1323: 'USER1324', 1324: 'USER1325', 1325: 'USER1326', 1326: 'USER1327', 1327: 'USER1328', 1328: 'USER1329', 1329: 'USER1330', 1330: 'USER1331', 1331: 'USER1332', 1332: 'USER1333', 1333: 'USER1334', 1334: 'USER1335', 1335: 'USER1336', 1336: 'USER1337', 1337: 'USER1338', 1338: 'USER1339', 1339: 'USER1340', 1340: 'USER1341', 1341: 'USER1342', 1342: 'USER1343', 1343: 'USER1344', 1344: 'USER1345', 1345: 'USER1346', 1346: 'USER1347', 1347: 'USER1348', 1348: 'USER1349', 1349: 'USER1350', 1350: 'USER1351', 1351: 'USER1352', 1352: 'USER1353', 1353: 'USER1354', 1354: 'USER1355', 1355: 'USER1356', 1356: 'USER1357', 1357: 'USER1358', 1358: 'USER1359', 1359: 'USER1360', 1360: 'USER1361', 1361: 'USER1362', 1362: 'USER1363', 1363: 'USER1364', 1364: 'USER1365', 1365: 'USER1366', 1366: 'USER1367', 1367: 'USER1368', 1368: 'USER1369', 1369: 'USER1370', 1370: 'USER1371', 1371: 'USER1372', 1372: 'USER1373', 1373: 'USER1374', 1374: 'USER1375', 1375: 'USER1376', 1376: 'USER1377', 1377: 'USER1378', 1378: 'USER1379', 1379: 'USER1380', 1380: 'USER1381', 1381: 'USER1382', 1382: 'USER1383', 1383: 'USER1384', 1384: 'USER1385', 1385: 'USER1386', 1386: 'USER1387', 1387: 'USER1388', 1388: 'USER1389', 1389: 'USER1390', 1390: 'USER1391', 1391: 'USER1392', 1392: 'USER1393', 1393: 'USER1394', 1394: 'USER1395', 1395: 'USER1396', 1396: 'USER1397', 1397: 'USER1398', 1398: 'USER1399', 1399: 'USER1400', 1400: 'USER1401', 1401: 'USER1402', 1402: 'USER1403', 1403: 'USER1404', 1404: 'USER1405', 1405: 'USER1406', 1406: 'USER1407', 1407: 'USER1408', 1408: 'USER1409', 1409: 'USER1410', 1410: 'USER1411', 1411: 'USER1412', 1412: 'USER1413', 1413: 'USER1414', 1414: 'USER1415', 1415: 'USER1416', 1416: 'USER1417', 1417: 'USER1418', 1418: 'USER1419', 1419: 'USER1420', 1420: 'USER1421', 1421: 'USER1422', 1422: 'USER1423', 1423: 'USER1424', 1424: 'USER1425', 1425: 'USER1426', 1426: 'USER1427', 1427: 'USER1428', 1428: 'USER1429', 1429: 'USER1430', 1430: 'USER1431', 1431: 'USER1432', 1432: 'USER1433', 1433: 'USER1434', 1434: 'USER1435', 1435: 'USER1436', 1436: 'USER1437', 1437: 'USER1438', 1438: 'USER1439', 1439: 'USER1440', 1440: 'USER1441', 1441: 'USER1442', 1442: 'USER1443', 1443: 'USER1444', 1444: 'USER1445', 1445: 'USER1446', 1446: 'USER1447', 1447: 'USER1448', 1448: 'USER1449', 1449: 'USER1450', 1450: 'USER1451', 1451: 'USER1452', 1452: 'USER1453', 1453: 'USER1454', 1454: 'USER1455', 1455: 'USER1456', 1456: 'USER1457', 1457: 'USER1458', 1458: 'USER1459', 1459: 'USER1460', 1460: 'USER1461', 1461: 'USER1462', 1462: 'USER1463', 1463: 'USER1464', 1464: 'USER1465', 1465: 'USER1466', 1466: 'USER1467', 1467: 'USER1468', 1468: 'USER1469', 1469: 'USER1470', 1470: 'USER1471', 1471: 'USER1472', 1472: 'USER1473', 1473: 'USER1474', 1474: 'USER1475', 1475: 'USER1476', 1476: 'USER1477', 1477: 'USER1478', 1478: 'USER1479', 1479: 'USER1480', 1480: 'USER1481', 1481: 'USER1482', 1482: 'USER1483', 1483: 'USER1484', 1484: 'USER1485', 1485: 'USER1486', 1486: 'USER1487', 1487: 'USER1488', 1488: 'USER1489', 1489: 'USER1490', 1490: 'USER1491', 1491: 'USER1492', 1492: 'USER1493', 1493: 'USER1494', 1494: 'USER1495', 1495: 'USER1496', 1496: 'USER1497', 1497: 'USER1498', 1498: 'USER1499', 1499: 'USER1500', 1500: 'USER1501', 1501: 'USER1502', 1502: 'USER1503', 1503: 'USER1504', 1504: 'USER1505', 1505: 'USER1506', 1506: 'USER1507', 1507: 'USER1508', 1508: 'USER1509', 1509: 'USER1510', 1510: 'USER1511', 1511: 'USER1512', 1512: 'USER1513', 1513: 'USER1514', 1514: 'USER1515', 1515: 'USER1516', 1516: 'USER1517', 1517: 'USER1518', 1518: 'USER1519', 1519: 'USER1520', 1520: 'USER1521', 1521: 'USER1522', 1522: 'USER1523', 1523: 'USER1524', 1524: 'USER1525', 1525: 'USER1526', 1526: 'USER1527', 1527: 'USER1528', 1528: 'USER1529', 1529: 'USER1530', 1530: 'USER1531', 1531: 'USER1532', 1532: 'USER1533', 1533: 'USER1534', 1534: 'USER1535', 1535: 'USER1536', 1536: 'USER1537', 1537: 'USER1538', 1538: 'USER1539', 1539: 'USER1540', 1540: 'USER1541', 1541: 'USER1542', 1542: 'USER1543', 1543: 'USER1544', 1544: 'USER1545', 1545: 'USER1546', 1546: 'USER1547', 1547: 'USER1548', 1548: 'USER1549', 1549: 'USER1550', 1550: 'USER1551', 1551: 'USER1552', 1552: 'USER1553', 1553: 'USER1554', 1554: 'USER1555', 1555: 'USER1556', 1556: 'USER1557', 1557: 'USER1558', 1558: 'USER1559', 1559: 'USER1560', 1560: 'USER1561', 1561: 'USER1562', 1562: 'USER1563', 1563: 'USER1564', 1564: 'USER1565', 1565: 'USER1566', 1566: 'USER1567', 1567: 'USER1568', 1568: 'USER1569', 1569: 'USER1570', 1570: 'USER1571', 1571: 'USER1572', 1572: 'USER1573', 1573: 'USER1574', 1574: 'USER1575', 1575: 'USER1576', 1576: 'USER1577', 1577: 'USER1578', 1578: 'USER1579', 1579: 'USER1580', 1580: 'USER1581', 1581: 'USER1582', 1582: 'USER1583', 1583: 'USER1584', 1584: 'USER1585', 1585: 'USER1586', 1586: 'USER1587', 1587: 'USER1588', 1588: 'USER1589', 1589: 'USER1590', 1590: 'USER1591', 1591: 'USER1592', 1592: 'USER1593', 1593: 'USER1594', 1594: 'USER1595', 1595: 'USER1596', 1596: 'USER1597', 1597: 'USER1598', 1598: 'USER1599', 1599: 'USER1600', 1600: 'USER1601', 1601: 'USER1602', 1602: 'USER1603', 1603: 'USER1604', 1604: 'USER1605', 1605: 'USER1606', 1606: 'USER1607', 1607: 'USER1608', 1608: 'USER1609', 1609: 'USER1610', 1610: 'USER1611', 1611: 'USER1612', 1612: 'USER1613', 1613: 'USER1614', 1614: 'USER1615', 1615: 'USER1616', 1616: 'USER1617', 1617: 'USER1618', 1618: 'USER1619', 1619: 'USER1620', 1620: 'USER1621', 1621: 'USER1622', 1622: 'USER1623', 1623: 'USER1624', 1624: 'USER1625', 1625: 'USER1626', 1626: 'USER1627', 1627: 'USER1628', 1628: 'USER1629', 1629: 'USER1630', 1630: 'USER1631', 1631: 'USER1632', 1632: 'USER1633', 1633: 'USER1634', 1634: 'USER1635', 1635: 'USER1636', 1636: 'USER1637', 1637: 'USER1638', 1638: 'USER1639', 1639: 'USER1640', 1640: 'USER1641', 1641: 'USER1642', 1642: 'USER1643', 1643: 'USER1644', 1644: 'USER1645', 1645: 'USER1646', 1646: 'USER1647', 1647: 'USER1648', 1648: 'USER1649', 1649: 'USER1650', 1650: 'USER1651', 1651: 'USER1652', 1652: 'USER1653', 1653: 'USER1654', 1654: 'USER1655', 1655: 'USER1656', 1656: 'USER1657', 1657: 'USER1658', 1658: 'USER1659', 1659: 'USER1660', 1660: 'USER1661', 1661: 'USER1662', 1662: 'USER1663', 1663: 'USER1664', 1664: 'USER1665', 1665: 'USER1666', 1666: 'USER1667', 1667: 'USER1668', 1668: 'USER1669', 1669: 'USER1670', 1670: 'USER1671', 1671: 'USER1672', 1672: 'USER1673', 1673: 'USER1674', 1674: 'USER1675', 1675: 'USER1676', 1676: 'USER1677', 1677: 'USER1678', 1678: 'USER1679', 1679: 'USER1680', 1680: 'USER1681', 1681: 'USER1682', 1682: 'USER1683', 1683: 'USER1684', 1684: 'USER1685', 1685: 'USER1686', 1686: 'USER1687', 1687: 'USER1688', 1688: 'USER1689', 1689: 'USER1690', 1690: 'USER1691', 1691: 'USER1692', 1692: 'USER1693', 1693: 'USER1694', 1694: 'USER1695', 1695: 'USER1696', 1696: 'USER1697', 1697: 'USER1698', 1698: 'USER1699', 1699: 'USER1700', 1700: 'USER1701', 1701: 'USER1702', 1702: 'USER1703', 1703: 'USER1704', 1704: 'USER1705', 1705: 'USER1706', 1706: 'USER1707', 1707: 'USER1708', 1708: 'USER1709', 1709: 'USER1710', 1710: 'USER1711', 1711: 'USER1712', 1712: 'USER1713', 1713: 'USER1714', 1714: 'USER1715', 1715: 'USER1716', 1716: 'USER1717', 1717: 'USER1718', 1718: 'USER1719', 1719: 'USER1720', 1720: 'USER1721', 1721: 'USER1722', 1722: 'USER1723', 1723: 'USER1724', 1724: 'USER1725', 1725: 'USER1726', 1726: 'USER1727', 1727: 'USER1728', 1728: 'USER1729', 1729: 'USER1730', 1730: 'USER1731', 1731: 'USER1732', 1732: 'USER1733', 1733: 'USER1734', 1734: 'USER1735', 1735: 'USER1736', 1736: 'USER1737', 1737: 'USER1738', 1738: 'USER1739', 1739: 'USER1740', 1740: 'USER1741', 1741: 'USER1742', 1742: 'USER1743', 1743: 'USER1744', 1744: 'USER1745', 1745: 'USER1746', 1746: 'USER1747', 1747: 'USER1748', 1748: 'USER1749', 1749: 'USER1750', 1750: 'USER1751', 1751: 'USER1752', 1752: 'USER1753', 1753: 'USER1754', 1754: 'USER1755', 1755: 'USER1756', 1756: 'USER1757', 1757: 'USER1758', 1758: 'USER1759', 1759: 'USER1760', 1760: 'USER1761', 1761: 'USER1762', 1762: 'USER1763', 1763: 'USER1764', 1764: 'USER1765', 1765: 'USER1766', 1766: 'USER1767', 1767: 'USER1768', 1768: 'USER1769', 1769: 'USER1770', 1770: 'USER1771', 1771: 'USER1772', 1772: 'USER1773', 1773: 'USER1774', 1774: 'USER1775', 1775: 'USER1776', 1776: 'USER1777', 1777: 'USER1778', 1778: 'USER1779', 1779: 'USER1780', 1780: 'USER1781', 1781: 'USER1782', 1782: 'USER1783', 1783: 'USER1784', 1784: 'USER1785', 1785: 'USER1786', 1786: 'USER1787', 1787: 'USER1788', 1788: 'USER1789', 1789: 'USER1790', 1790: 'USER1791', 1791: 'USER1792', 1792: 'USER1793', 1793: 'USER1794', 1794: 'USER1795', 1795: 'USER1796', 1796: 'USER1797', 1797: 'USER1798', 1798: 'USER1799', 1799: 'USER1800', 1800: 'USER1801', 1801: 'USER1802', 1802: 'USER1803', 1803: 'USER1804', 1804: 'USER1805', 1805: 'USER1806', 1806: 'USER1807', 1807: 'USER1808', 1808: 'USER1809', 1809: 'USER1810', 1810: 'USER1811', 1811: 'USER1812', 1812: 'USER1813', 1813: 'USER1814', 1814: 'USER1815', 1815: 'USER1816', 1816: 'USER1817', 1817: 'USER1818', 1818: 'USER1819', 1819: 'USER1820', 1820: 'USER1821', 1821: 'USER1822', 1822: 'USER1823', 1823: 'USER1824', 1824: 'USER1825', 1825: 'USER1826', 1826: 'USER1827', 1827: 'USER1828', 1828: 'USER1829', 1829: 'USER1830', 1830: 'USER1831', 1831: 'USER1832', 1832: 'USER1833', 1833: 'USER1834', 1834: 'USER1835', 1835: 'USER1836', 1836: 'USER1837', 1837: 'USER1838', 1838: 'USER1839', 1839: 'USER1840', 1840: 'USER1841', 1841: 'USER1842', 1842: 'USER1843', 1843: 'USER1844', 1844: 'USER1845', 1845: 'USER1846', 1846: 'USER1847', 1847: 'USER1848', 1848: 'USER1849', 1849: 'USER1850', 1850: 'USER1851', 1851: 'USER1852', 1852: 'USER1853', 1853: 'USER1854', 1854: 'USER1855', 1855: 'USER1856', 1856: 'USER1857', 1857: 'USER1858', 1858: 'USER1859', 1859: 'USER1860', 1860: 'USER1861', 1861: 'USER1862', 1862: 'USER1863', 1863: 'USER1864', 1864: 'USER1865', 1865: 'USER1866', 1866: 'USER1867', 1867: 'USER1868', 1868: 'USER1869', 1869: 'USER1870', 1870: 'USER1871', 1871: 'USER1872', 1872: 'USER1873', 1873: 'USER1874', 1874: 'USER1875', 1875: 'USER1876', 1876: 'USER1877', 1877: 'USER1878', 1878: 'USER1879', 1879: 'USER1880', 1880: 'USER1881', 1881: 'USER1882', 1882: 'USER1883', 1883: 'USER1884', 1884: 'USER1885', 1885: 'USER1886', 1886: 'USER1887', 1887: 'USER1888', 1888: 'USER1889', 1889: 'USER1890', 1890: 'USER1891', 1891: 'USER1892', 1892: 'USER1893', 1893: 'USER1894', 1894: 'USER1895', 1895: 'USER1896', 1896: 'USER1897', 1897: 'USER1898', 1898: 'USER1899', 1899: 'USER1900', 1900: 'USER1901', 1901: 'USER1902', 1902: 'USER1903', 1903: 'USER1904', 1904: 'USER1905', 1905: 'USER1906', 1906: 'USER1907', 1907: 'USER1908', 1908: 'USER1909', 1909: 'USER1910', 1910: 'USER1911', 1911: 'USER1912', 1912: 'USER1913', 1913: 'USER1914', 1914: 'USER1915', 1915: 'USER1916', 1916: 'USER1917', 1917: 'USER1918', 1918: 'USER1919', 1919: 'USER1920', 1920: 'USER1921', 1921: 'USER1922', 1922: 'USER1923', 1923: 'USER1924', 1924: 'USER1925', 1925: 'USER1926', 1926: 'USER1927', 1927: 'USER1928', 1928: 'USER1929', 1929: 'USER1930', 1930: 'USER1931', 1931: 'USER1932', 1932: 'USER1933', 1933: 'USER1934', 1934: 'USER1935', 1935: 'USER1936', 1936: 'USER1937', 1937: 'USER1938', 1938: 'USER1939', 1939: 'USER1940', 1940: 'USER1941', 1941: 'USER1942', 1942: 'USER1943', 1943: 'USER1944', 1944: 'USER1945', 1945: 'USER1946', 1946: 'USER1947', 1947: 'USER1948', 1948: 'USER1949', 1949: 'USER1950', 1950: 'USER1951', 1951: 'USER1952', 1952: 'USER1953', 1953: 'USER1954', 1954: 'USER1955', 1955: 'USER1956', 1956: 'USER1957', 1957: 'USER1958', 1958: 'USER1959', 1959: 'USER1960', 1960: 'USER1961', 1961: 'USER1962', 1962: 'USER1963', 1963: 'USER1964', 1964: 'USER1965', 1965: 'USER1966', 1966: 'USER1967', 1967: 'USER1968', 1968: 'USER1969', 1969: 'USER1970', 1970: 'USER1971', 1971: 'USER1972', 1972: 'USER1973', 1973: 'USER1974', 1974: 'USER1975', 1975: 'USER1976', 1976: 'USER1977', 1977: 'USER1978', 1978: 'USER1979', 1979: 'USER1980', 1980: 'USER1981', 1981: 'USER1982', 1982: 'USER1983', 1983: 'USER1984', 1984: 'USER1985', 1985: 'USER1986', 1986: 'USER1987', 1987: 'USER1988', 1988: 'USER1989', 1989: 'USER1990', 1990: 'USER1991', 1991: 'USER1992', 1992: 'USER1993', 1993: 'USER1994', 1994: 'USER1995', 1995: 'USER1996', 1996: 'USER1997', 1997: 'USER1998', 1998: 'USER1999', 1999: 'USER2000', 2000: 'USER2001', 2001: 'USER2002', 2002: 'USER2003', 2003: 'USER2004', 2004: 'USER2005', 2005: 'USER2006', 2006: 'USER2007', 2007: 'USER2008', 2008: 'USER2009', 2009: 'USER2010', 2010: 'USER2011', 2011: 'USER2012', 2012: 'USER2013', 2013: 'USER2014', 2014: 'USER2015', 2015: 'USER2016', 2016: 'USER2017', 2017: 'USER2018', 2018: 'USER2019', 2019: 'USER2020', 2020: 'USER2021', 2021: 'USER2022', 2022: 'USER2023', 2023: 'USER2024', 2024: 'USER2025', 2025: 'USER2026', 2026: 'USER2027', 2027: 'USER2028', 2028: 'USER2029', 2029: 'USER2030', 2030: 'USER2031', 2031: 'USER2032', 2032: 'USER2033', 2033: 'USER2034', 2034: 'USER2035', 2035: 'USER2036', 2036: 'USER2037', 2037: 'USER2038', 2038: 'USER2039', 2039: 'USER2040', 2040: 'USER2041', 2041: 'USER2042', 2042: 'USER2043', 2043: 'USER2044', 2044: 'USER2045', 2045: 'USER2046', 2046: 'USER2047', 2047: 'USER2048', 2048: 'USER2049', 2049: 'USER2050', 2050: 'USER2051', 2051: 'USER2052', 2052: 'USER2053', 2053: 'USER2054', 2054: 'USER2055', 2055: 'USER2056', 2056: 'USER2057', 2057: 'USER2058', 2058: 'USER2059', 2059: 'USER2060', 2060: 'USER2061', 2061: 'USER2062', 2062: 'USER2063', 2063: 'USER2064', 2064: 'USER2065', 2065: 'USER2066', 2066: 'USER2067', 2067: 'USER2068', 2068: 'USER2069', 2069: 'USER2070', 2070: 'USER2071', 2071: 'USER2072', 2072: 'USER2073', 2073: 'USER2074', 2074: 'USER2075', 2075: 'USER2076', 2076: 'USER2077', 2077: 'USER2078', 2078: 'USER2079', 2079: 'USER2080', 2080: 'USER2081', 2081: 'USER2082', 2082: 'USER2083', 2083: 'USER2084', 2084: 'USER2085', 2085: 'USER2086', 2086: 'USER2087', 2087: 'USER2088', 2088: 'USER2089', 2089: 'USER2090', 2090: 'USER2091', 2091: 'USER2092', 2092: 'USER2093', 2093: 'USER2094', 2094: 'USER2095', 2095: 'USER2096', 2096: 'USER2097', 2097: 'USER2098', 2098: 'USER2099', 2099: 'USER2100', 2100: 'USER2101', 2101: 'USER2102', 2102: 'USER2103', 2103: 'USER2104', 2104: 'USER2105', 2105: 'USER2106', 2106: 'USER2107', 2107: 'USER2108', 2108: 'USER2109', 2109: 'USER2110', 2110: 'USER2111', 2111: 'USER2112', 2112: 'USER2113', 2113: 'USER2114', 2114: 'USER2115', 2115: 'USER2116', 2116: 'USER2117', 2117: 'USER2118', 2118: 'USER2119', 2119: 'USER2120', 2120: 'USER2121', 2121: 'USER2122', 2122: 'USER2123', 2123: 'USER2124', 2124: 'USER2125', 2125: 'USER2126', 2126: 'USER2127', 2127: 'USER2128', 2128: 'USER2129', 2129: 'USER2130', 2130: 'USER2131', 2131: 'USER2132', 2132: 'USER2133', 2133: 'USER2134', 2134: 'USER2135', 2135: 'USER2136', 2136: 'USER2137', 2137: 'USER2138', 2138: 'USER2139', 2139: 'USER2140', 2140: 'USER2141', 2141: 'USER2142', 2142: 'USER2143', 2143: 'USER2144', 2144: 'USER2145', 2145: 'USER2146', 2146: 'USER2147', 2147: 'USER2148', 2148: 'USER2149', 2149: 'USER2150', 2150: 'USER2151', 2151: 'USER2152', 2152: 'USER2153', 2153: 'USER2154', 2154: 'USER2155', 2155: 'USER2156', 2156: 'USER2157', 2157: 'USER2158', 2158: 'USER2159', 2159: 'USER2160', 2160: 'USER2161', 2161: 'USER2162', 2162: 'USER2163', 2163: 'USER2164', 2164: 'USER2165', 2165: 'USER2166', 2166: 'USER2167', 2167: 'USER2168', 2168: 'USER2169', 2169: 'USER2170', 2170: 'USER2171', 2171: 'USER2172', 2172: 'USER2173', 2173: 'USER2174', 2174: 'USER2175', 2175: 'USER2176', 2176: 'USER2177', 2177: 'USER2178', 2178: 'USER2179', 2179: 'USER2180', 2180: 'USER2181', 2181: 'USER2182', 2182: 'USER2183', 2183: 'USER2184', 2184: 'USER2185', 2185: 'USER2186', 2186: 'USER2187', 2187: 'USER2188', 2188: 'USER2189', 2189: 'USER2190', 2190: 'USER2191', 2191: 'USER2192', 2192: 'USER2193', 2193: 'USER2194', 2194: 'USER2195', 2195: 'USER2196', 2196: 'USER2197', 2197: 'USER2198', 2198: 'USER2199', 2199: 'USER2200', 2200: 'USER2201', 2201: 'USER2202', 2202: 'USER2203', 2203: 'USER2204', 2204: 'USER2205', 2205: 'USER2206', 2206: 'USER2207', 2207: 'USER2208', 2208: 'USER2209', 2209: 'USER2210', 2210: 'USER2211', 2211: 'USER2212', 2212: 'USER2213', 2213: 'USER2214', 2214: 'USER2215', 2215: 'USER2216', 2216: 'USER2217', 2217: 'USER2218', 2218: 'USER2219', 2219: 'USER2220', 2220: 'USER2221', 2221: 'USER2222', 2222: 'USER2223', 2223: 'USER2224', 2224: 'USER2225', 2225: 'USER2226', 2226: 'USER2227', 2227: 'USER2228', 2228: 'USER2229', 2229: 'USER2230', 2230: 'USER2231', 2231: 'USER2232', 2232: 'USER2233', 2233: 'USER2234', 2234: 'USER2235', 2235: 'USER2236', 2236: 'USER2237', 2237: 'USER2238', 2238: 'USER2239', 2239: 'USER2240', 2240: 'USER2241', 2241: 'USER2242', 2242: 'USER2243', 2243: 'USER2244', 2244: 'USER2245', 2245: 'USER2246', 2246: 'USER2247', 2247: 'USER2248', 2248: 'USER2249', 2249: 'USER2250', 2250: 'USER2251', 2251: 'USER2252', 2252: 'USER2253', 2253: 'USER2254', 2254: 'USER2255', 2255: 'USER2256', 2256: 'USER2257', 2257: 'USER2258', 2258: 'USER2259', 2259: 'USER2260', 2260: 'USER2261', 2261: 'USER2262', 2262: 'USER2263', 2263: 'USER2264', 2264: 'USER2265', 2265: 'USER2266', 2266: 'USER2267', 2267: 'USER2268', 2268: 'USER2269', 2269: 'USER2270', 2270: 'USER2271', 2271: 'USER2272', 2272: 'USER2273', 2273: 'USER2274', 2274: 'USER2275', 2275: 'USER2276', 2276: 'USER2277', 2277: 'USER2278', 2278: 'USER2279', 2279: 'USER2280', 2280: 'USER2281', 2281: 'USER2282', 2282: 'USER2283', 2283: 'USER2284', 2284: 'USER2285', 2285: 'USER2286', 2286: 'USER2287', 2287: 'USER2288', 2288: 'USER2289', 2289: 'USER2290', 2290: 'USER2291', 2291: 'USER2292', 2292: 'USER2293', 2293: 'USER2294', 2294: 'USER2295', 2295: 'USER2296', 2296: 'USER2297', 2297: 'USER2298', 2298: 'USER2299', 2299: 'USER2300', 2300: 'USER2301', 2301: 'USER2302', 2302: 'USER2303', 2303: 'USER2304', 2304: 'USER2305', 2305: 'USER2306', 2306: 'USER2307', 2307: 'USER2308', 2308: 'USER2309', 2309: 'USER2310', 2310: 'USER2311', 2311: 'USER2312', 2312: 'USER2313', 2313: 'USER2314', 2314: 'USER2315', 2315: 'USER2316', 2316: 'USER2317', 2317: 'USER2318', 2318: 'USER2319', 2319: 'USER2320', 2320: 'USER2321', 2321: 'USER2322', 2322: 'USER2323', 2323: 'USER2324', 2324: 'USER2325', 2325: 'USER2326', 2326: 'USER2327', 2327: 'USER2328', 2328: 'USER2329', 2329: 'USER2330', 2330: 'USER2331', 2331: 'USER2332', 2332: 'USER2333', 2333: 'USER2334', 2334: 'USER2335', 2335: 'USER2336', 2336: 'USER2337', 2337: 'USER2338', 2338: 'USER2339', 2339: 'USER2340', 2340: 'USER2341', 2341: 'USER2342', 2342: 'USER2343', 2343: 'USER2344', 2344: 'USER2345', 2345: 'USER2346', 2346: 'USER2347', 2347: 'USER2348', 2348: 'USER2349', 2349: 'USER2350', 2350: 'USER2351', 2351: 'USER2352', 2352: 'USER2353', 2353: 'USER2354', 2354: 'USER2355', 2355: 'USER2356', 2356: 'USER2357', 2357: 'USER2358', 2358: 'USER2359', 2359: 'USER2360', 2360: 'USER2361', 2361: 'USER2362', 2362: 'USER2363', 2363: 'USER2364', 2364: 'USER2365', 2365: 'USER2366', 2366: 'USER2367', 2367: 'USER2368', 2368: 'USER2369', 2369: 'USER2370', 2370: 'USER2371', 2371: 'USER2372', 2372: 'USER2373', 2373: 'USER2374', 2374: 'USER2375', 2375: 'USER2376', 2376: 'USER2377', 2377: 'USER2378', 2378: 'USER2379', 2379: 'USER2380', 2380: 'USER2381', 2381: 'USER2382', 2382: 'USER2383', 2383: 'USER2384', 2384: 'USER2385', 2385: 'USER2386', 2386: 'USER2387', 2387: 'USER2388', 2388: 'USER2389', 2389: 'USER2390', 2390: 'USER2391', 2391: 'USER2392', 2392: 'USER2393', 2393: 'USER2394', 2394: 'USER2395', 2395: 'USER2396', 2396: 'USER2397', 2397: 'USER2398', 2398: 'USER2399', 2399: 'USER2400', 2400: 'USER2401', 2401: 'USER2402', 2402: 'USER2403', 2403: 'USER2404', 2404: 'USER2405', 2405: 'USER2406', 2406: 'USER2407', 2407: 'USER2408', 2408: 'USER2409', 2409: 'USER2410', 2410: 'USER2411', 2411: 'USER2412', 2412: 'USER2413', 2413: 'USER2414', 2414: 'USER2415', 2415: 'USER2416', 2416: 'USER2417', 2417: 'USER2418', 2418: 'USER2419', 2419: 'USER2420', 2420: 'USER2421', 2421: 'USER2422', 2422: 'USER2423', 2423: 'USER2424', 2424: 'USER2425', 2425: 'USER2426', 2426: 'USER2427', 2427: 'USER2428', 2428: 'USER2429', 2429: 'USER2430', 2430: 'USER2431', 2431: 'USER2432', 2432: 'USER2433', 2433: 'USER2434', 2434: 'USER2435', 2435: 'USER2436', 2436: 'USER2437', 2437: 'USER2438', 2438: 'USER2439', 2439: 'USER2440', 2440: 'USER2441', 2441: 'USER2442', 2442: 'USER2443', 2443: 'USER2444', 2444: 'USER2445', 2445: 'USER2446', 2446: 'USER2447', 2447: 'USER2448', 2448: 'USER2449', 2449: 'USER2450', 2450: 'USER2451', 2451: 'USER2452', 2452: 'USER2453', 2453: 'USER2454', 2454: 'USER2455', 2455: 'USER2456', 2456: 'USER2457', 2457: 'USER2458', 2458: 'USER2459', 2459: 'USER2460', 2460: 'USER2461', 2461: 'USER2462', 2462: 'USER2463', 2463: 'USER2464', 2464: 'USER2465', 2465: 'USER2466', 2466: 'USER2467', 2467: 'USER2468', 2468: 'USER2469', 2469: 'USER2470', 2470: 'USER2471', 2471: 'USER2472', 2472: 'USER2473', 2473: 'USER2474', 2474: 'USER2475', 2475: 'USER2476', 2476: 'USER2477', 2477: 'USER2478', 2478: 'USER2479', 2479: 'USER2480', 2480: 'USER2481', 2481: 'USER2482', 2482: 'USER2483', 2483: 'USER2484', 2484: 'USER2485', 2485: 'USER2486', 2486: 'USER2487', 2487: 'USER2488', 2488: 'USER2489', 2489: 'USER2490', 2490: 'USER2491', 2491: 'USER2492', 2492: 'USER2493', 2493: 'USER2494', 2494: 'USER2495', 2495: 'USER2496', 2496: 'USER2497', 2497: 'USER2498', 2498: 'USER2499', 2499: 'USER2500', 2500: 'USER2501', 2501: 'USER2502', 2502: 'USER2503', 2503: 'USER2504', 2504: 'USER2505', 2505: 'USER2506', 2506: 'USER2507', 2507: 'USER2508', 2508: 'USER2509', 2509: 'USER2510', 2510: 'USER2511', 2511: 'USER2512', 2512: 'USER2513', 2513: 'USER2514', 2514: 'USER2515', 2515: 'USER2516', 2516: 'USER2517', 2517: 'USER2518', 2518: 'USER2519', 2519: 'USER2520', 2520: 'USER2521', 2521: 'USER2522', 2522: 'USER2523', 2523: 'USER2524', 2524: 'USER2525', 2525: 'USER2526', 2526: 'USER2527', 2527: 'USER2528', 2528: 'USER2529', 2529: 'USER2530', 2530: 'USER2531', 2531: 'USER2532', 2532: 'USER2533', 2533: 'USER2534', 2534: 'USER2535', 2535: 'USER2536', 2536: 'USER2537', 2537: 'USER2538', 2538: 'USER2539', 2539: 'USER2540', 2540: 'USER2541', 2541: 'USER2542', 2542: 'USER2543', 2543: 'USER2544', 2544: 'USER2545', 2545: 'USER2546', 2546: 'USER2547', 2547: 'USER2548', 2548: 'USER2549', 2549: 'USER2550', 2550: 'USER2551', 2551: 'USER2552', 2552: 'USER2553', 2553: 'USER2554', 2554: 'USER2555', 2555: 'USER2556', 2556: 'USER2557', 2557: 'USER2558', 2558: 'USER2559', 2559: 'USER2560', 2560: 'USER2561', 2561: 'USER2562', 2562: 'USER2563', 2563: 'USER2564', 2564: 'USER2565', 2565: 'USER2566', 2566: 'USER2567', 2567: 'USER2568', 2568: 'USER2569', 2569: 'USER2570', 2570: 'USER2571', 2571: 'USER2572', 2572: 'USER2573', 2573: 'USER2574', 2574: 'USER2575', 2575: 'USER2576', 2576: 'USER2577', 2577: 'USER2578', 2578: 'USER2579', 2579: 'USER2580', 2580: 'USER2581', 2581: 'USER2582', 2582: 'USER2583', 2583: 'USER2584', 2584: 'USER2585', 2585: 'USER2586', 2586: 'USER2587', 2587: 'USER2588', 2588: 'USER2589', 2589: 'USER2590', 2590: 'USER2591', 2591: 'USER2592', 2592: 'USER2593', 2593: 'USER2594', 2594: 'USER2595', 2595: 'USER2596', 2596: 'USER2597', 2597: 'USER2598', 2598: 'USER2599', 2599: 'USER2600', 2600: 'USER2601', 2601: 'USER2602', 2602: 'USER2603', 2603: 'USER2604', 2604: 'USER2605', 2605: 'USER2606', 2606: 'USER2607', 2607: 'USER2608', 2608: 'USER2609', 2609: 'USER2610', 2610: 'USER2611', 2611: 'USER2612', 2612: 'USER2613', 2613: 'USER2614', 2614: 'USER2615', 2615: 'USER2616', 2616: 'USER2617', 2617: 'USER2618', 2618: 'USER2619', 2619: 'USER2620', 2620: 'USER2621', 2621: 'USER2622', 2622: 'USER2623', 2623: 'USER2624', 2624: 'USER2625', 2625: 'USER2626', 2626: 'USER2627', 2627: 'USER2628', 2628: 'USER2629', 2629: 'USER2630', 2630: 'USER2631', 2631: 'USER2632', 2632: 'USER2633', 2633: 'USER2634', 2634: 'USER2635', 2635: 'USER2636', 2636: 'USER2637', 2637: 'USER2638', 2638: 'USER2639', 2639: 'USER2640', 2640: 'USER2641', 2641: 'USER2642', 2642: 'USER2643', 2643: 'USER2644', 2644: 'USER2645', 2645: 'USER2646', 2646: 'USER2647', 2647: 'USER2648', 2648: 'USER2649', 2649: 'USER2650', 2650: 'USER2651', 2651: 'USER2652', 2652: 'USER2653', 2653: 'USER2654', 2654: 'USER2655', 2655: 'USER2656', 2656: 'USER2657', 2657: 'USER2658', 2658: 'USER2659', 2659: 'USER2660', 2660: 'USER2661', 2661: 'USER2662', 2662: 'USER2663', 2663: 'USER2664', 2664: 'USER2665', 2665: 'USER2666', 2666: 'USER2667', 2667: 'USER2668', 2668: 'USER2669', 2669: 'USER2670', 2670: 'USER2671', 2671: 'USER2672', 2672: 'USER2673', 2673: 'USER2674', 2674: 'USER2675', 2675: 'USER2676', 2676: 'USER2677', 2677: 'USER2678', 2678: 'USER2679', 2679: 'USER2680', 2680: 'USER2681', 2681: 'USER2682', 2682: 'USER2683', 2683: 'USER2684', 2684: 'USER2685', 2685: 'USER2686', 2686: 'USER2687', 2687: 'USER2688', 2688: 'USER2689', 2689: 'USER2690', 2690: 'USER2691', 2691: 'USER2692', 2692: 'USER2693', 2693: 'USER2694', 2694: 'USER2695', 2695: 'USER2696', 2696: 'USER2697', 2697: 'USER2698', 2698: 'USER2699', 2699: 'USER2700', 2700: 'USER2701', 2701: 'USER2702', 2702: 'USER2703', 2703: 'USER2704', 2704: 'USER2705', 2705: 'USER2706', 2706: 'USER2707', 2707: 'USER2708', 2708: 'USER2709', 2709: 'USER2710', 2710: 'USER2711', 2711: 'USER2712', 2712: 'USER2713', 2713: 'USER2714', 2714: 'USER2715', 2715: 'USER2716', 2716: 'USER2717', 2717: 'USER2718', 2718: 'USER2719', 2719: 'USER2720', 2720: 'USER2721', 2721: 'USER2722', 2722: 'USER2723', 2723: 'USER2724', 2724: 'USER2725', 2725: 'USER2726', 2726: 'USER2727', 2727: 'USER2728', 2728: 'USER2729', 2729: 'USER2730', 2730: 'USER2731', 2731: 'USER2732', 2732: 'USER2733', 2733: 'USER2734', 2734: 'USER2735', 2735: 'USER2736', 2736: 'USER2737', 2737: 'USER2738', 2738: 'USER2739', 2739: 'USER2740', 2740: 'USER2741', 2741: 'USER2742', 2742: 'USER2743', 2743: 'USER2744', 2744: 'USER2745', 2745: 'USER2746', 2746: 'USER2747', 2747: 'USER2748', 2748: 'USER2749', 2749: 'USER2750', 2750: 'USER2751', 2751: 'USER2752', 2752: 'USER2753', 2753: 'USER2754', 2754: 'USER2755', 2755: 'USER2756', 2756: 'USER2757', 2757: 'USER2758', 2758: 'USER2759', 2759: 'USER2760', 2760: 'USER2761', 2761: 'USER2762', 2762: 'USER2763', 2763: 'USER2764', 2764: 'USER2765', 2765: 'USER2766', 2766: 'USER2767', 2767: 'USER2768', 2768: 'USER2769', 2769: 'USER2770', 2770: 'USER2771', 2771: 'USER2772', 2772: 'USER2773', 2773: 'USER2774', 2774: 'USER2775', 2775: 'USER2776', 2776: 'USER2777', 2777: 'USER2778', 2778: 'USER2779', 2779: 'USER2780', 2780: 'USER2781', 2781: 'USER2782', 2782: 'USER2783', 2783: 'USER2784', 2784: 'USER2785', 2785: 'USER2786', 2786: 'USER2787', 2787: 'USER2788', 2788: 'USER2789', 2789: 'USER2790', 2790: 'USER2791', 2791: 'USER2792', 2792: 'USER2793', 2793: 'USER2794', 2794: 'USER2795', 2795: 'USER2796', 2796: 'USER2797', 2797: 'USER2798', 2798: 'USER2799', 2799: 'USER2800', 2800: 'USER2801', 2801: 'USER2802', 2802: 'USER2803', 2803: 'USER2804', 2804: 'USER2805', 2805: 'USER2806', 2806: 'USER2807', 2807: 'USER2808', 2808: 'USER2809', 2809: 'USER2810', 2810: 'USER2811', 2811: 'USER2812', 2812: 'USER2813', 2813: 'USER2814', 2814: 'USER2815', 2815: 'USER2816', 2816: 'USER2817', 2817: 'USER2818', 2818: 'USER2819', 2819: 'USER2820', 2820: 'USER2821', 2821: 'USER2822', 2822: 'USER2823', 2823: 'USER2824', 2824: 'USER2825', 2825: 'USER2826', 2826: 'USER2827', 2827: 'USER2828', 2828: 'USER2829', 2829: 'USER2830', 2830: 'USER2831', 2831: 'USER2832', 2832: 'USER2833', 2833: 'USER2834', 2834: 'USER2835', 2835: 'USER2836', 2836: 'USER2837', 2837: 'USER2838', 2838: 'USER2839', 2839: 'USER2840', 2840: 'USER2841', 2841: 'USER2842', 2842: 'USER2843', 2843: 'USER2844', 2844: 'USER2845', 2845: 'USER2846', 2846: 'USER2847', 2847: 'USER2848', 2848: 'USER2849', 2849: 'USER2850', 2850: 'USER2851', 2851: 'USER2852', 2852: 'USER2853', 2853: 'USER2854', 2854: 'USER2855', 2855: 'USER2856', 2856: 'USER2857', 2857: 'USER2858', 2858: 'USER2859', 2859: 'USER2860', 2860: 'USER2861', 2861: 'USER2862', 2862: 'USER2863', 2863: 'USER2864', 2864: 'USER2865', 2865: 'USER2866', 2866: 'USER2867', 2867: 'USER2868', 2868: 'USER2869', 2869: 'USER2870', 2870: 'USER2871', 2871: 'USER2872', 2872: 'USER2873', 2873: 'USER2874', 2874: 'USER2875', 2875: 'USER2876', 2876: 'USER2877', 2877: 'USER2878', 2878: 'USER2879', 2879: 'USER2880', 2880: 'USER2881', 2881: 'USER2882', 2882: 'USER2883', 2883: 'USER2884', 2884: 'USER2885', 2885: 'USER2886', 2886: 'USER2887', 2887: 'USER2888', 2888: 'USER2889', 2889: 'USER2890', 2890: 'USER2891', 2891: 'USER2892', 2892: 'USER2893', 2893: 'USER2894', 2894: 'USER2895', 2895: 'USER2896', 2896: 'USER2897', 2897: 'USER2898', 2898: 'USER2899', 2899: 'USER2900', 2900: 'USER2901', 2901: 'USER2902', 2902: 'USER2903', 2903: 'USER2904', 2904: 'USER2905', 2905: 'USER2906', 2906: 'USER2907', 2907: 'USER2908', 2908: 'USER2909', 2909: 'USER2910', 2910: 'USER2911', 2911: 'USER2912', 2912: 'USER2913', 2913: 'USER2914', 2914: 'USER2915', 2915: 'USER2916', 2916: 'USER2917', 2917: 'USER2918', 2918: 'USER2919', 2919: 'USER2920', 2920: 'USER2921', 2921: 'USER2922', 2922: 'USER2923', 2923: 'USER2924', 2924: 'USER2925', 2925: 'USER2926', 2926: 'USER2927', 2927: 'USER2928', 2928: 'USER2929', 2929: 'USER2930', 2930: 'USER2931', 2931: 'USER2932', 2932: 'USER2933', 2933: 'USER2934', 2934: 'USER2935', 2935: 'USER2936', 2936: 'USER2937', 2937: 'USER2938', 2938: 'USER2939', 2939: 'USER2940', 2940: 'USER2941', 2941: 'USER2942', 2942: 'USER2943', 2943: 'USER2944', 2944: 'USER2945', 2945: 'USER2946', 2946: 'USER2947', 2947: 'USER2948', 2948: 'USER2949', 2949: 'USER2950', 2950: 'USER2951', 2951: 'USER2952', 2952: 'USER2953', 2953: 'USER2954', 2954: 'USER2955', 2955: 'USER2956', 2956: 'USER2957', 2957: 'USER2958', 2958: 'USER2959', 2959: 'USER2960', 2960: 'USER2961', 2961: 'USER2962', 2962: 'USER2963', 2963: 'USER2964', 2964: 'USER2965', 2965: 'USER2966', 2966: 'USER2967', 2967: 'USER2968', 2968: 'USER2969', 2969: 'USER2970', 2970: 'USER2971', 2971: 'USER2972', 2972: 'USER2973', 2973: 'USER2974', 2974: 'USER2975', 2975: 'USER2976', 2976: 'USER2977', 2977: 'USER2978', 2978: 'USER2979', 2979: 'USER2980', 2980: 'USER2981', 2981: 'USER2982', 2982: 'USER2983', 2983: 'USER2984', 2984: 'USER2985', 2985: 'USER2986', 2986: 'USER2987', 2987: 'USER2988', 2988: 'USER2989', 2989: 'USER2990', 2990: 'USER2991', 2991: 'USER2992', 2992: 'USER2993', 2993: 'USER2994', 2994: 'USER2995', 2995: 'USER2996', 2996: 'USER2997', 2997: 'USER2998', 2998: 'USER2999', 2999: 'USER3000', 3000: 'USER3001', 3001: 'USER3002', 3002: 'USER3003', 3003: 'USER3004', 3004: 'USER3005', 3005: 'USER3006', 3006: 'USER3007', 3007: 'USER3008', 3008: 'USER3009', 3009: 'USER3010', 3010: 'USER3011', 3011: 'USER3012', 3012: 'USER3013', 3013: 'USER3014', 3014: 'USER3015', 3015: 'USER3016', 3016: 'USER3017', 3017: 'USER3018', 3018: 'USER3019', 3019: 'USER3020', 3020: 'USER3021', 3021: 'USER3022', 3022: 'USER3023', 3023: 'USER3024', 3024: 'USER3025', 3025: 'USER3026', 3026: 'USER3027', 3027: 'USER3028', 3028: 'USER3029', 3029: 'USER3030', 3030: 'USER3031', 3031: 'USER3032', 3032: 'USER3033', 3033: 'USER3034', 3034: 'USER3035', 3035: 'USER3036', 3036: 'USER3037', 3037: 'USER3038', 3038: 'USER3039', 3039: 'USER3040', 3040: 'USER3041', 3041: 'USER3042', 3042: 'USER3043', 3043: 'USER3044', 3044: 'USER3045', 3045: 'USER3046', 3046: 'USER3047', 3047: 'USER3048', 3048: 'USER3049', 3049: 'USER3050', 3050: 'USER3051', 3051: 'USER3052', 3052: 'USER3053', 3053: 'USER3054', 3054: 'USER3055', 3055: 'USER3056', 3056: 'USER3057', 3057: 'USER3058', 3058: 'USER3059', 3059: 'USER3060', 3060: 'USER3061', 3061: 'USER3062', 3062: 'USER3063', 3063: 'USER3064', 3064: 'USER3065', 3065: 'USER3066', 3066: 'USER3067', 3067: 'USER3068', 3068: 'USER3069', 3069: 'USER3070', 3070: 'USER3071', 3071: 'USER3072', 3072: 'USER3073', 3073: 'USER3074', 3074: 'USER3075', 3075: 'USER3076', 3076: 'USER3077', 3077: 'USER3078', 3078: 'USER3079', 3079: 'USER3080', 3080: 'USER3081', 3081: 'USER3082', 3082: 'USER3083', 3083: 'USER3084', 3084: 'USER3085', 3085: 'USER3086', 3086: 'USER3087', 3087: 'USER3088', 3088: 'USER3089', 3089: 'USER3090', 3090: 'USER3091', 3091: 'USER3092', 3092: 'USER3093', 3093: 'USER3094', 3094: 'USER3095', 3095: 'USER3096', 3096: 'USER3097', 3097: 'USER3098', 3098: 'USER3099', 3099: 'USER3100', 3100: 'USER3101', 3101: 'USER3102', 3102: 'USER3103', 3103: 'USER3104', 3104: 'USER3105', 3105: 'USER3106', 3106: 'USER3107', 3107: 'USER3108', 3108: 'USER3109', 3109: 'USER3110', 3110: 'USER3111', 3111: 'USER3112', 3112: 'USER3113', 3113: 'USER3114', 3114: 'USER3115', 3115: 'USER3116', 3116: 'USER3117', 3117: 'USER3118', 3118: 'USER3119', 3119: 'USER3120', 3120: 'USER3121', 3121: 'USER3122', 3122: 'USER3123', 3123: 'USER3124', 3124: 'USER3125', 3125: 'USER3126', 3126: 'USER3127', 3127: 'USER3128', 3128: 'USER3129', 3129: 'USER3130', 3130: 'USER3131', 3131: 'USER3132', 3132: 'USER3133', 3133: 'USER3134', 3134: 'USER3135', 3135: 'USER3136', 3136: 'USER3137', 3137: 'USER3138', 3138: 'USER3139', 3139: 'USER3140', 3140: 'USER3141', 3141: 'USER3142', 3142: 'USER3143', 3143: 'USER3144', 3144: 'USER3145', 3145: 'USER3146', 3146: 'USER3147', 3147: 'USER3148', 3148: 'USER3149', 3149: 'USER3150', 3150: 'USER3151', 3151: 'USER3152', 3152: 'USER3153', 3153: 'USER3154', 3154: 'USER3155', 3155: 'USER3156', 3156: 'USER3157', 3157: 'USER3158', 3158: 'USER3159', 3159: 'USER3160', 3160: 'USER3161', 3161: 'USER3162', 3162: 'USER3163', 3163: 'USER3164', 3164: 'USER3165', 3165: 'USER3166', 3166: 'USER3167', 3167: 'USER3168', 3168: 'USER3169', 3169: 'USER3170', 3170: 'USER3171', 3171: 'USER3172', 3172: 'USER3173', 3173: 'USER3174', 3174: 'USER3175', 3175: 'USER3176', 3176: 'USER3177', 3177: 'USER3178', 3178: 'USER3179', 3179: 'USER3180', 3180: 'USER3181', 3181: 'USER3182', 3182: 'USER3183', 3183: 'USER3184', 3184: 'USER3185', 3185: 'USER3186', 3186: 'USER3187', 3187: 'USER3188', 3188: 'USER3189', 3189: 'USER3190', 3190: 'USER3191', 3191: 'USER3192', 3192: 'USER3193', 3193: 'USER3194', 3194: 'USER3195', 3195: 'USER3196', 3196: 'USER3197', 3197: 'USER3198', 3198: 'USER3199', 3199: 'USER3200', 3200: 'USER3201', 3201: 'USER3202', 3202: 'USER3203', 3203: 'USER3204', 3204: 'USER3205', 3205: 'USER3206', 3206: 'USER3207', 3207: 'USER3208', 3208: 'USER3209', 3209: 'USER3210', 3210: 'USER3211', 3211: 'USER3212', 3212: 'USER3213', 3213: 'USER3214', 3214: 'USER3215', 3215: 'USER3216', 3216: 'USER3217', 3217: 'USER3218', 3218: 'USER3219', 3219: 'USER3220', 3220: 'USER3221', 3221: 'USER3222', 3222: 'USER3223', 3223: 'USER3224', 3224: 'USER3225', 3225: 'USER3226', 3226: 'USER3227', 3227: 'USER3228', 3228: 'USER3229', 3229: 'USER3230', 3230: 'USER3231', 3231: 'USER3232', 3232: 'USER3233', 3233: 'USER3234', 3234: 'USER3235', 3235: 'USER3236', 3236: 'USER3237', 3237: 'USER3238', 3238: 'USER3239', 3239: 'USER3240', 3240: 'USER3241', 3241: 'USER3242', 3242: 'USER3243', 3243: 'USER3244', 3244: 'USER3245', 3245: 'USER3246', 3246: 'USER3247', 3247: 'USER3248', 3248: 'USER3249', 3249: 'USER3250', 3250: 'USER3251', 3251: 'USER3252', 3252: 'USER3253', 3253: 'USER3254', 3254: 'USER3255', 3255: 'USER3256', 3256: 'USER3257', 3257: 'USER3258', 3258: 'USER3259', 3259: 'USER3260', 3260: 'USER3261', 3261: 'USER3262', 3262: 'USER3263', 3263: 'USER3264', 3264: 'USER3265', 3265: 'USER3266', 3266: 'USER3267', 3267: 'USER3268', 3268: 'USER3269', 3269: 'USER3270', 3270: 'USER3271', 3271: 'USER3272', 3272: 'USER3273', 3273: 'USER3274', 3274: 'USER3275', 3275: 'USER3276', 3276: 'USER3277', 3277: 'USER3278', 3278: 'USER3279', 3279: 'USER3280', 3280: 'USER3281', 3281: 'USER3282', 3282: 'USER3283', 3283: 'USER3284', 3284: 'USER3285', 3285: 'USER3286', 3286: 'USER3287', 3287: 'USER3288', 3288: 'USER3289', 3289: 'USER3290', 3290: 'USER3291', 3291: 'USER3292', 3292: 'USER3293', 3293: 'USER3294', 3294: 'USER3295', 3295: 'USER3296', 3296: 'USER3297', 3297: 'USER3298', 3298: 'USER3299', 3299: 'USER3300', 3300: 'USER3301', 3301: 'USER3302', 3302: 'USER3303', 3303: 'USER3304', 3304: 'USER3305', 3305: 'USER3306', 3306: 'USER3307', 3307: 'USER3308', 3308: 'USER3309', 3309: 'USER3310', 3310: 'USER3311', 3311: 'USER3312', 3312: 'USER3313', 3313: 'USER3314', 3314: 'USER3315', 3315: 'USER3316', 3316: 'USER3317', 3317: 'USER3318', 3318: 'USER3319', 3319: 'USER3320', 3320: 'USER3321', 3321: 'USER3322', 3322: 'USER3323', 3323: 'USER3324', 3324: 'USER3325', 3325: 'USER3326', 3326: 'USER3327', 3327: 'USER3328', 3328: 'USER3329', 3329: 'USER3330', 3330: 'USER3331', 3331: 'USER3332', 3332: 'USER3333', 3333: 'USER3334', 3334: 'USER3335', 3335: 'USER3336', 3336: 'USER3337', 3337: 'USER3338', 3338: 'USER3339', 3339: 'USER3340', 3340: 'USER3341', 3341: 'USER3342', 3342: 'USER3343', 3343: 'USER3344', 3344: 'USER3345', 3345: 'USER3346', 3346: 'USER3347', 3347: 'USER3348', 3348: 'USER3349', 3349: 'USER3350', 3350: 'USER3351', 3351: 'USER3352', 3352: 'USER3353', 3353: 'USER3354', 3354: 'USER3355', 3355: 'USER3356', 3356: 'USER3357', 3357: 'USER3358', 3358: 'USER3359', 3359: 'USER3360', 3360: 'USER3361', 3361: 'USER3362', 3362: 'USER3363', 3363: 'USER3364', 3364: 'USER3365', 3365: 'USER3366', 3366: 'USER3367', 3367: 'USER3368', 3368: 'USER3369', 3369: 'USER3370', 3370: 'USER3371', 3371: 'USER3372', 3372: 'USER3373', 3373: 'USER3374', 3374: 'USER3375', 3375: 'USER3376', 3376: 'USER3377', 3377: 'USER3378', 3378: 'USER3379', 3379: 'USER3380', 3380: 'USER3381', 3381: 'USER3382', 3382: 'USER3383', 3383: 'USER3384', 3384: 'USER3385', 3385: 'USER3386', 3386: 'USER3387', 3387: 'USER3388', 3388: 'USER3389', 3389: 'USER3390', 3390: 'USER3391', 3391: 'USER3392', 3392: 'USER3393', 3393: 'USER3394', 3394: 'USER3395', 3395: 'USER3396', 3396: 'USER3397', 3397: 'USER3398', 3398: 'USER3399', 3399: 'USER3400', 3400: 'USER3401', 3401: 'USER3402', 3402: 'USER3403', 3403: 'USER3404', 3404: 'USER3405', 3405: 'USER3406', 3406: 'USER3407', 3407: 'USER3408', 3408: 'USER3409', 3409: 'USER3410', 3410: 'USER3411', 3411: 'USER3412', 3412: 'USER3413', 3413: 'USER3414', 3414: 'USER3415', 3415: 'USER3416', 3416: 'USER3417', 3417: 'USER3418', 3418: 'USER3419', 3419: 'USER3420', 3420: 'USER3421', 3421: 'USER3422', 3422: 'USER3423', 3423: 'USER3424', 3424: 'USER3425', 3425: 'USER3426', 3426: 'USER3427', 3427: 'USER3428', 3428: 'USER3429', 3429: 'USER3430', 3430: 'USER3431', 3431: 'USER3432', 3432: 'USER3433', 3433: 'USER3434', 3434: 'USER3435', 3435: 'USER3436', 3436: 'USER3437', 3437: 'USER3438', 3438: 'USER3439', 3439: 'USER3440', 3440: 'USER3441', 3441: 'USER3442', 3442: 'USER3443', 3443: 'USER3444', 3444: 'USER3445', 3445: 'USER3446', 3446: 'USER3447', 3447: 'USER3448', 3448: 'USER3449', 3449: 'USER3450', 3450: 'USER3451', 3451: 'USER3452', 3452: 'USER3453', 3453: 'USER3454', 3454: 'USER3455', 3455: 'USER3456', 3456: 'USER3457', 3457: 'USER3458', 3458: 'USER3459', 3459: 'USER3460', 3460: 'USER3461', 3461: 'USER3462', 3462: 'USER3463', 3463: 'USER3464', 3464: 'USER3465', 3465: 'USER3466', 3466: 'USER3467', 3467: 'USER3468', 3468: 'USER3469', 3469: 'USER3470', 3470: 'USER3471', 3471: 'USER3472', 3472: 'USER3473', 3473: 'USER3474', 3474: 'USER3475', 3475: 'USER3476', 3476: 'USER3477', 3477: 'USER3478', 3478: 'USER3479', 3479: 'USER3480', 3480: 'USER3481', 3481: 'USER3482', 3482: 'USER3483', 3483: 'USER3484', 3484: 'USER3485', 3485: 'USER3486', 3486: 'USER3487', 3487: 'USER3488', 3488: 'USER3489', 3489: 'USER3490', 3490: 'USER3491', 3491: 'USER3492', 3492: 'USER3493', 3493: 'USER3494', 3494: 'USER3495', 3495: 'USER3496', 3496: 'USER3497', 3497: 'USER3498', 3498: 'USER3499', 3499: 'USER3500', 3500: 'USER3501', 3501: 'USER3502', 3502: 'USER3503', 3503: 'USER3504', 3504: 'USER3505', 3505: 'USER3506', 3506: 'USER3507', 3507: 'USER3508', 3508: 'USER3509', 3509: 'USER3510', 3510: 'USER3511', 3511: 'USER3512', 3512: 'USER3513', 3513: 'USER3514', 3514: 'USER3515', 3515: 'USER3516', 3516: 'USER3517', 3517: 'USER3518', 3518: 'USER3519', 3519: 'USER3520', 3520: 'USER3521', 3521: 'USER3522', 3522: 'USER3523', 3523: 'USER3524', 3524: 'USER3525', 3525: 'USER3526', 3526: 'USER3527', 3527: 'USER3528', 3528: 'USER3529', 3529: 'USER3530', 3530: 'USER3531', 3531: 'USER3532', 3532: 'USER3533', 3533: 'USER3534', 3534: 'USER3535', 3535: 'USER3536', 3536: 'USER3537', 3537: 'USER3538', 3538: 'USER3539', 3539: 'USER3540', 3540: 'USER3541', 3541: 'USER3542', 3542: 'USER3543', 3543: 'USER3544', 3544: 'USER3545', 3545: 'USER3546', 3546: 'USER3547', 3547: 'USER3548', 3548: 'USER3549', 3549: 'USER3550', 3550: 'USER3551', 3551: 'USER3552', 3552: 'USER3553', 3553: 'USER3554', 3554: 'USER3555', 3555: 'USER3556', 3556: 'USER3557', 3557: 'USER3558', 3558: 'USER3559', 3559: 'USER3560', 3560: 'USER3561', 3561: 'USER3562', 3562: 'USER3563', 3563: 'USER3564', 3564: 'USER3565', 3565: 'USER3566', 3566: 'USER3567', 3567: 'USER3568', 3568: 'USER3569', 3569: 'USER3570', 3570: 'USER3571', 3571: 'USER3572', 3572: 'USER3573', 3573: 'USER3574', 3574: 'USER3575', 3575: 'USER3576', 3576: 'USER3577', 3577: 'USER3578', 3578: 'USER3579', 3579: 'USER3580', 3580: 'USER3581', 3581: 'USER3582', 3582: 'USER3583', 3583: 'USER3584', 3584: 'USER3585', 3585: 'USER3586', 3586: 'USER3587', 3587: 'USER3588', 3588: 'USER3589', 3589: 'USER3590', 3590: 'USER3591', 3591: 'USER3592', 3592: 'USER3593', 3593: 'USER3594', 3594: 'USER3595', 3595: 'USER3596', 3596: 'USER3597', 3597: 'USER3598', 3598: 'USER3599', 3599: 'USER3600', 3600: 'USER3601', 3601: 'USER3602', 3602: 'USER3603', 3603: 'USER3604', 3604: 'USER3605', 3605: 'USER3606', 3606: 'USER3607', 3607: 'USER3608', 3608: 'USER3609', 3609: 'USER3610', 3610: 'USER3611', 3611: 'USER3612', 3612: 'USER3613', 3613: 'USER3614', 3614: 'USER3615', 3615: 'USER3616', 3616: 'USER3617', 3617: 'USER3618', 3618: 'USER3619', 3619: 'USER3620', 3620: 'USER3621', 3621: 'USER3622', 3622: 'USER3623', 3623: 'USER3624', 3624: 'USER3625', 3625: 'USER3626', 3626: 'USER3627', 3627: 'USER3628', 3628: 'USER3629', 3629: 'USER3630', 3630: 'USER3631', 3631: 'USER3632', 3632: 'USER3633', 3633: 'USER3634', 3634: 'USER3635', 3635: 'USER3636', 3636: 'USER3637', 3637: 'USER3638', 3638: 'USER3639', 3639: 'USER3640', 3640: 'USER3641', 3641: 'USER3642', 3642: 'USER3643', 3643: 'USER3644', 3644: 'USER3645', 3645: 'USER3646', 3646: 'USER3647', 3647: 'USER3648', 3648: 'USER3649', 3649: 'USER3650', 3650: 'USER3651', 3651: 'USER3652', 3652: 'USER3653', 3653: 'USER3654', 3654: 'USER3655', 3655: 'USER3656', 3656: 'USER3657', 3657: 'USER3658', 3658: 'USER3659', 3659: 'USER3660', 3660: 'USER3661', 3661: 'USER3662', 3662: 'USER3663', 3663: 'USER3664', 3664: 'USER3665', 3665: 'USER3666', 3666: 'USER3667', 3667: 'USER3668', 3668: 'USER3669', 3669: 'USER3670', 3670: 'USER3671', 3671: 'USER3672', 3672: 'USER3673', 3673: 'USER3674', 3674: 'USER3675', 3675: 'USER3676', 3676: 'USER3677', 3677: 'USER3678', 3678: 'USER3679', 3679: 'USER3680', 3680: 'USER3681', 3681: 'USER3682', 3682: 'USER3683', 3683: 'USER3684', 3684: 'USER3685', 3685: 'USER3686', 3686: 'USER3687', 3687: 'USER3688', 3688: 'USER3689', 3689: 'USER3690', 3690: 'USER3691', 3691: 'USER3692', 3692: 'USER3693', 3693: 'USER3694', 3694: 'USER3695', 3695: 'USER3696', 3696: 'USER3697', 3697: 'USER3698', 3698: 'USER3699', 3699: 'USER3700', 3700: 'USER3701', 3701: 'USER3702', 3702: 'USER3703', 3703: 'USER3704', 3704: 'USER3705', 3705: 'USER3706', 3706: 'USER3707', 3707: 'USER3708', 3708: 'USER3709', 3709: 'USER3710', 3710: 'USER3711', 3711: 'USER3712', 3712: 'USER3713', 3713: 'USER3714', 3714: 'USER3715', 3715: 'USER3716', 3716: 'USER3717', 3717: 'USER3718', 3718: 'USER3719', 3719: 'USER3720', 3720: 'USER3721', 3721: 'USER3722', 3722: 'USER3723', 3723: 'USER3724', 3724: 'USER3725', 3725: 'USER3726', 3726: 'USER3727', 3727: 'USER3728', 3728: 'USER3729', 3729: 'USER3730', 3730: 'USER3731', 3731: 'USER3732', 3732: 'USER3733', 3733: 'USER3734', 3734: 'USER3735', 3735: 'USER3736', 3736: 'USER3737', 3737: 'USER3738', 3738: 'USER3739', 3739: 'USER3740', 3740: 'USER3741', 3741: 'USER3742', 3742: 'USER3743', 3743: 'USER3744', 3744: 'USER3745', 3745: 'USER3746', 3746: 'USER3747', 3747: 'USER3748', 3748: 'USER3749', 3749: 'USER3750', 3750: 'USER3751', 3751: 'USER3752', 3752: 'USER3753', 3753: 'USER3754', 3754: 'USER3755', 3755: 'USER3756', 3756: 'USER3757', 3757: 'USER3758', 3758: 'USER3759', 3759: 'USER3760', 3760: 'USER3761', 3761: 'USER3762', 3762: 'USER3763', 3763: 'USER3764', 3764: 'USER3765', 3765: 'USER3766', 3766: 'USER3767', 3767: 'USER3768', 3768: 'USER3769', 3769: 'USER3770', 3770: 'USER3771', 3771: 'USER3772', 3772: 'USER3773', 3773: 'USER3774', 3774: 'USER3775', 3775: 'USER3776', 3776: 'USER3777', 3777: 'USER3778', 3778: 'USER3779', 3779: 'USER3780', 3780: 'USER3781', 3781: 'USER3782', 3782: 'USER3783', 3783: 'USER3784', 3784: 'USER3785', 3785: 'USER3786', 3786: 'USER3787', 3787: 'USER3788', 3788: 'USER3789', 3789: 'USER3790', 3790: 'USER3791', 3791: 'USER3792', 3792: 'USER3793', 3793: 'USER3794', 3794: 'USER3795', 3795: 'USER3796', 3796: 'USER3797', 3797: 'USER3798', 3798: 'USER3799', 3799: 'USER3800', 3800: 'USER3801', 3801: 'USER3802', 3802: 'USER3803', 3803: 'USER3804', 3804: 'USER3805', 3805: 'USER3806', 3806: 'USER3807', 3807: 'USER3808', 3808: 'USER3809', 3809: 'USER3810', 3810: 'USER3811', 3811: 'USER3812', 3812: 'USER3813', 3813: 'USER3814', 3814: 'USER3815', 3815: 'USER3816', 3816: 'USER3817', 3817: 'USER3818', 3818: 'USER3819', 3819: 'USER3820', 3820: 'USER3821', 3821: 'USER3822', 3822: 'USER3823', 3823: 'USER3824', 3824: 'USER3825', 3825: 'USER3826', 3826: 'USER3827', 3827: 'USER3828', 3828: 'USER3829', 3829: 'USER3830', 3830: 'USER3831', 3831: 'USER3832', 3832: 'USER3833', 3833: 'USER3834', 3834: 'USER3835', 3835: 'USER3836', 3836: 'USER3837', 3837: 'USER3838', 3838: 'USER3839', 3839: 'USER3840', 3840: 'USER3841', 3841: 'USER3842', 3842: 'USER3843', 3843: 'USER3844', 3844: 'USER3845', 3845: 'USER3846', 3846: 'USER3847', 3847: 'USER3848', 3848: 'USER3849', 3849: 'USER3850', 3850: 'USER3851', 3851: 'USER3852', 3852: 'USER3853', 3853: 'USER3854', 3854: 'USER3855', 3855: 'USER3856', 3856: 'USER3857', 3857: 'USER3858', 3858: 'USER3859', 3859: 'USER3860', 3860: 'USER3861', 3861: 'USER3862', 3862: 'USER3863', 3863: 'USER3864', 3864: 'USER3865', 3865: 'USER3866', 3866: 'USER3867', 3867: 'USER3868', 3868: 'USER3869', 3869: 'USER3870', 3870: 'USER3871', 3871: 'USER3872', 3872: 'USER3873', 3873: 'USER3874', 3874: 'USER3875', 3875: 'USER3876', 3876: 'USER3877', 3877: 'USER3878', 3878: 'USER3879', 3879: 'USER3880', 3880: 'USER3881', 3881: 'USER3882', 3882: 'USER3883', 3883: 'USER3884', 3884: 'USER3885', 3885: 'USER3886', 3886: 'USER3887', 3887: 'USER3888', 3888: 'USER3889', 3889: 'USER3890', 3890: 'USER3891', 3891: 'USER3892', 3892: 'USER3893', 3893: 'USER3894', 3894: 'USER3895', 3895: 'USER3896', 3896: 'USER3897', 3897: 'USER3898', 3898: 'USER3899', 3899: 'USER3900', 3900: 'USER3901', 3901: 'USER3902', 3902: 'USER3903', 3903: 'USER3904', 3904: 'USER3905', 3905: 'USER3906', 3906: 'USER3907', 3907: 'USER3908', 3908: 'USER3909', 3909: 'USER3910', 3910: 'USER3911', 3911: 'USER3912', 3912: 'USER3913', 3913: 'USER3914', 3914: 'USER3915', 3915: 'USER3916', 3916: 'USER3917', 3917: 'USER3918', 3918: 'USER3919', 3919: 'USER3920', 3920: 'USER3921', 3921: 'USER3922', 3922: 'USER3923', 3923: 'USER3924', 3924: 'USER3925', 3925: 'USER3926', 3926: 'USER3927', 3927: 'USER3928', 3928: 'USER3929', 3929: 'USER3930', 3930: 'USER3931', 3931: 'USER3932', 3932: 'USER3933', 3933: 'USER3934', 3934: 'USER3935', 3935: 'USER3936', 3936: 'USER3937', 3937: 'USER3938', 3938: 'USER3939', 3939: 'USER3940', 3940: 'USER3941', 3941: 'USER3942', 3942: 'USER3943', 3943: 'USER3944', 3944: 'USER3945', 3945: 'USER3946', 3946: 'USER3947', 3947: 'USER3948', 3948: 'USER3949', 3949: 'USER3950', 3950: 'USER3951', 3951: 'USER3952', 3952: 'USER3953', 3953: 'USER3954', 3954: 'USER3955', 3955: 'USER3956', 3956: 'USER3957', 3957: 'USER3958', 3958: 'USER3959', 3959: 'USER3960', 3960: 'USER3961', 3961: 'USER3962', 3962: 'USER3963', 3963: 'USER3964', 3964: 'USER3965', 3965: 'USER3966', 3966: 'USER3967', 3967: 'USER3968', 3968: 'USER3969', 3969: 'USER3970', 3970: 'USER3971', 3971: 'USER3972', 3972: 'USER3973', 3973: 'USER3974', 3974: 'USER3975', 3975: 'USER3976', 3976: 'USER3977', 3977: 'USER3978', 3978: 'USER3979', 3979: 'USER3980', 3980: 'USER3981', 3981: 'USER3982', 3982: 'USER3983', 3983: 'USER3984', 3984: 'USER3985', 3985: 'USER3986', 3986: 'USER3987', 3987: 'USER3988', 3988: 'USER3989', 3989: 'USER3990', 3990: 'USER3991', 3991: 'USER3992', 3992: 'USER3993', 3993: 'USER3994', 3994: 'USER3995', 3995: 'USER3996', 3996: 'USER3997', 3997: 'USER3998', 3998: 'USER3999', 3999: 'USER4000', 4000: 'USER4001', 4001: 'USER4002', 4002: 'USER4003', 4003: 'USER4004', 4004: 'USER4005', 4005: 'USER4006', 4006: 'USER4007', 4007: 'USER4008', 4008: 'USER4009', 4009: 'USER4010', 4010: 'USER4011', 4011: 'USER4012', 4012: 'USER4013', 4013: 'USER4014', 4014: 'USER4015', 4015: 'USER4016', 4016: 'USER4017', 4017: 'USER4018', 4018: 'USER4019', 4019: 'USER4020', 4020: 'USER4021', 4021: 'USER4022', 4022: 'USER4023', 4023: 'USER4024', 4024: 'USER4025', 4025: 'USER4026', 4026: 'USER4027', 4027: 'USER4028', 4028: 'USER4029', 4029: 'USER4030', 4030: 'USER4031', 4031: 'USER4032', 4032: 'USER4033', 4033: 'USER4034', 4034: 'USER4035', 4035: 'USER4036', 4036: 'USER4037', 4037: 'USER4038', 4038: 'USER4039', 4039: 'USER4040', 4040: 'USER4041', 4041: 'USER4042', 4042: 'USER4043', 4043: 'USER4044', 4044: 'USER4045', 4045: 'USER4046', 4046: 'USER4047', 4047: 'USER4048', 4048: 'USER4049', 4049: 'USER4050', 4050: 'USER4051', 4051: 'USER4052', 4052: 'USER4053', 4053: 'USER4054', 4054: 'USER4055', 4055: 'USER4056', 4056: 'USER4057', 4057: 'USER4058', 4058: 'USER4059', 4059: 'USER4060', 4060: 'USER4061', 4061: 'USER4062', 4062: 'USER4063', 4063: 'USER4064', 4064: 'USER4065', 4065: 'USER4066', 4066: 'USER4067', 4067: 'USER4068', 4068: 'USER4069', 4069: 'USER4070', 4070: 'USER4071', 4071: 'USER4072', 4072: 'USER4073', 4073: 'USER4074', 4074: 'USER4075', 4075: 'USER4076', 4076: 'USER4077', 4077: 'USER4078', 4078: 'USER4079', 4079: 'USER4080', 4080: 'USER4081', 4081: 'USER4082', 4082: 'USER4083', 4083: 'USER4084', 4084: 'USER4085', 4085: 'USER4086', 4086: 'USER4087', 4087: 'USER4088', 4088: 'USER4089', 4089: 'USER4090', 4090: 'USER4091', 4091: 'USER4092', 4092: 'USER4093', 4093: 'USER4094', 4094: 'USER4095', 4095: 'USER4096', 4096: 'USER4097', 4097: 'USER4098', 4098: 'USER4099', 4099: 'USER4100', 4100: 'USER4101', 4101: 'USER4102', 4102: 'USER4103', 4103: 'USER4104', 4104: 'USER4105', 4105: 'USER4106', 4106: 'USER4107', 4107: 'USER4108', 4108: 'USER4109', 4109: 'USER4110', 4110: 'USER4111', 4111: 'USER4112', 4112: 'USER4113', 4113: 'USER4114', 4114: 'USER4115', 4115: 'USER4116', 4116: 'USER4117', 4117: 'USER4118', 4118: 'USER4119', 4119: 'USER4120', 4120: 'USER4121', 4121: 'USER4122', 4122: 'USER4123', 4123: 'USER4124', 4124: 'USER4125', 4125: 'USER4126', 4126: 'USER4127', 4127: 'USER4128', 4128: 'USER4129', 4129: 'USER4130', 4130: 'USER4131', 4131: 'USER4132', 4132: 'USER4133', 4133: 'USER4134', 4134: 'USER4135', 4135: 'USER4136', 4136: 'USER4137', 4137: 'USER4138', 4138: 'USER4139', 4139: 'USER4140', 4140: 'USER4141', 4141: 'USER4142', 4142: 'USER4143', 4143: 'USER4144', 4144: 'USER4145', 4145: 'USER4146', 4146: 'USER4147', 4147: 'USER4148', 4148: 'USER4149', 4149: 'USER4150', 4150: 'USER4151', 4151: 'USER4152', 4152: 'USER4153', 4153: 'USER4154', 4154: 'USER4155', 4155: 'USER4156', 4156: 'USER4157', 4157: 'USER4158', 4158: 'USER4159', 4159: 'USER4160', 4160: 'USER4161', 4161: 'USER4162', 4162: 'USER4163', 4163: 'USER4164', 4164: 'USER4165', 4165: 'USER4166', 4166: 'USER4167', 4167: 'USER4168', 4168: 'USER4169', 4169: 'USER4170', 4170: 'USER4171', 4171: 'USER4172', 4172: 'USER4173', 4173: 'USER4174', 4174: 'USER4175', 4175: 'USER4176', 4176: 'USER4177', 4177: 'USER4178', 4178: 'USER4179', 4179: 'USER4180', 4180: 'USER4181', 4181: 'USER4182', 4182: 'USER4183', 4183: 'USER4184', 4184: 'USER4185', 4185: 'USER4186', 4186: 'USER4187', 4187: 'USER4188', 4188: 'USER4189', 4189: 'USER4190', 4190: 'USER4191', 4191: 'USER4192', 4192: 'USER4193', 4193: 'USER4194', 4194: 'USER4195', 4195: 'USER4196', 4196: 'USER4197', 4197: 'USER4198', 4198: 'USER4199', 4199: 'USER4200', 4200: 'USER4201', 4201: 'USER4202', 4202: 'USER4203', 4203: 'USER4204', 4204: 'USER4205', 4205: 'USER4206', 4206: 'USER4207', 4207: 'USER4208', 4208: 'USER4209', 4209: 'USER4210', 4210: 'USER4211', 4211: 'USER4212', 4212: 'USER4213', 4213: 'USER4214', 4214: 'USER4215', 4215: 'USER4216', 4216: 'USER4217', 4217: 'USER4218', 4218: 'USER4219', 4219: 'USER4220', 4220: 'USER4221', 4221: 'USER4222', 4222: 'USER4223', 4223: 'USER4224', 4224: 'USER4225', 4225: 'USER4226', 4226: 'USER4227', 4227: 'USER4228', 4228: 'USER4229', 4229: 'USER4230', 4230: 'USER4231', 4231: 'USER4232', 4232: 'USER4233', 4233: 'USER4234', 4234: 'USER4235', 4235: 'USER4236', 4236: 'USER4237', 4237: 'USER4238', 4238: 'USER4239', 4239: 'USER4240', 4240: 'USER4241', 4241: 'USER4242', 4242: 'USER4243', 4243: 'USER4244', 4244: 'USER4245', 4245: 'USER4246', 4246: 'USER4247', 4247: 'USER4248', 4248: 'USER4249', 4249: 'USER4250', 4250: 'USER4251', 4251: 'USER4252', 4252: 'USER4253', 4253: 'USER4254', 4254: 'USER4255', 4255: 'USER4256', 4256: 'USER4257', 4257: 'USER4258', 4258: 'USER4259', 4259: 'USER4260', 4260: 'USER4261', 4261: 'USER4262', 4262: 'USER4263', 4263: 'USER4264', 4264: 'USER4265', 4265: 'USER4266', 4266: 'USER4267', 4267: 'USER4268', 4268: 'USER4269', 4269: 'USER4270', 4270: 'USER4271', 4271: 'USER4272', 4272: 'USER4273', 4273: 'USER4274', 4274: 'USER4275', 4275: 'USER4276', 4276: 'USER4277', 4277: 'USER4278', 4278: 'USER4279', 4279: 'USER4280', 4280: 'USER4281', 4281: 'USER4282', 4282: 'USER4283', 4283: 'USER4284', 4284: 'USER4285', 4285: 'USER4286', 4286: 'USER4287', 4287: 'USER4288', 4288: 'USER4289', 4289: 'USER4290', 4290: 'USER4291', 4291: 'USER4292', 4292: 'USER4293', 4293: 'USER4294', 4294: 'USER4295', 4295: 'USER4296', 4296: 'USER4297', 4297: 'USER4298', 4298: 'USER4299', 4299: 'USER4300', 4300: 'USER4301', 4301: 'USER4302', 4302: 'USER4303', 4303: 'USER4304', 4304: 'USER4305', 4305: 'USER4306', 4306: 'USER4307', 4307: 'USER4308', 4308: 'USER4309', 4309: 'USER4310', 4310: 'USER4311', 4311: 'USER4312', 4312: 'USER4313', 4313: 'USER4314', 4314: 'USER4315', 4315: 'USER4316', 4316: 'USER4317', 4317: 'USER4318', 4318: 'USER4319', 4319: 'USER4320', 4320: 'USER4321', 4321: 'USER4322', 4322: 'USER4323', 4323: 'USER4324', 4324: 'USER4325', 4325: 'USER4326', 4326: 'USER4327', 4327: 'USER4328', 4328: 'USER4329', 4329: 'USER4330', 4330: 'USER4331', 4331: 'USER4332', 4332: 'USER4333', 4333: 'USER4334', 4334: 'USER4335', 4335: 'USER4336', 4336: 'USER4337', 4337: 'USER4338', 4338: 'USER4339', 4339: 'USER4340', 4340: 'USER4341', 4341: 'USER4342', 4342: 'USER4343', 4343: 'USER4344', 4344: 'USER4345', 4345: 'USER4346', 4346: 'USER4347', 4347: 'USER4348', 4348: 'USER4349', 4349: 'USER4350', 4350: 'USER4351', 4351: 'USER4352', 4352: 'USER4353', 4353: 'USER4354', 4354: 'USER4355', 4355: 'USER4356', 4356: 'USER4357', 4357: 'USER4358', 4358: 'USER4359', 4359: 'USER4360', 4360: 'USER4361', 4361: 'USER4362', 4362: 'USER4363', 4363: 'USER4364', 4364: 'USER4365', 4365: 'USER4366', 4366: 'USER4367', 4367: 'USER4368', 4368: 'USER4369', 4369: 'USER4370', 4370: 'USER4371', 4371: 'USER4372', 4372: 'USER4373', 4373: 'USER4374', 4374: 'USER4375', 4375: 'USER4376', 4376: 'USER4377', 4377: 'USER4378', 4378: 'USER4379', 4379: 'USER4380', 4380: 'USER4381', 4381: 'USER4382', 4382: 'USER4383', 4383: 'USER4384', 4384: 'USER4385', 4385: 'USER4386', 4386: 'USER4387', 4387: 'USER4388', 4388: 'USER4389', 4389: 'USER4390', 4390: 'USER4391', 4391: 'USER4392', 4392: 'USER4393', 4393: 'USER4394', 4394: 'USER4395', 4395: 'USER4396', 4396: 'USER4397', 4397: 'USER4398', 4398: 'USER4399', 4399: 'USER4400', 4400: 'USER4401', 4401: 'USER4402', 4402: 'USER4403', 4403: 'USER4404', 4404: 'USER4405', 4405: 'USER4406', 4406: 'USER4407', 4407: 'USER4408', 4408: 'USER4409', 4409: 'USER4410', 4410: 'USER4411', 4411: 'USER4412', 4412: 'USER4413', 4413: 'USER4414', 4414: 'USER4415', 4415: 'USER4416', 4416: 'USER4417', 4417: 'USER4418', 4418: 'USER4419', 4419: 'USER4420', 4420: 'USER4421', 4421: 'USER4422', 4422: 'USER4423', 4423: 'USER4424', 4424: 'USER4425', 4425: 'USER4426', 4426: 'USER4427', 4427: 'USER4428', 4428: 'USER4429', 4429: 'USER4430', 4430: 'USER4431', 4431: 'USER4432', 4432: 'USER4433', 4433: 'USER4434', 4434: 'USER4435', 4435: 'USER4436', 4436: 'USER4437', 4437: 'USER4438', 4438: 'USER4439', 4439: 'USER4440', 4440: 'USER4441', 4441: 'USER4442', 4442: 'USER4443', 4443: 'USER4444', 4444: 'USER4445', 4445: 'USER4446', 4446: 'USER4447', 4447: 'USER4448', 4448: 'USER4449', 4449: 'USER4450', 4450: 'USER4451', 4451: 'USER4452', 4452: 'USER4453', 4453: 'USER4454', 4454: 'USER4455', 4455: 'USER4456', 4456: 'USER4457', 4457: 'USER4458', 4458: 'USER4459', 4459: 'USER4460', 4460: 'USER4461', 4461: 'USER4462', 4462: 'USER4463', 4463: 'USER4464', 4464: 'USER4465', 4465: 'USER4466', 4466: 'USER4467', 4467: 'USER4468', 4468: 'USER4469', 4469: 'USER4470', 4470: 'USER4471', 4471: 'USER4472', 4472: 'USER4473', 4473: 'USER4474', 4474: 'USER4475', 4475: 'USER4476', 4476: 'USER4477', 4477: 'USER4478', 4478: 'USER4479', 4479: 'USER4480', 4480: 'USER4481', 4481: 'USER4482', 4482: 'USER4483', 4483: 'USER4484', 4484: 'USER4485', 4485: 'USER4486', 4486: 'USER4487', 4487: 'USER4488', 4488: 'USER4489', 4489: 'USER4490', 4490: 'USER4491', 4491: 'USER4492', 4492: 'USER4493', 4493: 'USER4494', 4494: 'USER4495', 4495: 'USER4496', 4496: 'USER4497', 4497: 'USER4498', 4498: 'USER4499', 4499: 'USER4500', 4500: 'USER4501', 4501: 'USER4502', 4502: 'USER4503', 4503: 'USER4504', 4504: 'USER4505', 4505: 'USER4506', 4506: 'USER4507', 4507: 'USER4508', 4508: 'USER4509', 4509: 'USER4510', 4510: 'USER4511', 4511: 'USER4512', 4512: 'USER4513', 4513: 'USER4514', 4514: 'USER4515', 4515: 'USER4516', 4516: 'USER4517', 4517: 'USER4518', 4518: 'USER4519', 4519: 'USER4520', 4520: 'USER4521', 4521: 'USER4522', 4522: 'USER4523', 4523: 'USER4524', 4524: 'USER4525', 4525: 'USER4526', 4526: 'USER4527', 4527: 'USER4528', 4528: 'USER4529', 4529: 'USER4530', 4530: 'USER4531', 4531: 'USER4532', 4532: 'USER4533', 4533: 'USER4534', 4534: 'USER4535', 4535: 'USER4536', 4536: 'USER4537', 4537: 'USER4538', 4538: 'USER4539', 4539: 'USER4540', 4540: 'USER4541', 4541: 'USER4542', 4542: 'USER4543', 4543: 'USER4544', 4544: 'USER4545', 4545: 'USER4546', 4546: 'USER4547', 4547: 'USER4548', 4548: 'USER4549', 4549: 'USER4550', 4550: 'USER4551', 4551: 'USER4552', 4552: 'USER4553', 4553: 'USER4554', 4554: 'USER4555', 4555: 'USER4556', 4556: 'USER4557', 4557: 'USER4558', 4558: 'USER4559', 4559: 'USER4560', 4560: 'USER4561', 4561: 'USER4562', 4562: 'USER4563', 4563: 'USER4564', 4564: 'USER4565', 4565: 'USER4566', 4566: 'USER4567', 4567: 'USER4568', 4568: 'USER4569', 4569: 'USER4570', 4570: 'USER4571', 4571: 'USER4572', 4572: 'USER4573', 4573: 'USER4574', 4574: 'USER4575', 4575: 'USER4576', 4576: 'USER4577', 4577: 'USER4578', 4578: 'USER4579', 4579: 'USER4580', 4580: 'USER4581', 4581: 'USER4582', 4582: 'USER4583', 4583: 'USER4584', 4584: 'USER4585', 4585: 'USER4586', 4586: 'USER4587', 4587: 'USER4588', 4588: 'USER4589', 4589: 'USER4590', 4590: 'USER4591', 4591: 'USER4592', 4592: 'USER4593', 4593: 'USER4594', 4594: 'USER4595', 4595: 'USER4596', 4596: 'USER4597', 4597: 'USER4598', 4598: 'USER4599', 4599: 'USER4600', 4600: 'USER4601', 4601: 'USER4602', 4602: 'USER4603', 4603: 'USER4604', 4604: 'USER4605', 4605: 'USER4606', 4606: 'USER4607', 4607: 'USER4608', 4608: 'USER4609', 4609: 'USER4610', 4610: 'USER4611', 4611: 'USER4612', 4612: 'USER4613', 4613: 'USER4614', 4614: 'USER4615', 4615: 'USER4616', 4616: 'USER4617', 4617: 'USER4618', 4618: 'USER4619', 4619: 'USER4620', 4620: 'USER4621', 4621: 'USER4622', 4622: 'USER4623', 4623: 'USER4624', 4624: 'USER4625', 4625: 'USER4626', 4626: 'USER4627', 4627: 'USER4628', 4628: 'USER4629', 4629: 'USER4630', 4630: 'USER4631', 4631: 'USER4632', 4632: 'USER4633', 4633: 'USER4634', 4634: 'USER4635', 4635: 'USER4636', 4636: 'USER4637', 4637: 'USER4638', 4638: 'USER4639', 4639: 'USER4640', 4640: 'USER4641', 4641: 'USER4642', 4642: 'USER4643', 4643: 'USER4644', 4644: 'USER4645', 4645: 'USER4646', 4646: 'USER4647', 4647: 'USER4648', 4648: 'USER4649', 4649: 'USER4650', 4650: 'USER4651', 4651: 'USER4652', 4652: 'USER4653', 4653: 'USER4654', 4654: 'USER4655', 4655: 'USER4656', 4656: 'USER4657', 4657: 'USER4658', 4658: 'USER4659', 4659: 'USER4660', 4660: 'USER4661', 4661: 'USER4662', 4662: 'USER4663', 4663: 'USER4664', 4664: 'USER4665', 4665: 'USER4666', 4666: 'USER4667', 4667: 'USER4668', 4668: 'USER4669', 4669: 'USER4670', 4670: 'USER4671', 4671: 'USER4672', 4672: 'USER4673', 4673: 'USER4674', 4674: 'USER4675', 4675: 'USER4676', 4676: 'USER4677', 4677: 'USER4678', 4678: 'USER4679', 4679: 'USER4680', 4680: 'USER4681', 4681: 'USER4682', 4682: 'USER4683', 4683: 'USER4684', 4684: 'USER4685', 4685: 'USER4686', 4686: 'USER4687', 4687: 'USER4688', 4688: 'USER4689', 4689: 'USER4690', 4690: 'USER4691', 4691: 'USER4692', 4692: 'USER4693', 4693: 'USER4694', 4694: 'USER4695', 4695: 'USER4696', 4696: 'USER4697', 4697: 'USER4698', 4698: 'USER4699', 4699: 'USER4700', 4700: 'USER4701', 4701: 'USER4702', 4702: 'USER4703', 4703: 'USER4704', 4704: 'USER4705', 4705: 'USER4706', 4706: 'USER4707', 4707: 'USER4708', 4708: 'USER4709', 4709: 'USER4710', 4710: 'USER4711', 4711: 'USER4712', 4712: 'USER4713', 4713: 'USER4714', 4714: 'USER4715', 4715: 'USER4716', 4716: 'USER4717', 4717: 'USER4718', 4718: 'USER4719', 4719: 'USER4720', 4720: 'USER4721', 4721: 'USER4722', 4722: 'USER4723', 4723: 'USER4724', 4724: 'USER4725', 4725: 'USER4726', 4726: 'USER4727', 4727: 'USER4728', 4728: 'USER4729', 4729: 'USER4730', 4730: 'USER4731', 4731: 'USER4732', 4732: 'USER4733', 4733: 'USER4734', 4734: 'USER4735', 4735: 'USER4736', 4736: 'USER4737', 4737: 'USER4738', 4738: 'USER4739', 4739: 'USER4740', 4740: 'USER4741', 4741: 'USER4742', 4742: 'USER4743', 4743: 'USER4744', 4744: 'USER4745', 4745: 'USER4746', 4746: 'USER4747', 4747: 'USER4748', 4748: 'USER4749', 4749: 'USER4750', 4750: 'USER4751', 4751: 'USER4752', 4752: 'USER4753', 4753: 'USER4754', 4754: 'USER4755', 4755: 'USER4756', 4756: 'USER4757', 4757: 'USER4758', 4758: 'USER4759', 4759: 'USER4760', 4760: 'USER4761', 4761: 'USER4762', 4762: 'USER4763', 4763: 'USER4764', 4764: 'USER4765', 4765: 'USER4766', 4766: 'USER4767', 4767: 'USER4768', 4768: 'USER4769', 4769: 'USER4770', 4770: 'USER4771', 4771: 'USER4772', 4772: 'USER4773', 4773: 'USER4774', 4774: 'USER4775', 4775: 'USER4776', 4776: 'USER4777', 4777: 'USER4778', 4778: 'USER4779', 4779: 'USER4780', 4780: 'USER4781', 4781: 'USER4782', 4782: 'USER4783', 4783: 'USER4784', 4784: 'USER4785', 4785: 'USER4786', 4786: 'USER4787', 4787: 'USER4788', 4788: 'USER4789', 4789: 'USER4790', 4790: 'USER4791', 4791: 'USER4792', 4792: 'USER4793', 4793: 'USER4794', 4794: 'USER4795', 4795: 'USER4796', 4796: 'USER4797', 4797: 'USER4798', 4798: 'USER4799', 4799: 'USER4800', 4800: 'USER4801', 4801: 'USER4802', 4802: 'USER4803', 4803: 'USER4804', 4804: 'USER4805', 4805: 'USER4806', 4806: 'USER4807', 4807: 'USER4808', 4808: 'USER4809', 4809: 'USER4810', 4810: 'USER4811', 4811: 'USER4812', 4812: 'USER4813', 4813: 'USER4814', 4814: 'USER4815', 4815: 'USER4816', 4816: 'USER4817', 4817: 'USER4818', 4818: 'USER4819', 4819: 'USER4820', 4820: 'USER4821', 4821: 'USER4822', 4822: 'USER4823', 4823: 'USER4824', 4824: 'USER4825', 4825: 'USER4826', 4826: 'USER4827', 4827: 'USER4828', 4828: 'USER4829', 4829: 'USER4830', 4830: 'USER4831', 4831: 'USER4832', 4832: 'USER4833', 4833: 'USER4834', 4834: 'USER4835', 4835: 'USER4836', 4836: 'USER4837', 4837: 'USER4838', 4838: 'USER4839', 4839: 'USER4840', 4840: 'USER4841', 4841: 'USER4842', 4842: 'USER4843', 4843: 'USER4844', 4844: 'USER4845', 4845: 'USER4846', 4846: 'USER4847', 4847: 'USER4848', 4848: 'USER4849', 4849: 'USER4850', 4850: 'USER4851', 4851: 'USER4852', 4852: 'USER4853', 4853: 'USER4854', 4854: 'USER4855', 4855: 'USER4856', 4856: 'USER4857', 4857: 'USER4858', 4858: 'USER4859', 4859: 'USER4860', 4860: 'USER4861', 4861: 'USER4862', 4862: 'USER4863', 4863: 'USER4864', 4864: 'USER4865', 4865: 'USER4866', 4866: 'USER4867', 4867: 'USER4868', 4868: 'USER4869', 4869: 'USER4870', 4870: 'USER4871', 4871: 'USER4872', 4872: 'USER4873', 4873: 'USER4874', 4874: 'USER4875', 4875: 'USER4876', 4876: 'USER4877', 4877: 'USER4878', 4878: 'USER4879', 4879: 'USER4880', 4880: 'USER4881', 4881: 'USER4882', 4882: 'USER4883', 4883: 'USER4884', 4884: 'USER4885', 4885: 'USER4886', 4886: 'USER4887', 4887: 'USER4888', 4888: 'USER4889', 4889: 'USER4890', 4890: 'USER4891', 4891: 'USER4892', 4892: 'USER4893', 4893: 'USER4894', 4894: 'USER4895', 4895: 'USER4896', 4896: 'USER4897', 4897: 'USER4898', 4898: 'USER4899', 4899: 'USER4900', 4900: 'USER4901', 4901: 'USER4902', 4902: 'USER4903', 4903: 'USER4904', 4904: 'USER4905', 4905: 'USER4906', 4906: 'USER4907', 4907: 'USER4908', 4908: 'USER4909', 4909: 'USER4910', 4910: 'USER4911', 4911: 'USER4912', 4912: 'USER4913', 4913: 'USER4914', 4914: 'USER4915', 4915: 'USER4916', 4916: 'USER4917', 4917: 'USER4918', 4918: 'USER4919', 4919: 'USER4920', 4920: 'USER4921', 4921: 'USER4922', 4922: 'USER4923', 4923: 'USER4924', 4924: 'USER4925', 4925: 'USER4926', 4926: 'USER4927', 4927: 'USER4928', 4928: 'USER4929', 4929: 'USER4930', 4930: 'USER4931', 4931: 'USER4932', 4932: 'USER4933', 4933: 'USER4934', 4934: 'USER4935', 4935: 'USER4936', 4936: 'USER4937', 4937: 'USER4938', 4938: 'USER4939', 4939: 'USER4940', 4940: 'USER4941', 4941: 'USER4942', 4942: 'USER4943', 4943: 'USER4944', 4944: 'USER4945', 4945: 'USER4946', 4946: 'USER4947', 4947: 'USER4948', 4948: 'USER4949', 4949: 'USER4950', 4950: 'USER4951', 4951: 'USER4952', 4952: 'USER4953', 4953: 'USER4954', 4954: 'USER4955', 4955: 'USER4956', 4956: 'USER4957', 4957: 'USER4958', 4958: 'USER4959', 4959: 'USER4960', 4960: 'USER4961', 4961: 'USER4962', 4962: 'USER4963', 4963: 'USER4964', 4964: 'USER4965', 4965: 'USER4966', 4966: 'USER4967', 4967: 'USER4968', 4968: 'USER4969', 4969: 'USER4970', 4970: 'USER4971', 4971: 'USER4972', 4972: 'USER4973', 4973: 'USER4974', 4974: 'USER4975', 4975: 'USER4976', 4976: 'USER4977', 4977: 'USER4978', 4978: 'USER4979', 4979: 'USER4980', 4980: 'USER4981', 4981: 'USER4982', 4982: 'USER4983', 4983: 'USER4984', 4984: 'USER4985', 4985: 'USER4986', 4986: 'USER4987', 4987: 'USER4988', 4988: 'USER4989', 4989: 'USER4990', 4990: 'USER4991', 4991: 'USER4992', 4992: 'USER4993', 4993: 'USER4994', 4994: 'USER4995', 4995: 'USER4996', 4996: 'USER4997', 4997: 'USER4998', 4998: 'USER4999', 4999: 'USER5000', 5000: 'USER5001', 5001: 'USER5002', 5002: 'USER5003', 5003: 'USER5004', 5004: 'USER5005', 5005: 'USER5006', 5006: 'USER5007', 5007: 'USER5008', 5008: 'USER5009', 5009: 'USER5010', 5010: 'USER5011', 5011: 'USER5012', 5012: 'USER5013', 5013: 'USER5014', 5014: 'USER5015', 5015: 'USER5016', 5016: 'USER5017', 5017: 'USER5018', 5018: 'USER5019', 5019: 'USER5020', 5020: 'USER5021', 5021: 'USER5022', 5022: 'USER5023', 5023: 'USER5024', 5024: 'USER5025', 5025: 'USER5026', 5026: 'USER5027', 5027: 'USER5028', 5028: 'USER5029', 5029: 'USER5030', 5030: 'USER5031', 5031: 'USER5032', 5032: 'USER5033', 5033: 'USER5034', 5034: 'USER5035', 5035: 'USER5036', 5036: 'USER5037', 5037: 'USER5038', 5038: 'USER5039', 5039: 'USER5040', 5040: 'USER5041', 5041: 'USER5042', 5042: 'USER5043', 5043: 'USER5044', 5044: 'USER5045', 5045: 'USER5046', 5046: 'USER5047', 5047: 'USER5048', 5048: 'USER5049', 5049: 'USER5050', 5050: 'USER5051', 5051: 'USER5052', 5052: 'USER5053', 5053: 'USER5054', 5054: 'USER5055', 5055: 'USER5056', 5056: 'USER5057', 5057: 'USER5058', 5058: 'USER5059', 5059: 'USER5060', 5060: 'USER5061', 5061: 'USER5062', 5062: 'USER5063', 5063: 'USER5064', 5064: 'USER5065', 5065: 'USER5066', 5066: 'USER5067', 5067: 'USER5068', 5068: 'USER5069', 5069: 'USER5070', 5070: 'USER5071', 5071: 'USER5072', 5072: 'USER5073', 5073: 'USER5074', 5074: 'USER5075', 5075: 'USER5076', 5076: 'USER5077', 5077: 'USER5078', 5078: 'USER5079', 5079: 'USER5080', 5080: 'USER5081', 5081: 'USER5082', 5082: 'USER5083', 5083: 'USER5084', 5084: 'USER5085', 5085: 'USER5086', 5086: 'USER5087', 5087: 'USER5088', 5088: 'USER5089', 5089: 'USER5090', 5090: 'USER5091', 5091: 'USER5092', 5092: 'USER5093', 5093: 'USER5094', 5094: 'USER5095', 5095: 'USER5096', 5096: 'USER5097', 5097: 'USER5098', 5098: 'USER5099', 5099: 'USER5100', 5100: 'USER5101', 5101: 'USER5102', 5102: 'USER5103', 5103: 'USER5104', 5104: 'USER5105', 5105: 'USER5106', 5106: 'USER5107', 5107: 'USER5108', 5108: 'USER5109', 5109: 'USER5110', 5110: 'USER5111', 5111: 'USER5112', 5112: 'USER5113', 5113: 'USER5114', 5114: 'USER5115', 5115: 'USER5116', 5116: 'USER5117', 5117: 'USER5118', 5118: 'USER5119', 5119: 'USER5120', 5120: 'USER5121', 5121: 'USER5122', 5122: 'USER5123', 5123: 'USER5124', 5124: 'USER5125', 5125: 'USER5126', 5126: 'USER5127', 5127: 'USER5128', 5128: 'USER5129', 5129: 'USER5130', 5130: 'USER5131', 5131: 'USER5132', 5132: 'USER5133', 5133: 'USER5134', 5134: 'USER5135', 5135: 'USER5136', 5136: 'USER5137', 5137: 'USER5138', 5138: 'USER5139', 5139: 'USER5140', 5140: 'USER5141', 5141: 'USER5142', 5142: 'USER5143', 5143: 'USER5144', 5144: 'USER5145', 5145: 'USER5146', 5146: 'USER5147', 5147: 'USER5148', 5148: 'USER5149', 5149: 'USER5150', 5150: 'USER5151', 5151: 'USER5152', 5152: 'USER5153', 5153: 'USER5154', 5154: 'USER5155', 5155: 'USER5156', 5156: 'USER5157', 5157: 'USER5158', 5158: 'USER5159', 5159: 'USER5160', 5160: 'USER5161', 5161: 'USER5162', 5162: 'USER5163', 5163: 'USER5164', 5164: 'USER5165', 5165: 'USER5166', 5166: 'USER5167', 5167: 'USER5168', 5168: 'USER5169', 5169: 'USER5170', 5170: 'USER5171', 5171: 'USER5172', 5172: 'USER5173', 5173: 'USER5174', 5174: 'USER5175', 5175: 'USER5176', 5176: 'USER5177', 5177: 'USER5178', 5178: 'USER5179', 5179: 'USER5180', 5180: 'USER5181', 5181: 'USER5182', 5182: 'USER5183', 5183: 'USER5184', 5184: 'USER5185', 5185: 'USER5186', 5186: 'USER5187', 5187: 'USER5188', 5188: 'USER5189', 5189: 'USER5190', 5190: 'USER5191', 5191: 'USER5192', 5192: 'USER5193', 5193: 'USER5194', 5194: 'USER5195', 5195: 'USER5196', 5196: 'USER5197', 5197: 'USER5198', 5198: 'USER5199', 5199: 'USER5200', 5200: 'USER5201', 5201: 'USER5202', 5202: 'USER5203', 5203: 'USER5204', 5204: 'USER5205', 5205: 'USER5206', 5206: 'USER5207', 5207: 'USER5208', 5208: 'USER5209', 5209: 'USER5210', 5210: 'USER5211', 5211: 'USER5212', 5212: 'USER5213', 5213: 'USER5214', 5214: 'USER5215', 5215: 'USER5216', 5216: 'USER5217', 5217: 'USER5218', 5218: 'USER5219', 5219: 'USER5220', 5220: 'USER5221', 5221: 'USER5222', 5222: 'USER5223', 5223: 'USER5224', 5224: 'USER5225', 5225: 'USER5226', 5226: 'USER5227', 5227: 'USER5228', 5228: 'USER5229', 5229: 'USER5230', 5230: 'USER5231', 5231: 'USER5232', 5232: 'USER5233', 5233: 'USER5234', 5234: 'USER5235', 5235: 'USER5236', 5236: 'USER5237', 5237: 'USER5238', 5238: 'USER5239', 5239: 'USER5240', 5240: 'USER5241', 5241: 'USER5242', 5242: 'USER5243', 5243: 'USER5244', 5244: 'USER5245', 5245: 'USER5246', 5246: 'USER5247', 5247: 'USER5248', 5248: 'USER5249', 5249: 'USER5250', 5250: 'USER5251', 5251: 'USER5252', 5252: 'USER5253', 5253: 'USER5254', 5254: 'USER5255', 5255: 'USER5256', 5256: 'USER5257', 5257: 'USER5258', 5258: 'USER5259', 5259: 'USER5260', 5260: 'USER5261', 5261: 'USER5262', 5262: 'USER5263', 5263: 'USER5264', 5264: 'USER5265', 5265: 'USER5266', 5266: 'USER5267', 5267: 'USER5268', 5268: 'USER5269', 5269: 'USER5270', 5270: 'USER5271', 5271: 'USER5272', 5272: 'USER5273', 5273: 'USER5274', 5274: 'USER5275', 5275: 'USER5276', 5276: 'USER5277', 5277: 'USER5278', 5278: 'USER5279', 5279: 'USER5280', 5280: 'USER5281', 5281: 'USER5282', 5282: 'USER5283', 5283: 'USER5284', 5284: 'USER5285', 5285: 'USER5286', 5286: 'USER5287', 5287: 'USER5288', 5288: 'USER5289', 5289: 'USER5290', 5290: 'USER5291', 5291: 'USER5292', 5292: 'USER5293', 5293: 'USER5294', 5294: 'USER5295', 5295: 'USER5296', 5296: 'USER5297', 5297: 'USER5298', 5298: 'USER5299', 5299: 'USER5300', 5300: 'USER5301', 5301: 'USER5302', 5302: 'USER5303', 5303: 'USER5304', 5304: 'USER5305', 5305: 'USER5306', 5306: 'USER5307', 5307: 'USER5308', 5308: 'USER5309', 5309: 'USER5310', 5310: 'USER5311', 5311: 'USER5312', 5312: 'USER5313', 5313: 'USER5314', 5314: 'USER5315', 5315: 'USER5316', 5316: 'USER5317', 5317: 'USER5318', 5318: 'USER5319', 5319: 'USER5320', 5320: 'USER5321', 5321: 'USER5322', 5322: 'USER5323', 5323: 'USER5324', 5324: 'USER5325', 5325: 'USER5326', 5326: 'USER5327', 5327: 'USER5328', 5328: 'USER5329', 5329: 'USER5330', 5330: 'USER5331', 5331: 'USER5332', 5332: 'USER5333', 5333: 'USER5334', 5334: 'USER5335', 5335: 'USER5336', 5336: 'USER5337', 5337: 'USER5338', 5338: 'USER5339', 5339: 'USER5340', 5340: 'USER5341', 5341: 'USER5342', 5342: 'USER5343', 5343: 'USER5344', 5344: 'USER5345', 5345: 'USER5346', 5346: 'USER5347', 5347: 'USER5348', 5348: 'USER5349', 5349: 'USER5350', 5350: 'USER5351', 5351: 'USER5352', 5352: 'USER5353', 5353: 'USER5354', 5354: 'USER5355', 5355: 'USER5356', 5356: 'USER5357', 5357: 'USER5358', 5358: 'USER5359', 5359: 'USER5360', 5360: 'USER5361', 5361: 'USER5362', 5362: 'USER5363', 5363: 'USER5364', 5364: 'USER5365', 5365: 'USER5366', 5366: 'USER5367', 5367: 'USER5368', 5368: 'USER5369', 5369: 'USER5370', 5370: 'USER5371', 5371: 'USER5372', 5372: 'USER5373', 5373: 'USER5374', 5374: 'USER5375', 5375: 'USER5376', 5376: 'USER5377', 5377: 'USER5378', 5378: 'USER5379', 5379: 'USER5380', 5380: 'USER5381', 5381: 'USER5382', 5382: 'USER5383', 5383: 'USER5384', 5384: 'USER5385', 5385: 'USER5386', 5386: 'USER5387', 5387: 'USER5388', 5388: 'USER5389', 5389: 'USER5390', 5390: 'USER5391', 5391: 'USER5392', 5392: 'USER5393', 5393: 'USER5394', 5394: 'USER5395', 5395: 'USER5396', 5396: 'USER5397', 5397: 'USER5398', 5398: 'USER5399', 5399: 'USER5400', 5400: 'USER5401', 5401: 'USER5402', 5402: 'USER5403', 5403: 'USER5404', 5404: 'USER5405', 5405: 'USER5406', 5406: 'USER5407', 5407: 'USER5408', 5408: 'USER5409', 5409: 'USER5410', 5410: 'USER5411', 5411: 'USER5412', 5412: 'USER5413', 5413: 'USER5414', 5414: 'USER5415', 5415: 'USER5416', 5416: 'USER5417', 5417: 'USER5418', 5418: 'USER5419', 5419: 'USER5420', 5420: 'USER5421', 5421: 'USER5422', 5422: 'USER5423', 5423: 'USER5424', 5424: 'USER5425', 5425: 'USER5426', 5426: 'USER5427', 5427: 'USER5428', 5428: 'USER5429', 5429: 'USER5430', 5430: 'USER5431', 5431: 'USER5432', 5432: 'USER5433', 5433: 'USER5434', 5434: 'USER5435', 5435: 'USER5436', 5436: 'USER5437', 5437: 'USER5438', 5438: 'USER5439', 5439: 'USER5440', 5440: 'USER5441', 5441: 'USER5442', 5442: 'USER5443', 5443: 'USER5444', 5444: 'USER5445', 5445: 'USER5446', 5446: 'USER5447', 5447: 'USER5448', 5448: 'USER5449', 5449: 'USER5450', 5450: 'USER5451', 5451: 'USER5452', 5452: 'USER5453', 5453: 'USER5454', 5454: 'USER5455', 5455: 'USER5456', 5456: 'USER5457', 5457: 'USER5458', 5458: 'USER5459', 5459: 'USER5460', 5460: 'USER5461', 5461: 'USER5462', 5462: 'USER5463', 5463: 'USER5464', 5464: 'USER5465', 5465: 'USER5466', 5466: 'USER5467', 5467: 'USER5468', 5468: 'USER5469', 5469: 'USER5470', 5470: 'USER5471', 5471: 'USER5472', 5472: 'USER5473', 5473: 'USER5474', 5474: 'USER5475', 5475: 'USER5476', 5476: 'USER5477', 5477: 'USER5478', 5478: 'USER5479', 5479: 'USER5480', 5480: 'USER5481', 5481: 'USER5482', 5482: 'USER5483', 5483: 'USER5484', 5484: 'USER5485', 5485: 'USER5486', 5486: 'USER5487', 5487: 'USER5488', 5488: 'USER5489', 5489: 'USER5490', 5490: 'USER5491', 5491: 'USER5492', 5492: 'USER5493', 5493: 'USER5494', 5494: 'USER5495', 5495: 'USER5496', 5496: 'USER5497', 5497: 'USER5498', 5498: 'USER5499', 5499: 'USER5500', 5500: 'USER5501', 5501: 'USER5502', 5502: 'USER5503', 5503: 'USER5504', 5504: 'USER5505', 5505: 'USER5506', 5506: 'USER5507', 5507: 'USER5508', 5508: 'USER5509', 5509: 'USER5510', 5510: 'USER5511', 5511: 'USER5512', 5512: 'USER5513', 5513: 'USER5514', 5514: 'USER5515', 5515: 'USER5516', 5516: 'USER5517', 5517: 'USER5518', 5518: 'USER5519', 5519: 'USER5520', 5520: 'USER5521', 5521: 'USER5522', 5522: 'USER5523', 5523: 'USER5524', 5524: 'USER5525', 5525: 'USER5526', 5526: 'USER5527', 5527: 'USER5528', 5528: 'USER5529', 5529: 'USER5530', 5530: 'USER5531', 5531: 'USER5532', 5532: 'USER5533', 5533: 'USER5534', 5534: 'USER5535', 5535: 'USER5536', 5536: 'USER5537', 5537: 'USER5538', 5538: 'USER5539', 5539: 'USER5540', 5540: 'USER5541', 5541: 'USER5542', 5542: 'USER5543', 5543: 'USER5544', 5544: 'USER5545', 5545: 'USER5546', 5546: 'USER5547', 5547: 'USER5548', 5548: 'USER5549', 5549: 'USER5550', 5550: 'USER5551', 5551: 'USER5552', 5552: 'USER5553', 5553: 'USER5554', 5554: 'USER5555', 5555: 'USER5556', 5556: 'USER5557', 5557: 'USER5558', 5558: 'USER5559', 5559: 'USER5560', 5560: 'USER5561', 5561: 'USER5562', 5562: 'USER5563', 5563: 'USER5564', 5564: 'USER5565', 5565: 'USER5566', 5566: 'USER5567', 5567: 'USER5568', 5568: 'USER5569', 5569: 'USER5570', 5570: 'USER5571', 5571: 'USER5572', 5572: 'USER5573', 5573: 'USER5574', 5574: 'USER5575', 5575: 'USER5576', 5576: 'USER5577', 5577: 'USER5578', 5578: 'USER5579', 5579: 'USER5580', 5580: 'USER5581', 5581: 'USER5582', 5582: 'USER5583', 5583: 'USER5584', 5584: 'USER5585', 5585: 'USER5586', 5586: 'USER5587', 5587: 'USER5588', 5588: 'USER5589', 5589: 'USER5590', 5590: 'USER5591', 5591: 'USER5592', 5592: 'USER5593', 5593: 'USER5594', 5594: 'USER5595', 5595: 'USER5596', 5596: 'USER5597', 5597: 'USER5598', 5598: 'USER5599', 5599: 'USER5600', 5600: 'USER5601', 5601: 'USER5602', 5602: 'USER5603', 5603: 'USER5604', 5604: 'USER5605', 5605: 'USER5606', 5606: 'USER5607', 5607: 'USER5608', 5608: 'USER5609', 5609: 'USER5610', 5610: 'USER5611', 5611: 'USER5612', 5612: 'USER5613', 5613: 'USER5614', 5614: 'USER5615', 5615: 'USER5616', 5616: 'USER5617', 5617: 'USER5618', 5618: 'USER5619', 5619: 'USER5620', 5620: 'USER5621', 5621: 'USER5622', 5622: 'USER5623', 5623: 'USER5624', 5624: 'USER5625', 5625: 'USER5626', 5626: 'USER5627', 5627: 'USER5628', 5628: 'USER5629', 5629: 'USER5630', 5630: 'USER5631', 5631: 'USER5632', 5632: 'USER5633', 5633: 'USER5634', 5634: 'USER5635', 5635: 'USER5636', 5636: 'USER5637', 5637: 'USER5638', 5638: 'USER5639', 5639: 'USER5640', 5640: 'USER5641', 5641: 'USER5642', 5642: 'USER5643', 5643: 'USER5644', 5644: 'USER5645', 5645: 'USER5646', 5646: 'USER5647', 5647: 'USER5648', 5648: 'USER5649', 5649: 'USER5650', 5650: 'USER5651', 5651: 'USER5652', 5652: 'USER5653', 5653: 'USER5654', 5654: 'USER5655', 5655: 'USER5656', 5656: 'USER5657', 5657: 'USER5658', 5658: 'USER5659', 5659: 'USER5660', 5660: 'USER5661', 5661: 'USER5662', 5662: 'USER5663', 5663: 'USER5664', 5664: 'USER5665', 5665: 'USER5666', 5666: 'USER5667', 5667: 'USER5668', 5668: 'USER5669', 5669: 'USER5670', 5670: 'USER5671', 5671: 'USER5672', 5672: 'USER5673', 5673: 'USER5674', 5674: 'USER5675', 5675: 'USER5676', 5676: 'USER5677', 5677: 'USER5678', 5678: 'USER5679', 5679: 'USER5680', 5680: 'USER5681', 5681: 'USER5682', 5682: 'USER5683', 5683: 'USER5684', 5684: 'USER5685', 5685: 'USER5686', 5686: 'USER5687', 5687: 'USER5688', 5688: 'USER5689', 5689: 'USER5690', 5690: 'USER5691', 5691: 'USER5692', 5692: 'USER5693', 5693: 'USER5694', 5694: 'USER5695', 5695: 'USER5696', 5696: 'USER5697', 5697: 'USER5698', 5698: 'USER5699', 5699: 'USER5700', 5700: 'USER5701', 5701: 'USER5702', 5702: 'USER5703', 5703: 'USER5704', 5704: 'USER5705', 5705: 'USER5706', 5706: 'USER5707', 5707: 'USER5708', 5708: 'USER5709', 5709: 'USER5710', 5710: 'USER5711', 5711: 'USER5712', 5712: 'USER5713', 5713: 'USER5714', 5714: 'USER5715', 5715: 'USER5716', 5716: 'USER5717', 5717: 'USER5718', 5718: 'USER5719', 5719: 'USER5720', 5720: 'USER5721', 5721: 'USER5722', 5722: 'USER5723', 5723: 'USER5724', 5724: 'USER5725', 5725: 'USER5726', 5726: 'USER5727', 5727: 'USER5728', 5728: 'USER5729', 5729: 'USER5730', 5730: 'USER5731', 5731: 'USER5732', 5732: 'USER5733', 5733: 'USER5734', 5734: 'USER5735', 5735: 'USER5736', 5736: 'USER5737', 5737: 'USER5738', 5738: 'USER5739', 5739: 'USER5740', 5740: 'USER5741', 5741: 'USER5742', 5742: 'USER5743', 5743: 'USER5744', 5744: 'USER5745', 5745: 'USER5746', 5746: 'USER5747', 5747: 'USER5748', 5748: 'USER5749', 5749: 'USER5750', 5750: 'USER5751', 5751: 'USER5752', 5752: 'USER5753', 5753: 'USER5754', 5754: 'USER5755', 5755: 'USER5756', 5756: 'USER5757', 5757: 'USER5758', 5758: 'USER5759', 5759: 'USER5760', 5760: 'USER5761', 5761: 'USER5762', 5762: 'USER5763', 5763: 'USER5764', 5764: 'USER5765', 5765: 'USER5766', 5766: 'USER5767', 5767: 'USER5768', 5768: 'USER5769', 5769: 'USER5770', 5770: 'USER5771', 5771: 'USER5772', 5772: 'USER5773', 5773: 'USER5774', 5774: 'USER5775', 5775: 'USER5776', 5776: 'USER5777', 5777: 'USER5778', 5778: 'USER5779', 5779: 'USER5780', 5780: 'USER5781', 5781: 'USER5782', 5782: 'USER5783', 5783: 'USER5784', 5784: 'USER5785', 5785: 'USER5786', 5786: 'USER5787', 5787: 'USER5788', 5788: 'USER5789', 5789: 'USER5790', 5790: 'USER5791', 5791: 'USER5792', 5792: 'USER5793', 5793: 'USER5794', 5794: 'USER5795', 5795: 'USER5796', 5796: 'USER5797', 5797: 'USER5798', 5798: 'USER5799', 5799: 'USER5800', 5800: 'USER5801', 5801: 'USER5802', 5802: 'USER5803', 5803: 'USER5804', 5804: 'USER5805', 5805: 'USER5806', 5806: 'USER5807', 5807: 'USER5808', 5808: 'USER5809', 5809: 'USER5810', 5810: 'USER5811', 5811: 'USER5812', 5812: 'USER5813', 5813: 'USER5814', 5814: 'USER5815', 5815: 'USER5816', 5816: 'USER5817', 5817: 'USER5818', 5818: 'USER5819', 5819: 'USER5820', 5820: 'USER5821', 5821: 'USER5822', 5822: 'USER5823', 5823: 'USER5824', 5824: 'USER5825', 5825: 'USER5826', 5826: 'USER5827', 5827: 'USER5828', 5828: 'USER5829', 5829: 'USER5830', 5830: 'USER5831', 5831: 'USER5832', 5832: 'USER5833', 5833: 'USER5834', 5834: 'USER5835', 5835: 'USER5836', 5836: 'USER5837', 5837: 'USER5838', 5838: 'USER5839', 5839: 'USER5840', 5840: 'USER5841', 5841: 'USER5842', 5842: 'USER5843', 5843: 'USER5844', 5844: 'USER5845', 5845: 'USER5846', 5846: 'USER5847', 5847: 'USER5848', 5848: 'USER5849', 5849: 'USER5850', 5850: 'USER5851', 5851: 'USER5852', 5852: 'USER5853', 5853: 'USER5854', 5854: 'USER5855', 5855: 'USER5856', 5856: 'USER5857', 5857: 'USER5858', 5858: 'USER5859', 5859: 'USER5860', 5860: 'USER5861', 5861: 'USER5862', 5862: 'USER5863', 5863: 'USER5864', 5864: 'USER5865', 5865: 'USER5866', 5866: 'USER5867', 5867: 'USER5868', 5868: 'USER5869', 5869: 'USER5870', 5870: 'USER5871', 5871: 'USER5872', 5872: 'USER5873', 5873: 'USER5874', 5874: 'USER5875', 5875: 'USER5876', 5876: 'USER5877', 5877: 'USER5878', 5878: 'USER5879', 5879: 'USER5880', 5880: 'USER5881', 5881: 'USER5882', 5882: 'USER5883', 5883: 'USER5884', 5884: 'USER5885', 5885: 'USER5886', 5886: 'USER5887', 5887: 'USER5888', 5888: 'USER5889', 5889: 'USER5890', 5890: 'USER5891', 5891: 'USER5892', 5892: 'USER5893', 5893: 'USER5894', 5894: 'USER5895', 5895: 'USER5896', 5896: 'USER5897', 5897: 'USER5898', 5898: 'USER5899', 5899: 'USER5900', 5900: 'USER5901', 5901: 'USER5902', 5902: 'USER5903', 5903: 'USER5904', 5904: 'USER5905', 5905: 'USER5906', 5906: 'USER5907', 5907: 'USER5908', 5908: 'USER5909', 5909: 'USER5910', 5910: 'USER5911', 5911: 'USER5912', 5912: 'USER5913', 5913: 'USER5914', 5914: 'USER5915', 5915: 'USER5916', 5916: 'USER5917', 5917: 'USER5918', 5918: 'USER5919', 5919: 'USER5920', 5920: 'USER5921', 5921: 'USER5922', 5922: 'USER5923', 5923: 'USER5924', 5924: 'USER5925', 5925: 'USER5926', 5926: 'USER5927', 5927: 'USER5928', 5928: 'USER5929', 5929: 'USER5930', 5930: 'USER5931', 5931: 'USER5932', 5932: 'USER5933', 5933: 'USER5934', 5934: 'USER5935', 5935: 'USER5936', 5936: 'USER5937', 5937: 'USER5938', 5938: 'USER5939', 5939: 'USER5940', 5940: 'USER5941', 5941: 'USER5942', 5942: 'USER5943', 5943: 'USER5944', 5944: 'USER5945', 5945: 'USER5946', 5946: 'USER5947', 5947: 'USER5948', 5948: 'USER5949', 5949: 'USER5950', 5950: 'USER5951', 5951: 'USER5952', 5952: 'USER5953', 5953: 'USER5954', 5954: 'USER5955', 5955: 'USER5956', 5956: 'USER5957', 5957: 'USER5958', 5958: 'USER5959', 5959: 'USER5960', 5960: 'USER5961', 5961: 'USER5962', 5962: 'USER5963', 5963: 'USER5964', 5964: 'USER5965', 5965: 'USER5966', 5966: 'USER5967', 5967: 'USER5968', 5968: 'USER5969', 5969: 'USER5970', 5970: 'USER5971', 5971: 'USER5972', 5972: 'USER5973', 5973: 'USER5974', 5974: 'USER5975', 5975: 'USER5976', 5976: 'USER5977', 5977: 'USER5978', 5978: 'USER5979', 5979: 'USER5980', 5980: 'USER5981', 5981: 'USER5982', 5982: 'USER5983', 5983: 'USER5984', 5984: 'USER5985', 5985: 'USER5986', 5986: 'USER5987', 5987: 'USER5988', 5988: 'USER5989', 5989: 'USER5990', 5990: 'USER5991', 5991: 'USER5992', 5992: 'USER5993', 5993: 'USER5994', 5994: 'USER5995', 5995: 'USER5996', 5996: 'USER5997', 5997: 'USER5998', 5998: 'USER5999', 5999: 'USER6000', 6000: 'USER6001', 6001: 'USER6002', 6002: 'USER6003', 6003: 'USER6004', 6004: 'USER6005', 6005: 'USER6006', 6006: 'USER6007', 6007: 'USER6008', 6008: 'USER6009', 6009: 'USER6010', 6010: 'USER6011', 6011: 'USER6012', 6012: 'USER6013', 6013: 'USER6014', 6014: 'USER6015', 6015: 'USER6016', 6016: 'USER6017', 6017: 'USER6018', 6018: 'USER6019', 6019: 'USER6020', 6020: 'USER6021', 6021: 'USER6022', 6022: 'USER6023', 6023: 'USER6024', 6024: 'USER6025', 6025: 'USER6026', 6026: 'USER6027', 6027: 'USER6028', 6028: 'USER6029', 6029: 'USER6030', 6030: 'USER6031', 6031: 'USER6032', 6032: 'USER6033', 6033: 'USER6034', 6034: 'USER6035', 6035: 'USER6036', 6036: 'USER6037', 6037: 'USER6038', 6038: 'USER6039', 6039: 'USER6040', 6040: 'USER6041', 6041: 'USER6042', 6042: 'USER6043', 6043: 'USER6044', 6044: 'USER6045', 6045: 'USER6046', 6046: 'USER6047', 6047: 'USER6048', 6048: 'USER6049', 6049: 'USER6050', 6050: 'USER6051', 6051: 'USER6052', 6052: 'USER6053', 6053: 'USER6054', 6054: 'USER6055', 6055: 'USER6056', 6056: 'USER6057', 6057: 'USER6058', 6058: 'USER6059', 6059: 'USER6060', 6060: 'USER6061', 6061: 'USER6062', 6062: 'USER6063', 6063: 'USER6064', 6064: 'USER6065', 6065: 'USER6066', 6066: 'USER6067', 6067: 'USER6068', 6068: 'USER6069', 6069: 'USER6070', 6070: 'USER6071', 6071: 'USER6072', 6072: 'USER6073', 6073: 'USER6074', 6074: 'USER6075', 6075: 'USER6076', 6076: 'USER6077', 6077: 'USER6078', 6078: 'USER6079', 6079: 'USER6080', 6080: 'USER6081', 6081: 'USER6082', 6082: 'USER6083', 6083: 'USER6084', 6084: 'USER6085', 6085: 'USER6086', 6086: 'USER6087', 6087: 'USER6088', 6088: 'USER6089', 6089: 'USER6090', 6090: 'USER6091', 6091: 'USER6092', 6092: 'USER6093', 6093: 'USER6094', 6094: 'USER6095', 6095: 'USER6096', 6096: 'USER6097', 6097: 'USER6098', 6098: 'USER6099', 6099: 'USER6100', 6100: 'USER6101', 6101: 'USER6102', 6102: 'USER6103', 6103: 'USER6104', 6104: 'USER6105', 6105: 'USER6106', 6106: 'USER6107', 6107: 'USER6108', 6108: 'USER6109', 6109: 'USER6110', 6110: 'USER6111', 6111: 'USER6112', 6112: 'USER6113', 6113: 'USER6114', 6114: 'USER6115', 6115: 'USER6116', 6116: 'USER6117', 6117: 'USER6118', 6118: 'USER6119', 6119: 'USER6120', 6120: 'USER6121', 6121: 'USER6122', 6122: 'USER6123', 6123: 'USER6124', 6124: 'USER6125', 6125: 'USER6126', 6126: 'USER6127', 6127: 'USER6128', 6128: 'USER6129', 6129: 'USER6130', 6130: 'USER6131', 6131: 'USER6132', 6132: 'USER6133', 6133: 'USER6134', 6134: 'USER6135', 6135: 'USER6136', 6136: 'USER6137', 6137: 'USER6138', 6138: 'USER6139', 6139: 'USER6140', 6140: 'USER6141', 6141: 'USER6142', 6142: 'USER6143', 6143: 'USER6144', 6144: 'USER6145', 6145: 'USER6146', 6146: 'USER6147', 6147: 'USER6148', 6148: 'USER6149', 6149: 'USER6150', 6150: 'USER6151', 6151: 'USER6152', 6152: 'USER6153', 6153: 'USER6154', 6154: 'USER6155', 6155: 'USER6156', 6156: 'USER6157', 6157: 'USER6158', 6158: 'USER6159', 6159: 'USER6160', 6160: 'USER6161', 6161: 'USER6162', 6162: 'USER6163', 6163: 'USER6164', 6164: 'USER6165', 6165: 'USER6166', 6166: 'USER6167', 6167: 'USER6168', 6168: 'USER6169', 6169: 'USER6170', 6170: 'USER6171', 6171: 'USER6172', 6172: 'USER6173', 6173: 'USER6174', 6174: 'USER6175', 6175: 'USER6176', 6176: 'USER6177', 6177: 'USER6178', 6178: 'USER6179', 6179: 'USER6180', 6180: 'USER6181', 6181: 'USER6182', 6182: 'USER6183', 6183: 'USER6184', 6184: 'USER6185', 6185: 'USER6186', 6186: 'USER6187', 6187: 'USER6188', 6188: 'USER6189', 6189: 'USER6190', 6190: 'USER6191', 6191: 'USER6192', 6192: 'USER6193', 6193: 'USER6194', 6194: 'USER6195', 6195: 'USER6196', 6196: 'USER6197', 6197: 'USER6198', 6198: 'USER6199', 6199: 'USER6200', 6200: 'USER6201', 6201: 'USER6202', 6202: 'USER6203', 6203: 'USER6204', 6204: 'USER6205', 6205: 'USER6206', 6206: 'USER6207', 6207: 'USER6208', 6208: 'USER6209', 6209: 'USER6210', 6210: 'USER6211', 6211: 'USER6212', 6212: 'USER6213', 6213: 'USER6214', 6214: 'USER6215', 6215: 'USER6216', 6216: 'USER6217', 6217: 'USER6218', 6218: 'USER6219', 6219: 'USER6220', 6220: 'USER6221', 6221: 'USER6222', 6222: 'USER6223', 6223: 'USER6224', 6224: 'USER6225', 6225: 'USER6226', 6226: 'USER6227', 6227: 'USER6228', 6228: 'USER6229', 6229: 'USER6230', 6230: 'USER6231', 6231: 'USER6232', 6232: 'USER6233', 6233: 'USER6234', 6234: 'USER6235', 6235: 'USER6236', 6236: 'USER6237', 6237: 'USER6238', 6238: 'USER6239', 6239: 'USER6240', 6240: 'USER6241', 6241: 'USER6242', 6242: 'USER6243', 6243: 'USER6244', 6244: 'USER6245', 6245: 'USER6246', 6246: 'USER6247', 6247: 'USER6248', 6248: 'USER6249', 6249: 'USER6250', 6250: 'USER6251', 6251: 'USER6252', 6252: 'USER6253', 6253: 'USER6254', 6254: 'USER6255', 6255: 'USER6256', 6256: 'USER6257', 6257: 'USER6258', 6258: 'USER6259', 6259: 'USER6260', 6260: 'USER6261', 6261: 'USER6262', 6262: 'USER6263', 6263: 'USER6264', 6264: 'USER6265', 6265: 'USER6266', 6266: 'USER6267', 6267: 'USER6268', 6268: 'USER6269', 6269: 'USER6270', 6270: 'USER6271', 6271: 'USER6272', 6272: 'USER6273', 6273: 'USER6274', 6274: 'USER6275', 6275: 'USER6276', 6276: 'USER6277', 6277: 'USER6278', 6278: 'USER6279', 6279: 'USER6280', 6280: 'USER6281', 6281: 'USER6282', 6282: 'USER6283', 6283: 'USER6284', 6284: 'USER6285', 6285: 'USER6286', 6286: 'USER6287', 6287: 'USER6288', 6288: 'USER6289', 6289: 'USER6290', 6290: 'USER6291', 6291: 'USER6292', 6292: 'USER6293', 6293: 'USER6294', 6294: 'USER6295', 6295: 'USER6296', 6296: 'USER6297', 6297: 'USER6298', 6298: 'USER6299', 6299: 'USER6300', 6300: 'USER6301', 6301: 'USER6302', 6302: 'USER6303', 6303: 'USER6304', 6304: 'USER6305', 6305: 'USER6306', 6306: 'USER6307', 6307: 'USER6308', 6308: 'USER6309', 6309: 'USER6310', 6310: 'USER6311', 6311: 'USER6312', 6312: 'USER6313', 6313: 'USER6314', 6314: 'USER6315', 6315: 'USER6316', 6316: 'USER6317', 6317: 'USER6318', 6318: 'USER6319', 6319: 'USER6320', 6320: 'USER6321', 6321: 'USER6322', 6322: 'USER6323', 6323: 'USER6324', 6324: 'USER6325', 6325: 'USER6326', 6326: 'USER6327', 6327: 'USER6328', 6328: 'USER6329', 6329: 'USER6330', 6330: 'USER6331', 6331: 'USER6332', 6332: 'USER6333', 6333: 'USER6334', 6334: 'USER6335', 6335: 'USER6336', 6336: 'USER6337', 6337: 'USER6338', 6338: 'USER6339', 6339: 'USER6340', 6340: 'USER6341', 6341: 'USER6342', 6342: 'USER6343', 6343: 'USER6344', 6344: 'USER6345', 6345: 'USER6346', 6346: 'USER6347', 6347: 'USER6348', 6348: 'USER6349', 6349: 'USER6350', 6350: 'USER6351', 6351: 'USER6352', 6352: 'USER6353', 6353: 'USER6354', 6354: 'USER6355', 6355: 'USER6356', 6356: 'USER6357', 6357: 'USER6358', 6358: 'USER6359', 6359: 'USER6360', 6360: 'USER6361', 6361: 'USER6362', 6362: 'USER6363', 6363: 'USER6364', 6364: 'USER6365', 6365: 'USER6366', 6366: 'USER6367', 6367: 'USER6368', 6368: 'USER6369', 6369: 'USER6370', 6370: 'USER6371', 6371: 'USER6372', 6372: 'USER6373', 6373: 'USER6374', 6374: 'USER6375', 6375: 'USER6376', 6376: 'USER6377', 6377: 'USER6378', 6378: 'USER6379', 6379: 'USER6380', 6380: 'USER6381', 6381: 'USER6382', 6382: 'USER6383', 6383: 'USER6384', 6384: 'USER6385', 6385: 'USER6386', 6386: 'USER6387', 6387: 'USER6388', 6388: 'USER6389', 6389: 'USER6390', 6390: 'USER6391', 6391: 'USER6392', 6392: 'USER6393', 6393: 'USER6394', 6394: 'USER6395', 6395: 'USER6396', 6396: 'USER6397', 6397: 'USER6398', 6398: 'USER6399', 6399: 'USER6400', 6400: 'USER6401', 6401: 'USER6402', 6402: 'USER6403', 6403: 'USER6404', 6404: 'USER6405', 6405: 'USER6406', 6406: 'USER6407', 6407: 'USER6408', 6408: 'USER6409', 6409: 'USER6410', 6410: 'USER6411', 6411: 'USER6412', 6412: 'USER6413', 6413: 'USER6414', 6414: 'USER6415', 6415: 'USER6416', 6416: 'USER6417', 6417: 'USER6418', 6418: 'USER6419', 6419: 'USER6420', 6420: 'USER6421', 6421: 'USER6422', 6422: 'USER6423', 6423: 'USER6424', 6424: 'USER6425', 6425: 'USER6426', 6426: 'USER6427', 6427: 'USER6428', 6428: 'USER6429', 6429: 'USER6430', 6430: 'USER6431', 6431: 'USER6432', 6432: 'USER6433', 6433: 'USER6434', 6434: 'USER6435', 6435: 'USER6436', 6436: 'USER6437', 6437: 'USER6438', 6438: 'USER6439', 6439: 'USER6440', 6440: 'USER6441', 6441: 'USER6442', 6442: 'USER6443', 6443: 'USER6444', 6444: 'USER6445', 6445: 'USER6446', 6446: 'USER6447', 6447: 'USER6448', 6448: 'USER6449', 6449: 'USER6450', 6450: 'USER6451', 6451: 'USER6452', 6452: 'USER6453', 6453: 'USER6454', 6454: 'USER6455', 6455: 'USER6456', 6456: 'USER6457', 6457: 'USER6458', 6458: 'USER6459', 6459: 'USER6460', 6460: 'USER6461', 6461: 'USER6462', 6462: 'USER6463', 6463: 'USER6464', 6464: 'USER6465', 6465: 'USER6466', 6466: 'USER6467', 6467: 'USER6468', 6468: 'USER6469', 6469: 'USER6470', 6470: 'USER6471', 6471: 'USER6472', 6472: 'USER6473', 6473: 'USER6474', 6474: 'USER6475', 6475: 'USER6476', 6476: 'USER6477', 6477: 'USER6478', 6478: 'USER6479', 6479: 'USER6480', 6480: 'USER6481', 6481: 'USER6482', 6482: 'USER6483', 6483: 'USER6484', 6484: 'USER6485', 6485: 'USER6486', 6486: 'USER6487', 6487: 'USER6488', 6488: 'USER6489', 6489: 'USER6490', 6490: 'USER6491', 6491: 'USER6492', 6492: 'USER6493', 6493: 'USER6494', 6494: 'USER6495', 6495: 'USER6496', 6496: 'USER6497', 6497: 'USER6498', 6498: 'USER6499', 6499: 'USER6500', 6500: 'USER6501', 6501: 'USER6502', 6502: 'USER6503', 6503: 'USER6504', 6504: 'USER6505', 6505: 'USER6506', 6506: 'USER6507', 6507: 'USER6508', 6508: 'USER6509', 6509: 'USER6510', 6510: 'USER6511', 6511: 'USER6512', 6512: 'USER6513', 6513: 'USER6514', 6514: 'USER6515', 6515: 'USER6516', 6516: 'USER6517', 6517: 'USER6518', 6518: 'USER6519', 6519: 'USER6520', 6520: 'USER6521', 6521: 'USER6522', 6522: 'USER6523', 6523: 'USER6524', 6524: 'USER6525', 6525: 'USER6526', 6526: 'USER6527', 6527: 'USER6528', 6528: 'USER6529', 6529: 'USER6530', 6530: 'USER6531', 6531: 'USER6532', 6532: 'USER6533', 6533: 'USER6534', 6534: 'USER6535', 6535: 'USER6536', 6536: 'USER6537', 6537: 'USER6538', 6538: 'USER6539', 6539: 'USER6540', 6540: 'USER6541', 6541: 'USER6542', 6542: 'USER6543', 6543: 'USER6544', 6544: 'USER6545', 6545: 'USER6546', 6546: 'USER6547', 6547: 'USER6548', 6548: 'USER6549', 6549: 'USER6550', 6550: 'USER6551', 6551: 'USER6552', 6552: 'USER6553', 6553: 'USER6554', 6554: 'USER6555', 6555: 'USER6556', 6556: 'USER6557', 6557: 'USER6558', 6558: 'USER6559', 6559: 'USER6560', 6560: 'USER6561', 6561: 'USER6562', 6562: 'USER6563', 6563: 'USER6564', 6564: 'USER6565', 6565: 'USER6566', 6566: 'USER6567', 6567: 'USER6568', 6568: 'USER6569', 6569: 'USER6570', 6570: 'USER6571', 6571: 'USER6572', 6572: 'USER6573', 6573: 'USER6574', 6574: 'USER6575', 6575: 'USER6576', 6576: 'USER6577', 6577: 'USER6578', 6578: 'USER6579', 6579: 'USER6580', 6580: 'USER6581', 6581: 'USER6582', 6582: 'USER6583', 6583: 'USER6584', 6584: 'USER6585', 6585: 'USER6586', 6586: 'USER6587', 6587: 'USER6588', 6588: 'USER6589', 6589: 'USER6590', 6590: 'USER6591', 6591: 'USER6592', 6592: 'USER6593', 6593: 'USER6594', 6594: 'USER6595', 6595: 'USER6596', 6596: 'USER6597', 6597: 'USER6598', 6598: 'USER6599', 6599: 'USER6600', 6600: 'USER6601', 6601: 'USER6602', 6602: 'USER6603', 6603: 'USER6604', 6604: 'USER6605', 6605: 'USER6606', 6606: 'USER6607', 6607: 'USER6608', 6608: 'USER6609', 6609: 'USER6610', 6610: 'USER6611', 6611: 'USER6612', 6612: 'USER6613', 6613: 'USER6614', 6614: 'USER6615', 6615: 'USER6616', 6616: 'USER6617', 6617: 'USER6618', 6618: 'USER6619', 6619: 'USER6620', 6620: 'USER6621', 6621: 'USER6622', 6622: 'USER6623', 6623: 'USER6624', 6624: 'USER6625', 6625: 'USER6626', 6626: 'USER6627', 6627: 'USER6628', 6628: 'USER6629', 6629: 'USER6630', 6630: 'USER6631', 6631: 'USER6632', 6632: 'USER6633', 6633: 'USER6634', 6634: 'USER6635', 6635: 'USER6636', 6636: 'USER6637', 6637: 'USER6638', 6638: 'USER6639', 6639: 'USER6640', 6640: 'USER6641', 6641: 'USER6642', 6642: 'USER6643', 6643: 'USER6644', 6644: 'USER6645', 6645: 'USER6646', 6646: 'USER6647', 6647: 'USER6648', 6648: 'USER6649', 6649: 'USER6650', 6650: 'USER6651', 6651: 'USER6652', 6652: 'USER6653', 6653: 'USER6654', 6654: 'USER6655', 6655: 'USER6656', 6656: 'USER6657', 6657: 'USER6658', 6658: 'USER6659', 6659: 'USER6660', 6660: 'USER6661', 6661: 'USER6662', 6662: 'USER6663', 6663: 'USER6664', 6664: 'USER6665', 6665: 'USER6666', 6666: 'USER6667', 6667: 'USER6668', 6668: 'USER6669', 6669: 'USER6670', 6670: 'USER6671', 6671: 'USER6672', 6672: 'USER6673', 6673: 'USER6674', 6674: 'USER6675', 6675: 'USER6676', 6676: 'USER6677', 6677: 'USER6678', 6678: 'USER6679', 6679: 'USER6680', 6680: 'USER6681', 6681: 'USER6682', 6682: 'USER6683', 6683: 'USER6684', 6684: 'USER6685', 6685: 'USER6686', 6686: 'USER6687', 6687: 'USER6688', 6688: 'USER6689', 6689: 'USER6690', 6690: 'USER6691', 6691: 'USER6692', 6692: 'USER6693', 6693: 'USER6694', 6694: 'USER6695', 6695: 'USER6696', 6696: 'USER6697', 6697: 'USER6698', 6698: 'USER6699', 6699: 'USER6700', 6700: 'USER6701', 6701: 'USER6702', 6702: 'USER6703', 6703: 'USER6704', 6704: 'USER6705', 6705: 'USER6706', 6706: 'USER6707', 6707: 'USER6708', 6708: 'USER6709', 6709: 'USER6710', 6710: 'USER6711', 6711: 'USER6712', 6712: 'USER6713', 6713: 'USER6714', 6714: 'USER6715', 6715: 'USER6716', 6716: 'USER6717', 6717: 'USER6718', 6718: 'USER6719', 6719: 'USER6720', 6720: 'USER6721', 6721: 'USER6722', 6722: 'USER6723', 6723: 'USER6724', 6724: 'USER6725', 6725: 'USER6726', 6726: 'USER6727', 6727: 'USER6728', 6728: 'USER6729', 6729: 'USER6730', 6730: 'USER6731', 6731: 'USER6732', 6732: 'USER6733', 6733: 'USER6734', 6734: 'USER6735', 6735: 'USER6736', 6736: 'USER6737', 6737: 'USER6738', 6738: 'USER6739', 6739: 'USER6740', 6740: 'USER6741', 6741: 'USER6742', 6742: 'USER6743', 6743: 'USER6744', 6744: 'USER6745', 6745: 'USER6746', 6746: 'USER6747', 6747: 'USER6748', 6748: 'USER6749', 6749: 'USER6750', 6750: 'USER6751', 6751: 'USER6752', 6752: 'USER6753', 6753: 'USER6754', 6754: 'USER6755', 6755: 'USER6756', 6756: 'USER6757', 6757: 'USER6758', 6758: 'USER6759', 6759: 'USER6760', 6760: 'USER6761', 6761: 'USER6762', 6762: 'USER6763', 6763: 'USER6764', 6764: 'USER6765', 6765: 'USER6766', 6766: 'USER6767', 6767: 'USER6768', 6768: 'USER6769', 6769: 'USER6770', 6770: 'USER6771', 6771: 'USER6772', 6772: 'USER6773', 6773: 'USER6774', 6774: 'USER6775', 6775: 'USER6776', 6776: 'USER6777', 6777: 'USER6778', 6778: 'USER6779', 6779: 'USER6780', 6780: 'USER6781', 6781: 'USER6782', 6782: 'USER6783', 6783: 'USER6784', 6784: 'USER6785', 6785: 'USER6786', 6786: 'USER6787', 6787: 'USER6788', 6788: 'USER6789', 6789: 'USER6790', 6790: 'USER6791', 6791: 'USER6792', 6792: 'USER6793', 6793: 'USER6794', 6794: 'USER6795', 6795: 'USER6796', 6796: 'USER6797', 6797: 'USER6798', 6798: 'USER6799', 6799: 'USER6800', 6800: 'USER6801', 6801: 'USER6802', 6802: 'USER6803', 6803: 'USER6804', 6804: 'USER6805', 6805: 'USER6806', 6806: 'USER6807', 6807: 'USER6808', 6808: 'USER6809', 6809: 'USER6810', 6810: 'USER6811', 6811: 'USER6812', 6812: 'USER6813', 6813: 'USER6814', 6814: 'USER6815', 6815: 'USER6816', 6816: 'USER6817', 6817: 'USER6818', 6818: 'USER6819', 6819: 'USER6820', 6820: 'USER6821', 6821: 'USER6822', 6822: 'USER6823', 6823: 'USER6824', 6824: 'USER6825', 6825: 'USER6826', 6826: 'USER6827', 6827: 'USER6828', 6828: 'USER6829', 6829: 'USER6830', 6830: 'USER6831', 6831: 'USER6832', 6832: 'USER6833', 6833: 'USER6834', 6834: 'USER6835', 6835: 'USER6836', 6836: 'USER6837', 6837: 'USER6838', 6838: 'USER6839', 6839: 'USER6840', 6840: 'USER6841', 6841: 'USER6842', 6842: 'USER6843', 6843: 'USER6844', 6844: 'USER6845', 6845: 'USER6846', 6846: 'USER6847', 6847: 'USER6848', 6848: 'USER6849', 6849: 'USER6850', 6850: 'USER6851', 6851: 'USER6852', 6852: 'USER6853', 6853: 'USER6854', 6854: 'USER6855', 6855: 'USER6856', 6856: 'USER6857', 6857: 'USER6858', 6858: 'USER6859', 6859: 'USER6860', 6860: 'USER6861', 6861: 'USER6862', 6862: 'USER6863', 6863: 'USER6864', 6864: 'USER6865', 6865: 'USER6866', 6866: 'USER6867', 6867: 'USER6868', 6868: 'USER6869', 6869: 'USER6870', 6870: 'USER6871', 6871: 'USER6872', 6872: 'USER6873', 6873: 'USER6874', 6874: 'USER6875', 6875: 'USER6876', 6876: 'USER6877', 6877: 'USER6878', 6878: 'USER6879', 6879: 'USER6880', 6880: 'USER6881', 6881: 'USER6882', 6882: 'USER6883', 6883: 'USER6884', 6884: 'USER6885', 6885: 'USER6886', 6886: 'USER6887', 6887: 'USER6888', 6888: 'USER6889', 6889: 'USER6890', 6890: 'USER6891', 6891: 'USER6892', 6892: 'USER6893', 6893: 'USER6894', 6894: 'USER6895', 6895: 'USER6896', 6896: 'USER6897', 6897: 'USER6898', 6898: 'USER6899', 6899: 'USER6900', 6900: 'USER6901', 6901: 'USER6902', 6902: 'USER6903', 6903: 'USER6904', 6904: 'USER6905', 6905: 'USER6906', 6906: 'USER6907', 6907: 'USER6908', 6908: 'USER6909', 6909: 'USER6910', 6910: 'USER6911', 6911: 'USER6912', 6912: 'USER6913', 6913: 'USER6914', 6914: 'USER6915', 6915: 'USER6916', 6916: 'USER6917', 6917: 'USER6918', 6918: 'USER6919', 6919: 'USER6920', 6920: 'USER6921', 6921: 'USER6922', 6922: 'USER6923', 6923: 'USER6924', 6924: 'USER6925', 6925: 'USER6926', 6926: 'USER6927', 6927: 'USER6928', 6928: 'USER6929', 6929: 'USER6930', 6930: 'USER6931', 6931: 'USER6932', 6932: 'USER6933', 6933: 'USER6934', 6934: 'USER6935', 6935: 'USER6936', 6936: 'USER6937', 6937: 'USER6938', 6938: 'USER6939', 6939: 'USER6940', 6940: 'USER6941', 6941: 'USER6942', 6942: 'USER6943', 6943: 'USER6944', 6944: 'USER6945', 6945: 'USER6946', 6946: 'USER6947', 6947: 'USER6948', 6948: 'USER6949', 6949: 'USER6950', 6950: 'USER6951', 6951: 'USER6952', 6952: 'USER6953', 6953: 'USER6954', 6954: 'USER6955', 6955: 'USER6956', 6956: 'USER6957', 6957: 'USER6958', 6958: 'USER6959', 6959: 'USER6960', 6960: 'USER6961', 6961: 'USER6962', 6962: 'USER6963', 6963: 'USER6964', 6964: 'USER6965', 6965: 'USER6966', 6966: 'USER6967', 6967: 'USER6968', 6968: 'USER6969', 6969: 'USER6970', 6970: 'USER6971', 6971: 'USER6972', 6972: 'USER6973', 6973: 'USER6974', 6974: 'USER6975', 6975: 'USER6976', 6976: 'USER6977', 6977: 'USER6978', 6978: 'USER6979', 6979: 'USER6980', 6980: 'USER6981', 6981: 'USER6982', 6982: 'USER6983', 6983: 'USER6984', 6984: 'USER6985', 6985: 'USER6986', 6986: 'USER6987', 6987: 'USER6988', 6988: 'USER6989', 6989: 'USER6990', 6990: 'USER6991', 6991: 'USER6992', 6992: 'USER6993', 6993: 'USER6994', 6994: 'USER6995', 6995: 'USER6996', 6996: 'USER6997', 6997: 'USER6998', 6998: 'USER6999', 6999: 'USER7000', 7000: 'USER7001', 7001: 'USER7002', 7002: 'USER7003', 7003: 'USER7004', 7004: 'USER7005', 7005: 'USER7006', 7006: 'USER7007', 7007: 'USER7008', 7008: 'USER7009', 7009: 'USER7010', 7010: 'USER7011', 7011: 'USER7012', 7012: 'USER7013', 7013: 'USER7014', 7014: 'USER7015', 7015: 'USER7016', 7016: 'USER7017', 7017: 'USER7018', 7018: 'USER7019', 7019: 'USER7020', 7020: 'USER7021', 7021: 'USER7022', 7022: 'USER7023', 7023: 'USER7024', 7024: 'USER7025', 7025: 'USER7026', 7026: 'USER7027', 7027: 'USER7028', 7028: 'USER7029', 7029: 'USER7030', 7030: 'USER7031', 7031: 'USER7032', 7032: 'USER7033', 7033: 'USER7034', 7034: 'USER7035', 7035: 'USER7036', 7036: 'USER7037', 7037: 'USER7038', 7038: 'USER7039', 7039: 'USER7040', 7040: 'USER7041', 7041: 'USER7042', 7042: 'USER7043', 7043: 'USER7044', 7044: 'USER7045', 7045: 'USER7046', 7046: 'USER7047', 7047: 'USER7048', 7048: 'USER7049', 7049: 'USER7050', 7050: 'USER7051', 7051: 'USER7052', 7052: 'USER7053', 7053: 'USER7054', 7054: 'USER7055', 7055: 'USER7056', 7056: 'USER7057', 7057: 'USER7058', 7058: 'USER7059', 7059: 'USER7060', 7060: 'USER7061', 7061: 'USER7062', 7062: 'USER7063', 7063: 'USER7064', 7064: 'USER7065', 7065: 'USER7066', 7066: 'USER7067', 7067: 'USER7068', 7068: 'USER7069', 7069: 'USER7070', 7070: 'USER7071', 7071: 'USER7072', 7072: 'USER7073', 7073: 'USER7074', 7074: 'USER7075', 7075: 'USER7076', 7076: 'USER7077', 7077: 'USER7078', 7078: 'USER7079', 7079: 'USER7080', 7080: 'USER7081', 7081: 'USER7082', 7082: 'USER7083', 7083: 'USER7084', 7084: 'USER7085', 7085: 'USER7086', 7086: 'USER7087', 7087: 'USER7088', 7088: 'USER7089', 7089: 'USER7090', 7090: 'USER7091', 7091: 'USER7092', 7092: 'USER7093', 7093: 'USER7094', 7094: 'USER7095', 7095: 'USER7096', 7096: 'USER7097', 7097: 'USER7098', 7098: 'USER7099', 7099: 'USER7100', 7100: 'USER7101', 7101: 'USER7102', 7102: 'USER7103', 7103: 'USER7104', 7104: 'USER7105', 7105: 'USER7106', 7106: 'USER7107', 7107: 'USER7108', 7108: 'USER7109', 7109: 'USER7110', 7110: 'USER7111', 7111: 'USER7112', 7112: 'USER7113', 7113: 'USER7114', 7114: 'USER7115', 7115: 'USER7116', 7116: 'USER7117', 7117: 'USER7118', 7118: 'USER7119', 7119: 'USER7120', 7120: 'USER7121', 7121: 'USER7122', 7122: 'USER7123', 7123: 'USER7124', 7124: 'USER7125', 7125: 'USER7126', 7126: 'USER7127', 7127: 'USER7128', 7128: 'USER7129', 7129: 'USER7130', 7130: 'USER7131', 7131: 'USER7132', 7132: 'USER7133', 7133: 'USER7134', 7134: 'USER7135', 7135: 'USER7136', 7136: 'USER7137', 7137: 'USER7138', 7138: 'USER7139', 7139: 'USER7140', 7140: 'USER7141', 7141: 'USER7142', 7142: 'USER7143', 7143: 'USER7144', 7144: 'USER7145', 7145: 'USER7146', 7146: 'USER7147', 7147: 'USER7148', 7148: 'USER7149', 7149: 'USER7150', 7150: 'USER7151', 7151: 'USER7152', 7152: 'USER7153', 7153: 'USER7154', 7154: 'USER7155', 7155: 'USER7156', 7156: 'USER7157', 7157: 'USER7158', 7158: 'USER7159', 7159: 'USER7160', 7160: 'USER7161', 7161: 'USER7162', 7162: 'USER7163', 7163: 'USER7164', 7164: 'USER7165', 7165: 'USER7166', 7166: 'USER7167', 7167: 'USER7168', 7168: 'USER7169', 7169: 'USER7170', 7170: 'USER7171', 7171: 'USER7172', 7172: 'USER7173', 7173: 'USER7174', 7174: 'USER7175', 7175: 'USER7176', 7176: 'USER7177', 7177: 'USER7178', 7178: 'USER7179', 7179: 'USER7180', 7180: 'USER7181', 7181: 'USER7182', 7182: 'USER7183', 7183: 'USER7184', 7184: 'USER7185', 7185: 'USER7186', 7186: 'USER7187', 7187: 'USER7188', 7188: 'USER7189', 7189: 'USER7190', 7190: 'USER7191', 7191: 'USER7192', 7192: 'USER7193', 7193: 'USER7194', 7194: 'USER7195', 7195: 'USER7196', 7196: 'USER7197', 7197: 'USER7198', 7198: 'USER7199', 7199: 'USER7200', 7200: 'USER7201', 7201: 'USER7202', 7202: 'USER7203', 7203: 'USER7204', 7204: 'USER7205', 7205: 'USER7206', 7206: 'USER7207', 7207: 'USER7208', 7208: 'USER7209', 7209: 'USER7210', 7210: 'USER7211', 7211: 'USER7212', 7212: 'USER7213', 7213: 'USER7214', 7214: 'USER7215', 7215: 'USER7216', 7216: 'USER7217', 7217: 'USER7218', 7218: 'USER7219', 7219: 'USER7220', 7220: 'USER7221', 7221: 'USER7222', 7222: 'USER7223', 7223: 'USER7224', 7224: 'USER7225', 7225: 'USER7226', 7226: 'USER7227', 7227: 'USER7228', 7228: 'USER7229', 7229: 'USER7230', 7230: 'USER7231', 7231: 'USER7232', 7232: 'USER7233', 7233: 'USER7234', 7234: 'USER7235', 7235: 'USER7236', 7236: 'USER7237', 7237: 'USER7238', 7238: 'USER7239', 7239: 'USER7240', 7240: 'USER7241', 7241: 'USER7242', 7242: 'USER7243', 7243: 'USER7244', 7244: 'USER7245', 7245: 'USER7246', 7246: 'USER7247', 7247: 'USER7248', 7248: 'USER7249', 7249: 'USER7250', 7250: 'USER7251', 7251: 'USER7252', 7252: 'USER7253', 7253: 'USER7254', 7254: 'USER7255', 7255: 'USER7256', 7256: 'USER7257', 7257: 'USER7258', 7258: 'USER7259', 7259: 'USER7260', 7260: 'USER7261', 7261: 'USER7262', 7262: 'USER7263', 7263: 'USER7264', 7264: 'USER7265', 7265: 'USER7266', 7266: 'USER7267', 7267: 'USER7268', 7268: 'USER7269', 7269: 'USER7270', 7270: 'USER7271', 7271: 'USER7272', 7272: 'USER7273', 7273: 'USER7274', 7274: 'USER7275', 7275: 'USER7276', 7276: 'USER7277', 7277: 'USER7278', 7278: 'USER7279', 7279: 'USER7280', 7280: 'USER7281', 7281: 'USER7282', 7282: 'USER7283', 7283: 'USER7284', 7284: 'USER7285', 7285: 'USER7286', 7286: 'USER7287', 7287: 'USER7288', 7288: 'USER7289', 7289: 'USER7290', 7290: 'USER7291', 7291: 'USER7292', 7292: 'USER7293', 7293: 'USER7294', 7294: 'USER7295', 7295: 'USER7296', 7296: 'USER7297', 7297: 'USER7298', 7298: 'USER7299', 7299: 'USER7300', 7300: 'USER7301', 7301: 'USER7302', 7302: 'USER7303', 7303: 'USER7304', 7304: 'USER7305', 7305: 'USER7306', 7306: 'USER7307', 7307: 'USER7308', 7308: 'USER7309', 7309: 'USER7310', 7310: 'USER7311', 7311: 'USER7312', 7312: 'USER7313', 7313: 'USER7314', 7314: 'USER7315', 7315: 'USER7316', 7316: 'USER7317', 7317: 'USER7318', 7318: 'USER7319', 7319: 'USER7320', 7320: 'USER7321', 7321: 'USER7322', 7322: 'USER7323', 7323: 'USER7324', 7324: 'USER7325', 7325: 'USER7326', 7326: 'USER7327', 7327: 'USER7328', 7328: 'USER7329', 7329: 'USER7330', 7330: 'USER7331', 7331: 'USER7332', 7332: 'USER7333', 7333: 'USER7334', 7334: 'USER7335', 7335: 'USER7336', 7336: 'USER7337', 7337: 'USER7338', 7338: 'USER7339', 7339: 'USER7340', 7340: 'USER7341', 7341: 'USER7342', 7342: 'USER7343', 7343: 'USER7344', 7344: 'USER7345', 7345: 'USER7346', 7346: 'USER7347', 7347: 'USER7348', 7348: 'USER7349', 7349: 'USER7350', 7350: 'USER7351', 7351: 'USER7352', 7352: 'USER7353', 7353: 'USER7354', 7354: 'USER7355', 7355: 'USER7356', 7356: 'USER7357', 7357: 'USER7358', 7358: 'USER7359', 7359: 'USER7360', 7360: 'USER7361', 7361: 'USER7362', 7362: 'USER7363', 7363: 'USER7364', 7364: 'USER7365', 7365: 'USER7366', 7366: 'USER7367', 7367: 'USER7368', 7368: 'USER7369', 7369: 'USER7370', 7370: 'USER7371', 7371: 'USER7372', 7372: 'USER7373', 7373: 'USER7374', 7374: 'USER7375', 7375: 'USER7376', 7376: 'USER7377', 7377: 'USER7378', 7378: 'USER7379', 7379: 'USER7380', 7380: 'USER7381', 7381: 'USER7382', 7382: 'USER7383', 7383: 'USER7384', 7384: 'USER7385', 7385: 'USER7386', 7386: 'USER7387', 7387: 'USER7388', 7388: 'USER7389', 7389: 'USER7390', 7390: 'USER7391', 7391: 'USER7392', 7392: 'USER7393', 7393: 'USER7394', 7394: 'USER7395', 7395: 'USER7396', 7396: 'USER7397', 7397: 'USER7398', 7398: 'USER7399', 7399: 'USER7400', 7400: 'USER7401', 7401: 'USER7402', 7402: 'USER7403', 7403: 'USER7404', 7404: 'USER7405', 7405: 'USER7406', 7406: 'USER7407', 7407: 'USER7408', 7408: 'USER7409', 7409: 'USER7410', 7410: 'USER7411', 7411: 'USER7412', 7412: 'USER7413', 7413: 'USER7414', 7414: 'USER7415', 7415: 'USER7416', 7416: 'USER7417', 7417: 'USER7418', 7418: 'USER7419', 7419: 'USER7420', 7420: 'USER7421', 7421: 'USER7422', 7422: 'USER7423', 7423: 'USER7424', 7424: 'USER7425', 7425: 'USER7426', 7426: 'USER7427', 7427: 'USER7428', 7428: 'USER7429', 7429: 'USER7430', 7430: 'USER7431', 7431: 'USER7432', 7432: 'USER7433', 7433: 'USER7434', 7434: 'USER7435', 7435: 'USER7436', 7436: 'USER7437', 7437: 'USER7438', 7438: 'USER7439', 7439: 'USER7440', 7440: 'USER7441', 7441: 'USER7442', 7442: 'USER7443', 7443: 'USER7444', 7444: 'USER7445', 7445: 'USER7446', 7446: 'USER7447', 7447: 'USER7448', 7448: 'USER7449', 7449: 'USER7450', 7450: 'USER7451', 7451: 'USER7452', 7452: 'USER7453', 7453: 'USER7454', 7454: 'USER7455', 7455: 'USER7456', 7456: 'USER7457', 7457: 'USER7458', 7458: 'USER7459', 7459: 'USER7460', 7460: 'USER7461', 7461: 'USER7462', 7462: 'USER7463', 7463: 'USER7464', 7464: 'USER7465', 7465: 'USER7466', 7466: 'USER7467', 7467: 'USER7468', 7468: 'USER7469', 7469: 'USER7470', 7470: 'USER7471', 7471: 'USER7472', 7472: 'USER7473', 7473: 'USER7474', 7474: 'USER7475', 7475: 'USER7476', 7476: 'USER7477', 7477: 'USER7478', 7478: 'USER7479', 7479: 'USER7480', 7480: 'USER7481', 7481: 'USER7482', 7482: 'USER7483', 7483: 'USER7484', 7484: 'USER7485', 7485: 'USER7486', 7486: 'USER7487', 7487: 'USER7488', 7488: 'USER7489', 7489: 'USER7490', 7490: 'USER7491', 7491: 'USER7492', 7492: 'USER7493', 7493: 'USER7494', 7494: 'USER7495', 7495: 'USER7496', 7496: 'USER7497', 7497: 'USER7498', 7498: 'USER7499', 7499: 'USER7500', 7500: 'USER7501', 7501: 'USER7502', 7502: 'USER7503', 7503: 'USER7504', 7504: 'USER7505', 7505: 'USER7506', 7506: 'USER7507', 7507: 'USER7508', 7508: 'USER7509', 7509: 'USER7510', 7510: 'USER7511', 7511: 'USER7512', 7512: 'USER7513', 7513: 'USER7514', 7514: 'USER7515', 7515: 'USER7516', 7516: 'USER7517', 7517: 'USER7518', 7518: 'USER7519', 7519: 'USER7520', 7520: 'USER7521', 7521: 'USER7522', 7522: 'USER7523', 7523: 'USER7524', 7524: 'USER7525', 7525: 'USER7526', 7526: 'USER7527', 7527: 'USER7528', 7528: 'USER7529', 7529: 'USER7530', 7530: 'USER7531', 7531: 'USER7532'}\n"
          ]
        }
      ]
    },
    {
      "cell_type": "code",
      "source": [
        "# Mengubah Title menjadi list tanpa nilai yang sama\n",
        "drama_ids = data2['Title'].unique().tolist()\n",
        " \n",
        "# Melakukan proses encoding Title\n",
        "drama_to_drama_encoded = {x: i for i, x in enumerate(drama_ids)}\n",
        " \n",
        "# Melakukan proses encoding angka ke Title\n",
        "drama_encoded_to_drama = {i: x for i, x in enumerate(drama_ids)}"
      ],
      "metadata": {
        "id": "XWAKrJMC49-n"
      },
      "execution_count": null,
      "outputs": []
    },
    {
      "cell_type": "code",
      "source": [
        "# Mapping userID ke dataframe user\n",
        "data2['user'] = data2['User ID'].map(user_to_user_encoded)\n",
        " \n",
        "# Mapping placeID ke dataframe resto\n",
        "data2['drama'] = data2['Title'].map(drama_to_drama_encoded)"
      ],
      "metadata": {
        "id": "weJeX57P5bG_"
      },
      "execution_count": null,
      "outputs": []
    },
    {
      "cell_type": "code",
      "source": [
        "# Mendapatkan jumlah user\n",
        "num_users = len(user_to_user_encoded)\n",
        " \n",
        "# Mendapatkan jumlah resto\n",
        "num_drama = len(drama_encoded_to_drama)\n",
        " \n",
        "# Mengubah rating menjadi nilai float\n",
        "data2['Rating'] = data2['Rating'].values.astype(np.float32)\n",
        " \n",
        "# Nilai minimum rating\n",
        "min_rating = min(data2['Rating'])\n",
        " \n",
        "# Nilai maksimal rating\n",
        "max_rating = max(data2['Rating'])\n",
        " \n",
        "print('Number of User: {}, Number of Drama: {}, Min Rating: {}, Max Rating: {}'.format(\n",
        "    num_users, num_drama, min_rating, max_rating\n",
        "))"
      ],
      "metadata": {
        "colab": {
          "base_uri": "https://localhost:8080/"
        },
        "id": "JKJCljPp53YO",
        "outputId": "e9f5e604-463c-4dc3-c305-28f9686850ea"
      },
      "execution_count": null,
      "outputs": [
        {
          "output_type": "stream",
          "name": "stdout",
          "text": [
            "Number of User: 7532, Number of Drama: 938, Min Rating: 3.0, Max Rating: 10.0\n"
          ]
        }
      ]
    },
    {
      "cell_type": "markdown",
      "source": [
        "**Membagi Data Latih dan uji**\n",
        "\n",
        "Pada tahap ini, data akan dibagi menjadi data latih dan data uji untuk keperluan melatih model. Rasio yang digunakan adalah sebesar 80:20. Selain itu, data label yang digunakan, yaitu nilai rating, akan dilakukan normalisasi sehingga nilainya berada dalam rentang 0 dan 1. Hal ini akan memudahkan proses pelatihan model."
      ],
      "metadata": {
        "id": "jPnwRJ-C6fox"
      }
    },
    {
      "cell_type": "code",
      "source": [
        "# Mengacak dataset\n",
        "data2 = data2.sample(frac=1, random_state=42)\n",
        "data2"
      ],
      "metadata": {
        "colab": {
          "base_uri": "https://localhost:8080/",
          "height": 641
        },
        "id": "1F6ctz046i5K",
        "outputId": "e33212a5-87bf-44d4-c1af-338dcd3981e5"
      },
      "execution_count": null,
      "outputs": [
        {
          "output_type": "execute_result",
          "data": {
            "text/plain": [
              "                                Title  \\\n",
              "6716         The Road: Tragedy of One   \n",
              "3131         When the Weather is Fine   \n",
              "6340        Peter Pan and the Pirates   \n",
              "6100                   A Witch's Love   \n",
              "3044                The Crowned Clown   \n",
              "...                               ...   \n",
              "5191                        Dark Hole   \n",
              "5226  The Secret Life of My Secretary   \n",
              "5390                You Are Beautiful   \n",
              "860                       Beyond Evil   \n",
              "7270                A Thousand Kisses   \n",
              "\n",
              "                                           Review Title  Rating  \\\n",
              "6716                                     Didn't satisfy     5.0   \n",
              "3131                          Lovely cast of the drama.    10.0   \n",
              "6340                                           loved it    10.0   \n",
              "6100                                          Beautiful    10.0   \n",
              "3044                                        Mesmerizing    10.0   \n",
              "...                                                 ...     ...   \n",
              "5191                                   another grt show     8.0   \n",
              "5226  Despite being extremely cringy in some episode...     7.0   \n",
              "5390                       One Of The Best Asian Dramas    10.0   \n",
              "860   A therapeutic story about two men with good so...    10.0   \n",
              "7270                   Fun at first, then downhill fast     6.0   \n",
              "\n",
              "                                                 Review   Helpfulness  \\\n",
              "6716  I really expected it to be more realistic.The ...    2 out of 3   \n",
              "3131  First of all, I love the main leads. Then I wo...    8 out of 9   \n",
              "6340  i watched Peter Pan and the Pirates growing up...    3 out of 3   \n",
              "6100  I really enjoyed it. The story was very well w...    3 out of 4   \n",
              "3044  All the characters roles in this tv series wer...    2 out of 3   \n",
              "...                                                 ...           ...   \n",
              "5191  Seems for last few mths-all there been decent ...   6 out of 11   \n",
              "5226  So basically I have finished this in 3 days wi...    1 out of 2   \n",
              "5390  \"You're Beautiful\" is a story about a woman wh...  14 out of 17   \n",
              "860   I did not hear much about Beyond Evil from the...  14 out of 16   \n",
              "7270  I loved the series at first but I had to drop ...    0 out of 0   \n",
              "\n",
              "       User ID  user  drama  \n",
              "6716  USER6717  6716    539  \n",
              "3131  USER3132  3131    145  \n",
              "6340  USER6341  6340    438  \n",
              "6100  USER6101  6100    385  \n",
              "3044  USER3045  3044    141  \n",
              "...        ...   ...    ...  \n",
              "5191  USER5192  5191    275  \n",
              "5226  USER5227  5226    277  \n",
              "5390  USER5391  5390    293  \n",
              "860    USER861   860     39  \n",
              "7270  USER7271  7270    762  \n",
              "\n",
              "[7532 rows x 8 columns]"
            ],
            "text/html": [
              "\n",
              "  <div id=\"df-48096288-e4a4-44c2-b081-73885fa75fc1\">\n",
              "    <div class=\"colab-df-container\">\n",
              "      <div>\n",
              "<style scoped>\n",
              "    .dataframe tbody tr th:only-of-type {\n",
              "        vertical-align: middle;\n",
              "    }\n",
              "\n",
              "    .dataframe tbody tr th {\n",
              "        vertical-align: top;\n",
              "    }\n",
              "\n",
              "    .dataframe thead th {\n",
              "        text-align: right;\n",
              "    }\n",
              "</style>\n",
              "<table border=\"1\" class=\"dataframe\">\n",
              "  <thead>\n",
              "    <tr style=\"text-align: right;\">\n",
              "      <th></th>\n",
              "      <th>Title</th>\n",
              "      <th>Review Title</th>\n",
              "      <th>Rating</th>\n",
              "      <th>Review</th>\n",
              "      <th>Helpfulness</th>\n",
              "      <th>User ID</th>\n",
              "      <th>user</th>\n",
              "      <th>drama</th>\n",
              "    </tr>\n",
              "  </thead>\n",
              "  <tbody>\n",
              "    <tr>\n",
              "      <th>6716</th>\n",
              "      <td>The Road: Tragedy of One</td>\n",
              "      <td>Didn't satisfy</td>\n",
              "      <td>5.0</td>\n",
              "      <td>I really expected it to be more realistic.The ...</td>\n",
              "      <td>2 out of 3</td>\n",
              "      <td>USER6717</td>\n",
              "      <td>6716</td>\n",
              "      <td>539</td>\n",
              "    </tr>\n",
              "    <tr>\n",
              "      <th>3131</th>\n",
              "      <td>When the Weather is Fine</td>\n",
              "      <td>Lovely cast of the drama.</td>\n",
              "      <td>10.0</td>\n",
              "      <td>First of all, I love the main leads. Then I wo...</td>\n",
              "      <td>8 out of 9</td>\n",
              "      <td>USER3132</td>\n",
              "      <td>3131</td>\n",
              "      <td>145</td>\n",
              "    </tr>\n",
              "    <tr>\n",
              "      <th>6340</th>\n",
              "      <td>Peter Pan and the Pirates</td>\n",
              "      <td>loved it</td>\n",
              "      <td>10.0</td>\n",
              "      <td>i watched Peter Pan and the Pirates growing up...</td>\n",
              "      <td>3 out of 3</td>\n",
              "      <td>USER6341</td>\n",
              "      <td>6340</td>\n",
              "      <td>438</td>\n",
              "    </tr>\n",
              "    <tr>\n",
              "      <th>6100</th>\n",
              "      <td>A Witch's Love</td>\n",
              "      <td>Beautiful</td>\n",
              "      <td>10.0</td>\n",
              "      <td>I really enjoyed it. The story was very well w...</td>\n",
              "      <td>3 out of 4</td>\n",
              "      <td>USER6101</td>\n",
              "      <td>6100</td>\n",
              "      <td>385</td>\n",
              "    </tr>\n",
              "    <tr>\n",
              "      <th>3044</th>\n",
              "      <td>The Crowned Clown</td>\n",
              "      <td>Mesmerizing</td>\n",
              "      <td>10.0</td>\n",
              "      <td>All the characters roles in this tv series wer...</td>\n",
              "      <td>2 out of 3</td>\n",
              "      <td>USER3045</td>\n",
              "      <td>3044</td>\n",
              "      <td>141</td>\n",
              "    </tr>\n",
              "    <tr>\n",
              "      <th>...</th>\n",
              "      <td>...</td>\n",
              "      <td>...</td>\n",
              "      <td>...</td>\n",
              "      <td>...</td>\n",
              "      <td>...</td>\n",
              "      <td>...</td>\n",
              "      <td>...</td>\n",
              "      <td>...</td>\n",
              "    </tr>\n",
              "    <tr>\n",
              "      <th>5191</th>\n",
              "      <td>Dark Hole</td>\n",
              "      <td>another grt show</td>\n",
              "      <td>8.0</td>\n",
              "      <td>Seems for last few mths-all there been decent ...</td>\n",
              "      <td>6 out of 11</td>\n",
              "      <td>USER5192</td>\n",
              "      <td>5191</td>\n",
              "      <td>275</td>\n",
              "    </tr>\n",
              "    <tr>\n",
              "      <th>5226</th>\n",
              "      <td>The Secret Life of My Secretary</td>\n",
              "      <td>Despite being extremely cringy in some episode...</td>\n",
              "      <td>7.0</td>\n",
              "      <td>So basically I have finished this in 3 days wi...</td>\n",
              "      <td>1 out of 2</td>\n",
              "      <td>USER5227</td>\n",
              "      <td>5226</td>\n",
              "      <td>277</td>\n",
              "    </tr>\n",
              "    <tr>\n",
              "      <th>5390</th>\n",
              "      <td>You Are Beautiful</td>\n",
              "      <td>One Of The Best Asian Dramas</td>\n",
              "      <td>10.0</td>\n",
              "      <td>\"You're Beautiful\" is a story about a woman wh...</td>\n",
              "      <td>14 out of 17</td>\n",
              "      <td>USER5391</td>\n",
              "      <td>5390</td>\n",
              "      <td>293</td>\n",
              "    </tr>\n",
              "    <tr>\n",
              "      <th>860</th>\n",
              "      <td>Beyond Evil</td>\n",
              "      <td>A therapeutic story about two men with good so...</td>\n",
              "      <td>10.0</td>\n",
              "      <td>I did not hear much about Beyond Evil from the...</td>\n",
              "      <td>14 out of 16</td>\n",
              "      <td>USER861</td>\n",
              "      <td>860</td>\n",
              "      <td>39</td>\n",
              "    </tr>\n",
              "    <tr>\n",
              "      <th>7270</th>\n",
              "      <td>A Thousand Kisses</td>\n",
              "      <td>Fun at first, then downhill fast</td>\n",
              "      <td>6.0</td>\n",
              "      <td>I loved the series at first but I had to drop ...</td>\n",
              "      <td>0 out of 0</td>\n",
              "      <td>USER7271</td>\n",
              "      <td>7270</td>\n",
              "      <td>762</td>\n",
              "    </tr>\n",
              "  </tbody>\n",
              "</table>\n",
              "<p>7532 rows × 8 columns</p>\n",
              "</div>\n",
              "      <button class=\"colab-df-convert\" onclick=\"convertToInteractive('df-48096288-e4a4-44c2-b081-73885fa75fc1')\"\n",
              "              title=\"Convert this dataframe to an interactive table.\"\n",
              "              style=\"display:none;\">\n",
              "        \n",
              "  <svg xmlns=\"http://www.w3.org/2000/svg\" height=\"24px\"viewBox=\"0 0 24 24\"\n",
              "       width=\"24px\">\n",
              "    <path d=\"M0 0h24v24H0V0z\" fill=\"none\"/>\n",
              "    <path d=\"M18.56 5.44l.94 2.06.94-2.06 2.06-.94-2.06-.94-.94-2.06-.94 2.06-2.06.94zm-11 1L8.5 8.5l.94-2.06 2.06-.94-2.06-.94L8.5 2.5l-.94 2.06-2.06.94zm10 10l.94 2.06.94-2.06 2.06-.94-2.06-.94-.94-2.06-.94 2.06-2.06.94z\"/><path d=\"M17.41 7.96l-1.37-1.37c-.4-.4-.92-.59-1.43-.59-.52 0-1.04.2-1.43.59L10.3 9.45l-7.72 7.72c-.78.78-.78 2.05 0 2.83L4 21.41c.39.39.9.59 1.41.59.51 0 1.02-.2 1.41-.59l7.78-7.78 2.81-2.81c.8-.78.8-2.07 0-2.86zM5.41 20L4 18.59l7.72-7.72 1.47 1.35L5.41 20z\"/>\n",
              "  </svg>\n",
              "      </button>\n",
              "      \n",
              "  <style>\n",
              "    .colab-df-container {\n",
              "      display:flex;\n",
              "      flex-wrap:wrap;\n",
              "      gap: 12px;\n",
              "    }\n",
              "\n",
              "    .colab-df-convert {\n",
              "      background-color: #E8F0FE;\n",
              "      border: none;\n",
              "      border-radius: 50%;\n",
              "      cursor: pointer;\n",
              "      display: none;\n",
              "      fill: #1967D2;\n",
              "      height: 32px;\n",
              "      padding: 0 0 0 0;\n",
              "      width: 32px;\n",
              "    }\n",
              "\n",
              "    .colab-df-convert:hover {\n",
              "      background-color: #E2EBFA;\n",
              "      box-shadow: 0px 1px 2px rgba(60, 64, 67, 0.3), 0px 1px 3px 1px rgba(60, 64, 67, 0.15);\n",
              "      fill: #174EA6;\n",
              "    }\n",
              "\n",
              "    [theme=dark] .colab-df-convert {\n",
              "      background-color: #3B4455;\n",
              "      fill: #D2E3FC;\n",
              "    }\n",
              "\n",
              "    [theme=dark] .colab-df-convert:hover {\n",
              "      background-color: #434B5C;\n",
              "      box-shadow: 0px 1px 3px 1px rgba(0, 0, 0, 0.15);\n",
              "      filter: drop-shadow(0px 1px 2px rgba(0, 0, 0, 0.3));\n",
              "      fill: #FFFFFF;\n",
              "    }\n",
              "  </style>\n",
              "\n",
              "      <script>\n",
              "        const buttonEl =\n",
              "          document.querySelector('#df-48096288-e4a4-44c2-b081-73885fa75fc1 button.colab-df-convert');\n",
              "        buttonEl.style.display =\n",
              "          google.colab.kernel.accessAllowed ? 'block' : 'none';\n",
              "\n",
              "        async function convertToInteractive(key) {\n",
              "          const element = document.querySelector('#df-48096288-e4a4-44c2-b081-73885fa75fc1');\n",
              "          const dataTable =\n",
              "            await google.colab.kernel.invokeFunction('convertToInteractive',\n",
              "                                                     [key], {});\n",
              "          if (!dataTable) return;\n",
              "\n",
              "          const docLinkHtml = 'Like what you see? Visit the ' +\n",
              "            '<a target=\"_blank\" href=https://colab.research.google.com/notebooks/data_table.ipynb>data table notebook</a>'\n",
              "            + ' to learn more about interactive tables.';\n",
              "          element.innerHTML = '';\n",
              "          dataTable['output_type'] = 'display_data';\n",
              "          await google.colab.output.renderOutput(dataTable, element);\n",
              "          const docLink = document.createElement('div');\n",
              "          docLink.innerHTML = docLinkHtml;\n",
              "          element.appendChild(docLink);\n",
              "        }\n",
              "      </script>\n",
              "    </div>\n",
              "  </div>\n",
              "  "
            ]
          },
          "metadata": {},
          "execution_count": 116
        }
      ]
    },
    {
      "cell_type": "code",
      "source": [
        "# Membuat variabel x untuk mencocokkan data user dan drama menjadi satu value\n",
        "x = data2[['user', 'drama']].values\n",
        " \n",
        "# Membuat variabel y untuk membuat rating dari hasil \n",
        "y = data2['Rating'].apply(lambda x: (x - min_rating) / (max_rating - min_rating)).values\n",
        " \n",
        "# Membagi menjadi 80% data train dan 20% data validasi\n",
        "train_indices = int(0.8 * data2.shape[0])\n",
        "x_train, x_val, y_train, y_val = (\n",
        "    x[:train_indices],\n",
        "    x[train_indices:],\n",
        "    y[:train_indices],\n",
        "    y[train_indices:]\n",
        ")\n",
        " \n",
        "print(x, y)"
      ],
      "metadata": {
        "colab": {
          "base_uri": "https://localhost:8080/"
        },
        "id": "IxmsHBLU6stg",
        "outputId": "aaec53de-3d86-450d-f1cd-34bcc79b788b"
      },
      "execution_count": null,
      "outputs": [
        {
          "output_type": "stream",
          "name": "stdout",
          "text": [
            "[[6716  539]\n",
            " [3131  145]\n",
            " [6340  438]\n",
            " ...\n",
            " [5390  293]\n",
            " [ 860   39]\n",
            " [7270  762]] [0.28571429 1.         1.         ... 1.         1.         0.42857143]\n"
          ]
        }
      ]
    },
    {
      "cell_type": "markdown",
      "source": [
        "## Modeling and Result"
      ],
      "metadata": {
        "id": "5MWx28xsy5Vj"
      }
    },
    {
      "cell_type": "markdown",
      "source": [
        "### Content-Based Filtering"
      ],
      "metadata": {
        "id": "Wm8ZQMIC7G_4"
      }
    },
    {
      "cell_type": "markdown",
      "source": [
        "Metode pertama yang digunakan untuk membuat sistem rekomendasi adalah *Content-Based Filtering*. Metode ini memberikan rekomendasi dengan mengamati kesamaan karakteristik dari suatu konten drama dan memberikan drama dengan kemiripan paling tinggi. Pada proyek ini, karakteristik yang dimaksud adalah *genre* dari K-Drama.\n",
        "\n",
        "Untuk memperoleh nilai kemiripan tersebut, digunakan gabungan dua teknik. Teknik pertama adalah *TF-IDF vectorizer *dan teknik kedua adalah *cosine similarity*. Di sini, *TF-IDF Vectorizer* akan menghasilkan matriks berisi korelasi antar fitur penting dari data. Sementara itu, *cosine similarity* akan mengukur derajar kesamaan antar matriks tersebut. \n",
        "\n",
        "Kelebihan dari metode *Content-Based Filtering *ini adalah metode ini tidak membutuhkan data pengguna lain untuk memberikan rekomendasi. Selain itu, metode ini dapat memberikan rekomendasi konten yang bersifat *niche* dan tidak banyak disukai pengguna lain, tetapi diminati oleh pengguna spesifik.\n",
        "\n",
        "Kekurangan dari metode ini adalah metode ini membutuhkan representasi fitur yang perlu diolah secara manual sehingga diperlukan pengetahuan terkait domain (bidang) tertentu. Selain itu, karena rekomendasi bersifat spesifik ke pengguna tertentu, metode ini sulit memberikan rekomendasi di luar minat pengguna yang telah diketahui."
      ],
      "metadata": {
        "id": "gFDBJWdSxWR-"
      }
    },
    {
      "cell_type": "code",
      "source": [
        "df1 = data1_new1.copy()\n",
        "df1.info()"
      ],
      "metadata": {
        "colab": {
          "base_uri": "https://localhost:8080/"
        },
        "id": "oTgAYkbEztYE",
        "outputId": "057c2b3d-2762-4195-dd75-1c0e1c39abf4"
      },
      "execution_count": null,
      "outputs": [
        {
          "output_type": "stream",
          "name": "stdout",
          "text": [
            "<class 'pandas.core.frame.DataFrame'>\n",
            "RangeIndex: 1296 entries, 0 to 1295\n",
            "Data columns (total 6 columns):\n",
            " #   Column        Non-Null Count  Dtype  \n",
            "---  ------        --------------  -----  \n",
            " 0   Title         1296 non-null   object \n",
            " 1   Year          1296 non-null   object \n",
            " 2   Final Rating  1296 non-null   float64\n",
            " 3   Total Votes   1296 non-null   object \n",
            " 4   Genre         1296 non-null   object \n",
            " 5   Synopsis      1296 non-null   object \n",
            "dtypes: float64(1), object(5)\n",
            "memory usage: 60.9+ KB\n"
          ]
        }
      ]
    },
    {
      "cell_type": "markdown",
      "source": [
        "**TF-IDF Vectorizer**"
      ],
      "metadata": {
        "id": "l6xmHYe-8Fe0"
      }
    },
    {
      "cell_type": "code",
      "source": [
        "# Inisialisasi TfidfVectorizer\n",
        "TF = TfidfVectorizer()\n",
        " \n",
        "# Melakukan perhitungan idf pada data Genre\n",
        "TF.fit(df1['Genre']) \n",
        " \n",
        "# Mapping array dari fitur index integer ke fitur nama\n",
        "TF.get_feature_names() "
      ],
      "metadata": {
        "colab": {
          "base_uri": "https://localhost:8080/"
        },
        "id": "L0Pc40xq7gUJ",
        "outputId": "772b7a08-b29a-4877-8fad-2a46c519a353"
      },
      "execution_count": null,
      "outputs": [
        {
          "output_type": "execute_result",
          "data": {
            "text/plain": [
              "['action',\n",
              " 'adventure',\n",
              " 'animation',\n",
              " 'comedy',\n",
              " 'crime',\n",
              " 'drama',\n",
              " 'family',\n",
              " 'fantasy',\n",
              " 'fi',\n",
              " 'history',\n",
              " 'horror',\n",
              " 'music',\n",
              " 'musical',\n",
              " 'mystery',\n",
              " 'romance',\n",
              " 'sci',\n",
              " 'short',\n",
              " 'sport',\n",
              " 'thriller',\n",
              " 'war']"
            ]
          },
          "metadata": {},
          "execution_count": 143
        }
      ]
    },
    {
      "cell_type": "code",
      "source": [
        "# Melakukan fit lalu ditransformasikan ke bentuk matrix\n",
        "tfidf_matrix = TF.fit_transform(df1['Genre']) \n",
        " \n",
        "# Melihat ukuran matrix tfidf\n",
        "tfidf_matrix.shape "
      ],
      "metadata": {
        "id": "tO7yrTR37p0i"
      },
      "execution_count": null,
      "outputs": []
    },
    {
      "cell_type": "code",
      "source": [
        "# Mengubah vektor tf-idf dalam bentuk matriks dengan fungsi todense()\n",
        "tfidf_matrix.todense()"
      ],
      "metadata": {
        "id": "-NjygHpb7xnE"
      },
      "execution_count": null,
      "outputs": []
    },
    {
      "cell_type": "code",
      "source": [
        "# Membuat dataframe untuk melihat tf-idf matrix\n",
        "# Kolom diisi dengan jenis genre\n",
        "# Baris diisi dengan nama drama\n",
        " \n",
        "pd.DataFrame(\n",
        "    tfidf_matrix.todense(), \n",
        "    columns=TF.get_feature_names(),\n",
        "    index=df1.Title\n",
        ")"
      ],
      "metadata": {
        "id": "H4krPqZR70_U"
      },
      "execution_count": null,
      "outputs": []
    },
    {
      "cell_type": "markdown",
      "source": [
        "**Cosine Similarity**"
      ],
      "metadata": {
        "id": "yJiOfJCb8KNn"
      }
    },
    {
      "cell_type": "code",
      "source": [
        "# Menghitung cosine similarity pada matrix tf-idf\n",
        "cosine_sim = cosine_similarity(tfidf_matrix) \n",
        "cosine_sim"
      ],
      "metadata": {
        "colab": {
          "base_uri": "https://localhost:8080/"
        },
        "id": "Wc4xkc8G8MAg",
        "outputId": "f10c064d-7433-4e37-b5b8-2ea718094d9e"
      },
      "execution_count": null,
      "outputs": [
        {
          "output_type": "execute_result",
          "data": {
            "text/plain": [
              "array([[1.        , 0.09045594, 0.60754857, ..., 0.29206225, 0.56004591,\n",
              "        0.        ],\n",
              "       [0.09045594, 1.        , 0.48710009, ..., 0.30971458, 0.        ,\n",
              "        0.        ],\n",
              "       [0.60754857, 0.48710009, 1.        , ..., 0.29807445, 0.        ,\n",
              "        0.        ],\n",
              "       ...,\n",
              "       [0.29206225, 0.30971458, 0.29807445, ..., 1.        , 0.        ,\n",
              "        0.        ],\n",
              "       [0.56004591, 0.        , 0.        , ..., 0.        , 1.        ,\n",
              "        0.30193484],\n",
              "       [0.        , 0.        , 0.        , ..., 0.        , 0.30193484,\n",
              "        1.        ]])"
            ]
          },
          "metadata": {},
          "execution_count": 144
        }
      ]
    },
    {
      "cell_type": "code",
      "source": [
        "# Membuat dataframe dari variabel cosine_sim dengan baris dan kolom berupa nama drama\n",
        "cosine_sim_df = pd.DataFrame(cosine_sim, index=df1['Title'], columns=df1['Title'])\n",
        "print('Shape:', cosine_sim_df.shape)\n",
        " \n",
        "# Melihat similarity matrix pada setiap drama\n",
        "cosine_sim_df.sample(5, axis=1).sample(10, axis=0)"
      ],
      "metadata": {
        "id": "tC0YvpOV8XCM"
      },
      "execution_count": null,
      "outputs": []
    },
    {
      "cell_type": "markdown",
      "source": [
        "**Dapatkan Rekomendasi**"
      ],
      "metadata": {
        "id": "Qvsma7-W8jpx"
      }
    },
    {
      "cell_type": "code",
      "source": [
        "def kdrama_recommendations(nama_drama, similarity_data=cosine_sim_df, items=df1[['Title', 'Genre']], k=5):\n",
        "    \"\"\"\n",
        "    Rekomendasi K-Drama berdasarkan kemiripan dataframe\n",
        " \n",
        "    Parameter:\n",
        "    ---\n",
        "    Title : tipe data string (str)\n",
        "                Judul Drama (index kemiripan dataframe)\n",
        "    similarity_data : tipe data pd.DataFrame (object)\n",
        "                      Kesamaan dataframe, simetrik, dengan resto sebagai \n",
        "                      indeks dan kolom\n",
        "    items : tipe data pd.DataFrame (object)\n",
        "            Mengandung kedua nama dan fitur lainnya yang digunakan untuk mendefinisikan kemiripan\n",
        "    k : tipe data integer (int)\n",
        "        Banyaknya jumlah rekomendasi yang diberikan\n",
        "    ---\n",
        "    \"\"\"\n",
        " \n",
        " \n",
        "    # Mengambil data dengan menggunakan argpartition untuk melakukan partisi secara tidak langsung sepanjang sumbu yang diberikan    \n",
        "    # Dataframe diubah menjadi numpy\n",
        "    # Range(start, stop, step)\n",
        "    index = similarity_data.loc[:,nama_drama].to_numpy().argpartition(\n",
        "        range(-1, -k, -1))\n",
        "    \n",
        "    # Mengambil data dengan similarity terbesar dari index yang ada\n",
        "    closest = similarity_data.columns[index[-1:-(k+2):-1]]\n",
        "    \n",
        "    # Drop nama_drama agar nama drama yang dicari tidak muncul dalam daftar rekomendasi\n",
        "    closest = closest.drop(nama_drama, errors='ignore')\n",
        " \n",
        "    return pd.DataFrame(closest).merge(items).head(k)"
      ],
      "metadata": {
        "id": "kN3wEeh38ldY"
      },
      "execution_count": null,
      "outputs": []
    },
    {
      "cell_type": "code",
      "source": [
        "# random choice the title\n",
        "idx = np.random.choice(np.arange(0, len(df1.Title.unique())+1, 1))\n",
        "title_idx = df1.loc[idx, 'Title']\n",
        "\n",
        "df1[df1.Title.eq(title_idx)]"
      ],
      "metadata": {
        "colab": {
          "base_uri": "https://localhost:8080/",
          "height": 81
        },
        "id": "XIBSls6V9KO2",
        "outputId": "928237d6-0119-4e14-8fd2-2c3ca783ef30"
      },
      "execution_count": 163,
      "outputs": [
        {
          "output_type": "execute_result",
          "data": {
            "text/plain": [
              "       Title      Year  Final Rating Total Votes                 Genre  \\\n",
              "14  Vincenzo  (2021– )           8.5      11,787  Comedy, Crime, Drama   \n",
              "\n",
              "                                             Synopsis  \n",
              "14  \\nDuring a visit to his motherland, a Korean-I...  "
            ],
            "text/html": [
              "\n",
              "  <div id=\"df-7d43515b-67b7-4062-8d8f-2ed03668285e\">\n",
              "    <div class=\"colab-df-container\">\n",
              "      <div>\n",
              "<style scoped>\n",
              "    .dataframe tbody tr th:only-of-type {\n",
              "        vertical-align: middle;\n",
              "    }\n",
              "\n",
              "    .dataframe tbody tr th {\n",
              "        vertical-align: top;\n",
              "    }\n",
              "\n",
              "    .dataframe thead th {\n",
              "        text-align: right;\n",
              "    }\n",
              "</style>\n",
              "<table border=\"1\" class=\"dataframe\">\n",
              "  <thead>\n",
              "    <tr style=\"text-align: right;\">\n",
              "      <th></th>\n",
              "      <th>Title</th>\n",
              "      <th>Year</th>\n",
              "      <th>Final Rating</th>\n",
              "      <th>Total Votes</th>\n",
              "      <th>Genre</th>\n",
              "      <th>Synopsis</th>\n",
              "    </tr>\n",
              "  </thead>\n",
              "  <tbody>\n",
              "    <tr>\n",
              "      <th>14</th>\n",
              "      <td>Vincenzo</td>\n",
              "      <td>(2021– )</td>\n",
              "      <td>8.5</td>\n",
              "      <td>11,787</td>\n",
              "      <td>Comedy, Crime, Drama</td>\n",
              "      <td>\\nDuring a visit to his motherland, a Korean-I...</td>\n",
              "    </tr>\n",
              "  </tbody>\n",
              "</table>\n",
              "</div>\n",
              "      <button class=\"colab-df-convert\" onclick=\"convertToInteractive('df-7d43515b-67b7-4062-8d8f-2ed03668285e')\"\n",
              "              title=\"Convert this dataframe to an interactive table.\"\n",
              "              style=\"display:none;\">\n",
              "        \n",
              "  <svg xmlns=\"http://www.w3.org/2000/svg\" height=\"24px\"viewBox=\"0 0 24 24\"\n",
              "       width=\"24px\">\n",
              "    <path d=\"M0 0h24v24H0V0z\" fill=\"none\"/>\n",
              "    <path d=\"M18.56 5.44l.94 2.06.94-2.06 2.06-.94-2.06-.94-.94-2.06-.94 2.06-2.06.94zm-11 1L8.5 8.5l.94-2.06 2.06-.94-2.06-.94L8.5 2.5l-.94 2.06-2.06.94zm10 10l.94 2.06.94-2.06 2.06-.94-2.06-.94-.94-2.06-.94 2.06-2.06.94z\"/><path d=\"M17.41 7.96l-1.37-1.37c-.4-.4-.92-.59-1.43-.59-.52 0-1.04.2-1.43.59L10.3 9.45l-7.72 7.72c-.78.78-.78 2.05 0 2.83L4 21.41c.39.39.9.59 1.41.59.51 0 1.02-.2 1.41-.59l7.78-7.78 2.81-2.81c.8-.78.8-2.07 0-2.86zM5.41 20L4 18.59l7.72-7.72 1.47 1.35L5.41 20z\"/>\n",
              "  </svg>\n",
              "      </button>\n",
              "      \n",
              "  <style>\n",
              "    .colab-df-container {\n",
              "      display:flex;\n",
              "      flex-wrap:wrap;\n",
              "      gap: 12px;\n",
              "    }\n",
              "\n",
              "    .colab-df-convert {\n",
              "      background-color: #E8F0FE;\n",
              "      border: none;\n",
              "      border-radius: 50%;\n",
              "      cursor: pointer;\n",
              "      display: none;\n",
              "      fill: #1967D2;\n",
              "      height: 32px;\n",
              "      padding: 0 0 0 0;\n",
              "      width: 32px;\n",
              "    }\n",
              "\n",
              "    .colab-df-convert:hover {\n",
              "      background-color: #E2EBFA;\n",
              "      box-shadow: 0px 1px 2px rgba(60, 64, 67, 0.3), 0px 1px 3px 1px rgba(60, 64, 67, 0.15);\n",
              "      fill: #174EA6;\n",
              "    }\n",
              "\n",
              "    [theme=dark] .colab-df-convert {\n",
              "      background-color: #3B4455;\n",
              "      fill: #D2E3FC;\n",
              "    }\n",
              "\n",
              "    [theme=dark] .colab-df-convert:hover {\n",
              "      background-color: #434B5C;\n",
              "      box-shadow: 0px 1px 3px 1px rgba(0, 0, 0, 0.15);\n",
              "      filter: drop-shadow(0px 1px 2px rgba(0, 0, 0, 0.3));\n",
              "      fill: #FFFFFF;\n",
              "    }\n",
              "  </style>\n",
              "\n",
              "      <script>\n",
              "        const buttonEl =\n",
              "          document.querySelector('#df-7d43515b-67b7-4062-8d8f-2ed03668285e button.colab-df-convert');\n",
              "        buttonEl.style.display =\n",
              "          google.colab.kernel.accessAllowed ? 'block' : 'none';\n",
              "\n",
              "        async function convertToInteractive(key) {\n",
              "          const element = document.querySelector('#df-7d43515b-67b7-4062-8d8f-2ed03668285e');\n",
              "          const dataTable =\n",
              "            await google.colab.kernel.invokeFunction('convertToInteractive',\n",
              "                                                     [key], {});\n",
              "          if (!dataTable) return;\n",
              "\n",
              "          const docLinkHtml = 'Like what you see? Visit the ' +\n",
              "            '<a target=\"_blank\" href=https://colab.research.google.com/notebooks/data_table.ipynb>data table notebook</a>'\n",
              "            + ' to learn more about interactive tables.';\n",
              "          element.innerHTML = '';\n",
              "          dataTable['output_type'] = 'display_data';\n",
              "          await google.colab.output.renderOutput(dataTable, element);\n",
              "          const docLink = document.createElement('div');\n",
              "          docLink.innerHTML = docLinkHtml;\n",
              "          element.appendChild(docLink);\n",
              "        }\n",
              "      </script>\n",
              "    </div>\n",
              "  </div>\n",
              "  "
            ]
          },
          "metadata": {},
          "execution_count": 163
        }
      ]
    },
    {
      "cell_type": "code",
      "source": [
        "# Mendapatkan rekomendasi KDrama yang mirip dengan judul yang dimasukkan\n",
        "kdrama_recommendations(title_idx)"
      ],
      "metadata": {
        "colab": {
          "base_uri": "https://localhost:8080/",
          "height": 206
        },
        "id": "D0whoKLQ9TXQ",
        "outputId": "885ef3e1-6f2f-477d-f9b9-6e05664175fe"
      },
      "execution_count": 164,
      "outputs": [
        {
          "output_type": "execute_result",
          "data": {
            "text/plain": [
              "                   Title                 Genre\n",
              "0               Squad 38  Comedy, Crime, Drama\n",
              "1                Bing-ui  Comedy, Crime, Drama\n",
              "2                   Live  Comedy, Crime, Drama\n",
              "3  Strong Girl Bong-soon  Comedy, Crime, Drama\n",
              "4                 Player  Comedy, Crime, Drama"
            ],
            "text/html": [
              "\n",
              "  <div id=\"df-a8896f24-1ac8-4fc6-8a1c-14effb3db2c3\">\n",
              "    <div class=\"colab-df-container\">\n",
              "      <div>\n",
              "<style scoped>\n",
              "    .dataframe tbody tr th:only-of-type {\n",
              "        vertical-align: middle;\n",
              "    }\n",
              "\n",
              "    .dataframe tbody tr th {\n",
              "        vertical-align: top;\n",
              "    }\n",
              "\n",
              "    .dataframe thead th {\n",
              "        text-align: right;\n",
              "    }\n",
              "</style>\n",
              "<table border=\"1\" class=\"dataframe\">\n",
              "  <thead>\n",
              "    <tr style=\"text-align: right;\">\n",
              "      <th></th>\n",
              "      <th>Title</th>\n",
              "      <th>Genre</th>\n",
              "    </tr>\n",
              "  </thead>\n",
              "  <tbody>\n",
              "    <tr>\n",
              "      <th>0</th>\n",
              "      <td>Squad 38</td>\n",
              "      <td>Comedy, Crime, Drama</td>\n",
              "    </tr>\n",
              "    <tr>\n",
              "      <th>1</th>\n",
              "      <td>Bing-ui</td>\n",
              "      <td>Comedy, Crime, Drama</td>\n",
              "    </tr>\n",
              "    <tr>\n",
              "      <th>2</th>\n",
              "      <td>Live</td>\n",
              "      <td>Comedy, Crime, Drama</td>\n",
              "    </tr>\n",
              "    <tr>\n",
              "      <th>3</th>\n",
              "      <td>Strong Girl Bong-soon</td>\n",
              "      <td>Comedy, Crime, Drama</td>\n",
              "    </tr>\n",
              "    <tr>\n",
              "      <th>4</th>\n",
              "      <td>Player</td>\n",
              "      <td>Comedy, Crime, Drama</td>\n",
              "    </tr>\n",
              "  </tbody>\n",
              "</table>\n",
              "</div>\n",
              "      <button class=\"colab-df-convert\" onclick=\"convertToInteractive('df-a8896f24-1ac8-4fc6-8a1c-14effb3db2c3')\"\n",
              "              title=\"Convert this dataframe to an interactive table.\"\n",
              "              style=\"display:none;\">\n",
              "        \n",
              "  <svg xmlns=\"http://www.w3.org/2000/svg\" height=\"24px\"viewBox=\"0 0 24 24\"\n",
              "       width=\"24px\">\n",
              "    <path d=\"M0 0h24v24H0V0z\" fill=\"none\"/>\n",
              "    <path d=\"M18.56 5.44l.94 2.06.94-2.06 2.06-.94-2.06-.94-.94-2.06-.94 2.06-2.06.94zm-11 1L8.5 8.5l.94-2.06 2.06-.94-2.06-.94L8.5 2.5l-.94 2.06-2.06.94zm10 10l.94 2.06.94-2.06 2.06-.94-2.06-.94-.94-2.06-.94 2.06-2.06.94z\"/><path d=\"M17.41 7.96l-1.37-1.37c-.4-.4-.92-.59-1.43-.59-.52 0-1.04.2-1.43.59L10.3 9.45l-7.72 7.72c-.78.78-.78 2.05 0 2.83L4 21.41c.39.39.9.59 1.41.59.51 0 1.02-.2 1.41-.59l7.78-7.78 2.81-2.81c.8-.78.8-2.07 0-2.86zM5.41 20L4 18.59l7.72-7.72 1.47 1.35L5.41 20z\"/>\n",
              "  </svg>\n",
              "      </button>\n",
              "      \n",
              "  <style>\n",
              "    .colab-df-container {\n",
              "      display:flex;\n",
              "      flex-wrap:wrap;\n",
              "      gap: 12px;\n",
              "    }\n",
              "\n",
              "    .colab-df-convert {\n",
              "      background-color: #E8F0FE;\n",
              "      border: none;\n",
              "      border-radius: 50%;\n",
              "      cursor: pointer;\n",
              "      display: none;\n",
              "      fill: #1967D2;\n",
              "      height: 32px;\n",
              "      padding: 0 0 0 0;\n",
              "      width: 32px;\n",
              "    }\n",
              "\n",
              "    .colab-df-convert:hover {\n",
              "      background-color: #E2EBFA;\n",
              "      box-shadow: 0px 1px 2px rgba(60, 64, 67, 0.3), 0px 1px 3px 1px rgba(60, 64, 67, 0.15);\n",
              "      fill: #174EA6;\n",
              "    }\n",
              "\n",
              "    [theme=dark] .colab-df-convert {\n",
              "      background-color: #3B4455;\n",
              "      fill: #D2E3FC;\n",
              "    }\n",
              "\n",
              "    [theme=dark] .colab-df-convert:hover {\n",
              "      background-color: #434B5C;\n",
              "      box-shadow: 0px 1px 3px 1px rgba(0, 0, 0, 0.15);\n",
              "      filter: drop-shadow(0px 1px 2px rgba(0, 0, 0, 0.3));\n",
              "      fill: #FFFFFF;\n",
              "    }\n",
              "  </style>\n",
              "\n",
              "      <script>\n",
              "        const buttonEl =\n",
              "          document.querySelector('#df-a8896f24-1ac8-4fc6-8a1c-14effb3db2c3 button.colab-df-convert');\n",
              "        buttonEl.style.display =\n",
              "          google.colab.kernel.accessAllowed ? 'block' : 'none';\n",
              "\n",
              "        async function convertToInteractive(key) {\n",
              "          const element = document.querySelector('#df-a8896f24-1ac8-4fc6-8a1c-14effb3db2c3');\n",
              "          const dataTable =\n",
              "            await google.colab.kernel.invokeFunction('convertToInteractive',\n",
              "                                                     [key], {});\n",
              "          if (!dataTable) return;\n",
              "\n",
              "          const docLinkHtml = 'Like what you see? Visit the ' +\n",
              "            '<a target=\"_blank\" href=https://colab.research.google.com/notebooks/data_table.ipynb>data table notebook</a>'\n",
              "            + ' to learn more about interactive tables.';\n",
              "          element.innerHTML = '';\n",
              "          dataTable['output_type'] = 'display_data';\n",
              "          await google.colab.output.renderOutput(dataTable, element);\n",
              "          const docLink = document.createElement('div');\n",
              "          docLink.innerHTML = docLinkHtml;\n",
              "          element.appendChild(docLink);\n",
              "        }\n",
              "      </script>\n",
              "    </div>\n",
              "  </div>\n",
              "  "
            ]
          },
          "metadata": {},
          "execution_count": 164
        }
      ]
    },
    {
      "cell_type": "markdown",
      "source": [
        "### Collaborative Filtering"
      ],
      "metadata": {
        "id": "7-lGrsjH9lDg"
      }
    },
    {
      "cell_type": "markdown",
      "source": [
        "Metode kedua yang digunakan untuk membangun sistem rekomendasi adalah *Collaborative Filtering*. Secara spesifik, metode pada proyek ini adalah metode berbasis model dengan jaringan saraf tiruan (*artificial neural network*). Jaringan saraf ini kemudian akan dilatih dengan data yang telah disiapkan, sebelum digunakan untuk memberikan rekomendasi berdasarkan identitas pengguna.\n",
        "\n",
        "Kelebihan dari metode ini adalah metode tidak membutuhkan pengetahuan di domain (bidang) tertentu karena model akan mampu mempelajari fitur secara otomatis. Selain itu, model ini dapat merekomendasikan sesuatu di luar minat pengguna sehingga akan memperluas minat tersebut.\n",
        "\n",
        "Kekurangan dari metode ini adalah metode ini tidak mampu memberikan rekomendasi bagi data (*item*) baru yang sebelumnya tidak termasuk dalam data latih. Selain itu, metode ini akan sulit menerima fitur tambahan (fitur samping) yang sebelumnya tidak ada di data latih seperti fitur jumlah *votes*, dll."
      ],
      "metadata": {
        "id": "vSQi4yX11EGk"
      }
    },
    {
      "cell_type": "markdown",
      "source": [
        "**Train an Neural Network**"
      ],
      "metadata": {
        "id": "sRfU0Ci_BrsM"
      }
    },
    {
      "cell_type": "code",
      "source": [
        "class KDramaRecommendNet(tf.keras.Model):\n",
        " \n",
        "  # Insialisasi fungsi\n",
        "  def __init__(self, num_users, num_drama, embedding_size, **kwargs):\n",
        "    super(KDramaRecommendNet, self).__init__(**kwargs)\n",
        "    self.num_users = num_users\n",
        "    self.num_drama = num_drama\n",
        "    self.embedding_size = embedding_size\n",
        "    self.user_embedding = layers.Embedding( # layer embedding user\n",
        "        num_users,\n",
        "        embedding_size,\n",
        "        embeddings_initializer = 'he_normal',\n",
        "        embeddings_regularizer = keras.regularizers.l2(1e-6)\n",
        "    )\n",
        "    self.user_bias = layers.Embedding(num_users, 1) # layer embedding user bias\n",
        "    self.drama_embedding = layers.Embedding( # layer embeddings resto\n",
        "        num_drama,\n",
        "        embedding_size,\n",
        "        embeddings_initializer = 'he_normal',\n",
        "        embeddings_regularizer = keras.regularizers.l2(1e-6)\n",
        "    )\n",
        "    self.drama_bias = layers.Embedding(num_drama, 1) # layer embedding resto bias\n",
        " \n",
        "  def call(self, inputs):\n",
        "    user_vector = self.user_embedding(inputs[:,0]) # memanggil layer embedding 1\n",
        "    user_bias = self.user_bias(inputs[:, 0]) # memanggil layer embedding 2\n",
        "    drama_vector = self.drama_embedding(inputs[:, 1]) # memanggil layer embedding 3\n",
        "    drama_bias = self.drama_bias(inputs[:, 1]) # memanggil layer embedding 4\n",
        " \n",
        "    dot_user_drama = tf.tensordot(user_vector, drama_vector, 2) \n",
        " \n",
        "    x = dot_user_drama + user_bias + drama_bias\n",
        "    \n",
        "    return tf.nn.sigmoid(x) # activation sigmoid"
      ],
      "metadata": {
        "id": "FW3uyRcI9n78"
      },
      "execution_count": null,
      "outputs": []
    },
    {
      "cell_type": "code",
      "source": [
        "model = KDramaRecommendNet(num_users, num_drama, 50) # inisialisasi model\n",
        " \n",
        "# model compile\n",
        "model.compile(\n",
        "    loss = tf.keras.losses.BinaryCrossentropy(),\n",
        "    optimizer = keras.optimizers.Adam(learning_rate=0.001),\n",
        "    metrics=[tf.keras.metrics.RootMeanSquaredError()]\n",
        ")"
      ],
      "metadata": {
        "id": "buxP67mK-fEB"
      },
      "execution_count": null,
      "outputs": []
    },
    {
      "cell_type": "code",
      "source": [
        "# Memulai training\n",
        " \n",
        "history = model.fit(\n",
        "    x = x_train,\n",
        "    y = y_train,\n",
        "    batch_size = 8,\n",
        "    epochs = 100,\n",
        "    validation_data = (x_val, y_val)\n",
        ")"
      ],
      "metadata": {
        "colab": {
          "base_uri": "https://localhost:8080/"
        },
        "id": "FqyRHJa8-m1-",
        "outputId": "3fa63e92-cbba-4e56-d719-ff0bdb657adc"
      },
      "execution_count": null,
      "outputs": [
        {
          "metadata": {
            "tags": null
          },
          "name": "stdout",
          "output_type": "stream",
          "text": [
            "Epoch 1/100\n",
            "754/754 [==============================] - 7s 7ms/step - loss: 0.6837 - root_mean_squared_error: 0.3811 - val_loss: 0.6751 - val_root_mean_squared_error: 0.3711\n",
            "Epoch 2/100\n",
            "754/754 [==============================] - 6s 8ms/step - loss: 0.5706 - root_mean_squared_error: 0.3008 - val_loss: 0.6639 - val_root_mean_squared_error: 0.3632\n",
            "Epoch 3/100\n",
            "754/754 [==============================] - 6s 8ms/step - loss: 0.5239 - root_mean_squared_error: 0.2674 - val_loss: 0.6614 - val_root_mean_squared_error: 0.3615\n",
            "Epoch 4/100\n",
            "754/754 [==============================] - 5s 7ms/step - loss: 0.5105 - root_mean_squared_error: 0.2575 - val_loss: 0.6557 - val_root_mean_squared_error: 0.3575\n",
            "Epoch 5/100\n",
            "754/754 [==============================] - 5s 7ms/step - loss: 0.5020 - root_mean_squared_error: 0.2518 - val_loss: 0.6511 - val_root_mean_squared_error: 0.3543\n",
            "Epoch 6/100\n",
            "754/754 [==============================] - 5s 7ms/step - loss: 0.4936 - root_mean_squared_error: 0.2452 - val_loss: 0.6460 - val_root_mean_squared_error: 0.3508\n",
            "Epoch 7/100\n",
            "754/754 [==============================] - 5s 7ms/step - loss: 0.4872 - root_mean_squared_error: 0.2406 - val_loss: 0.6413 - val_root_mean_squared_error: 0.3476\n",
            "Epoch 8/100\n",
            "754/754 [==============================] - 5s 7ms/step - loss: 0.4803 - root_mean_squared_error: 0.2353 - val_loss: 0.6366 - val_root_mean_squared_error: 0.3444\n",
            "Epoch 9/100\n",
            "754/754 [==============================] - 5s 7ms/step - loss: 0.4714 - root_mean_squared_error: 0.2280 - val_loss: 0.6320 - val_root_mean_squared_error: 0.3412\n",
            "Epoch 10/100\n",
            "754/754 [==============================] - 5s 7ms/step - loss: 0.4659 - root_mean_squared_error: 0.2236 - val_loss: 0.6281 - val_root_mean_squared_error: 0.3387\n",
            "Epoch 11/100\n",
            "754/754 [==============================] - 5s 6ms/step - loss: 0.4581 - root_mean_squared_error: 0.2173 - val_loss: 0.6246 - val_root_mean_squared_error: 0.3364\n",
            "Epoch 12/100\n",
            "754/754 [==============================] - 5s 6ms/step - loss: 0.4524 - root_mean_squared_error: 0.2125 - val_loss: 0.6214 - val_root_mean_squared_error: 0.3343\n",
            "Epoch 13/100\n",
            "754/754 [==============================] - 5s 7ms/step - loss: 0.4491 - root_mean_squared_error: 0.2096 - val_loss: 0.6182 - val_root_mean_squared_error: 0.3322\n",
            "Epoch 14/100\n",
            "754/754 [==============================] - 5s 7ms/step - loss: 0.4447 - root_mean_squared_error: 0.2058 - val_loss: 0.6156 - val_root_mean_squared_error: 0.3306\n",
            "Epoch 15/100\n",
            "754/754 [==============================] - 5s 7ms/step - loss: 0.4396 - root_mean_squared_error: 0.2010 - val_loss: 0.6129 - val_root_mean_squared_error: 0.3289\n",
            "Epoch 16/100\n",
            "754/754 [==============================] - 5s 7ms/step - loss: 0.4354 - root_mean_squared_error: 0.1976 - val_loss: 0.6107 - val_root_mean_squared_error: 0.3276\n",
            "Epoch 17/100\n",
            "754/754 [==============================] - 5s 7ms/step - loss: 0.4311 - root_mean_squared_error: 0.1935 - val_loss: 0.6084 - val_root_mean_squared_error: 0.3261\n",
            "Epoch 18/100\n",
            "754/754 [==============================] - 5s 7ms/step - loss: 0.4287 - root_mean_squared_error: 0.1921 - val_loss: 0.6069 - val_root_mean_squared_error: 0.3253\n",
            "Epoch 19/100\n",
            "754/754 [==============================] - 5s 7ms/step - loss: 0.4239 - root_mean_squared_error: 0.1866 - val_loss: 0.6049 - val_root_mean_squared_error: 0.3241\n",
            "Epoch 20/100\n",
            "754/754 [==============================] - 5s 7ms/step - loss: 0.4186 - root_mean_squared_error: 0.1823 - val_loss: 0.6033 - val_root_mean_squared_error: 0.3232\n",
            "Epoch 21/100\n",
            "754/754 [==============================] - 5s 7ms/step - loss: 0.4161 - root_mean_squared_error: 0.1791 - val_loss: 0.6018 - val_root_mean_squared_error: 0.3223\n",
            "Epoch 22/100\n",
            "754/754 [==============================] - 5s 7ms/step - loss: 0.4133 - root_mean_squared_error: 0.1764 - val_loss: 0.6001 - val_root_mean_squared_error: 0.3214\n",
            "Epoch 23/100\n",
            "754/754 [==============================] - 5s 7ms/step - loss: 0.4110 - root_mean_squared_error: 0.1748 - val_loss: 0.5987 - val_root_mean_squared_error: 0.3205\n",
            "Epoch 24/100\n",
            "754/754 [==============================] - 5s 7ms/step - loss: 0.4072 - root_mean_squared_error: 0.1703 - val_loss: 0.5973 - val_root_mean_squared_error: 0.3197\n",
            "Epoch 25/100\n",
            "754/754 [==============================] - 5s 7ms/step - loss: 0.4040 - root_mean_squared_error: 0.1673 - val_loss: 0.5962 - val_root_mean_squared_error: 0.3190\n",
            "Epoch 26/100\n",
            "754/754 [==============================] - 5s 7ms/step - loss: 0.4012 - root_mean_squared_error: 0.1643 - val_loss: 0.5952 - val_root_mean_squared_error: 0.3185\n",
            "Epoch 27/100\n",
            "754/754 [==============================] - 5s 7ms/step - loss: 0.3989 - root_mean_squared_error: 0.1628 - val_loss: 0.5942 - val_root_mean_squared_error: 0.3180\n",
            "Epoch 28/100\n",
            "754/754 [==============================] - 5s 7ms/step - loss: 0.3971 - root_mean_squared_error: 0.1599 - val_loss: 0.5931 - val_root_mean_squared_error: 0.3173\n",
            "Epoch 29/100\n",
            "754/754 [==============================] - 5s 7ms/step - loss: 0.3948 - root_mean_squared_error: 0.1582 - val_loss: 0.5924 - val_root_mean_squared_error: 0.3169\n",
            "Epoch 30/100\n",
            "754/754 [==============================] - 5s 7ms/step - loss: 0.3917 - root_mean_squared_error: 0.1540 - val_loss: 0.5916 - val_root_mean_squared_error: 0.3164\n",
            "Epoch 31/100\n",
            "754/754 [==============================] - 5s 7ms/step - loss: 0.3893 - root_mean_squared_error: 0.1515 - val_loss: 0.5908 - val_root_mean_squared_error: 0.3160\n",
            "Epoch 32/100\n",
            "754/754 [==============================] - 5s 7ms/step - loss: 0.3868 - root_mean_squared_error: 0.1490 - val_loss: 0.5901 - val_root_mean_squared_error: 0.3156\n",
            "Epoch 33/100\n",
            "754/754 [==============================] - 5s 7ms/step - loss: 0.3842 - root_mean_squared_error: 0.1457 - val_loss: 0.5895 - val_root_mean_squared_error: 0.3153\n",
            "Epoch 34/100\n",
            "754/754 [==============================] - 5s 7ms/step - loss: 0.3827 - root_mean_squared_error: 0.1441 - val_loss: 0.5887 - val_root_mean_squared_error: 0.3147\n",
            "Epoch 35/100\n",
            "754/754 [==============================] - 5s 7ms/step - loss: 0.3804 - root_mean_squared_error: 0.1416 - val_loss: 0.5880 - val_root_mean_squared_error: 0.3143\n",
            "Epoch 36/100\n",
            "754/754 [==============================] - 7s 9ms/step - loss: 0.3790 - root_mean_squared_error: 0.1398 - val_loss: 0.5871 - val_root_mean_squared_error: 0.3136\n",
            "Epoch 37/100\n",
            "754/754 [==============================] - 5s 7ms/step - loss: 0.3760 - root_mean_squared_error: 0.1367 - val_loss: 0.5867 - val_root_mean_squared_error: 0.3135\n",
            "Epoch 38/100\n",
            "754/754 [==============================] - 5s 7ms/step - loss: 0.3739 - root_mean_squared_error: 0.1339 - val_loss: 0.5860 - val_root_mean_squared_error: 0.3130\n",
            "Epoch 39/100\n",
            "754/754 [==============================] - 5s 7ms/step - loss: 0.3724 - root_mean_squared_error: 0.1323 - val_loss: 0.5854 - val_root_mean_squared_error: 0.3126\n",
            "Epoch 40/100\n",
            "754/754 [==============================] - 5s 7ms/step - loss: 0.3712 - root_mean_squared_error: 0.1311 - val_loss: 0.5848 - val_root_mean_squared_error: 0.3122\n",
            "Epoch 41/100\n",
            "754/754 [==============================] - 5s 7ms/step - loss: 0.3695 - root_mean_squared_error: 0.1285 - val_loss: 0.5842 - val_root_mean_squared_error: 0.3118\n",
            "Epoch 42/100\n",
            "754/754 [==============================] - 5s 7ms/step - loss: 0.3681 - root_mean_squared_error: 0.1270 - val_loss: 0.5836 - val_root_mean_squared_error: 0.3114\n",
            "Epoch 43/100\n",
            "754/754 [==============================] - 5s 7ms/step - loss: 0.3663 - root_mean_squared_error: 0.1243 - val_loss: 0.5830 - val_root_mean_squared_error: 0.3110\n",
            "Epoch 44/100\n",
            "754/754 [==============================] - 5s 7ms/step - loss: 0.3646 - root_mean_squared_error: 0.1229 - val_loss: 0.5826 - val_root_mean_squared_error: 0.3107\n",
            "Epoch 45/100\n",
            "754/754 [==============================] - 5s 7ms/step - loss: 0.3629 - root_mean_squared_error: 0.1203 - val_loss: 0.5820 - val_root_mean_squared_error: 0.3103\n",
            "Epoch 46/100\n",
            "754/754 [==============================] - 5s 7ms/step - loss: 0.3615 - root_mean_squared_error: 0.1183 - val_loss: 0.5816 - val_root_mean_squared_error: 0.3101\n",
            "Epoch 47/100\n",
            "754/754 [==============================] - 5s 7ms/step - loss: 0.3592 - root_mean_squared_error: 0.1157 - val_loss: 0.5811 - val_root_mean_squared_error: 0.3097\n",
            "Epoch 48/100\n",
            "754/754 [==============================] - 5s 7ms/step - loss: 0.3580 - root_mean_squared_error: 0.1134 - val_loss: 0.5804 - val_root_mean_squared_error: 0.3092\n",
            "Epoch 49/100\n",
            "754/754 [==============================] - 5s 7ms/step - loss: 0.3568 - root_mean_squared_error: 0.1122 - val_loss: 0.5801 - val_root_mean_squared_error: 0.3090\n",
            "Epoch 50/100\n",
            "754/754 [==============================] - 5s 7ms/step - loss: 0.3549 - root_mean_squared_error: 0.1096 - val_loss: 0.5796 - val_root_mean_squared_error: 0.3087\n",
            "Epoch 51/100\n",
            "754/754 [==============================] - 5s 7ms/step - loss: 0.3542 - root_mean_squared_error: 0.1085 - val_loss: 0.5792 - val_root_mean_squared_error: 0.3084\n",
            "Epoch 52/100\n",
            "754/754 [==============================] - 5s 7ms/step - loss: 0.3529 - root_mean_squared_error: 0.1069 - val_loss: 0.5787 - val_root_mean_squared_error: 0.3080\n",
            "Epoch 53/100\n",
            "754/754 [==============================] - 5s 7ms/step - loss: 0.3514 - root_mean_squared_error: 0.1047 - val_loss: 0.5783 - val_root_mean_squared_error: 0.3077\n",
            "Epoch 54/100\n",
            "754/754 [==============================] - 5s 7ms/step - loss: 0.3500 - root_mean_squared_error: 0.1026 - val_loss: 0.5776 - val_root_mean_squared_error: 0.3072\n",
            "Epoch 55/100\n",
            "754/754 [==============================] - 5s 7ms/step - loss: 0.3482 - root_mean_squared_error: 0.1006 - val_loss: 0.5773 - val_root_mean_squared_error: 0.3070\n",
            "Epoch 56/100\n",
            "754/754 [==============================] - 5s 7ms/step - loss: 0.3475 - root_mean_squared_error: 0.0993 - val_loss: 0.5769 - val_root_mean_squared_error: 0.3066\n",
            "Epoch 57/100\n",
            "754/754 [==============================] - 6s 7ms/step - loss: 0.3463 - root_mean_squared_error: 0.0979 - val_loss: 0.5763 - val_root_mean_squared_error: 0.3061\n",
            "Epoch 58/100\n",
            "754/754 [==============================] - 5s 7ms/step - loss: 0.3444 - root_mean_squared_error: 0.0945 - val_loss: 0.5761 - val_root_mean_squared_error: 0.3060\n",
            "Epoch 59/100\n",
            "754/754 [==============================] - 5s 7ms/step - loss: 0.3438 - root_mean_squared_error: 0.0938 - val_loss: 0.5755 - val_root_mean_squared_error: 0.3055\n",
            "Epoch 60/100\n",
            "754/754 [==============================] - 5s 7ms/step - loss: 0.3429 - root_mean_squared_error: 0.0925 - val_loss: 0.5751 - val_root_mean_squared_error: 0.3052\n",
            "Epoch 61/100\n",
            "754/754 [==============================] - 5s 7ms/step - loss: 0.3422 - root_mean_squared_error: 0.0913 - val_loss: 0.5745 - val_root_mean_squared_error: 0.3048\n",
            "Epoch 62/100\n",
            "754/754 [==============================] - 5s 7ms/step - loss: 0.3408 - root_mean_squared_error: 0.0898 - val_loss: 0.5740 - val_root_mean_squared_error: 0.3044\n",
            "Epoch 63/100\n",
            "754/754 [==============================] - 5s 7ms/step - loss: 0.3395 - root_mean_squared_error: 0.0870 - val_loss: 0.5737 - val_root_mean_squared_error: 0.3042\n",
            "Epoch 64/100\n",
            "754/754 [==============================] - 5s 7ms/step - loss: 0.3384 - root_mean_squared_error: 0.0859 - val_loss: 0.5733 - val_root_mean_squared_error: 0.3038\n",
            "Epoch 65/100\n",
            "754/754 [==============================] - 5s 7ms/step - loss: 0.3379 - root_mean_squared_error: 0.0853 - val_loss: 0.5729 - val_root_mean_squared_error: 0.3036\n",
            "Epoch 66/100\n",
            "754/754 [==============================] - 5s 7ms/step - loss: 0.3366 - root_mean_squared_error: 0.0826 - val_loss: 0.5727 - val_root_mean_squared_error: 0.3034\n",
            "Epoch 67/100\n",
            "754/754 [==============================] - 5s 7ms/step - loss: 0.3352 - root_mean_squared_error: 0.0802 - val_loss: 0.5721 - val_root_mean_squared_error: 0.3029\n",
            "Epoch 68/100\n",
            "754/754 [==============================] - 5s 7ms/step - loss: 0.3351 - root_mean_squared_error: 0.0807 - val_loss: 0.5719 - val_root_mean_squared_error: 0.3027\n",
            "Epoch 69/100\n",
            "754/754 [==============================] - 7s 9ms/step - loss: 0.3340 - root_mean_squared_error: 0.0781 - val_loss: 0.5715 - val_root_mean_squared_error: 0.3023\n",
            "Epoch 70/100\n",
            "754/754 [==============================] - 5s 7ms/step - loss: 0.3331 - root_mean_squared_error: 0.0775 - val_loss: 0.5710 - val_root_mean_squared_error: 0.3020\n",
            "Epoch 71/100\n",
            "754/754 [==============================] - 5s 7ms/step - loss: 0.3325 - root_mean_squared_error: 0.0762 - val_loss: 0.5705 - val_root_mean_squared_error: 0.3016\n",
            "Epoch 72/100\n",
            "754/754 [==============================] - 5s 7ms/step - loss: 0.3315 - root_mean_squared_error: 0.0746 - val_loss: 0.5701 - val_root_mean_squared_error: 0.3012\n",
            "Epoch 73/100\n",
            "754/754 [==============================] - 5s 7ms/step - loss: 0.3306 - root_mean_squared_error: 0.0733 - val_loss: 0.5699 - val_root_mean_squared_error: 0.3010\n",
            "Epoch 74/100\n",
            "754/754 [==============================] - 5s 7ms/step - loss: 0.3297 - root_mean_squared_error: 0.0719 - val_loss: 0.5696 - val_root_mean_squared_error: 0.3008\n",
            "Epoch 75/100\n",
            "754/754 [==============================] - 5s 7ms/step - loss: 0.3293 - root_mean_squared_error: 0.0708 - val_loss: 0.5692 - val_root_mean_squared_error: 0.3004\n",
            "Epoch 76/100\n",
            "754/754 [==============================] - 5s 7ms/step - loss: 0.3283 - root_mean_squared_error: 0.0689 - val_loss: 0.5690 - val_root_mean_squared_error: 0.3002\n",
            "Epoch 77/100\n",
            "754/754 [==============================] - 5s 7ms/step - loss: 0.3276 - root_mean_squared_error: 0.0682 - val_loss: 0.5687 - val_root_mean_squared_error: 0.3000\n",
            "Epoch 78/100\n",
            "754/754 [==============================] - 5s 7ms/step - loss: 0.3266 - root_mean_squared_error: 0.0662 - val_loss: 0.5683 - val_root_mean_squared_error: 0.2996\n",
            "Epoch 79/100\n",
            "754/754 [==============================] - 5s 7ms/step - loss: 0.3261 - root_mean_squared_error: 0.0652 - val_loss: 0.5684 - val_root_mean_squared_error: 0.2997\n",
            "Epoch 80/100\n",
            "754/754 [==============================] - 5s 7ms/step - loss: 0.3254 - root_mean_squared_error: 0.0639 - val_loss: 0.5678 - val_root_mean_squared_error: 0.2992\n",
            "Epoch 81/100\n",
            "754/754 [==============================] - 5s 7ms/step - loss: 0.3247 - root_mean_squared_error: 0.0632 - val_loss: 0.5672 - val_root_mean_squared_error: 0.2986\n",
            "Epoch 82/100\n",
            "754/754 [==============================] - 5s 7ms/step - loss: 0.3242 - root_mean_squared_error: 0.0621 - val_loss: 0.5667 - val_root_mean_squared_error: 0.2982\n",
            "Epoch 83/100\n",
            "754/754 [==============================] - 5s 6ms/step - loss: 0.3235 - root_mean_squared_error: 0.0607 - val_loss: 0.5663 - val_root_mean_squared_error: 0.2979\n",
            "Epoch 84/100\n",
            "754/754 [==============================] - 5s 7ms/step - loss: 0.3229 - root_mean_squared_error: 0.0595 - val_loss: 0.5660 - val_root_mean_squared_error: 0.2976\n",
            "Epoch 85/100\n",
            "754/754 [==============================] - 5s 7ms/step - loss: 0.3221 - root_mean_squared_error: 0.0582 - val_loss: 0.5656 - val_root_mean_squared_error: 0.2972\n",
            "Epoch 86/100\n",
            "754/754 [==============================] - 5s 7ms/step - loss: 0.3217 - root_mean_squared_error: 0.0572 - val_loss: 0.5655 - val_root_mean_squared_error: 0.2971\n",
            "Epoch 87/100\n",
            "754/754 [==============================] - 5s 7ms/step - loss: 0.3214 - root_mean_squared_error: 0.0569 - val_loss: 0.5650 - val_root_mean_squared_error: 0.2966\n",
            "Epoch 88/100\n",
            "754/754 [==============================] - 5s 7ms/step - loss: 0.3205 - root_mean_squared_error: 0.0554 - val_loss: 0.5647 - val_root_mean_squared_error: 0.2964\n",
            "Epoch 89/100\n",
            "754/754 [==============================] - 5s 7ms/step - loss: 0.3201 - root_mean_squared_error: 0.0543 - val_loss: 0.5643 - val_root_mean_squared_error: 0.2960\n",
            "Epoch 90/100\n",
            "754/754 [==============================] - 5s 7ms/step - loss: 0.3198 - root_mean_squared_error: 0.0543 - val_loss: 0.5639 - val_root_mean_squared_error: 0.2956\n",
            "Epoch 91/100\n",
            "754/754 [==============================] - 5s 7ms/step - loss: 0.3189 - root_mean_squared_error: 0.0522 - val_loss: 0.5635 - val_root_mean_squared_error: 0.2953\n",
            "Epoch 92/100\n",
            "754/754 [==============================] - 5s 7ms/step - loss: 0.3186 - root_mean_squared_error: 0.0517 - val_loss: 0.5633 - val_root_mean_squared_error: 0.2951\n",
            "Epoch 93/100\n",
            "754/754 [==============================] - 6s 7ms/step - loss: 0.3181 - root_mean_squared_error: 0.0506 - val_loss: 0.5630 - val_root_mean_squared_error: 0.2948\n",
            "Epoch 94/100\n",
            "754/754 [==============================] - 5s 7ms/step - loss: 0.3174 - root_mean_squared_error: 0.0491 - val_loss: 0.5629 - val_root_mean_squared_error: 0.2947\n",
            "Epoch 95/100\n",
            "754/754 [==============================] - 5s 7ms/step - loss: 0.3170 - root_mean_squared_error: 0.0485 - val_loss: 0.5628 - val_root_mean_squared_error: 0.2945\n",
            "Epoch 96/100\n",
            "754/754 [==============================] - 5s 7ms/step - loss: 0.3166 - root_mean_squared_error: 0.0480 - val_loss: 0.5627 - val_root_mean_squared_error: 0.2944\n",
            "Epoch 97/100\n",
            "754/754 [==============================] - 5s 7ms/step - loss: 0.3162 - root_mean_squared_error: 0.0469 - val_loss: 0.5623 - val_root_mean_squared_error: 0.2939\n",
            "Epoch 98/100\n",
            "754/754 [==============================] - 5s 7ms/step - loss: 0.3159 - root_mean_squared_error: 0.0466 - val_loss: 0.5618 - val_root_mean_squared_error: 0.2935\n",
            "Epoch 99/100\n",
            "754/754 [==============================] - 5s 7ms/step - loss: 0.3151 - root_mean_squared_error: 0.0450 - val_loss: 0.5614 - val_root_mean_squared_error: 0.2931\n",
            "Epoch 100/100\n",
            "754/754 [==============================] - 5s 7ms/step - loss: 0.3147 - root_mean_squared_error: 0.0435 - val_loss: 0.5612 - val_root_mean_squared_error: 0.2928\n"
          ]
        }
      ]
    },
    {
      "cell_type": "code",
      "source": [
        "plt.plot(history.history['root_mean_squared_error'])\n",
        "plt.plot(history.history['val_root_mean_squared_error'])\n",
        "plt.title('Model Metrics')\n",
        "plt.ylabel('Root Mean-Squared Error')\n",
        "plt.xlabel('Epoch')\n",
        "plt.legend(['train', 'test'], loc='upper right')\n",
        "\n",
        "plt.tight_layout()\n",
        "plt.savefig('model_metrics.png')\n",
        "plt.show()"
      ],
      "metadata": {
        "colab": {
          "base_uri": "https://localhost:8080/",
          "height": 297
        },
        "id": "KYP2ID6O-_eQ",
        "outputId": "33db1253-b505-44a7-808f-09b14878016b"
      },
      "execution_count": null,
      "outputs": [
        {
          "output_type": "display_data",
          "data": {
            "text/plain": [
              "<Figure size 432x288 with 1 Axes>"
            ],
            "image/png": "[encoded data removed]"
          },
          "metadata": {
            "needs_background": "light"
          }
        }
      ]
    },
    {
      "cell_type": "markdown",
      "source": [
        "**Lakukan Rekomendasi**"
      ],
      "metadata": {
        "id": "rIqVQkQCBxmq"
      }
    },
    {
      "cell_type": "code",
      "source": [
        "df2 = data2.copy()\n",
        "\n",
        "# Mengambil sample user\n",
        "user_id = df2['User ID'].sample(1).iloc[0]\n",
        "drama_rated_by_user = df2[df2['User ID'] == user_id]\n",
        " \n",
        "# Operator bitwise (~)\n",
        "drama_not_rated = df2[~df2['Title'].isin(drama_rated_by_user.Title.values)]['Title'] \n",
        "drama_not_rated = list(\n",
        "    set(drama_not_rated)\n",
        "    .intersection(set(drama_to_drama_encoded.keys()))\n",
        ")\n",
        " \n",
        "drama_not_rated = [[drama_to_drama_encoded.get(x)] for x in drama_not_rated]\n",
        "user_encoder = user_to_user_encoded.get(user_id)\n",
        "user_drama_array = np.hstack(\n",
        "    ([[user_encoder]] * len(drama_not_rated), drama_not_rated)\n",
        ")"
      ],
      "metadata": {
        "id": "obfyAc38BzOi"
      },
      "execution_count": null,
      "outputs": []
    },
    {
      "cell_type": "code",
      "source": [
        "ratings = model.predict(user_drama_array).flatten()\n",
        " \n",
        "top_ratings_indices = ratings.argsort()[-10:][::-1]\n",
        "recommended_drama_ids = [\n",
        "    drama_encoded_to_drama.get(drama_not_rated[x][0]) for x in top_ratings_indices\n",
        "]\n",
        " \n",
        "print('Showing recommendations for users: {}'.format(user_id))\n",
        "print('===' * 9)\n",
        "print('Drama with high ratings from user')\n",
        "print('----' * 8)\n",
        " \n",
        "top_drama_user = (\n",
        "    drama_rated_by_user.sort_values(\n",
        "        by = 'Rating',\n",
        "        ascending=False\n",
        "    )\n",
        "    .head(5)\n",
        "    .Title.values\n",
        ")\n",
        " \n",
        "drama_df_rows = df1[df1['Title'].isin(top_drama_user)]\n",
        "for row in drama_df_rows.itertuples():\n",
        "    print(row.Title, ':', row.Genre)\n",
        " \n",
        "print('----' * 8)\n",
        "print('Top drama recommendation')\n",
        "print('----' * 8)\n",
        " \n",
        "recommended_drama = df1[df1['Title'].isin(recommended_drama_ids)]\n",
        "for row in recommended_drama.itertuples():\n",
        "    print(row.Title, ':', row.Genre)"
      ],
      "metadata": {
        "colab": {
          "base_uri": "https://localhost:8080/"
        },
        "id": "cSzhq7txC-ZV",
        "outputId": "c1dc6407-891c-4ff9-c3ec-c8102c7b26d2"
      },
      "execution_count": null,
      "outputs": [
        {
          "output_type": "stream",
          "name": "stdout",
          "text": [
            "30/30 [==============================] - 0s 2ms/step\n",
            "Showing recommendations for users: USER2087\n",
            "===========================\n",
            "Drama with high ratings from user\n",
            "--------------------------------\n",
            "Record of Youth : Drama, Romance\n",
            "--------------------------------\n",
            "Top drama recommendation\n",
            "--------------------------------\n",
            "One Ordinary Day : Crime, Mystery\n",
            "It's Okay to Not Be Okay : Comedy, Drama, Romance\n",
            "The Flower of Evil : Crime, Mystery, Romance\n",
            "Friend, Our Legend : Action, Crime, Drama\n",
            "Team Bulldog: Off-duty Investigation : Action, Crime, Drama\n",
            "On the Way to the Airport : Drama, Romance\n"
          ]
        }
      ]
    },
    {
      "cell_type": "markdown",
      "source": [
        "## Evaluation"
      ],
      "metadata": {
        "id": "QFTCDv-ZUZaf"
      }
    },
    {
      "cell_type": "code",
      "source": [
        "# Menampilkan RMSE untuk Collaboratibe Filtering\n",
        "val_rmse = history.history['val_root_mean_squared_error'][-1]\n",
        "train_rmse = history.history['root_mean_squared_error'][-1]\n",
        "\n",
        "rmse_dict = {'train' : train_rmse, 'validation': val_rmse}\n",
        "\n",
        "metrics_df = pd.DataFrame(rmse_dict, index = ['Colaborative RMSE'])\n",
        "metrics_df"
      ],
      "metadata": {
        "colab": {
          "base_uri": "https://localhost:8080/",
          "height": 81
        },
        "id": "Yd4T1-QSUgU5",
        "outputId": "0b8e8bbe-a088-4f3c-f53d-3afb895d4929"
      },
      "execution_count": null,
      "outputs": [
        {
          "output_type": "execute_result",
          "data": {
            "text/plain": [
              "                      train  validation\n",
              "Colaborative RMSE  0.043502     0.29282"
            ],
            "text/html": [
              "\n",
              "  <div id=\"df-c7bb2313-7de6-4af3-be3e-3d87ef568259\">\n",
              "    <div class=\"colab-df-container\">\n",
              "      <div>\n",
              "<style scoped>\n",
              "    .dataframe tbody tr th:only-of-type {\n",
              "        vertical-align: middle;\n",
              "    }\n",
              "\n",
              "    .dataframe tbody tr th {\n",
              "        vertical-align: top;\n",
              "    }\n",
              "\n",
              "    .dataframe thead th {\n",
              "        text-align: right;\n",
              "    }\n",
              "</style>\n",
              "<table border=\"1\" class=\"dataframe\">\n",
              "  <thead>\n",
              "    <tr style=\"text-align: right;\">\n",
              "      <th></th>\n",
              "      <th>train</th>\n",
              "      <th>validation</th>\n",
              "    </tr>\n",
              "  </thead>\n",
              "  <tbody>\n",
              "    <tr>\n",
              "      <th>Colaborative RMSE</th>\n",
              "      <td>0.043502</td>\n",
              "      <td>0.29282</td>\n",
              "    </tr>\n",
              "  </tbody>\n",
              "</table>\n",
              "</div>\n",
              "      <button class=\"colab-df-convert\" onclick=\"convertToInteractive('df-c7bb2313-7de6-4af3-be3e-3d87ef568259')\"\n",
              "              title=\"Convert this dataframe to an interactive table.\"\n",
              "              style=\"display:none;\">\n",
              "        \n",
              "  <svg xmlns=\"http://www.w3.org/2000/svg\" height=\"24px\"viewBox=\"0 0 24 24\"\n",
              "       width=\"24px\">\n",
              "    <path d=\"M0 0h24v24H0V0z\" fill=\"none\"/>\n",
              "    <path d=\"M18.56 5.44l.94 2.06.94-2.06 2.06-.94-2.06-.94-.94-2.06-.94 2.06-2.06.94zm-11 1L8.5 8.5l.94-2.06 2.06-.94-2.06-.94L8.5 2.5l-.94 2.06-2.06.94zm10 10l.94 2.06.94-2.06 2.06-.94-2.06-.94-.94-2.06-.94 2.06-2.06.94z\"/><path d=\"M17.41 7.96l-1.37-1.37c-.4-.4-.92-.59-1.43-.59-.52 0-1.04.2-1.43.59L10.3 9.45l-7.72 7.72c-.78.78-.78 2.05 0 2.83L4 21.41c.39.39.9.59 1.41.59.51 0 1.02-.2 1.41-.59l7.78-7.78 2.81-2.81c.8-.78.8-2.07 0-2.86zM5.41 20L4 18.59l7.72-7.72 1.47 1.35L5.41 20z\"/>\n",
              "  </svg>\n",
              "      </button>\n",
              "      \n",
              "  <style>\n",
              "    .colab-df-container {\n",
              "      display:flex;\n",
              "      flex-wrap:wrap;\n",
              "      gap: 12px;\n",
              "    }\n",
              "\n",
              "    .colab-df-convert {\n",
              "      background-color: #E8F0FE;\n",
              "      border: none;\n",
              "      border-radius: 50%;\n",
              "      cursor: pointer;\n",
              "      display: none;\n",
              "      fill: #1967D2;\n",
              "      height: 32px;\n",
              "      padding: 0 0 0 0;\n",
              "      width: 32px;\n",
              "    }\n",
              "\n",
              "    .colab-df-convert:hover {\n",
              "      background-color: #E2EBFA;\n",
              "      box-shadow: 0px 1px 2px rgba(60, 64, 67, 0.3), 0px 1px 3px 1px rgba(60, 64, 67, 0.15);\n",
              "      fill: #174EA6;\n",
              "    }\n",
              "\n",
              "    [theme=dark] .colab-df-convert {\n",
              "      background-color: #3B4455;\n",
              "      fill: #D2E3FC;\n",
              "    }\n",
              "\n",
              "    [theme=dark] .colab-df-convert:hover {\n",
              "      background-color: #434B5C;\n",
              "      box-shadow: 0px 1px 3px 1px rgba(0, 0, 0, 0.15);\n",
              "      filter: drop-shadow(0px 1px 2px rgba(0, 0, 0, 0.3));\n",
              "      fill: #FFFFFF;\n",
              "    }\n",
              "  </style>\n",
              "\n",
              "      <script>\n",
              "        const buttonEl =\n",
              "          document.querySelector('#df-c7bb2313-7de6-4af3-be3e-3d87ef568259 button.colab-df-convert');\n",
              "        buttonEl.style.display =\n",
              "          google.colab.kernel.accessAllowed ? 'block' : 'none';\n",
              "\n",
              "        async function convertToInteractive(key) {\n",
              "          const element = document.querySelector('#df-c7bb2313-7de6-4af3-be3e-3d87ef568259');\n",
              "          const dataTable =\n",
              "            await google.colab.kernel.invokeFunction('convertToInteractive',\n",
              "                                                     [key], {});\n",
              "          if (!dataTable) return;\n",
              "\n",
              "          const docLinkHtml = 'Like what you see? Visit the ' +\n",
              "            '<a target=\"_blank\" href=https://colab.research.google.com/notebooks/data_table.ipynb>data table notebook</a>'\n",
              "            + ' to learn more about interactive tables.';\n",
              "          element.innerHTML = '';\n",
              "          dataTable['output_type'] = 'display_data';\n",
              "          await google.colab.output.renderOutput(dataTable, element);\n",
              "          const docLink = document.createElement('div');\n",
              "          docLink.innerHTML = docLinkHtml;\n",
              "          element.appendChild(docLink);\n",
              "        }\n",
              "      </script>\n",
              "    </div>\n",
              "  </div>\n",
              "  "
            ]
          },
          "metadata": {},
          "execution_count": 138
        }
      ]
    },
    {
      "cell_type": "code",
      "source": [
        "count = 0\n",
        "\n",
        "for i in kdrama_recommendations(title_idx)['Genre']:\n",
        "  positive = 0\n",
        "  for j in df1[df1.Title.eq(title_idx)].loc[idx, 'Genre'].split(','):\n",
        "    # Cek apakah ada kecocokan genre, minimal 1 yang cocok\n",
        "    if (i.find(j) >= 0):\n",
        "      positive += 1\n",
        "  \n",
        "  # Jika ada yang cocok, tambahkan satu\n",
        "  if (positive > 0):\n",
        "    count +=1 \n",
        "\n",
        "precision = 100*(count/5)\n",
        "prec_dict = {'Positive' : count, 'Negative': 5-count, 'Precision': precision}\n",
        "\n",
        "metrics_df2 = pd.DataFrame(prec_dict, index = ['Content Prec'])\n",
        "metrics_df2"
      ],
      "metadata": {
        "id": "dYU6dXvifGzl",
        "colab": {
          "base_uri": "https://localhost:8080/",
          "height": 81
        },
        "outputId": "dd3b133d-4c9d-48b4-c7ff-a5f7aa852765"
      },
      "execution_count": 170,
      "outputs": [
        {
          "output_type": "execute_result",
          "data": {
            "text/plain": [
              "              Positive  Negative  Precision\n",
              "Content Prec         5         0      100.0"
            ],
            "text/html": [
              "\n",
              "  <div id=\"df-47ae1b19-b2c3-4389-8777-4fb86c57b6e3\">\n",
              "    <div class=\"colab-df-container\">\n",
              "      <div>\n",
              "<style scoped>\n",
              "    .dataframe tbody tr th:only-of-type {\n",
              "        vertical-align: middle;\n",
              "    }\n",
              "\n",
              "    .dataframe tbody tr th {\n",
              "        vertical-align: top;\n",
              "    }\n",
              "\n",
              "    .dataframe thead th {\n",
              "        text-align: right;\n",
              "    }\n",
              "</style>\n",
              "<table border=\"1\" class=\"dataframe\">\n",
              "  <thead>\n",
              "    <tr style=\"text-align: right;\">\n",
              "      <th></th>\n",
              "      <th>Positive</th>\n",
              "      <th>Negative</th>\n",
              "      <th>Precision</th>\n",
              "    </tr>\n",
              "  </thead>\n",
              "  <tbody>\n",
              "    <tr>\n",
              "      <th>Content Prec</th>\n",
              "      <td>5</td>\n",
              "      <td>0</td>\n",
              "      <td>100.0</td>\n",
              "    </tr>\n",
              "  </tbody>\n",
              "</table>\n",
              "</div>\n",
              "      <button class=\"colab-df-convert\" onclick=\"convertToInteractive('df-47ae1b19-b2c3-4389-8777-4fb86c57b6e3')\"\n",
              "              title=\"Convert this dataframe to an interactive table.\"\n",
              "              style=\"display:none;\">\n",
              "        \n",
              "  <svg xmlns=\"http://www.w3.org/2000/svg\" height=\"24px\"viewBox=\"0 0 24 24\"\n",
              "       width=\"24px\">\n",
              "    <path d=\"M0 0h24v24H0V0z\" fill=\"none\"/>\n",
              "    <path d=\"M18.56 5.44l.94 2.06.94-2.06 2.06-.94-2.06-.94-.94-2.06-.94 2.06-2.06.94zm-11 1L8.5 8.5l.94-2.06 2.06-.94-2.06-.94L8.5 2.5l-.94 2.06-2.06.94zm10 10l.94 2.06.94-2.06 2.06-.94-2.06-.94-.94-2.06-.94 2.06-2.06.94z\"/><path d=\"M17.41 7.96l-1.37-1.37c-.4-.4-.92-.59-1.43-.59-.52 0-1.04.2-1.43.59L10.3 9.45l-7.72 7.72c-.78.78-.78 2.05 0 2.83L4 21.41c.39.39.9.59 1.41.59.51 0 1.02-.2 1.41-.59l7.78-7.78 2.81-2.81c.8-.78.8-2.07 0-2.86zM5.41 20L4 18.59l7.72-7.72 1.47 1.35L5.41 20z\"/>\n",
              "  </svg>\n",
              "      </button>\n",
              "      \n",
              "  <style>\n",
              "    .colab-df-container {\n",
              "      display:flex;\n",
              "      flex-wrap:wrap;\n",
              "      gap: 12px;\n",
              "    }\n",
              "\n",
              "    .colab-df-convert {\n",
              "      background-color: #E8F0FE;\n",
              "      border: none;\n",
              "      border-radius: 50%;\n",
              "      cursor: pointer;\n",
              "      display: none;\n",
              "      fill: #1967D2;\n",
              "      height: 32px;\n",
              "      padding: 0 0 0 0;\n",
              "      width: 32px;\n",
              "    }\n",
              "\n",
              "    .colab-df-convert:hover {\n",
              "      background-color: #E2EBFA;\n",
              "      box-shadow: 0px 1px 2px rgba(60, 64, 67, 0.3), 0px 1px 3px 1px rgba(60, 64, 67, 0.15);\n",
              "      fill: #174EA6;\n",
              "    }\n",
              "\n",
              "    [theme=dark] .colab-df-convert {\n",
              "      background-color: #3B4455;\n",
              "      fill: #D2E3FC;\n",
              "    }\n",
              "\n",
              "    [theme=dark] .colab-df-convert:hover {\n",
              "      background-color: #434B5C;\n",
              "      box-shadow: 0px 1px 3px 1px rgba(0, 0, 0, 0.15);\n",
              "      filter: drop-shadow(0px 1px 2px rgba(0, 0, 0, 0.3));\n",
              "      fill: #FFFFFF;\n",
              "    }\n",
              "  </style>\n",
              "\n",
              "      <script>\n",
              "        const buttonEl =\n",
              "          document.querySelector('#df-47ae1b19-b2c3-4389-8777-4fb86c57b6e3 button.colab-df-convert');\n",
              "        buttonEl.style.display =\n",
              "          google.colab.kernel.accessAllowed ? 'block' : 'none';\n",
              "\n",
              "        async function convertToInteractive(key) {\n",
              "          const element = document.querySelector('#df-47ae1b19-b2c3-4389-8777-4fb86c57b6e3');\n",
              "          const dataTable =\n",
              "            await google.colab.kernel.invokeFunction('convertToInteractive',\n",
              "                                                     [key], {});\n",
              "          if (!dataTable) return;\n",
              "\n",
              "          const docLinkHtml = 'Like what you see? Visit the ' +\n",
              "            '<a target=\"_blank\" href=https://colab.research.google.com/notebooks/data_table.ipynb>data table notebook</a>'\n",
              "            + ' to learn more about interactive tables.';\n",
              "          element.innerHTML = '';\n",
              "          dataTable['output_type'] = 'display_data';\n",
              "          await google.colab.output.renderOutput(dataTable, element);\n",
              "          const docLink = document.createElement('div');\n",
              "          docLink.innerHTML = docLinkHtml;\n",
              "          element.appendChild(docLink);\n",
              "        }\n",
              "      </script>\n",
              "    </div>\n",
              "  </div>\n",
              "  "
            ]
          },
          "metadata": {},
          "execution_count": 170
        }
      ]
    },
    {
      "cell_type": "markdown",
      "source": [
        "Untuk mengukur keberhasilan sistem rekomendasi yang dibuat, digunakan dua metrik:\n",
        "1. *Root Mean Squared Error* (RMSE) untuk Collaborative Filtering\n",
        "2. Presisi untuk Content-Based Filtering \n",
        "\n",
        "RMSE memberi informasi terkait seberapa besar kesalahan prediksi (*error*) dari model. Kesalahan prediksi diperoleh dengan menghitung selisih dari data prediksi terhadap data sebenarnya. RMSE dihitung dengan mengikuti persamaan di bawah:\n",
        "\n",
        "$$ MSE = \\frac{1}{N} \\sum (y_{true} - y_{pred})^2 $$<br>\n",
        "$$ RMSE = \\sqrt{MSE} $$ <br>\n",
        "\n",
        "Sementara itu, presisi mengukur seberapa tepat sistem rekomendasi dalam menentukan jenis konten yang direkomendasikan. Presisi pada proyek ini diukur dengan melihat genre dari konten yang direkomendasikan dan membandingkannya dengan genre konten yang dimasukkan ke sistem. Apabila ada satu kecocokan, meskipun hanya pada satu genre, prediksi tersebut akan dianggap sebagai *positif*. Sementara itu, apabila tidak ada kecocokan sama sekali, maka prediksi dianggap *negatif*. Presisi kemudian dihitung dengan membandingkan jumlah prediksi positif terhadap total prediksi:\n",
        "\n",
        "$$ Presisi = \\frac{Total Prediksi Positif}{Total Prediksi} \\times 100 $$ <br>\n",
        "\n",
        "Pada proyek ini, sistem rekomendasi dengan tipe Collaborative Filtering memiliki nilai RMSE latih dan validasi masing-masing sebesar 0.043 dan 0.292. Hal ini menunjukkan bahwa model belum memiliki kemampuan generalisasi yang baik dilihat dari RMSE validasi yang masih cukup besar. Hal ini membuka peluang peningkatan kinerja model. Meskipun demikian, model ini tetap mampu memberikan rekomendasi K-Drama meskipun dengan nilai kesalahan yang tidak kecil.\n",
        "\n",
        "Sementara itu, untuk tipe Content-Based Filtering, sistem rekomendasi yang dibangun berhasil mencapai presisi sebesar 100 persen. Hal ini menunjukkan bahwa model ini memiliki kinerja yang sangat baik untuk memberikan rekomendasi konten K-Drama.\n",
        "\n",
        "Dengan demikian, proyek ini dapat dikatakan telah mampu menghasilkan dua sistem rekomendasi yang fungsional meskipun dengan kinerja yang masih dapat ditingkatkan. Sistem rekomendasi ini dapat dimanfaatkan untuk berbagai layanan yang menyediakan konten hiburan berisi K-Drama.\n",
        "\n"
      ],
      "metadata": {
        "id": "8ERn7luYky0m"
      }
    }
  ]
}